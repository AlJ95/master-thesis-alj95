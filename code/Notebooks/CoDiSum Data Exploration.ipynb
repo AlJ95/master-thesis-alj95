{
 "cells": [
  {
   "cell_type": "code",
   "execution_count": 9,
   "metadata": {},
   "outputs": [],
   "source": [
    "import json\n",
    "import os\n"
   ]
  },
  {
   "cell_type": "code",
   "execution_count": 10,
   "metadata": {},
   "outputs": [],
   "source": [
    "root = \"/Users/janalbrecht/Downloads\"\n",
    "version = \"12\""
   ]
  },
  {
   "cell_type": "code",
   "execution_count": 11,
   "metadata": {},
   "outputs": [],
   "source": [
    "def load_data(root, version, load_difftext=True, load_msgtext=True, load_diff=True, load_msg=True,\n",
    "                  load_variable=True, load_word2index=True):\n",
    "        # java load data from disk\n",
    "        if load_difftext:\n",
    "            difftext = json.load(open('{}/data4CopynetV3/difftextV{}.json'.format(root, version)))\n",
    "        if load_msgtext:\n",
    "            msgtext = json.load(open('{}/data4CopynetV3/msgtextV{}.json'.format(root, version)))\n",
    "        if load_diff:\n",
    "            difftoken = json.load(open('{}/data4CopynetV3/difftokenV{}.json'.format(root, version)))\n",
    "            diffmark = json.load(open('{}/data4CopynetV3/diffmarkV{}.json'.format(root, version)))\n",
    "            diffatt = json.load(open('{}/data4CopynetV3/diffattV{}.json'.format(root, version)))\n",
    "        if load_msg:\n",
    "            msg = json.load(open('{}/data4CopynetV3/msgV{}.json'.format(root, version)))\n",
    "        if load_variable:\n",
    "            variable = json.load(open('{}/data4CopynetV3/variableV{}.json'.format(root, version)))\n",
    "        return difftext, msgtext, difftoken, diffmark, diffatt, msg, variable"
   ]
  },
  {
   "cell_type": "code",
   "execution_count": 12,
   "metadata": {},
   "outputs": [],
   "source": [
    "data = load_data(root, version, load_word2index=False)"
   ]
  },
  {
   "cell_type": "code",
   "execution_count": 13,
   "metadata": {},
   "outputs": [
    {
     "name": "stdout",
     "output_type": "stream",
     "text": [
      "[90661, 90661, 90661, 90661, 90661, 90661, 90661]\n"
     ]
    }
   ],
   "source": [
    "print([len(d) for d in data])"
   ]
  },
  {
   "cell_type": "code",
   "execution_count": 14,
   "metadata": {},
   "outputs": [],
   "source": [
    "json_data = {\n",
    "    i: {\n",
    "        'difftext': data[0][i],\n",
    "        'msgtext': data[1][i],\n",
    "        'difftoken': data[2][i],\n",
    "        'diffmark': data[3][i],\n",
    "        'diffatt': data[4][i],\n",
    "        'msg': data[5][i],\n",
    "        'variable': data[6][i],\n",
    "    } \n",
    "    for i in range(len(data[0]))\n",
    "}"
   ]
  },
  {
   "cell_type": "code",
   "execution_count": 16,
   "metadata": {},
   "outputs": [
    {
     "name": "stdout",
     "output_type": "stream",
     "text": [
      "diff --git a/codec-http/src/main/java/io/netty/handler/codec/http/HttpRequestEncoder.java b/codec-http/src/main/java/io/netty/handler/codec/http/HttpRequestEncoder.java\n",
      "index e4ecae8..c7aa051 100644\n",
      "--- a/codec-http/src/main/java/io/netty/handler/codec/http/HttpRequestEncoder.java\n",
      "+++ b/codec-http/src/main/java/io/netty/handler/codec/http/HttpRequestEncoder.java\n",
      "@@ -35,7 +35,7 @@ public class HttpRequestEncoder extends HttpObjectEncoder<HttpRequest> {\n",
      " \n",
      "     @Override\n",
      "     protected void encodeInitialLine(ByteBuf buf, HttpRequest request) throws Exception {\n",
      "-        buf.writeBytes(request.getMethod().toString().getBytes(CharsetUtil.US_ASCII));\n",
      "+        encodeAscii(request.getMethod().toString(), buf);\n",
      "         buf.writeByte(SP);\n",
      " \n",
      "         // Add / as absolute path if no is present.\n",
      "@@ -51,7 +51,7 @@ public class HttpRequestEncoder extends HttpObjectEncoder<HttpRequest> {\n",
      "         buf.writeBytes(uri.getBytes(CharsetUtil.UTF_8));\n",
      " \n",
      "         buf.writeByte(SP);\n",
      "-        buf.writeBytes(request.getProtocolVersion().toString().getBytes(CharsetUtil.US_ASCII));\n",
      "+        encodeAscii(request.getProtocolVersion().toString(), buf);\n",
      "         buf.writeBytes(CRLF);\n",
      "     }\n",
      " }\n",
      "\n",
      "Improve performance of HttpRequestEncoder.encodeInitialLine(...)\n"
     ]
    }
   ],
   "source": [
    "print(json_data[0][\"difftext\"])\n",
    "print(json_data[0][\"msgtext\"])"
   ]
  },
  {
   "cell_type": "code",
   "execution_count": 17,
   "metadata": {},
   "outputs": [
    {
     "name": "stdout",
     "output_type": "stream",
     "text": [
      "165\n"
     ]
    }
   ],
   "source": [
    "print(len(json_data[0][\"difftoken\"]))"
   ]
  },
  {
   "cell_type": "markdown",
   "metadata": {},
   "source": [
    "## How many tokens does a diff contain?"
   ]
  },
  {
   "cell_type": "code",
   "execution_count": 24,
   "metadata": {},
   "outputs": [
    {
     "data": {
      "text/plain": [
       "(array([ 2024.,  7921., 13815., 14908., 12976., 10910.,  9334.,  8250.,\n",
       "         7053.,  3470.]),\n",
       " array([  9. ,  27.9,  46.8,  65.7,  84.6, 103.5, 122.4, 141.3, 160.2,\n",
       "        179.1, 198. ]),\n",
       " <BarContainer object of 10 artists>)"
      ]
     },
     "execution_count": 24,
     "metadata": {},
     "output_type": "execute_result"
    },
    {
     "data": {
      "image/png": "[encoded data removed]",
      "text/plain": [
       "<Figure size 640x480 with 1 Axes>"
      ]
     },
     "metadata": {},
     "output_type": "display_data"
    }
   ],
   "source": [
    "# %pip install -q matplotlib\n",
    "import matplotlib.pyplot as plt\n",
    "plt.hist([len(dt[\"difftoken\"]) for dt in json_data.values()])"
   ]
  },
  {
   "cell_type": "markdown",
   "metadata": {},
   "source": [
    "## Thoughts about the dataset CoDiSum\n",
    "\n",
    "The dataset is interesting, but it is not structured enough to be used for my case. I need a full history of commits which should be indexed then and used for new commit generation, while only those commits would be used, that would be in the past."
   ]
  },
  {
   "cell_type": "markdown",
   "metadata": {},
   "source": [
    "If there are no good datasets to use, it could be a possibility to collect the github repos by myself to organize it as I need it."
   ]
  }
 ],
 "metadata": {
  "kernelspec": {
   "display_name": "Python 3",
   "language": "python",
   "name": "python3"
  },
  "language_info": {
   "codemirror_mode": {
    "name": "ipython",
    "version": 3
   },
   "file_extension": ".py",
   "mimetype": "text/x-python",
   "name": "python",
   "nbconvert_exporter": "python",
   "pygments_lexer": "ipython3",
   "version": "3.12.6"
  }
 },
 "nbformat": 4,
 "nbformat_minor": 2
}
