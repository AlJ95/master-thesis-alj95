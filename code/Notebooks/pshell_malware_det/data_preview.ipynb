{
 "cells": [
  {
   "cell_type": "code",
   "execution_count": 6,
   "metadata": {},
   "outputs": [
    {
     "data": {
      "text/html": [
       "<div>\n",
       "<style scoped>\n",
       "    .dataframe tbody tr th:only-of-type {\n",
       "        vertical-align: middle;\n",
       "    }\n",
       "\n",
       "    .dataframe tbody tr th {\n",
       "        vertical-align: top;\n",
       "    }\n",
       "\n",
       "    .dataframe thead th {\n",
       "        text-align: right;\n",
       "    }\n",
       "</style>\n",
       "<table border=\"1\" class=\"dataframe\">\n",
       "  <thead>\n",
       "    <tr style=\"text-align: right;\">\n",
       "      <th></th>\n",
       "      <th>filename</th>\n",
       "      <th>content</th>\n",
       "      <th>label</th>\n",
       "    </tr>\n",
       "  </thead>\n",
       "  <tbody>\n",
       "    <tr>\n",
       "      <th>0</th>\n",
       "      <td>sample_88_77.ps1</td>\n",
       "      <td>#\\n# Module manifest for module 'OCI.PSModules...</td>\n",
       "      <td>0</td>\n",
       "    </tr>\n",
       "    <tr>\n",
       "      <th>1</th>\n",
       "      <td>sample_130_55.ps1</td>\n",
       "      <td># Rule to determine whether a DWORD registry e...</td>\n",
       "      <td>0</td>\n",
       "    </tr>\n",
       "    <tr>\n",
       "      <th>2</th>\n",
       "      <td>sample_122_8.ps1</td>\n",
       "      <td># region Generated \\r\\n  # -------------------...</td>\n",
       "      <td>0</td>\n",
       "    </tr>\n",
       "    <tr>\n",
       "      <th>3</th>\n",
       "      <td>sample_104_88.ps1</td>\n",
       "      <td>// ===========================================...</td>\n",
       "      <td>0</td>\n",
       "    </tr>\n",
       "    <tr>\n",
       "      <th>4</th>\n",
       "      <td>sample_89_93.ps1</td>\n",
       "      <td>JKhông thể thực thi phương pháp khi lưu trữ đa...</td>\n",
       "      <td>0</td>\n",
       "    </tr>\n",
       "    <tr>\n",
       "      <th>...</th>\n",
       "      <td>...</td>\n",
       "      <td>...</td>\n",
       "      <td>...</td>\n",
       "    </tr>\n",
       "    <tr>\n",
       "      <th>1670</th>\n",
       "      <td>sample_105_68.ps1</td>\n",
       "      <td>#\\n# Module manifest for module 'OCI.PSModules...</td>\n",
       "      <td>0</td>\n",
       "    </tr>\n",
       "    <tr>\n",
       "      <th>1671</th>\n",
       "      <td>sample_71_31.ps1</td>\n",
       "      <td># Script: tss_GetFarmData.ps1\\r\\n# from https:...</td>\n",
       "      <td>0</td>\n",
       "    </tr>\n",
       "    <tr>\n",
       "      <th>1672</th>\n",
       "      <td>sample_133_3.ps1</td>\n",
       "      <td>---\\r\\n- hosts: ome\\r\\n  vars:\\r\\n    retries_...</td>\n",
       "      <td>0</td>\n",
       "    </tr>\n",
       "    <tr>\n",
       "      <th>1673</th>\n",
       "      <td>sample_113_27.ps1</td>\n",
       "      <td>&lt;#############################################...</td>\n",
       "      <td>0</td>\n",
       "    </tr>\n",
       "    <tr>\n",
       "      <th>1674</th>\n",
       "      <td>sample_121_59.ps1</td>\n",
       "      <td>ConvertFrom-StringData @'\\r\\nid_systemfiles_ti...</td>\n",
       "      <td>0</td>\n",
       "    </tr>\n",
       "  </tbody>\n",
       "</table>\n",
       "<p>1675 rows × 3 columns</p>\n",
       "</div>"
      ],
      "text/plain": [
       "               filename                                            content  \\\n",
       "0      sample_88_77.ps1  #\\n# Module manifest for module 'OCI.PSModules...   \n",
       "1     sample_130_55.ps1  # Rule to determine whether a DWORD registry e...   \n",
       "2      sample_122_8.ps1  # region Generated \\r\\n  # -------------------...   \n",
       "3     sample_104_88.ps1  // ===========================================...   \n",
       "4      sample_89_93.ps1  JKhông thể thực thi phương pháp khi lưu trữ đa...   \n",
       "...                 ...                                                ...   \n",
       "1670  sample_105_68.ps1  #\\n# Module manifest for module 'OCI.PSModules...   \n",
       "1671   sample_71_31.ps1  # Script: tss_GetFarmData.ps1\\r\\n# from https:...   \n",
       "1672   sample_133_3.ps1  ---\\r\\n- hosts: ome\\r\\n  vars:\\r\\n    retries_...   \n",
       "1673  sample_113_27.ps1  <#############################################...   \n",
       "1674  sample_121_59.ps1  ConvertFrom-StringData @'\\r\\nid_systemfiles_ti...   \n",
       "\n",
       "      label  \n",
       "0         0  \n",
       "1         0  \n",
       "2         0  \n",
       "3         0  \n",
       "4         0  \n",
       "...     ...  \n",
       "1670      0  \n",
       "1671      0  \n",
       "1672      0  \n",
       "1673      0  \n",
       "1674      0  \n",
       "\n",
       "[1675 rows x 3 columns]"
      ]
     },
     "execution_count": 6,
     "metadata": {},
     "output_type": "execute_result"
    }
   ],
   "source": [
    "import pandas as pd\n",
    "data = pd.read_parquet(\"C:/Users/Besitzer/Downloads/test-00003-of-00007.parquet\")\n",
    "data"
   ]
  },
  {
   "cell_type": "code",
   "execution_count": 14,
   "metadata": {},
   "outputs": [
    {
     "data": {
      "text/plain": [
       "'Param(\\n  [string]$MSIP,\\n  [string]$user,\\n  [string]$password,\\n  [string]$authenticate,\\n  [string]$resourcePoolMemberJson\\n)\\ntry{\\n\\t$securepass = ConvertTo-SecureString -AsPlainText $password -Force\\n    $cred = New-Object System.Management.Automation.PSCredential ($user, $securepass)\\n    $returnVal = @()\\n\\n\\t$session = New-PSSession -ComputerName $MSIP -Authentication $authenticate -Credential $cred -ErrorAction SilentlyContinue\\n\\tif ( $session -eq $null){\\n    \\t\\t$returnVal = \"FAIL\"\\n            $returnVal = $returnVal+ \"SESSION_CREATION_FAILS\"\\n            return $returnVal\\n    }\\n\\t$response = Invoke-Command  -Session $session -FilePath /opt/dell/plugins/5D2B480D-C9CD-4905-8F37-763D33AB71E3/scom_integration/ps/Update-ResourcePoolMembers.ps1 -ArgumentList $resourcePoolMemberJson\\n\\tRemove-PSSession -Session $session\\n\\tif($response -eq $null -Or $response -eq \"FAIL\" ){\\n\\t\\tWrite-Host \"FAIL\"\\n\\t\\tWrite-Warning  \"REMOTE_SCRIPT_NULL_RESPONSE\"\\n\\t\\treturn\\n\\t}\\n    Write-Host \"SUCCESS\"\\n\\treturn $response\\n}\\ncatch\\n{\\n\\tWrite-Host \"FAIL\"\\n\\tWrite-Warning $_\\n}'"
      ]
     },
     "execution_count": 14,
     "metadata": {},
     "output_type": "execute_result"
    }
   ],
   "source": [
    "data.sample(1).content.values[0]"
   ]
  }
 ],
 "metadata": {
  "kernelspec": {
   "display_name": ".venv-312",
   "language": "python",
   "name": "python3"
  },
  "language_info": {
   "codemirror_mode": {
    "name": "ipython",
    "version": 3
   },
   "file_extension": ".py",
   "mimetype": "text/x-python",
   "name": "python",
   "nbconvert_exporter": "python",
   "pygments_lexer": "ipython3",
   "version": "3.12.8"
  }
 },
 "nbformat": 4,
 "nbformat_minor": 2
}
