{
 "cells": [
  {
   "cell_type": "code",
   "execution_count": 3,
   "metadata": {},
   "outputs": [
    {
     "name": "stdout",
     "output_type": "stream",
     "text": [
      "Requirement already satisfied: transformers in c:\\users\\besitzer\\projekte\\master-thesis-alj95\\.venv-312\\lib\\site-packages (4.48.2)\n",
      "Collecting torch\n",
      "  Using cached torch-2.6.0-cp312-cp312-win_amd64.whl.metadata (28 kB)\n",
      "Collecting torchvision\n",
      "  Using cached torchvision-0.21.0-cp312-cp312-win_amd64.whl.metadata (6.3 kB)\n",
      "Collecting torchaudio\n",
      "  Using cached torchaudio-2.6.0-cp312-cp312-win_amd64.whl.metadata (6.7 kB)\n",
      "Requirement already satisfied: filelock in c:\\users\\besitzer\\projekte\\master-thesis-alj95\\.venv-312\\lib\\site-packages (from transformers) (3.16.1)\n",
      "Requirement already satisfied: huggingface-hub<1.0,>=0.24.0 in c:\\users\\besitzer\\projekte\\master-thesis-alj95\\.venv-312\\lib\\site-packages (from transformers) (0.26.2)\n",
      "Requirement already satisfied: numpy>=1.17 in c:\\users\\besitzer\\projekte\\master-thesis-alj95\\.venv-312\\lib\\site-packages (from transformers) (2.1.3)\n",
      "Requirement already satisfied: packaging>=20.0 in c:\\users\\besitzer\\projekte\\master-thesis-alj95\\.venv-312\\lib\\site-packages (from transformers) (24.2)\n",
      "Requirement already satisfied: pyyaml>=5.1 in c:\\users\\besitzer\\projekte\\master-thesis-alj95\\.venv-312\\lib\\site-packages (from transformers) (6.0.2)\n",
      "Requirement already satisfied: regex!=2019.12.17 in c:\\users\\besitzer\\projekte\\master-thesis-alj95\\.venv-312\\lib\\site-packages (from transformers) (2024.11.6)\n",
      "Requirement already satisfied: requests in c:\\users\\besitzer\\projekte\\master-thesis-alj95\\.venv-312\\lib\\site-packages (from transformers) (2.32.3)\n",
      "Requirement already satisfied: tokenizers<0.22,>=0.21 in c:\\users\\besitzer\\projekte\\master-thesis-alj95\\.venv-312\\lib\\site-packages (from transformers) (0.21.0)\n",
      "Requirement already satisfied: safetensors>=0.4.1 in c:\\users\\besitzer\\projekte\\master-thesis-alj95\\.venv-312\\lib\\site-packages (from transformers) (0.5.2)\n",
      "Requirement already satisfied: tqdm>=4.27 in c:\\users\\besitzer\\projekte\\master-thesis-alj95\\.venv-312\\lib\\site-packages (from transformers) (4.67.0)\n",
      "Requirement already satisfied: typing-extensions>=4.10.0 in c:\\users\\besitzer\\projekte\\master-thesis-alj95\\.venv-312\\lib\\site-packages (from torch) (4.12.2)\n",
      "Requirement already satisfied: networkx in c:\\users\\besitzer\\projekte\\master-thesis-alj95\\.venv-312\\lib\\site-packages (from torch) (3.4.2)\n",
      "Requirement already satisfied: jinja2 in c:\\users\\besitzer\\projekte\\master-thesis-alj95\\.venv-312\\lib\\site-packages (from torch) (3.1.4)\n",
      "Requirement already satisfied: fsspec in c:\\users\\besitzer\\projekte\\master-thesis-alj95\\.venv-312\\lib\\site-packages (from torch) (2024.9.0)\n",
      "Collecting setuptools (from torch)\n",
      "  Using cached setuptools-75.8.0-py3-none-any.whl.metadata (6.7 kB)\n",
      "Collecting sympy==1.13.1 (from torch)\n",
      "  Using cached sympy-1.13.1-py3-none-any.whl.metadata (12 kB)\n",
      "Collecting mpmath<1.4,>=1.1.0 (from sympy==1.13.1->torch)\n",
      "  Using cached mpmath-1.3.0-py3-none-any.whl.metadata (8.6 kB)\n",
      "Collecting pillow!=8.3.*,>=5.3.0 (from torchvision)\n",
      "  Using cached pillow-11.1.0-cp312-cp312-win_amd64.whl.metadata (9.3 kB)\n",
      "Requirement already satisfied: colorama in c:\\users\\besitzer\\projekte\\master-thesis-alj95\\.venv-312\\lib\\site-packages (from tqdm>=4.27->transformers) (0.4.6)\n",
      "Requirement already satisfied: MarkupSafe>=2.0 in c:\\users\\besitzer\\projekte\\master-thesis-alj95\\.venv-312\\lib\\site-packages (from jinja2->torch) (3.0.2)\n",
      "Requirement already satisfied: charset-normalizer<4,>=2 in c:\\users\\besitzer\\projekte\\master-thesis-alj95\\.venv-312\\lib\\site-packages (from requests->transformers) (3.4.0)\n",
      "Requirement already satisfied: idna<4,>=2.5 in c:\\users\\besitzer\\projekte\\master-thesis-alj95\\.venv-312\\lib\\site-packages (from requests->transformers) (3.10)\n",
      "Requirement already satisfied: urllib3<3,>=1.21.1 in c:\\users\\besitzer\\projekte\\master-thesis-alj95\\.venv-312\\lib\\site-packages (from requests->transformers) (2.2.3)\n",
      "Requirement already satisfied: certifi>=2017.4.17 in c:\\users\\besitzer\\projekte\\master-thesis-alj95\\.venv-312\\lib\\site-packages (from requests->transformers) (2024.8.30)\n",
      "Using cached torch-2.6.0-cp312-cp312-win_amd64.whl (204.1 MB)\n",
      "Using cached sympy-1.13.1-py3-none-any.whl (6.2 MB)\n",
      "Using cached torchvision-0.21.0-cp312-cp312-win_amd64.whl (1.6 MB)\n",
      "Using cached torchaudio-2.6.0-cp312-cp312-win_amd64.whl (2.4 MB)\n",
      "Using cached pillow-11.1.0-cp312-cp312-win_amd64.whl (2.6 MB)\n",
      "Using cached setuptools-75.8.0-py3-none-any.whl (1.2 MB)\n",
      "Using cached mpmath-1.3.0-py3-none-any.whl (536 kB)\n",
      "Installing collected packages: mpmath, sympy, setuptools, pillow, torch, torchvision, torchaudio\n",
      "Successfully installed mpmath-1.3.0 pillow-11.1.0 setuptools-75.8.0 sympy-1.13.1 torch-2.6.0 torchaudio-2.6.0 torchvision-0.21.0\n",
      "Note: you may need to restart the kernel to use updated packages.\n"
     ]
    },
    {
     "name": "stderr",
     "output_type": "stream",
     "text": [
      "\n",
      "[notice] A new release of pip is available: 24.3.1 -> 25.0\n",
      "[notice] To update, run: python.exe -m pip install --upgrade pip\n"
     ]
    }
   ],
   "source": [
    "%pip install transformers torch torchvision torchaudio"
   ]
  },
  {
   "cell_type": "code",
   "execution_count": 1,
   "metadata": {},
   "outputs": [
    {
     "name": "stderr",
     "output_type": "stream",
     "text": [
      "c:\\Users\\Besitzer\\Projekte\\master-thesis-alj95\\.venv-312\\Lib\\site-packages\\tqdm\\auto.py:21: TqdmWarning: IProgress not found. Please update jupyter and ipywidgets. See https://ipywidgets.readthedocs.io/en/stable/user_install.html\n",
      "  from .autonotebook import tqdm as notebook_tqdm\n"
     ]
    }
   ],
   "source": [
    "\n",
    "from transformers import AutoModelForCausalLM, AutoTokenizer"
   ]
  },
  {
   "cell_type": "code",
   "execution_count": 2,
   "metadata": {},
   "outputs": [
    {
     "name": "stderr",
     "output_type": "stream",
     "text": [
      "c:\\Users\\Besitzer\\Projekte\\master-thesis-alj95\\.venv-312\\Lib\\site-packages\\huggingface_hub\\file_download.py:139: UserWarning: `huggingface_hub` cache-system uses symlinks by default to efficiently store duplicated files but your machine does not support them in C:\\Users\\Besitzer\\.cache\\huggingface\\hub\\models--HuggingFaceTB--SmolLM2-135M-Instruct. Caching files will still work but in a degraded version that might require more space on your disk. This warning can be disabled by setting the `HF_HUB_DISABLE_SYMLINKS_WARNING` environment variable. For more details, see https://huggingface.co/docs/huggingface_hub/how-to-cache#limitations.\n",
      "To support symlinks on Windows, you either need to activate Developer Mode or to run Python as an administrator. In order to activate developer mode, see this article: https://docs.microsoft.com/en-us/windows/apps/get-started/enable-your-device-for-development\n",
      "  warnings.warn(message)\n",
      "The attention mask is not set and cannot be inferred from input because pad token is same as eos token. As a consequence, you may observe unexpected behavior. Please pass your input's `attention_mask` to obtain reliable results.\n"
     ]
    },
    {
     "name": "stdout",
     "output_type": "stream",
     "text": [
      "<|im_start|>system\n",
      "You are a helpful AI assistant named SmolLM, trained by Hugging Face<|im_end|>\n",
      "<|im_start|>user\n",
      "What is gravity?<|im_end|>\n",
      "\n",
      "<|im_start|>system\n",
      "You are a helpful AI assistant named SmolLM, trained by Hugging Face<|im_end|>\n",
      "<|im_start|>user\n",
      "What is gravity?<|im_end|>\n",
      "<|im_start|>assistant\n",
      "Gravity is a fundamental force of nature that attracts objects with mass towards each other. It is a result of the interaction between mass, energy, and space. According to Newton's laws of motion, the force of gravity is proportional\n"
     ]
    }
   ],
   "source": [
    "checkpoint = \"HuggingFaceTB/SmolLM2-135M-Instruct\"\n",
    "\n",
    "device = \"cpu\"\n",
    "tokenizer = AutoTokenizer.from_pretrained(checkpoint)\n",
    "model = AutoModelForCausalLM.from_pretrained(checkpoint).to(device)\n",
    "\n",
    "messages = [{\"role\": \"user\", \"content\": \"What is gravity?\"}]\n",
    "\n",
    "input_text=tokenizer.apply_chat_template(messages, tokenize=False)\n",
    "print(input_text)\n",
    "\n",
    "inputs = tokenizer.encode(input_text, return_tensors=\"pt\").to(device)\n",
    "outputs = model.generate(inputs, max_new_tokens=50, temperature=0.2, top_p=0.9, do_sample=True)\n",
    "\n",
    "print(tokenizer.decode(outputs[0]))\n"
   ]
  },
  {
   "cell_type": "code",
   "execution_count": 7,
   "metadata": {},
   "outputs": [
    {
     "data": {
      "text/html": [
       "<div>\n",
       "<style scoped>\n",
       "    .dataframe tbody tr th:only-of-type {\n",
       "        vertical-align: middle;\n",
       "    }\n",
       "\n",
       "    .dataframe tbody tr th {\n",
       "        vertical-align: top;\n",
       "    }\n",
       "\n",
       "    .dataframe thead th {\n",
       "        text-align: right;\n",
       "    }\n",
       "</style>\n",
       "<table border=\"1\" class=\"dataframe\">\n",
       "  <thead>\n",
       "    <tr style=\"text-align: right;\">\n",
       "      <th></th>\n",
       "      <th>lang</th>\n",
       "      <th>source_code</th>\n",
       "      <th>tags</th>\n",
       "      <th>lang_cluster</th>\n",
       "      <th>code_uid</th>\n",
       "      <th>src_uid</th>\n",
       "      <th>difficulty</th>\n",
       "    </tr>\n",
       "  </thead>\n",
       "  <tbody>\n",
       "    <tr>\n",
       "      <th>0</th>\n",
       "      <td>Python 2</td>\n",
       "      <td>s, d = map(int, raw_input().split())\\n\\n#Rever...</td>\n",
       "      <td>[math, greedy]</td>\n",
       "      <td>Python</td>\n",
       "      <td>682c4521f34dd8047c5426d006c4dcf8</td>\n",
       "      <td>8edf64f5838b19f9a8b19a14977f5615</td>\n",
       "      <td>1600.0</td>\n",
       "    </tr>\n",
       "    <tr>\n",
       "      <th>1</th>\n",
       "      <td>Python 3</td>\n",
       "      <td>c=0\\nd=0\\n\\n\\nt=input().split()\\nx=int(t[0])\\n...</td>\n",
       "      <td>[math, greedy]</td>\n",
       "      <td>Python</td>\n",
       "      <td>e427a28fec617689cce72b9e36ad6706</td>\n",
       "      <td>8edf64f5838b19f9a8b19a14977f5615</td>\n",
       "      <td>1600.0</td>\n",
       "    </tr>\n",
       "    <tr>\n",
       "      <th>2</th>\n",
       "      <td>Python 3</td>\n",
       "      <td>x, y = map(int, input().split())\\n\\nans = 1\\n\\...</td>\n",
       "      <td>[math, greedy]</td>\n",
       "      <td>Python</td>\n",
       "      <td>d7461bbae1f5b68af90bfc3a5ed40118</td>\n",
       "      <td>8edf64f5838b19f9a8b19a14977f5615</td>\n",
       "      <td>1600.0</td>\n",
       "    </tr>\n",
       "    <tr>\n",
       "      <th>3</th>\n",
       "      <td>Python 2</td>\n",
       "      <td>x, y = map(int, raw_input().split(' '))\\n\\nt =...</td>\n",
       "      <td>[math, greedy]</td>\n",
       "      <td>Python</td>\n",
       "      <td>9d01260d49b6537ebb842def4726eeaa</td>\n",
       "      <td>8edf64f5838b19f9a8b19a14977f5615</td>\n",
       "      <td>1600.0</td>\n",
       "    </tr>\n",
       "    <tr>\n",
       "      <th>4</th>\n",
       "      <td>Python 2</td>\n",
       "      <td>x, y = map(int, raw_input().split())\\n\\nr = [y...</td>\n",
       "      <td>[math, greedy]</td>\n",
       "      <td>Python</td>\n",
       "      <td>ba0dedb0ff0d7d24294cce92ec2fc2e3</td>\n",
       "      <td>8edf64f5838b19f9a8b19a14977f5615</td>\n",
       "      <td>1600.0</td>\n",
       "    </tr>\n",
       "  </tbody>\n",
       "</table>\n",
       "</div>"
      ],
      "text/plain": [
       "       lang                                        source_code  \\\n",
       "0  Python 2  s, d = map(int, raw_input().split())\\n\\n#Rever...   \n",
       "1  Python 3  c=0\\nd=0\\n\\n\\nt=input().split()\\nx=int(t[0])\\n...   \n",
       "2  Python 3  x, y = map(int, input().split())\\n\\nans = 1\\n\\...   \n",
       "3  Python 2  x, y = map(int, raw_input().split(' '))\\n\\nt =...   \n",
       "4  Python 2  x, y = map(int, raw_input().split())\\n\\nr = [y...   \n",
       "\n",
       "             tags lang_cluster                          code_uid  \\\n",
       "0  [math, greedy]       Python  682c4521f34dd8047c5426d006c4dcf8   \n",
       "1  [math, greedy]       Python  e427a28fec617689cce72b9e36ad6706   \n",
       "2  [math, greedy]       Python  d7461bbae1f5b68af90bfc3a5ed40118   \n",
       "3  [math, greedy]       Python  9d01260d49b6537ebb842def4726eeaa   \n",
       "4  [math, greedy]       Python  ba0dedb0ff0d7d24294cce92ec2fc2e3   \n",
       "\n",
       "                            src_uid  difficulty  \n",
       "0  8edf64f5838b19f9a8b19a14977f5615      1600.0  \n",
       "1  8edf64f5838b19f9a8b19a14977f5615      1600.0  \n",
       "2  8edf64f5838b19f9a8b19a14977f5615      1600.0  \n",
       "3  8edf64f5838b19f9a8b19a14977f5615      1600.0  \n",
       "4  8edf64f5838b19f9a8b19a14977f5615      1600.0  "
      ]
     },
     "execution_count": 7,
     "metadata": {},
     "output_type": "execute_result"
    }
   ],
   "source": [
    "import pandas as pd\n",
    "filename = \"C:/Users/Besitzer/Downloads/python-test-jsonl\"\n",
    "df = pd.read_json(filename, lines=True)\n",
    "df.head()\n",
    "\n",
    "df.lang.unique()\n",
    "\n",
    "df.loc[:, \"lang\"] = df.lang.apply(lambda x: \"Python 2\" if \"2\" in x else \"Python 3\")\n",
    "df.head()"
   ]
  },
  {
   "cell_type": "code",
   "execution_count": 9,
   "metadata": {},
   "outputs": [
    {
     "data": {
      "text/plain": [
       "8195"
      ]
     },
     "execution_count": 9,
     "metadata": {},
     "output_type": "execute_result"
    }
   ],
   "source": [
    "len(df)"
   ]
  },
  {
   "cell_type": "code",
   "execution_count": 23,
   "metadata": {},
   "outputs": [
    {
     "name": "stdout",
     "output_type": "stream",
     "text": [
      "Python  ?=  Python 2   - #tokens= 177\n",
      "The Python code is written in the Python 2.x language.\n",
      "\n",
      "The Python 3.x code is written in the Python 2.x language.\n",
      "\n",
      "The Python 2.x code is written in  ?=  Python 3   - #tokens= 1652\n",
      "Python  ?=  Python 3   - #tokens= 284\n",
      "Python 2  ?=  Python 2   - #tokens= 163\n",
      "Python  ?=  Python 3   - #tokens= 161\n",
      "Python 2  ?=  Python 2   - #tokens= 241\n",
      "Python 2  ?=  Python 3   - #tokens= 245\n",
      "This is Python.  ?=  Python 3   - #tokens= 755\n",
      "Python 2  ?=  Python 3   - #tokens= 131\n",
      "Python  ?=  Python 2   - #tokens= 221\n"
     ]
    }
   ],
   "source": [
    "for i, row in df.sample(10).iterrows():\n",
    "    messages = [{\"role\": \"user\", \"content\": f\"Q: Given the source code below:\\n```{row.source_code}```\\n\\n Which programming language is this? You must only name the programming language and no explanations. Permitted answer formats are 'Python 2', 'Python 3', 'Java', 'C#'.\\n\\n A: \"}]\n",
    "\n",
    "    input_text=tokenizer.apply_chat_template(messages, tokenize=False)\n",
    "\n",
    "    inputs = tokenizer.encode(input_text, return_tensors=\"pt\").to(device)\n",
    "    outputs = model.generate(inputs, max_new_tokens=50, temperature=0.2, top_p=0.9, do_sample=True)\n",
    "\n",
    "    \n",
    "    print(tokenizer.decode(outputs[0]).split(\"<|im_start|>assistant\\n\")[-1].split(\"<|im_end|>\")[0], \" ?= \", row.lang, \"  - #tokens =\", inputs.shape[1])\n",
    "    "
   ]
  },
  {
   "cell_type": "code",
   "execution_count": null,
   "metadata": {},
   "outputs": [],
   "source": []
  }
 ],
 "metadata": {
  "kernelspec": {
   "display_name": ".venv-312",
   "language": "python",
   "name": "python3"
  },
  "language_info": {
   "codemirror_mode": {
    "name": "ipython",
    "version": 3
   },
   "file_extension": ".py",
   "mimetype": "text/x-python",
   "name": "python",
   "nbconvert_exporter": "python",
   "pygments_lexer": "ipython3",
   "version": "3.12.8"
  }
 },
 "nbformat": 4,
 "nbformat_minor": 2
}
