{
 "cells": [
  {
   "cell_type": "code",
   "execution_count": 6,
   "metadata": {},
   "outputs": [],
   "source": [
    "from haystack import Pipeline\n",
    "import os\n",
    "\n",
    "os.environ[\"OPENAI_API_KEY\"] = \"<your_openai_api_key>\""
   ]
  },
  {
   "cell_type": "code",
   "execution_count": 9,
   "metadata": {},
   "outputs": [],
   "source": [
    "from haystack.components.generators.openai import OpenAIGenerator\n",
    "from haystack.components.builders.prompt_builder import PromptBuilder\n",
    "from haystack.components.retrievers.in_memory.embedding_retriever import InMemoryEmbeddingRetriever\n",
    "from haystack.document_stores.in_memory import InMemoryDocumentStore\n",
    "from haystack.components.embedders.openai_text_embedder import OpenAITextEmbedder\n",
    "from haystack.components.rankers.lost_in_the_middle import LostInTheMiddleRanker\n",
    "\n",
    "pipeline = Pipeline()\n",
    "pipeline.add_component(\"embedder\", OpenAITextEmbedder(model=\"text-embedding-ada-002\"))\n",
    "pipeline.add_component(\"retriever\", InMemoryEmbeddingRetriever(document_store=InMemoryDocumentStore()))\n",
    "pipeline.add_component(\"ranker\", LostInTheMiddleRanker())\n",
    "pipeline.add_component(\"prompt_builder\", PromptBuilder(template=\"\"\"\n",
    "\n",
    "        Given these documents, answer the question.\n",
    "\n",
    "        Your answer is used within a pipeline and must follow the following format:\n",
    "        \"The answer is \"valid\"\" or \"The answer is \"invalid\"\" with quotation marks. Also allowed are \"yes\" or \"no\", \"true\" or \"false\", \"1\" or \"0\".\n",
    "        After stating your answer, explain your answer in detail.\n",
    "\n",
    "        Example:\n",
    "        Question: London is the capital of France.\n",
    "        Answer: \"false\", because the capital of France is Paris, not London.\n",
    "\n",
    "        Documents:\n",
    "\n",
    "        {% for doc in documents %}\\\n",
    "\n",
    "        {{ doc.content }}\n",
    "\n",
    "        {% endfor %}        \n",
    "\n",
    "        Question: {{query}}\n",
    "\n",
    "\n",
    "        Answer:\n",
    "\n",
    "        \"\"\"))\n",
    "pipeline.add_component(\"generator\", OpenAIGenerator())\n",
    "\n",
    "pipeline.connect(\"embedder\", \"retriever.query_embedding\")\n",
    "pipeline.connect(\"retriever\", \"ranker\")\n",
    "pipeline.connect(\"ranker\", \"prompt_builder\")\n",
    "pipeline.connect(\"prompt_builder\", \"generator\")\n",
    "\n",
    "pipeline.dump(open(\"pipeline.yaml\", \"w\"))\n",
    "\n",
    "\n",
    "\n",
    "\n",
    "\n",
    "\n",
    "\n"
   ]
  }
 ],
 "metadata": {
  "kernelspec": {
   "display_name": ".venv-312",
   "language": "python",
   "name": "python3"
  },
  "language_info": {
   "codemirror_mode": {
    "name": "ipython",
    "version": 3
   },
   "file_extension": ".py",
   "mimetype": "text/x-python",
   "name": "python",
   "nbconvert_exporter": "python",
   "pygments_lexer": "ipython3",
   "version": "3.12.8"
  }
 },
 "nbformat": 4,
 "nbformat_minor": 2
}
