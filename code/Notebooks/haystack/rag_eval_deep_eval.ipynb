{
  "cells": [
    {
      "cell_type": "markdown",
      "metadata": {
        "id": "QJBg1TcQksMo"
      },
      "source": [
        "# RAG pipeline evaluation using DeepEval\n",
        "\n",
        "[DeepEval](https://www.confident-ai.com/) is a framework to evaluate [Retrieval Augmented Generation](https://www.deepset.ai/blog/llms-retrieval-augmentation) (RAG) pipelines.\n",
        "It supports metrics like context relevance, answer correctness, faithfulness, and more.\n",
        "\n",
        "For more information about evaluators, supported metrics and usage, check out:\n",
        "\n",
        "* [DeepEvalEvaluator](https://docs.haystack.deepset.ai/docs/deepevalevaluator)\n",
        "* [Model based evaluation](https://docs.haystack.deepset.ai/docs/model-based-evaluation)\n",
        "\n",
        "This notebook shows how to use [DeepEval-Haystack](https://haystack.deepset.ai/integrations/deepeval) integration to evaluate a RAG pipeline against various metrics."
      ]
    },
    {
      "cell_type": "markdown",
      "metadata": {
        "id": "RsTU-Z2QjtwZ"
      },
      "source": [
        "## Prerequisites:\n",
        "\n",
        "- [OpenAI](https://openai.com/) key\n",
        "    - **DeepEval** uses  for computing some metrics, so we need an OpenAI key."
      ]
    },
    {
      "cell_type": "code",
      "execution_count": 1,
      "metadata": {
        "colab": {
          "base_uri": "https://localhost:8080/"
        },
        "id": "18vjNnVwGwjH",
        "outputId": "d7007c17-9329-429c-86b0-ec080fddfa32"
      },
      "outputs": [],
      "source": [
        "import os\n",
        "from getpass import getpass\n",
        "\n",
        "os.environ[\"OPENAI_API_KEY\"] = getpass(\"Enter OpenAI API key:\")"
      ]
    },
    {
      "cell_type": "markdown",
      "metadata": {
        "id": "cxMjhSB-10Ws"
      },
      "source": [
        "## Install dependencies"
      ]
    },
    {
      "cell_type": "code",
      "execution_count": 2,
      "metadata": {
        "colab": {
          "base_uri": "https://localhost:8080/"
        },
        "id": "a7u0pxUg3JHn",
        "outputId": "daf1af1f-fde2-43e3-9322-0bade8976d4e"
      },
      "outputs": [
        {
          "name": "stdout",
          "output_type": "stream",
          "text": [
            "Requirement already satisfied: pydantic in /Users/janalbrecht/projects/master-thesis-alj95/.venv-haystack/lib/python3.12/site-packages (2.9.2)\n",
            "Requirement already satisfied: annotated-types>=0.6.0 in /Users/janalbrecht/projects/master-thesis-alj95/.venv-haystack/lib/python3.12/site-packages (from pydantic) (0.7.0)\n",
            "Requirement already satisfied: pydantic-core==2.23.4 in /Users/janalbrecht/projects/master-thesis-alj95/.venv-haystack/lib/python3.12/site-packages (from pydantic) (2.23.4)\n",
            "Requirement already satisfied: typing-extensions>=4.6.1 in /Users/janalbrecht/projects/master-thesis-alj95/.venv-haystack/lib/python3.12/site-packages (from pydantic) (4.12.2)\n",
            "\n",
            "\u001b[1m[\u001b[0m\u001b[34;49mnotice\u001b[0m\u001b[1;39;49m]\u001b[0m\u001b[39;49m A new release of pip is available: \u001b[0m\u001b[31;49m24.2\u001b[0m\u001b[39;49m -> \u001b[0m\u001b[32;49m24.3.1\u001b[0m\n",
            "\u001b[1m[\u001b[0m\u001b[34;49mnotice\u001b[0m\u001b[1;39;49m]\u001b[0m\u001b[39;49m To update, run: \u001b[0m\u001b[32;49mpip install --upgrade pip\u001b[0m\n",
            "Requirement already satisfied: haystack-ai in /Users/janalbrecht/projects/master-thesis-alj95/.venv-haystack/lib/python3.12/site-packages (2.6.1)\n",
            "Requirement already satisfied: haystack-experimental in /Users/janalbrecht/projects/master-thesis-alj95/.venv-haystack/lib/python3.12/site-packages (from haystack-ai) (0.2.0)\n",
            "Requirement already satisfied: jinja2 in /Users/janalbrecht/projects/master-thesis-alj95/.venv-haystack/lib/python3.12/site-packages (from haystack-ai) (3.1.4)\n",
            "Requirement already satisfied: lazy-imports in /Users/janalbrecht/projects/master-thesis-alj95/.venv-haystack/lib/python3.12/site-packages (from haystack-ai) (0.3.1)\n",
            "Requirement already satisfied: more-itertools in /Users/janalbrecht/projects/master-thesis-alj95/.venv-haystack/lib/python3.12/site-packages (from haystack-ai) (10.5.0)\n",
            "Requirement already satisfied: networkx in /Users/janalbrecht/projects/master-thesis-alj95/.venv-haystack/lib/python3.12/site-packages (from haystack-ai) (3.4.1)\n",
            "Requirement already satisfied: numpy<2 in /Users/janalbrecht/projects/master-thesis-alj95/.venv-haystack/lib/python3.12/site-packages (from haystack-ai) (1.26.4)\n",
            "Requirement already satisfied: openai>=1.1.0 in /Users/janalbrecht/projects/master-thesis-alj95/.venv-haystack/lib/python3.12/site-packages (from haystack-ai) (1.52.0)\n",
            "Requirement already satisfied: pandas in /Users/janalbrecht/projects/master-thesis-alj95/.venv-haystack/lib/python3.12/site-packages (from haystack-ai) (2.2.3)\n",
            "Requirement already satisfied: posthog in /Users/janalbrecht/projects/master-thesis-alj95/.venv-haystack/lib/python3.12/site-packages (from haystack-ai) (3.7.0)\n",
            "Requirement already satisfied: python-dateutil in /Users/janalbrecht/projects/master-thesis-alj95/.venv-haystack/lib/python3.12/site-packages (from haystack-ai) (2.9.0.post0)\n",
            "Requirement already satisfied: pyyaml in /Users/janalbrecht/projects/master-thesis-alj95/.venv-haystack/lib/python3.12/site-packages (from haystack-ai) (6.0.2)\n",
            "Requirement already satisfied: requests in /Users/janalbrecht/projects/master-thesis-alj95/.venv-haystack/lib/python3.12/site-packages (from haystack-ai) (2.32.3)\n",
            "Requirement already satisfied: tenacity!=8.4.0 in /Users/janalbrecht/projects/master-thesis-alj95/.venv-haystack/lib/python3.12/site-packages (from haystack-ai) (8.4.2)\n",
            "Requirement already satisfied: tqdm in /Users/janalbrecht/projects/master-thesis-alj95/.venv-haystack/lib/python3.12/site-packages (from haystack-ai) (4.66.5)\n",
            "Requirement already satisfied: typing-extensions>=4.7 in /Users/janalbrecht/projects/master-thesis-alj95/.venv-haystack/lib/python3.12/site-packages (from haystack-ai) (4.12.2)\n",
            "Requirement already satisfied: anyio<5,>=3.5.0 in /Users/janalbrecht/projects/master-thesis-alj95/.venv-haystack/lib/python3.12/site-packages (from openai>=1.1.0->haystack-ai) (4.6.2.post1)\n",
            "Requirement already satisfied: distro<2,>=1.7.0 in /Users/janalbrecht/projects/master-thesis-alj95/.venv-haystack/lib/python3.12/site-packages (from openai>=1.1.0->haystack-ai) (1.9.0)\n",
            "Requirement already satisfied: httpx<1,>=0.23.0 in /Users/janalbrecht/projects/master-thesis-alj95/.venv-haystack/lib/python3.12/site-packages (from openai>=1.1.0->haystack-ai) (0.27.2)\n",
            "Requirement already satisfied: jiter<1,>=0.4.0 in /Users/janalbrecht/projects/master-thesis-alj95/.venv-haystack/lib/python3.12/site-packages (from openai>=1.1.0->haystack-ai) (0.6.1)\n",
            "Requirement already satisfied: pydantic<3,>=1.9.0 in /Users/janalbrecht/projects/master-thesis-alj95/.venv-haystack/lib/python3.12/site-packages (from openai>=1.1.0->haystack-ai) (2.9.2)\n",
            "Requirement already satisfied: sniffio in /Users/janalbrecht/projects/master-thesis-alj95/.venv-haystack/lib/python3.12/site-packages (from openai>=1.1.0->haystack-ai) (1.3.1)\n",
            "Requirement already satisfied: MarkupSafe>=2.0 in /Users/janalbrecht/projects/master-thesis-alj95/.venv-haystack/lib/python3.12/site-packages (from jinja2->haystack-ai) (3.0.2)\n",
            "Requirement already satisfied: pytz>=2020.1 in /Users/janalbrecht/projects/master-thesis-alj95/.venv-haystack/lib/python3.12/site-packages (from pandas->haystack-ai) (2024.2)\n",
            "Requirement already satisfied: tzdata>=2022.7 in /Users/janalbrecht/projects/master-thesis-alj95/.venv-haystack/lib/python3.12/site-packages (from pandas->haystack-ai) (2024.2)\n",
            "Requirement already satisfied: six>=1.5 in /Users/janalbrecht/projects/master-thesis-alj95/.venv-haystack/lib/python3.12/site-packages (from python-dateutil->haystack-ai) (1.16.0)\n",
            "Requirement already satisfied: monotonic>=1.5 in /Users/janalbrecht/projects/master-thesis-alj95/.venv-haystack/lib/python3.12/site-packages (from posthog->haystack-ai) (1.6)\n",
            "Requirement already satisfied: backoff>=1.10.0 in /Users/janalbrecht/projects/master-thesis-alj95/.venv-haystack/lib/python3.12/site-packages (from posthog->haystack-ai) (2.2.1)\n",
            "Requirement already satisfied: charset-normalizer<4,>=2 in /Users/janalbrecht/projects/master-thesis-alj95/.venv-haystack/lib/python3.12/site-packages (from requests->haystack-ai) (3.4.0)\n",
            "Requirement already satisfied: idna<4,>=2.5 in /Users/janalbrecht/projects/master-thesis-alj95/.venv-haystack/lib/python3.12/site-packages (from requests->haystack-ai) (3.10)\n",
            "Requirement already satisfied: urllib3<3,>=1.21.1 in /Users/janalbrecht/projects/master-thesis-alj95/.venv-haystack/lib/python3.12/site-packages (from requests->haystack-ai) (2.2.3)\n",
            "Requirement already satisfied: certifi>=2017.4.17 in /Users/janalbrecht/projects/master-thesis-alj95/.venv-haystack/lib/python3.12/site-packages (from requests->haystack-ai) (2024.8.30)\n",
            "Requirement already satisfied: httpcore==1.* in /Users/janalbrecht/projects/master-thesis-alj95/.venv-haystack/lib/python3.12/site-packages (from httpx<1,>=0.23.0->openai>=1.1.0->haystack-ai) (1.0.6)\n",
            "Requirement already satisfied: h11<0.15,>=0.13 in /Users/janalbrecht/projects/master-thesis-alj95/.venv-haystack/lib/python3.12/site-packages (from httpcore==1.*->httpx<1,>=0.23.0->openai>=1.1.0->haystack-ai) (0.14.0)\n",
            "Requirement already satisfied: annotated-types>=0.6.0 in /Users/janalbrecht/projects/master-thesis-alj95/.venv-haystack/lib/python3.12/site-packages (from pydantic<3,>=1.9.0->openai>=1.1.0->haystack-ai) (0.7.0)\n",
            "Requirement already satisfied: pydantic-core==2.23.4 in /Users/janalbrecht/projects/master-thesis-alj95/.venv-haystack/lib/python3.12/site-packages (from pydantic<3,>=1.9.0->openai>=1.1.0->haystack-ai) (2.23.4)\n",
            "\n",
            "\u001b[1m[\u001b[0m\u001b[34;49mnotice\u001b[0m\u001b[1;39;49m]\u001b[0m\u001b[39;49m A new release of pip is available: \u001b[0m\u001b[31;49m24.2\u001b[0m\u001b[39;49m -> \u001b[0m\u001b[32;49m24.3.1\u001b[0m\n",
            "\u001b[1m[\u001b[0m\u001b[34;49mnotice\u001b[0m\u001b[1;39;49m]\u001b[0m\u001b[39;49m To update, run: \u001b[0m\u001b[32;49mpip install --upgrade pip\u001b[0m\n",
            "Requirement already satisfied: datasets in /Users/janalbrecht/projects/master-thesis-alj95/.venv-haystack/lib/python3.12/site-packages (3.1.0)\n",
            "Requirement already satisfied: filelock in /Users/janalbrecht/projects/master-thesis-alj95/.venv-haystack/lib/python3.12/site-packages (from datasets) (3.16.1)\n",
            "Requirement already satisfied: numpy>=1.17 in /Users/janalbrecht/projects/master-thesis-alj95/.venv-haystack/lib/python3.12/site-packages (from datasets) (1.26.4)\n",
            "Requirement already satisfied: pyarrow>=15.0.0 in /Users/janalbrecht/projects/master-thesis-alj95/.venv-haystack/lib/python3.12/site-packages (from datasets) (18.0.0)\n",
            "Requirement already satisfied: dill<0.3.9,>=0.3.0 in /Users/janalbrecht/projects/master-thesis-alj95/.venv-haystack/lib/python3.12/site-packages (from datasets) (0.3.8)\n",
            "Requirement already satisfied: pandas in /Users/janalbrecht/projects/master-thesis-alj95/.venv-haystack/lib/python3.12/site-packages (from datasets) (2.2.3)\n",
            "Requirement already satisfied: requests>=2.32.2 in /Users/janalbrecht/projects/master-thesis-alj95/.venv-haystack/lib/python3.12/site-packages (from datasets) (2.32.3)\n",
            "Requirement already satisfied: tqdm>=4.66.3 in /Users/janalbrecht/projects/master-thesis-alj95/.venv-haystack/lib/python3.12/site-packages (from datasets) (4.66.5)\n",
            "Requirement already satisfied: xxhash in /Users/janalbrecht/projects/master-thesis-alj95/.venv-haystack/lib/python3.12/site-packages (from datasets) (3.5.0)\n",
            "Requirement already satisfied: multiprocess<0.70.17 in /Users/janalbrecht/projects/master-thesis-alj95/.venv-haystack/lib/python3.12/site-packages (from datasets) (0.70.16)\n",
            "Requirement already satisfied: fsspec<=2024.9.0,>=2023.1.0 in /Users/janalbrecht/projects/master-thesis-alj95/.venv-haystack/lib/python3.12/site-packages (from fsspec[http]<=2024.9.0,>=2023.1.0->datasets) (2024.9.0)\n",
            "Requirement already satisfied: aiohttp in /Users/janalbrecht/projects/master-thesis-alj95/.venv-haystack/lib/python3.12/site-packages (from datasets) (3.10.10)\n",
            "Requirement already satisfied: huggingface-hub>=0.23.0 in /Users/janalbrecht/projects/master-thesis-alj95/.venv-haystack/lib/python3.12/site-packages (from datasets) (0.26.2)\n",
            "Requirement already satisfied: packaging in /Users/janalbrecht/projects/master-thesis-alj95/.venv-haystack/lib/python3.12/site-packages (from datasets) (24.1)\n",
            "Requirement already satisfied: pyyaml>=5.1 in /Users/janalbrecht/projects/master-thesis-alj95/.venv-haystack/lib/python3.12/site-packages (from datasets) (6.0.2)\n",
            "Requirement already satisfied: aiohappyeyeballs>=2.3.0 in /Users/janalbrecht/projects/master-thesis-alj95/.venv-haystack/lib/python3.12/site-packages (from aiohttp->datasets) (2.4.3)\n",
            "Requirement already satisfied: aiosignal>=1.1.2 in /Users/janalbrecht/projects/master-thesis-alj95/.venv-haystack/lib/python3.12/site-packages (from aiohttp->datasets) (1.3.1)\n",
            "Requirement already satisfied: attrs>=17.3.0 in /Users/janalbrecht/projects/master-thesis-alj95/.venv-haystack/lib/python3.12/site-packages (from aiohttp->datasets) (24.2.0)\n",
            "Requirement already satisfied: frozenlist>=1.1.1 in /Users/janalbrecht/projects/master-thesis-alj95/.venv-haystack/lib/python3.12/site-packages (from aiohttp->datasets) (1.5.0)\n",
            "Requirement already satisfied: multidict<7.0,>=4.5 in /Users/janalbrecht/projects/master-thesis-alj95/.venv-haystack/lib/python3.12/site-packages (from aiohttp->datasets) (6.1.0)\n",
            "Requirement already satisfied: yarl<2.0,>=1.12.0 in /Users/janalbrecht/projects/master-thesis-alj95/.venv-haystack/lib/python3.12/site-packages (from aiohttp->datasets) (1.17.1)\n",
            "Requirement already satisfied: typing-extensions>=3.7.4.3 in /Users/janalbrecht/projects/master-thesis-alj95/.venv-haystack/lib/python3.12/site-packages (from huggingface-hub>=0.23.0->datasets) (4.12.2)\n",
            "Requirement already satisfied: charset-normalizer<4,>=2 in /Users/janalbrecht/projects/master-thesis-alj95/.venv-haystack/lib/python3.12/site-packages (from requests>=2.32.2->datasets) (3.4.0)\n",
            "Requirement already satisfied: idna<4,>=2.5 in /Users/janalbrecht/projects/master-thesis-alj95/.venv-haystack/lib/python3.12/site-packages (from requests>=2.32.2->datasets) (3.10)\n",
            "Requirement already satisfied: urllib3<3,>=1.21.1 in /Users/janalbrecht/projects/master-thesis-alj95/.venv-haystack/lib/python3.12/site-packages (from requests>=2.32.2->datasets) (2.2.3)\n",
            "Requirement already satisfied: certifi>=2017.4.17 in /Users/janalbrecht/projects/master-thesis-alj95/.venv-haystack/lib/python3.12/site-packages (from requests>=2.32.2->datasets) (2024.8.30)\n",
            "Requirement already satisfied: python-dateutil>=2.8.2 in /Users/janalbrecht/projects/master-thesis-alj95/.venv-haystack/lib/python3.12/site-packages (from pandas->datasets) (2.9.0.post0)\n",
            "Requirement already satisfied: pytz>=2020.1 in /Users/janalbrecht/projects/master-thesis-alj95/.venv-haystack/lib/python3.12/site-packages (from pandas->datasets) (2024.2)\n",
            "Requirement already satisfied: tzdata>=2022.7 in /Users/janalbrecht/projects/master-thesis-alj95/.venv-haystack/lib/python3.12/site-packages (from pandas->datasets) (2024.2)\n",
            "Requirement already satisfied: six>=1.5 in /Users/janalbrecht/projects/master-thesis-alj95/.venv-haystack/lib/python3.12/site-packages (from python-dateutil>=2.8.2->pandas->datasets) (1.16.0)\n",
            "Requirement already satisfied: propcache>=0.2.0 in /Users/janalbrecht/projects/master-thesis-alj95/.venv-haystack/lib/python3.12/site-packages (from yarl<2.0,>=1.12.0->aiohttp->datasets) (0.2.0)\n",
            "\n",
            "\u001b[1m[\u001b[0m\u001b[34;49mnotice\u001b[0m\u001b[1;39;49m]\u001b[0m\u001b[39;49m A new release of pip is available: \u001b[0m\u001b[31;49m24.2\u001b[0m\u001b[39;49m -> \u001b[0m\u001b[32;49m24.3.1\u001b[0m\n",
            "\u001b[1m[\u001b[0m\u001b[34;49mnotice\u001b[0m\u001b[1;39;49m]\u001b[0m\u001b[39;49m To update, run: \u001b[0m\u001b[32;49mpip install --upgrade pip\u001b[0m\n",
            "Requirement already satisfied: deepeval-haystack in /Users/janalbrecht/projects/master-thesis-alj95/.venv-haystack/lib/python3.12/site-packages (0.1.1)\n",
            "Collecting deepeval==0.20.57 (from deepeval-haystack)\n",
            "  Using cached deepeval-0.20.57-py3-none-any.whl.metadata (817 bytes)\n",
            "Requirement already satisfied: haystack-ai in /Users/janalbrecht/projects/master-thesis-alj95/.venv-haystack/lib/python3.12/site-packages (from deepeval-haystack) (2.6.1)\n",
            "Requirement already satisfied: requests in /Users/janalbrecht/projects/master-thesis-alj95/.venv-haystack/lib/python3.12/site-packages (from deepeval==0.20.57->deepeval-haystack) (2.32.3)\n",
            "Requirement already satisfied: tqdm in /Users/janalbrecht/projects/master-thesis-alj95/.venv-haystack/lib/python3.12/site-packages (from deepeval==0.20.57->deepeval-haystack) (4.66.5)\n",
            "Requirement already satisfied: transformers in /Users/janalbrecht/projects/master-thesis-alj95/.venv-haystack/lib/python3.12/site-packages (from deepeval==0.20.57->deepeval-haystack) (4.46.1)\n",
            "Requirement already satisfied: pytest in /Users/janalbrecht/projects/master-thesis-alj95/.venv-haystack/lib/python3.12/site-packages (from deepeval==0.20.57->deepeval-haystack) (8.3.3)\n",
            "Requirement already satisfied: tabulate in /Users/janalbrecht/projects/master-thesis-alj95/.venv-haystack/lib/python3.12/site-packages (from deepeval==0.20.57->deepeval-haystack) (0.9.0)\n",
            "Requirement already satisfied: sentence-transformers in /Users/janalbrecht/projects/master-thesis-alj95/.venv-haystack/lib/python3.12/site-packages (from deepeval==0.20.57->deepeval-haystack) (3.2.1)\n",
            "Requirement already satisfied: typer in /Users/janalbrecht/projects/master-thesis-alj95/.venv-haystack/lib/python3.12/site-packages (from deepeval==0.20.57->deepeval-haystack) (0.12.5)\n",
            "Requirement already satisfied: rich in /Users/janalbrecht/projects/master-thesis-alj95/.venv-haystack/lib/python3.12/site-packages (from deepeval==0.20.57->deepeval-haystack) (13.9.4)\n",
            "Requirement already satisfied: protobuf==4.25.1 in /Users/janalbrecht/projects/master-thesis-alj95/.venv-haystack/lib/python3.12/site-packages (from deepeval==0.20.57->deepeval-haystack) (4.25.1)\n",
            "Requirement already satisfied: pydantic in /Users/janalbrecht/projects/master-thesis-alj95/.venv-haystack/lib/python3.12/site-packages (from deepeval==0.20.57->deepeval-haystack) (2.9.2)\n",
            "Requirement already satisfied: sentry-sdk in /Users/janalbrecht/projects/master-thesis-alj95/.venv-haystack/lib/python3.12/site-packages (from deepeval==0.20.57->deepeval-haystack) (2.17.0)\n",
            "Requirement already satisfied: pytest-xdist in /Users/janalbrecht/projects/master-thesis-alj95/.venv-haystack/lib/python3.12/site-packages (from deepeval==0.20.57->deepeval-haystack) (3.6.1)\n",
            "Requirement already satisfied: portalocker in /Users/janalbrecht/projects/master-thesis-alj95/.venv-haystack/lib/python3.12/site-packages (from deepeval==0.20.57->deepeval-haystack) (2.10.1)\n",
            "Requirement already satisfied: langchain in /Users/janalbrecht/projects/master-thesis-alj95/.venv-haystack/lib/python3.12/site-packages (from deepeval==0.20.57->deepeval-haystack) (0.3.7)\n",
            "Requirement already satisfied: langchain-core in /Users/janalbrecht/projects/master-thesis-alj95/.venv-haystack/lib/python3.12/site-packages (from deepeval==0.20.57->deepeval-haystack) (0.3.15)\n",
            "Requirement already satisfied: langchain-openai in /Users/janalbrecht/projects/master-thesis-alj95/.venv-haystack/lib/python3.12/site-packages (from deepeval==0.20.57->deepeval-haystack) (0.2.5)\n",
            "Requirement already satisfied: rouge-score==0.1.2 in /Users/janalbrecht/projects/master-thesis-alj95/.venv-haystack/lib/python3.12/site-packages (from deepeval==0.20.57->deepeval-haystack) (0.1.2)\n",
            "Requirement already satisfied: nltk==3.8.1 in /Users/janalbrecht/projects/master-thesis-alj95/.venv-haystack/lib/python3.12/site-packages (from deepeval==0.20.57->deepeval-haystack) (3.8.1)\n",
            "Requirement already satisfied: ragas in /Users/janalbrecht/projects/master-thesis-alj95/.venv-haystack/lib/python3.12/site-packages (from deepeval==0.20.57->deepeval-haystack) (0.2.3)\n",
            "Requirement already satisfied: click in /Users/janalbrecht/projects/master-thesis-alj95/.venv-haystack/lib/python3.12/site-packages (from nltk==3.8.1->deepeval==0.20.57->deepeval-haystack) (8.1.7)\n",
            "Requirement already satisfied: joblib in /Users/janalbrecht/projects/master-thesis-alj95/.venv-haystack/lib/python3.12/site-packages (from nltk==3.8.1->deepeval==0.20.57->deepeval-haystack) (1.4.2)\n",
            "Requirement already satisfied: regex>=2021.8.3 in /Users/janalbrecht/projects/master-thesis-alj95/.venv-haystack/lib/python3.12/site-packages (from nltk==3.8.1->deepeval==0.20.57->deepeval-haystack) (2024.9.11)\n",
            "Requirement already satisfied: absl-py in /Users/janalbrecht/projects/master-thesis-alj95/.venv-haystack/lib/python3.12/site-packages (from rouge-score==0.1.2->deepeval==0.20.57->deepeval-haystack) (2.1.0)\n",
            "Requirement already satisfied: numpy in /Users/janalbrecht/projects/master-thesis-alj95/.venv-haystack/lib/python3.12/site-packages (from rouge-score==0.1.2->deepeval==0.20.57->deepeval-haystack) (1.26.4)\n",
            "Requirement already satisfied: six>=1.14.0 in /Users/janalbrecht/projects/master-thesis-alj95/.venv-haystack/lib/python3.12/site-packages (from rouge-score==0.1.2->deepeval==0.20.57->deepeval-haystack) (1.16.0)\n",
            "Requirement already satisfied: haystack-experimental in /Users/janalbrecht/projects/master-thesis-alj95/.venv-haystack/lib/python3.12/site-packages (from haystack-ai->deepeval-haystack) (0.2.0)\n",
            "Requirement already satisfied: jinja2 in /Users/janalbrecht/projects/master-thesis-alj95/.venv-haystack/lib/python3.12/site-packages (from haystack-ai->deepeval-haystack) (3.1.4)\n",
            "Requirement already satisfied: lazy-imports in /Users/janalbrecht/projects/master-thesis-alj95/.venv-haystack/lib/python3.12/site-packages (from haystack-ai->deepeval-haystack) (0.3.1)\n",
            "Requirement already satisfied: more-itertools in /Users/janalbrecht/projects/master-thesis-alj95/.venv-haystack/lib/python3.12/site-packages (from haystack-ai->deepeval-haystack) (10.5.0)\n",
            "Requirement already satisfied: networkx in /Users/janalbrecht/projects/master-thesis-alj95/.venv-haystack/lib/python3.12/site-packages (from haystack-ai->deepeval-haystack) (3.4.1)\n",
            "Requirement already satisfied: openai>=1.1.0 in /Users/janalbrecht/projects/master-thesis-alj95/.venv-haystack/lib/python3.12/site-packages (from haystack-ai->deepeval-haystack) (1.52.0)\n",
            "Requirement already satisfied: pandas in /Users/janalbrecht/projects/master-thesis-alj95/.venv-haystack/lib/python3.12/site-packages (from haystack-ai->deepeval-haystack) (2.2.3)\n",
            "Requirement already satisfied: posthog in /Users/janalbrecht/projects/master-thesis-alj95/.venv-haystack/lib/python3.12/site-packages (from haystack-ai->deepeval-haystack) (3.7.0)\n",
            "Requirement already satisfied: python-dateutil in /Users/janalbrecht/projects/master-thesis-alj95/.venv-haystack/lib/python3.12/site-packages (from haystack-ai->deepeval-haystack) (2.9.0.post0)\n",
            "Requirement already satisfied: pyyaml in /Users/janalbrecht/projects/master-thesis-alj95/.venv-haystack/lib/python3.12/site-packages (from haystack-ai->deepeval-haystack) (6.0.2)\n",
            "Requirement already satisfied: tenacity!=8.4.0 in /Users/janalbrecht/projects/master-thesis-alj95/.venv-haystack/lib/python3.12/site-packages (from haystack-ai->deepeval-haystack) (8.4.2)\n",
            "Requirement already satisfied: typing-extensions>=4.7 in /Users/janalbrecht/projects/master-thesis-alj95/.venv-haystack/lib/python3.12/site-packages (from haystack-ai->deepeval-haystack) (4.12.2)\n",
            "Requirement already satisfied: anyio<5,>=3.5.0 in /Users/janalbrecht/projects/master-thesis-alj95/.venv-haystack/lib/python3.12/site-packages (from openai>=1.1.0->haystack-ai->deepeval-haystack) (4.6.2.post1)\n",
            "Requirement already satisfied: distro<2,>=1.7.0 in /Users/janalbrecht/projects/master-thesis-alj95/.venv-haystack/lib/python3.12/site-packages (from openai>=1.1.0->haystack-ai->deepeval-haystack) (1.9.0)\n",
            "Requirement already satisfied: httpx<1,>=0.23.0 in /Users/janalbrecht/projects/master-thesis-alj95/.venv-haystack/lib/python3.12/site-packages (from openai>=1.1.0->haystack-ai->deepeval-haystack) (0.27.2)\n",
            "Requirement already satisfied: jiter<1,>=0.4.0 in /Users/janalbrecht/projects/master-thesis-alj95/.venv-haystack/lib/python3.12/site-packages (from openai>=1.1.0->haystack-ai->deepeval-haystack) (0.6.1)\n",
            "Requirement already satisfied: sniffio in /Users/janalbrecht/projects/master-thesis-alj95/.venv-haystack/lib/python3.12/site-packages (from openai>=1.1.0->haystack-ai->deepeval-haystack) (1.3.1)\n",
            "Requirement already satisfied: annotated-types>=0.6.0 in /Users/janalbrecht/projects/master-thesis-alj95/.venv-haystack/lib/python3.12/site-packages (from pydantic->deepeval==0.20.57->deepeval-haystack) (0.7.0)\n",
            "Requirement already satisfied: pydantic-core==2.23.4 in /Users/janalbrecht/projects/master-thesis-alj95/.venv-haystack/lib/python3.12/site-packages (from pydantic->deepeval==0.20.57->deepeval-haystack) (2.23.4)\n",
            "Requirement already satisfied: MarkupSafe>=2.0 in /Users/janalbrecht/projects/master-thesis-alj95/.venv-haystack/lib/python3.12/site-packages (from jinja2->haystack-ai->deepeval-haystack) (3.0.2)\n",
            "Requirement already satisfied: SQLAlchemy<3,>=1.4 in /Users/janalbrecht/projects/master-thesis-alj95/.venv-haystack/lib/python3.12/site-packages (from langchain->deepeval==0.20.57->deepeval-haystack) (2.0.35)\n",
            "Requirement already satisfied: aiohttp<4.0.0,>=3.8.3 in /Users/janalbrecht/projects/master-thesis-alj95/.venv-haystack/lib/python3.12/site-packages (from langchain->deepeval==0.20.57->deepeval-haystack) (3.10.10)\n",
            "Requirement already satisfied: langchain-text-splitters<0.4.0,>=0.3.0 in /Users/janalbrecht/projects/master-thesis-alj95/.venv-haystack/lib/python3.12/site-packages (from langchain->deepeval==0.20.57->deepeval-haystack) (0.3.2)\n",
            "Requirement already satisfied: langsmith<0.2.0,>=0.1.17 in /Users/janalbrecht/projects/master-thesis-alj95/.venv-haystack/lib/python3.12/site-packages (from langchain->deepeval==0.20.57->deepeval-haystack) (0.1.139)\n",
            "Requirement already satisfied: jsonpatch<2.0,>=1.33 in /Users/janalbrecht/projects/master-thesis-alj95/.venv-haystack/lib/python3.12/site-packages (from langchain-core->deepeval==0.20.57->deepeval-haystack) (1.33)\n",
            "Requirement already satisfied: packaging<25,>=23.2 in /Users/janalbrecht/projects/master-thesis-alj95/.venv-haystack/lib/python3.12/site-packages (from langchain-core->deepeval==0.20.57->deepeval-haystack) (24.1)\n",
            "Requirement already satisfied: charset-normalizer<4,>=2 in /Users/janalbrecht/projects/master-thesis-alj95/.venv-haystack/lib/python3.12/site-packages (from requests->deepeval==0.20.57->deepeval-haystack) (3.4.0)\n",
            "Requirement already satisfied: idna<4,>=2.5 in /Users/janalbrecht/projects/master-thesis-alj95/.venv-haystack/lib/python3.12/site-packages (from requests->deepeval==0.20.57->deepeval-haystack) (3.10)\n",
            "Requirement already satisfied: urllib3<3,>=1.21.1 in /Users/janalbrecht/projects/master-thesis-alj95/.venv-haystack/lib/python3.12/site-packages (from requests->deepeval==0.20.57->deepeval-haystack) (2.2.3)\n",
            "Requirement already satisfied: certifi>=2017.4.17 in /Users/janalbrecht/projects/master-thesis-alj95/.venv-haystack/lib/python3.12/site-packages (from requests->deepeval==0.20.57->deepeval-haystack) (2024.8.30)\n",
            "Requirement already satisfied: tiktoken<1,>=0.7 in /Users/janalbrecht/projects/master-thesis-alj95/.venv-haystack/lib/python3.12/site-packages (from langchain-openai->deepeval==0.20.57->deepeval-haystack) (0.8.0)\n",
            "Requirement already satisfied: pytz>=2020.1 in /Users/janalbrecht/projects/master-thesis-alj95/.venv-haystack/lib/python3.12/site-packages (from pandas->haystack-ai->deepeval-haystack) (2024.2)\n",
            "Requirement already satisfied: tzdata>=2022.7 in /Users/janalbrecht/projects/master-thesis-alj95/.venv-haystack/lib/python3.12/site-packages (from pandas->haystack-ai->deepeval-haystack) (2024.2)\n",
            "Requirement already satisfied: monotonic>=1.5 in /Users/janalbrecht/projects/master-thesis-alj95/.venv-haystack/lib/python3.12/site-packages (from posthog->haystack-ai->deepeval-haystack) (1.6)\n",
            "Requirement already satisfied: backoff>=1.10.0 in /Users/janalbrecht/projects/master-thesis-alj95/.venv-haystack/lib/python3.12/site-packages (from posthog->haystack-ai->deepeval-haystack) (2.2.1)\n",
            "Requirement already satisfied: iniconfig in /Users/janalbrecht/projects/master-thesis-alj95/.venv-haystack/lib/python3.12/site-packages (from pytest->deepeval==0.20.57->deepeval-haystack) (2.0.0)\n",
            "Requirement already satisfied: pluggy<2,>=1.5 in /Users/janalbrecht/projects/master-thesis-alj95/.venv-haystack/lib/python3.12/site-packages (from pytest->deepeval==0.20.57->deepeval-haystack) (1.5.0)\n",
            "Requirement already satisfied: execnet>=2.1 in /Users/janalbrecht/projects/master-thesis-alj95/.venv-haystack/lib/python3.12/site-packages (from pytest-xdist->deepeval==0.20.57->deepeval-haystack) (2.1.1)\n",
            "Requirement already satisfied: datasets in /Users/janalbrecht/projects/master-thesis-alj95/.venv-haystack/lib/python3.12/site-packages (from ragas->deepeval==0.20.57->deepeval-haystack) (3.1.0)\n",
            "Requirement already satisfied: langchain-community in /Users/janalbrecht/projects/master-thesis-alj95/.venv-haystack/lib/python3.12/site-packages (from ragas->deepeval==0.20.57->deepeval-haystack) (0.3.5)\n",
            "Requirement already satisfied: nest-asyncio in /Users/janalbrecht/projects/master-thesis-alj95/.venv-haystack/lib/python3.12/site-packages (from ragas->deepeval==0.20.57->deepeval-haystack) (1.6.0)\n",
            "Requirement already satisfied: appdirs in /Users/janalbrecht/projects/master-thesis-alj95/.venv-haystack/lib/python3.12/site-packages (from ragas->deepeval==0.20.57->deepeval-haystack) (1.4.4)\n",
            "Requirement already satisfied: pysbd>=0.3.4 in /Users/janalbrecht/projects/master-thesis-alj95/.venv-haystack/lib/python3.12/site-packages (from ragas->deepeval==0.20.57->deepeval-haystack) (0.3.4)\n",
            "Requirement already satisfied: markdown-it-py>=2.2.0 in /Users/janalbrecht/projects/master-thesis-alj95/.venv-haystack/lib/python3.12/site-packages (from rich->deepeval==0.20.57->deepeval-haystack) (3.0.0)\n",
            "Requirement already satisfied: pygments<3.0.0,>=2.13.0 in /Users/janalbrecht/projects/master-thesis-alj95/.venv-haystack/lib/python3.12/site-packages (from rich->deepeval==0.20.57->deepeval-haystack) (2.18.0)\n",
            "Requirement already satisfied: torch>=1.11.0 in /Users/janalbrecht/projects/master-thesis-alj95/.venv-haystack/lib/python3.12/site-packages (from sentence-transformers->deepeval==0.20.57->deepeval-haystack) (2.2.2)\n",
            "Requirement already satisfied: scikit-learn in /Users/janalbrecht/projects/master-thesis-alj95/.venv-haystack/lib/python3.12/site-packages (from sentence-transformers->deepeval==0.20.57->deepeval-haystack) (1.5.2)\n",
            "Requirement already satisfied: scipy in /Users/janalbrecht/projects/master-thesis-alj95/.venv-haystack/lib/python3.12/site-packages (from sentence-transformers->deepeval==0.20.57->deepeval-haystack) (1.14.1)\n",
            "Requirement already satisfied: huggingface-hub>=0.20.0 in /Users/janalbrecht/projects/master-thesis-alj95/.venv-haystack/lib/python3.12/site-packages (from sentence-transformers->deepeval==0.20.57->deepeval-haystack) (0.26.2)\n",
            "Requirement already satisfied: Pillow in /Users/janalbrecht/projects/master-thesis-alj95/.venv-haystack/lib/python3.12/site-packages (from sentence-transformers->deepeval==0.20.57->deepeval-haystack) (11.0.0)\n",
            "Requirement already satisfied: filelock in /Users/janalbrecht/projects/master-thesis-alj95/.venv-haystack/lib/python3.12/site-packages (from transformers->deepeval==0.20.57->deepeval-haystack) (3.16.1)\n",
            "Requirement already satisfied: safetensors>=0.4.1 in /Users/janalbrecht/projects/master-thesis-alj95/.venv-haystack/lib/python3.12/site-packages (from transformers->deepeval==0.20.57->deepeval-haystack) (0.4.5)\n",
            "Requirement already satisfied: tokenizers<0.21,>=0.20 in /Users/janalbrecht/projects/master-thesis-alj95/.venv-haystack/lib/python3.12/site-packages (from transformers->deepeval==0.20.57->deepeval-haystack) (0.20.1)\n",
            "Requirement already satisfied: shellingham>=1.3.0 in /Users/janalbrecht/projects/master-thesis-alj95/.venv-haystack/lib/python3.12/site-packages (from typer->deepeval==0.20.57->deepeval-haystack) (1.5.4)\n",
            "Requirement already satisfied: aiohappyeyeballs>=2.3.0 in /Users/janalbrecht/projects/master-thesis-alj95/.venv-haystack/lib/python3.12/site-packages (from aiohttp<4.0.0,>=3.8.3->langchain->deepeval==0.20.57->deepeval-haystack) (2.4.3)\n",
            "Requirement already satisfied: aiosignal>=1.1.2 in /Users/janalbrecht/projects/master-thesis-alj95/.venv-haystack/lib/python3.12/site-packages (from aiohttp<4.0.0,>=3.8.3->langchain->deepeval==0.20.57->deepeval-haystack) (1.3.1)\n",
            "Requirement already satisfied: attrs>=17.3.0 in /Users/janalbrecht/projects/master-thesis-alj95/.venv-haystack/lib/python3.12/site-packages (from aiohttp<4.0.0,>=3.8.3->langchain->deepeval==0.20.57->deepeval-haystack) (24.2.0)\n",
            "Requirement already satisfied: frozenlist>=1.1.1 in /Users/janalbrecht/projects/master-thesis-alj95/.venv-haystack/lib/python3.12/site-packages (from aiohttp<4.0.0,>=3.8.3->langchain->deepeval==0.20.57->deepeval-haystack) (1.5.0)\n",
            "Requirement already satisfied: multidict<7.0,>=4.5 in /Users/janalbrecht/projects/master-thesis-alj95/.venv-haystack/lib/python3.12/site-packages (from aiohttp<4.0.0,>=3.8.3->langchain->deepeval==0.20.57->deepeval-haystack) (6.1.0)\n",
            "Requirement already satisfied: yarl<2.0,>=1.12.0 in /Users/janalbrecht/projects/master-thesis-alj95/.venv-haystack/lib/python3.12/site-packages (from aiohttp<4.0.0,>=3.8.3->langchain->deepeval==0.20.57->deepeval-haystack) (1.17.1)\n",
            "Requirement already satisfied: httpcore==1.* in /Users/janalbrecht/projects/master-thesis-alj95/.venv-haystack/lib/python3.12/site-packages (from httpx<1,>=0.23.0->openai>=1.1.0->haystack-ai->deepeval-haystack) (1.0.6)\n",
            "Requirement already satisfied: h11<0.15,>=0.13 in /Users/janalbrecht/projects/master-thesis-alj95/.venv-haystack/lib/python3.12/site-packages (from httpcore==1.*->httpx<1,>=0.23.0->openai>=1.1.0->haystack-ai->deepeval-haystack) (0.14.0)\n",
            "Requirement already satisfied: fsspec>=2023.5.0 in /Users/janalbrecht/projects/master-thesis-alj95/.venv-haystack/lib/python3.12/site-packages (from huggingface-hub>=0.20.0->sentence-transformers->deepeval==0.20.57->deepeval-haystack) (2024.9.0)\n",
            "Requirement already satisfied: jsonpointer>=1.9 in /Users/janalbrecht/projects/master-thesis-alj95/.venv-haystack/lib/python3.12/site-packages (from jsonpatch<2.0,>=1.33->langchain-core->deepeval==0.20.57->deepeval-haystack) (3.0.0)\n",
            "Requirement already satisfied: orjson<4.0.0,>=3.9.14 in /Users/janalbrecht/projects/master-thesis-alj95/.venv-haystack/lib/python3.12/site-packages (from langsmith<0.2.0,>=0.1.17->langchain->deepeval==0.20.57->deepeval-haystack) (3.10.11)\n",
            "Requirement already satisfied: requests-toolbelt<2.0.0,>=1.0.0 in /Users/janalbrecht/projects/master-thesis-alj95/.venv-haystack/lib/python3.12/site-packages (from langsmith<0.2.0,>=0.1.17->langchain->deepeval==0.20.57->deepeval-haystack) (1.0.0)\n",
            "Requirement already satisfied: mdurl~=0.1 in /Users/janalbrecht/projects/master-thesis-alj95/.venv-haystack/lib/python3.12/site-packages (from markdown-it-py>=2.2.0->rich->deepeval==0.20.57->deepeval-haystack) (0.1.2)\n",
            "Requirement already satisfied: greenlet!=0.4.17 in /Users/janalbrecht/projects/master-thesis-alj95/.venv-haystack/lib/python3.12/site-packages (from SQLAlchemy<3,>=1.4->langchain->deepeval==0.20.57->deepeval-haystack) (3.1.1)\n",
            "Requirement already satisfied: sympy in /Users/janalbrecht/projects/master-thesis-alj95/.venv-haystack/lib/python3.12/site-packages (from torch>=1.11.0->sentence-transformers->deepeval==0.20.57->deepeval-haystack) (1.13.3)\n",
            "Requirement already satisfied: pyarrow>=15.0.0 in /Users/janalbrecht/projects/master-thesis-alj95/.venv-haystack/lib/python3.12/site-packages (from datasets->ragas->deepeval==0.20.57->deepeval-haystack) (18.0.0)\n",
            "Requirement already satisfied: dill<0.3.9,>=0.3.0 in /Users/janalbrecht/projects/master-thesis-alj95/.venv-haystack/lib/python3.12/site-packages (from datasets->ragas->deepeval==0.20.57->deepeval-haystack) (0.3.8)\n",
            "Requirement already satisfied: xxhash in /Users/janalbrecht/projects/master-thesis-alj95/.venv-haystack/lib/python3.12/site-packages (from datasets->ragas->deepeval==0.20.57->deepeval-haystack) (3.5.0)\n",
            "Requirement already satisfied: multiprocess<0.70.17 in /Users/janalbrecht/projects/master-thesis-alj95/.venv-haystack/lib/python3.12/site-packages (from datasets->ragas->deepeval==0.20.57->deepeval-haystack) (0.70.16)\n",
            "Requirement already satisfied: dataclasses-json<0.7,>=0.5.7 in /Users/janalbrecht/projects/master-thesis-alj95/.venv-haystack/lib/python3.12/site-packages (from langchain-community->ragas->deepeval==0.20.57->deepeval-haystack) (0.6.7)\n",
            "Requirement already satisfied: httpx-sse<0.5.0,>=0.4.0 in /Users/janalbrecht/projects/master-thesis-alj95/.venv-haystack/lib/python3.12/site-packages (from langchain-community->ragas->deepeval==0.20.57->deepeval-haystack) (0.4.0)\n",
            "Requirement already satisfied: pydantic-settings<3.0.0,>=2.4.0 in /Users/janalbrecht/projects/master-thesis-alj95/.venv-haystack/lib/python3.12/site-packages (from langchain-community->ragas->deepeval==0.20.57->deepeval-haystack) (2.6.1)\n",
            "Requirement already satisfied: threadpoolctl>=3.1.0 in /Users/janalbrecht/projects/master-thesis-alj95/.venv-haystack/lib/python3.12/site-packages (from scikit-learn->sentence-transformers->deepeval==0.20.57->deepeval-haystack) (3.5.0)\n",
            "Requirement already satisfied: marshmallow<4.0.0,>=3.18.0 in /Users/janalbrecht/projects/master-thesis-alj95/.venv-haystack/lib/python3.12/site-packages (from dataclasses-json<0.7,>=0.5.7->langchain-community->ragas->deepeval==0.20.57->deepeval-haystack) (3.23.1)\n",
            "Requirement already satisfied: typing-inspect<1,>=0.4.0 in /Users/janalbrecht/projects/master-thesis-alj95/.venv-haystack/lib/python3.12/site-packages (from dataclasses-json<0.7,>=0.5.7->langchain-community->ragas->deepeval==0.20.57->deepeval-haystack) (0.9.0)\n",
            "Requirement already satisfied: python-dotenv>=0.21.0 in /Users/janalbrecht/projects/master-thesis-alj95/.venv-haystack/lib/python3.12/site-packages (from pydantic-settings<3.0.0,>=2.4.0->langchain-community->ragas->deepeval==0.20.57->deepeval-haystack) (1.0.1)\n",
            "Requirement already satisfied: propcache>=0.2.0 in /Users/janalbrecht/projects/master-thesis-alj95/.venv-haystack/lib/python3.12/site-packages (from yarl<2.0,>=1.12.0->aiohttp<4.0.0,>=3.8.3->langchain->deepeval==0.20.57->deepeval-haystack) (0.2.0)\n",
            "Requirement already satisfied: mpmath<1.4,>=1.1.0 in /Users/janalbrecht/projects/master-thesis-alj95/.venv-haystack/lib/python3.12/site-packages (from sympy->torch>=1.11.0->sentence-transformers->deepeval==0.20.57->deepeval-haystack) (1.3.0)\n",
            "Requirement already satisfied: mypy-extensions>=0.3.0 in /Users/janalbrecht/projects/master-thesis-alj95/.venv-haystack/lib/python3.12/site-packages (from typing-inspect<1,>=0.4.0->dataclasses-json<0.7,>=0.5.7->langchain-community->ragas->deepeval==0.20.57->deepeval-haystack) (1.0.0)\n",
            "Using cached deepeval-0.20.57-py3-none-any.whl (97 kB)\n",
            "Installing collected packages: deepeval\n",
            "  Attempting uninstall: deepeval\n",
            "    Found existing installation: deepeval 1.4.8\n",
            "    Uninstalling deepeval-1.4.8:\n",
            "      Successfully uninstalled deepeval-1.4.8\n",
            "Successfully installed deepeval-0.20.57\n",
            "\n",
            "\u001b[1m[\u001b[0m\u001b[34;49mnotice\u001b[0m\u001b[1;39;49m]\u001b[0m\u001b[39;49m A new release of pip is available: \u001b[0m\u001b[31;49m24.2\u001b[0m\u001b[39;49m -> \u001b[0m\u001b[32;49m24.3.1\u001b[0m\n",
            "\u001b[1m[\u001b[0m\u001b[34;49mnotice\u001b[0m\u001b[1;39;49m]\u001b[0m\u001b[39;49m To update, run: \u001b[0m\u001b[32;49mpip install --upgrade pip\u001b[0m\n",
            "Requirement already satisfied: deepeval in /Users/janalbrecht/projects/master-thesis-alj95/.venv-haystack/lib/python3.12/site-packages (0.20.57)\n",
            "Collecting deepeval\n",
            "  Using cached deepeval-1.4.8-py3-none-any.whl.metadata (977 bytes)\n",
            "Requirement already satisfied: requests in /Users/janalbrecht/projects/master-thesis-alj95/.venv-haystack/lib/python3.12/site-packages (from deepeval) (2.32.3)\n",
            "Requirement already satisfied: tqdm in /Users/janalbrecht/projects/master-thesis-alj95/.venv-haystack/lib/python3.12/site-packages (from deepeval) (4.66.5)\n",
            "Requirement already satisfied: pytest in /Users/janalbrecht/projects/master-thesis-alj95/.venv-haystack/lib/python3.12/site-packages (from deepeval) (8.3.3)\n",
            "Requirement already satisfied: tabulate in /Users/janalbrecht/projects/master-thesis-alj95/.venv-haystack/lib/python3.12/site-packages (from deepeval) (0.9.0)\n",
            "Requirement already satisfied: typer in /Users/janalbrecht/projects/master-thesis-alj95/.venv-haystack/lib/python3.12/site-packages (from deepeval) (0.12.5)\n",
            "Requirement already satisfied: rich in /Users/janalbrecht/projects/master-thesis-alj95/.venv-haystack/lib/python3.12/site-packages (from deepeval) (13.9.4)\n",
            "Requirement already satisfied: protobuf in /Users/janalbrecht/projects/master-thesis-alj95/.venv-haystack/lib/python3.12/site-packages (from deepeval) (4.25.1)\n",
            "Requirement already satisfied: pydantic in /Users/janalbrecht/projects/master-thesis-alj95/.venv-haystack/lib/python3.12/site-packages (from deepeval) (2.9.2)\n",
            "Requirement already satisfied: sentry-sdk in /Users/janalbrecht/projects/master-thesis-alj95/.venv-haystack/lib/python3.12/site-packages (from deepeval) (2.17.0)\n",
            "Requirement already satisfied: pytest-repeat in /Users/janalbrecht/projects/master-thesis-alj95/.venv-haystack/lib/python3.12/site-packages (from deepeval) (0.9.3)\n",
            "Requirement already satisfied: pytest-xdist in /Users/janalbrecht/projects/master-thesis-alj95/.venv-haystack/lib/python3.12/site-packages (from deepeval) (3.6.1)\n",
            "Requirement already satisfied: portalocker in /Users/janalbrecht/projects/master-thesis-alj95/.venv-haystack/lib/python3.12/site-packages (from deepeval) (2.10.1)\n",
            "Requirement already satisfied: langchain in /Users/janalbrecht/projects/master-thesis-alj95/.venv-haystack/lib/python3.12/site-packages (from deepeval) (0.3.7)\n",
            "Requirement already satisfied: langchain-core in /Users/janalbrecht/projects/master-thesis-alj95/.venv-haystack/lib/python3.12/site-packages (from deepeval) (0.3.15)\n",
            "Requirement already satisfied: langchain-openai in /Users/janalbrecht/projects/master-thesis-alj95/.venv-haystack/lib/python3.12/site-packages (from deepeval) (0.2.5)\n",
            "Requirement already satisfied: ragas in /Users/janalbrecht/projects/master-thesis-alj95/.venv-haystack/lib/python3.12/site-packages (from deepeval) (0.2.3)\n",
            "Requirement already satisfied: docx2txt~=0.8 in /Users/janalbrecht/projects/master-thesis-alj95/.venv-haystack/lib/python3.12/site-packages (from deepeval) (0.8)\n",
            "Requirement already satisfied: importlib-metadata>=6.0.2 in /Users/janalbrecht/projects/master-thesis-alj95/.venv-haystack/lib/python3.12/site-packages (from deepeval) (7.0.0)\n",
            "Requirement already satisfied: tenacity~=8.4.1 in /Users/janalbrecht/projects/master-thesis-alj95/.venv-haystack/lib/python3.12/site-packages (from deepeval) (8.4.2)\n",
            "Requirement already satisfied: opentelemetry-api~=1.24.0 in /Users/janalbrecht/projects/master-thesis-alj95/.venv-haystack/lib/python3.12/site-packages (from deepeval) (1.24.0)\n",
            "Requirement already satisfied: opentelemetry-sdk~=1.24.0 in /Users/janalbrecht/projects/master-thesis-alj95/.venv-haystack/lib/python3.12/site-packages (from deepeval) (1.24.0)\n",
            "Requirement already satisfied: opentelemetry-exporter-otlp-proto-grpc~=1.24.0 in /Users/janalbrecht/projects/master-thesis-alj95/.venv-haystack/lib/python3.12/site-packages (from deepeval) (1.24.0)\n",
            "Requirement already satisfied: grpcio~=1.63.0 in /Users/janalbrecht/projects/master-thesis-alj95/.venv-haystack/lib/python3.12/site-packages (from deepeval) (1.63.2)\n",
            "Requirement already satisfied: zipp>=0.5 in /Users/janalbrecht/projects/master-thesis-alj95/.venv-haystack/lib/python3.12/site-packages (from importlib-metadata>=6.0.2->deepeval) (3.20.2)\n",
            "Requirement already satisfied: deprecated>=1.2.6 in /Users/janalbrecht/projects/master-thesis-alj95/.venv-haystack/lib/python3.12/site-packages (from opentelemetry-api~=1.24.0->deepeval) (1.2.14)\n",
            "Requirement already satisfied: googleapis-common-protos~=1.52 in /Users/janalbrecht/projects/master-thesis-alj95/.venv-haystack/lib/python3.12/site-packages (from opentelemetry-exporter-otlp-proto-grpc~=1.24.0->deepeval) (1.65.0)\n",
            "Requirement already satisfied: opentelemetry-exporter-otlp-proto-common==1.24.0 in /Users/janalbrecht/projects/master-thesis-alj95/.venv-haystack/lib/python3.12/site-packages (from opentelemetry-exporter-otlp-proto-grpc~=1.24.0->deepeval) (1.24.0)\n",
            "Requirement already satisfied: opentelemetry-proto==1.24.0 in /Users/janalbrecht/projects/master-thesis-alj95/.venv-haystack/lib/python3.12/site-packages (from opentelemetry-exporter-otlp-proto-grpc~=1.24.0->deepeval) (1.24.0)\n",
            "Requirement already satisfied: opentelemetry-semantic-conventions==0.45b0 in /Users/janalbrecht/projects/master-thesis-alj95/.venv-haystack/lib/python3.12/site-packages (from opentelemetry-sdk~=1.24.0->deepeval) (0.45b0)\n",
            "Requirement already satisfied: typing-extensions>=3.7.4 in /Users/janalbrecht/projects/master-thesis-alj95/.venv-haystack/lib/python3.12/site-packages (from opentelemetry-sdk~=1.24.0->deepeval) (4.12.2)\n",
            "Requirement already satisfied: PyYAML>=5.3 in /Users/janalbrecht/projects/master-thesis-alj95/.venv-haystack/lib/python3.12/site-packages (from langchain->deepeval) (6.0.2)\n",
            "Requirement already satisfied: SQLAlchemy<3,>=1.4 in /Users/janalbrecht/projects/master-thesis-alj95/.venv-haystack/lib/python3.12/site-packages (from langchain->deepeval) (2.0.35)\n",
            "Requirement already satisfied: aiohttp<4.0.0,>=3.8.3 in /Users/janalbrecht/projects/master-thesis-alj95/.venv-haystack/lib/python3.12/site-packages (from langchain->deepeval) (3.10.10)\n",
            "Requirement already satisfied: langchain-text-splitters<0.4.0,>=0.3.0 in /Users/janalbrecht/projects/master-thesis-alj95/.venv-haystack/lib/python3.12/site-packages (from langchain->deepeval) (0.3.2)\n",
            "Requirement already satisfied: langsmith<0.2.0,>=0.1.17 in /Users/janalbrecht/projects/master-thesis-alj95/.venv-haystack/lib/python3.12/site-packages (from langchain->deepeval) (0.1.139)\n",
            "Requirement already satisfied: numpy<2.0.0,>=1.26.0 in /Users/janalbrecht/projects/master-thesis-alj95/.venv-haystack/lib/python3.12/site-packages (from langchain->deepeval) (1.26.4)\n",
            "Requirement already satisfied: jsonpatch<2.0,>=1.33 in /Users/janalbrecht/projects/master-thesis-alj95/.venv-haystack/lib/python3.12/site-packages (from langchain-core->deepeval) (1.33)\n",
            "Requirement already satisfied: packaging<25,>=23.2 in /Users/janalbrecht/projects/master-thesis-alj95/.venv-haystack/lib/python3.12/site-packages (from langchain-core->deepeval) (24.1)\n",
            "Requirement already satisfied: annotated-types>=0.6.0 in /Users/janalbrecht/projects/master-thesis-alj95/.venv-haystack/lib/python3.12/site-packages (from pydantic->deepeval) (0.7.0)\n",
            "Requirement already satisfied: pydantic-core==2.23.4 in /Users/janalbrecht/projects/master-thesis-alj95/.venv-haystack/lib/python3.12/site-packages (from pydantic->deepeval) (2.23.4)\n",
            "Requirement already satisfied: charset-normalizer<4,>=2 in /Users/janalbrecht/projects/master-thesis-alj95/.venv-haystack/lib/python3.12/site-packages (from requests->deepeval) (3.4.0)\n",
            "Requirement already satisfied: idna<4,>=2.5 in /Users/janalbrecht/projects/master-thesis-alj95/.venv-haystack/lib/python3.12/site-packages (from requests->deepeval) (3.10)\n",
            "Requirement already satisfied: urllib3<3,>=1.21.1 in /Users/janalbrecht/projects/master-thesis-alj95/.venv-haystack/lib/python3.12/site-packages (from requests->deepeval) (2.2.3)\n",
            "Requirement already satisfied: certifi>=2017.4.17 in /Users/janalbrecht/projects/master-thesis-alj95/.venv-haystack/lib/python3.12/site-packages (from requests->deepeval) (2024.8.30)\n",
            "Requirement already satisfied: openai<2.0.0,>=1.52.0 in /Users/janalbrecht/projects/master-thesis-alj95/.venv-haystack/lib/python3.12/site-packages (from langchain-openai->deepeval) (1.52.0)\n",
            "Requirement already satisfied: tiktoken<1,>=0.7 in /Users/janalbrecht/projects/master-thesis-alj95/.venv-haystack/lib/python3.12/site-packages (from langchain-openai->deepeval) (0.8.0)\n",
            "Requirement already satisfied: iniconfig in /Users/janalbrecht/projects/master-thesis-alj95/.venv-haystack/lib/python3.12/site-packages (from pytest->deepeval) (2.0.0)\n",
            "Requirement already satisfied: pluggy<2,>=1.5 in /Users/janalbrecht/projects/master-thesis-alj95/.venv-haystack/lib/python3.12/site-packages (from pytest->deepeval) (1.5.0)\n",
            "Requirement already satisfied: execnet>=2.1 in /Users/janalbrecht/projects/master-thesis-alj95/.venv-haystack/lib/python3.12/site-packages (from pytest-xdist->deepeval) (2.1.1)\n",
            "Requirement already satisfied: datasets in /Users/janalbrecht/projects/master-thesis-alj95/.venv-haystack/lib/python3.12/site-packages (from ragas->deepeval) (3.1.0)\n",
            "Requirement already satisfied: langchain-community in /Users/janalbrecht/projects/master-thesis-alj95/.venv-haystack/lib/python3.12/site-packages (from ragas->deepeval) (0.3.5)\n",
            "Requirement already satisfied: nest-asyncio in /Users/janalbrecht/projects/master-thesis-alj95/.venv-haystack/lib/python3.12/site-packages (from ragas->deepeval) (1.6.0)\n",
            "Requirement already satisfied: appdirs in /Users/janalbrecht/projects/master-thesis-alj95/.venv-haystack/lib/python3.12/site-packages (from ragas->deepeval) (1.4.4)\n",
            "Requirement already satisfied: pysbd>=0.3.4 in /Users/janalbrecht/projects/master-thesis-alj95/.venv-haystack/lib/python3.12/site-packages (from ragas->deepeval) (0.3.4)\n",
            "Requirement already satisfied: markdown-it-py>=2.2.0 in /Users/janalbrecht/projects/master-thesis-alj95/.venv-haystack/lib/python3.12/site-packages (from rich->deepeval) (3.0.0)\n",
            "Requirement already satisfied: pygments<3.0.0,>=2.13.0 in /Users/janalbrecht/projects/master-thesis-alj95/.venv-haystack/lib/python3.12/site-packages (from rich->deepeval) (2.18.0)\n",
            "Requirement already satisfied: click>=8.0.0 in /Users/janalbrecht/projects/master-thesis-alj95/.venv-haystack/lib/python3.12/site-packages (from typer->deepeval) (8.1.7)\n",
            "Requirement already satisfied: shellingham>=1.3.0 in /Users/janalbrecht/projects/master-thesis-alj95/.venv-haystack/lib/python3.12/site-packages (from typer->deepeval) (1.5.4)\n",
            "Requirement already satisfied: aiohappyeyeballs>=2.3.0 in /Users/janalbrecht/projects/master-thesis-alj95/.venv-haystack/lib/python3.12/site-packages (from aiohttp<4.0.0,>=3.8.3->langchain->deepeval) (2.4.3)\n",
            "Requirement already satisfied: aiosignal>=1.1.2 in /Users/janalbrecht/projects/master-thesis-alj95/.venv-haystack/lib/python3.12/site-packages (from aiohttp<4.0.0,>=3.8.3->langchain->deepeval) (1.3.1)\n",
            "Requirement already satisfied: attrs>=17.3.0 in /Users/janalbrecht/projects/master-thesis-alj95/.venv-haystack/lib/python3.12/site-packages (from aiohttp<4.0.0,>=3.8.3->langchain->deepeval) (24.2.0)\n",
            "Requirement already satisfied: frozenlist>=1.1.1 in /Users/janalbrecht/projects/master-thesis-alj95/.venv-haystack/lib/python3.12/site-packages (from aiohttp<4.0.0,>=3.8.3->langchain->deepeval) (1.5.0)\n",
            "Requirement already satisfied: multidict<7.0,>=4.5 in /Users/janalbrecht/projects/master-thesis-alj95/.venv-haystack/lib/python3.12/site-packages (from aiohttp<4.0.0,>=3.8.3->langchain->deepeval) (6.1.0)\n",
            "Requirement already satisfied: yarl<2.0,>=1.12.0 in /Users/janalbrecht/projects/master-thesis-alj95/.venv-haystack/lib/python3.12/site-packages (from aiohttp<4.0.0,>=3.8.3->langchain->deepeval) (1.17.1)\n",
            "Requirement already satisfied: wrapt<2,>=1.10 in /Users/janalbrecht/projects/master-thesis-alj95/.venv-haystack/lib/python3.12/site-packages (from deprecated>=1.2.6->opentelemetry-api~=1.24.0->deepeval) (1.16.0)\n",
            "Requirement already satisfied: jsonpointer>=1.9 in /Users/janalbrecht/projects/master-thesis-alj95/.venv-haystack/lib/python3.12/site-packages (from jsonpatch<2.0,>=1.33->langchain-core->deepeval) (3.0.0)\n",
            "Requirement already satisfied: httpx<1,>=0.23.0 in /Users/janalbrecht/projects/master-thesis-alj95/.venv-haystack/lib/python3.12/site-packages (from langsmith<0.2.0,>=0.1.17->langchain->deepeval) (0.27.2)\n",
            "Requirement already satisfied: orjson<4.0.0,>=3.9.14 in /Users/janalbrecht/projects/master-thesis-alj95/.venv-haystack/lib/python3.12/site-packages (from langsmith<0.2.0,>=0.1.17->langchain->deepeval) (3.10.11)\n",
            "Requirement already satisfied: requests-toolbelt<2.0.0,>=1.0.0 in /Users/janalbrecht/projects/master-thesis-alj95/.venv-haystack/lib/python3.12/site-packages (from langsmith<0.2.0,>=0.1.17->langchain->deepeval) (1.0.0)\n",
            "Requirement already satisfied: mdurl~=0.1 in /Users/janalbrecht/projects/master-thesis-alj95/.venv-haystack/lib/python3.12/site-packages (from markdown-it-py>=2.2.0->rich->deepeval) (0.1.2)\n",
            "Requirement already satisfied: anyio<5,>=3.5.0 in /Users/janalbrecht/projects/master-thesis-alj95/.venv-haystack/lib/python3.12/site-packages (from openai<2.0.0,>=1.52.0->langchain-openai->deepeval) (4.6.2.post1)\n",
            "Requirement already satisfied: distro<2,>=1.7.0 in /Users/janalbrecht/projects/master-thesis-alj95/.venv-haystack/lib/python3.12/site-packages (from openai<2.0.0,>=1.52.0->langchain-openai->deepeval) (1.9.0)\n",
            "Requirement already satisfied: jiter<1,>=0.4.0 in /Users/janalbrecht/projects/master-thesis-alj95/.venv-haystack/lib/python3.12/site-packages (from openai<2.0.0,>=1.52.0->langchain-openai->deepeval) (0.6.1)\n",
            "Requirement already satisfied: sniffio in /Users/janalbrecht/projects/master-thesis-alj95/.venv-haystack/lib/python3.12/site-packages (from openai<2.0.0,>=1.52.0->langchain-openai->deepeval) (1.3.1)\n",
            "Requirement already satisfied: greenlet!=0.4.17 in /Users/janalbrecht/projects/master-thesis-alj95/.venv-haystack/lib/python3.12/site-packages (from SQLAlchemy<3,>=1.4->langchain->deepeval) (3.1.1)\n",
            "Requirement already satisfied: regex>=2022.1.18 in /Users/janalbrecht/projects/master-thesis-alj95/.venv-haystack/lib/python3.12/site-packages (from tiktoken<1,>=0.7->langchain-openai->deepeval) (2024.9.11)\n",
            "Requirement already satisfied: filelock in /Users/janalbrecht/projects/master-thesis-alj95/.venv-haystack/lib/python3.12/site-packages (from datasets->ragas->deepeval) (3.16.1)\n",
            "Requirement already satisfied: pyarrow>=15.0.0 in /Users/janalbrecht/projects/master-thesis-alj95/.venv-haystack/lib/python3.12/site-packages (from datasets->ragas->deepeval) (18.0.0)\n",
            "Requirement already satisfied: dill<0.3.9,>=0.3.0 in /Users/janalbrecht/projects/master-thesis-alj95/.venv-haystack/lib/python3.12/site-packages (from datasets->ragas->deepeval) (0.3.8)\n",
            "Requirement already satisfied: pandas in /Users/janalbrecht/projects/master-thesis-alj95/.venv-haystack/lib/python3.12/site-packages (from datasets->ragas->deepeval) (2.2.3)\n",
            "Requirement already satisfied: xxhash in /Users/janalbrecht/projects/master-thesis-alj95/.venv-haystack/lib/python3.12/site-packages (from datasets->ragas->deepeval) (3.5.0)\n",
            "Requirement already satisfied: multiprocess<0.70.17 in /Users/janalbrecht/projects/master-thesis-alj95/.venv-haystack/lib/python3.12/site-packages (from datasets->ragas->deepeval) (0.70.16)\n",
            "Requirement already satisfied: fsspec<=2024.9.0,>=2023.1.0 in /Users/janalbrecht/projects/master-thesis-alj95/.venv-haystack/lib/python3.12/site-packages (from fsspec[http]<=2024.9.0,>=2023.1.0->datasets->ragas->deepeval) (2024.9.0)\n",
            "Requirement already satisfied: huggingface-hub>=0.23.0 in /Users/janalbrecht/projects/master-thesis-alj95/.venv-haystack/lib/python3.12/site-packages (from datasets->ragas->deepeval) (0.26.2)\n",
            "Requirement already satisfied: dataclasses-json<0.7,>=0.5.7 in /Users/janalbrecht/projects/master-thesis-alj95/.venv-haystack/lib/python3.12/site-packages (from langchain-community->ragas->deepeval) (0.6.7)\n",
            "Requirement already satisfied: httpx-sse<0.5.0,>=0.4.0 in /Users/janalbrecht/projects/master-thesis-alj95/.venv-haystack/lib/python3.12/site-packages (from langchain-community->ragas->deepeval) (0.4.0)\n",
            "Requirement already satisfied: pydantic-settings<3.0.0,>=2.4.0 in /Users/janalbrecht/projects/master-thesis-alj95/.venv-haystack/lib/python3.12/site-packages (from langchain-community->ragas->deepeval) (2.6.1)\n",
            "Requirement already satisfied: marshmallow<4.0.0,>=3.18.0 in /Users/janalbrecht/projects/master-thesis-alj95/.venv-haystack/lib/python3.12/site-packages (from dataclasses-json<0.7,>=0.5.7->langchain-community->ragas->deepeval) (3.23.1)\n",
            "Requirement already satisfied: typing-inspect<1,>=0.4.0 in /Users/janalbrecht/projects/master-thesis-alj95/.venv-haystack/lib/python3.12/site-packages (from dataclasses-json<0.7,>=0.5.7->langchain-community->ragas->deepeval) (0.9.0)\n",
            "Requirement already satisfied: httpcore==1.* in /Users/janalbrecht/projects/master-thesis-alj95/.venv-haystack/lib/python3.12/site-packages (from httpx<1,>=0.23.0->langsmith<0.2.0,>=0.1.17->langchain->deepeval) (1.0.6)\n",
            "Requirement already satisfied: h11<0.15,>=0.13 in /Users/janalbrecht/projects/master-thesis-alj95/.venv-haystack/lib/python3.12/site-packages (from httpcore==1.*->httpx<1,>=0.23.0->langsmith<0.2.0,>=0.1.17->langchain->deepeval) (0.14.0)\n",
            "Requirement already satisfied: python-dotenv>=0.21.0 in /Users/janalbrecht/projects/master-thesis-alj95/.venv-haystack/lib/python3.12/site-packages (from pydantic-settings<3.0.0,>=2.4.0->langchain-community->ragas->deepeval) (1.0.1)\n",
            "Requirement already satisfied: propcache>=0.2.0 in /Users/janalbrecht/projects/master-thesis-alj95/.venv-haystack/lib/python3.12/site-packages (from yarl<2.0,>=1.12.0->aiohttp<4.0.0,>=3.8.3->langchain->deepeval) (0.2.0)\n",
            "Requirement already satisfied: python-dateutil>=2.8.2 in /Users/janalbrecht/projects/master-thesis-alj95/.venv-haystack/lib/python3.12/site-packages (from pandas->datasets->ragas->deepeval) (2.9.0.post0)\n",
            "Requirement already satisfied: pytz>=2020.1 in /Users/janalbrecht/projects/master-thesis-alj95/.venv-haystack/lib/python3.12/site-packages (from pandas->datasets->ragas->deepeval) (2024.2)\n",
            "Requirement already satisfied: tzdata>=2022.7 in /Users/janalbrecht/projects/master-thesis-alj95/.venv-haystack/lib/python3.12/site-packages (from pandas->datasets->ragas->deepeval) (2024.2)\n",
            "Requirement already satisfied: six>=1.5 in /Users/janalbrecht/projects/master-thesis-alj95/.venv-haystack/lib/python3.12/site-packages (from python-dateutil>=2.8.2->pandas->datasets->ragas->deepeval) (1.16.0)\n",
            "Requirement already satisfied: mypy-extensions>=0.3.0 in /Users/janalbrecht/projects/master-thesis-alj95/.venv-haystack/lib/python3.12/site-packages (from typing-inspect<1,>=0.4.0->dataclasses-json<0.7,>=0.5.7->langchain-community->ragas->deepeval) (1.0.0)\n",
            "Using cached deepeval-1.4.8-py3-none-any.whl (460 kB)\n",
            "Installing collected packages: deepeval\n",
            "  Attempting uninstall: deepeval\n",
            "    Found existing installation: deepeval 0.20.57\n",
            "    Uninstalling deepeval-0.20.57:\n",
            "      Successfully uninstalled deepeval-0.20.57\n",
            "\u001b[31mERROR: pip's dependency resolver does not currently take into account all the packages that are installed. This behaviour is the source of the following dependency conflicts.\n",
            "deepeval-haystack 0.1.1 requires deepeval==0.20.57, but you have deepeval 1.4.8 which is incompatible.\u001b[0m\u001b[31m\n",
            "\u001b[0mSuccessfully installed deepeval-1.4.8\n",
            "\n",
            "\u001b[1m[\u001b[0m\u001b[34;49mnotice\u001b[0m\u001b[1;39;49m]\u001b[0m\u001b[39;49m A new release of pip is available: \u001b[0m\u001b[31;49m24.2\u001b[0m\u001b[39;49m -> \u001b[0m\u001b[32;49m24.3.1\u001b[0m\n",
            "\u001b[1m[\u001b[0m\u001b[34;49mnotice\u001b[0m\u001b[1;39;49m]\u001b[0m\u001b[39;49m To update, run: \u001b[0m\u001b[32;49mpip install --upgrade pip\u001b[0m\n"
          ]
        }
      ],
      "source": [
        "!pip install pydantic\n",
        "!pip install haystack-ai\n",
        "!pip install datasets\n",
        "!pip install deepeval-haystack\n",
        "!pip install --upgrade deepeval"
      ]
    },
    {
      "cell_type": "markdown",
      "metadata": {
        "id": "EJ8IG4Hc12H3"
      },
      "source": [
        "## Create a RAG pipeline\n",
        "\n",
        "We'll first need to create a RAG pipeline. Refer to this [link](https://haystack.deepset.ai/tutorials/27_first_rag_pipeline) for a detailed tutorial on how to create RAG pipelines.\n",
        "\n",
        "In this notebook, we're using the [SQUAD V2](https://huggingface.co/datasets/rajpurkar/squad_v2) dataset for getting the context, questions and ground truth answers.\n",
        "\n",
        "\n",
        "\n"
      ]
    },
    {
      "cell_type": "markdown",
      "metadata": {
        "id": "Do4z1oOdF-cM"
      },
      "source": [
        "**Initialize the document store**\n",
        "\n"
      ]
    },
    {
      "cell_type": "code",
      "execution_count": 3,
      "metadata": {
        "colab": {
          "base_uri": "https://localhost:8080/",
          "height": 358,
          "referenced_widgets": [
            "12ed03787fcb4759b468e172f464d419",
            "b60573f360d1407b841ef729ff5a7376",
            "51d8f3cd841a4cc7a6f983b35aeacd2c",
            "203eaa05dc87443c872cd8711c056d7c",
            "d5ef6848b091428eb7d951c7fb343b88",
            "bce14323c716485e9d822f9e0de5a5b5",
            "151d51f4a8474d0591afe3fc8c46fa7a",
            "fc908f25c2d74a64a29000a5a41028b4",
            "63a0ef9ce5b843e69f4c727437e857ea",
            "448b3769ebc0495690e103605039ed56",
            "8e2fc5ecd35f40e98bc98f5d5e6f6fee",
            "cc6240c3269b48598b534048c79262a4",
            "41ab70de29344c9d881d4c8708e3bd6e",
            "fe327bdef1544ed2b4aadfe0b4adf964",
            "a00cdd14f153460a9a554cfebdd23a14",
            "aec25f66ee2948a49b0da0590b240676",
            "9f804f3ed3df4dc2963bd50f4b29cbd2",
            "f11cdd616ccf4f38977d6ae88a2fa56e",
            "098f6432d5ba494a8d2dac3f4c56c6c2",
            "2d6112f020134ffc8e106d79d9c33f80",
            "f18505cc53fb48b5a989d2063fb8b7ec",
            "956f3c2301844dccbc94760fa2ccd685",
            "d9c9e6b6d6404d5db855c3a61ffc5558",
            "4c6f5f6d74b64fc0b90ccba9212c67e1",
            "5da6136f1cfb435895c0a05848a2bbed",
            "08bff23da68e4250b4aa2276a8c7ef1f",
            "8cdffbcba4e5467196e9efe46213c1d9",
            "befa096452004b85930116b0868ce0fd",
            "120e473ed08b4100aa60c10eeb78a864",
            "521a91d6e637432b8cd7bf7039548b8b",
            "731f1104225246d9932c3bf4cec1b5ba",
            "6b91d29d10be4542a66895c7fe264e9f",
            "59491bd2016a4e91a6e5f8bc24e4e2ae",
            "1fdcf27ebdb34b55921b95d496dad8ce",
            "96d2be18a95d4fe793197d1ba1a1a03b",
            "e555e3c56d564c63aba5c5685ed70da6",
            "24734ae18e2740bfaf1d036f71d335c2",
            "f83494ad92314b66a22cf459863e5334",
            "8a17b327bccb4d24a9c3f7c0630ffb32",
            "2f834cf0dfea4490a00261ed345db109",
            "c0e03312f4ae4377ae82fc59830a624d",
            "0a8ad04907b14cdaa7374bf867fb50f5",
            "2e5a1ba5134a441bae9f7bac58d72059",
            "cafd637a667e45788cb16425b4c9575d",
            "f09a1d73dd6840cd8249756922ee1a01",
            "2285e6ff25da456a88d23cb0fe264f59",
            "9d9e4b085ba44a1f9666bd0b4af95ec7",
            "570fabc9ea2848de8cd7f436bf32b796",
            "53832dd0d7bc4a26ba22a87d20dbb691",
            "470e21a54a0e4c38ab293dcc9d953821",
            "8da1245e20954b74bf65e9fbbe592a11",
            "4492b1d4a2024ffa880e8370b8136df5",
            "9669b92e6a00497cb3ede19d165f7bc6",
            "815fefd855a54b54a6dc204ca88df9f3",
            "da930d3fba1247ff810908f4879c871a"
          ]
        },
        "id": "Uj9layE_156i",
        "outputId": "1907ed65-544e-4053-f47b-11f78dceb63f"
      },
      "outputs": [
        {
          "name": "stderr",
          "output_type": "stream",
          "text": [
            "/Users/janalbrecht/projects/master-thesis-alj95/.venv-haystack/lib/python3.12/site-packages/tqdm/auto.py:21: TqdmWarning: IProgress not found. Please update jupyter and ipywidgets. See https://ipywidgets.readthedocs.io/en/stable/user_install.html\n",
            "  from .autonotebook import tqdm as notebook_tqdm\n",
            "/Users/janalbrecht/projects/master-thesis-alj95/.venv-haystack/lib/python3.12/site-packages/haystack/core/errors.py:34: DeprecationWarning: PipelineMaxLoops is deprecated and will be remove in version '2.7.0'; use PipelineMaxComponentRuns instead.\n",
            "  warnings.warn(\n"
          ]
        },
        {
          "data": {
            "text/plain": [
              "1204"
            ]
          },
          "execution_count": 3,
          "metadata": {},
          "output_type": "execute_result"
        }
      ],
      "source": [
        "from datasets import load_dataset\n",
        "from haystack import Document\n",
        "from haystack.document_stores.in_memory import InMemoryDocumentStore\n",
        "\n",
        "document_store = InMemoryDocumentStore()\n",
        "\n",
        "dataset = load_dataset(\"rajpurkar/squad_v2\", split=\"validation\")\n",
        "documents = list(set(dataset[\"context\"]))\n",
        "docs = [Document(content=doc) for doc in documents]\n",
        "document_store.write_documents(docs)"
      ]
    },
    {
      "cell_type": "code",
      "execution_count": 4,
      "metadata": {
        "id": "6gKe995C3i7w"
      },
      "outputs": [],
      "source": [
        "import os\n",
        "from getpass import getpass\n",
        "from haystack.components.builders import PromptBuilder\n",
        "from haystack.components.generators import OpenAIGenerator\n",
        "from haystack.components.retrievers.in_memory import InMemoryBM25Retriever\n",
        "\n",
        "retriever = InMemoryBM25Retriever(document_store, top_k=3)\n",
        "\n",
        "template = \"\"\"\n",
        "Given the following information, answer the question.\n",
        "\n",
        "Context:\n",
        "{% for document in documents %}\n",
        "    {{ document.content }}\n",
        "{% endfor %}\n",
        "\n",
        "Question: {{question}}\n",
        "Answer:\n",
        "\"\"\"\n",
        "\n",
        "prompt_builder = PromptBuilder(template=template)\n",
        "generator = OpenAIGenerator(model=\"gpt-4o-mini\")"
      ]
    },
    {
      "cell_type": "markdown",
      "metadata": {
        "id": "P6y3zWPoANjF"
      },
      "source": [
        "**Build the RAG pipeline**"
      ]
    },
    {
      "cell_type": "code",
      "execution_count": 5,
      "metadata": {
        "colab": {
          "base_uri": "https://localhost:8080/"
        },
        "id": "kS4LMd_34-nF",
        "outputId": "b027f2c9-b852-4b17-810a-a90b9d5ea04b"
      },
      "outputs": [
        {
          "data": {
            "text/plain": [
              "<haystack.core.pipeline.pipeline.Pipeline object at 0x12d04f7a0>\n",
              "🚅 Components\n",
              "  - retriever: InMemoryBM25Retriever\n",
              "  - prompt_builder: PromptBuilder\n",
              "  - llm: OpenAIGenerator\n",
              "  - answer_builder: AnswerBuilder\n",
              "🛤️ Connections\n",
              "  - retriever.documents -> prompt_builder.documents (List[Document])\n",
              "  - retriever.documents -> answer_builder.documents (List[Document])\n",
              "  - prompt_builder.prompt -> llm.prompt (str)\n",
              "  - llm.replies -> answer_builder.replies (List[str])\n",
              "  - llm.meta -> answer_builder.meta (List[Dict[str, Any]])"
            ]
          },
          "execution_count": 5,
          "metadata": {},
          "output_type": "execute_result"
        }
      ],
      "source": [
        "from haystack import Pipeline\n",
        "from haystack.components.builders.answer_builder import AnswerBuilder\n",
        "\n",
        "rag_pipeline = Pipeline()\n",
        "# Add components to your pipeline\n",
        "rag_pipeline.add_component(\"retriever\", retriever)\n",
        "rag_pipeline.add_component(\"prompt_builder\", prompt_builder)\n",
        "rag_pipeline.add_component(\"llm\", generator)\n",
        "rag_pipeline.add_component(instance=AnswerBuilder(), name=\"answer_builder\")\n",
        "\n",
        "# Now, connect the components to each other\n",
        "rag_pipeline.connect(\"retriever\", \"prompt_builder.documents\")\n",
        "rag_pipeline.connect(\"prompt_builder\", \"llm\")\n",
        "rag_pipeline.connect(\"llm.replies\", \"answer_builder.replies\")\n",
        "rag_pipeline.connect(\"llm.meta\", \"answer_builder.meta\")\n",
        "rag_pipeline.connect(\"retriever\", \"answer_builder.documents\")\n"
      ]
    },
    {
      "cell_type": "markdown",
      "metadata": {
        "id": "xwr-T40DGF8G"
      },
      "source": [
        "**Running the pipeline**"
      ]
    },
    {
      "cell_type": "code",
      "execution_count": 6,
      "metadata": {
        "id": "7oo0rUas5Dvy"
      },
      "outputs": [],
      "source": [
        "question = \"In what country is Normandy located?\"\n",
        "\n",
        "response = rag_pipeline.run(\n",
        "    {\"retriever\": {\"query\": question}, \"prompt_builder\": {\"question\": question}, \"answer_builder\": {\"query\": question}}\n",
        ")\n"
      ]
    },
    {
      "cell_type": "code",
      "execution_count": 7,
      "metadata": {
        "colab": {
          "base_uri": "https://localhost:8080/"
        },
        "id": "B4RPE8zM_1G_",
        "outputId": "c5ca7276-39b8-4e16-dc86-1d107c5eb698"
      },
      "outputs": [
        {
          "name": "stdout",
          "output_type": "stream",
          "text": [
            "Normandy is located in France.\n"
          ]
        }
      ],
      "source": [
        "print(response[\"answer_builder\"][\"answers\"][0].data)"
      ]
    },
    {
      "cell_type": "markdown",
      "metadata": {
        "id": "GDciGcXVGNJD"
      },
      "source": [
        "We're done building our RAG pipeline. Let's evaluate it now!"
      ]
    },
    {
      "cell_type": "markdown",
      "metadata": {
        "id": "efVio5Dvlbto"
      },
      "source": [
        "## Get questions, contexts, responses and ground truths for evaluation\n",
        "\n",
        "For computing most metrics, we will need to provide the following to the evaluator:\n",
        "1. Questions\n",
        "2. Generated responses\n",
        "3. Retrieved contexts\n",
        "4. Ground truth (Specifically, this is needed for `context precision`, `context recall` and `answer correctness` metrics)\n",
        "\n",
        "We'll start with random three questions from the dataset (see below) and now we'll get the matching `contexts` and `responses` for those questions."
      ]
    },
    {
      "cell_type": "markdown",
      "metadata": {
        "id": "2RC36ICOAXoI"
      },
      "source": [
        "### Helper function to get context and responses for our questions\n"
      ]
    },
    {
      "cell_type": "code",
      "execution_count": 8,
      "metadata": {
        "id": "pXdJ6ZiGARyW"
      },
      "outputs": [],
      "source": [
        "def get_contexts_and_responses(questions, pipeline):\n",
        "    contexts = []\n",
        "    responses = []\n",
        "    for question in questions:\n",
        "        response = pipeline.run(\n",
        "            {\n",
        "                \"retriever\": {\"query\": question},\n",
        "                \"prompt_builder\": {\"question\": question},\n",
        "                \"answer_builder\": {\"query\": question},\n",
        "            }\n",
        "        )\n",
        "\n",
        "        contexts.append([d.content for d in response[\"answer_builder\"][\"answers\"][0].documents])\n",
        "        responses.append(response[\"answer_builder\"][\"answers\"][0].data)\n",
        "    return contexts, responses\n"
      ]
    },
    {
      "cell_type": "code",
      "execution_count": 9,
      "metadata": {
        "id": "EiZjPznwAU5p"
      },
      "outputs": [],
      "source": [
        "question_map = {\n",
        "    \"Which mountain range influenced the split of the regions?\": 0,\n",
        "    \"What is the prize offered for finding a solution to P=NP?\": 1,\n",
        "    \"Which Californio is located in the upper part?\": 2\n",
        "}\n",
        "questions = list(question_map.keys())\n",
        "contexts, responses = get_contexts_and_responses(questions, rag_pipeline)"
      ]
    },
    {
      "cell_type": "markdown",
      "metadata": {
        "id": "w5Ju5G8KlxMr"
      },
      "source": [
        "### Ground truths, review all fields\n",
        "\n",
        "Now that we have questions, contexts, and responses we'll also get the matching ground truth answers."
      ]
    },
    {
      "cell_type": "code",
      "execution_count": 10,
      "metadata": {
        "id": "C5N0SxnCbwQj"
      },
      "outputs": [],
      "source": [
        "ground_truths = [\"\"] * len(question_map)\n",
        "\n",
        "for question, index in question_map.items():\n",
        "    idx = dataset[\"question\"].index(question)\n",
        "    ground_truths[index] = dataset[\"answers\"][idx][\"text\"][0]"
      ]
    },
    {
      "cell_type": "code",
      "execution_count": 11,
      "metadata": {
        "colab": {
          "base_uri": "https://localhost:8080/"
        },
        "id": "GaTQo7tpbxyw",
        "outputId": "f74f77f0-7825-4ea8-d438-f7c2a5fc0d11"
      },
      "outputs": [
        {
          "name": "stdout",
          "output_type": "stream",
          "text": [
            "Questions:\n",
            "\n",
            "Which mountain range influenced the split of the regions?\n",
            "What is the prize offered for finding a solution to P=NP?\n",
            "Which Californio is located in the upper part?\n"
          ]
        }
      ],
      "source": [
        "print(\"Questions:\\n\")\n",
        "print(\"\\n\".join(questions))"
      ]
    },
    {
      "cell_type": "code",
      "execution_count": 12,
      "metadata": {
        "colab": {
          "base_uri": "https://localhost:8080/"
        },
        "id": "8DkbMXXkdzEC",
        "outputId": "983021e1-24f8-4b7e-928e-5f8cacc60207"
      },
      "outputs": [
        {
          "name": "stdout",
          "output_type": "stream",
          "text": [
            "Contexts:\n",
            "\n",
            "The state is most commonly divided and promoted by its regional tourism groups as consisting of northern, central, and southern California regions. The two AAA Auto Clubs of the state, the California State Automobile Association and the Automobile Club of Southern California, choose to simplify matters by dividing the state along the lines where their jurisdictions for membership apply, as either northern or southern California, in contrast to the three-region point of view. Another influence is the geographical phrase South of the Tehachapis, which would split the southern region off at the crest of that transverse range, but in that definition, the desert portions of north Los Angeles County and eastern Kern and San Bernardino Counties would be included in the southern California region due to their remoteness from the central valley and interior desert landscape.\n",
            "If a problem X is in C and hard for C, then X is said to be complete for C. This means that X is the hardest problem in C. (Since many problems could be equally hard, one might say that X is one of the hardest problems in C.) Thus the class of NP-complete problems contains the most difficult problems in NP, in the sense that they are the ones most likely not to be in P. Because the problem P = NP is not solved, being able to reduce a known NP-complete problem, Π2, to another problem, Π1, would indicate that there is no known polynomial-time solution for Π1. This is because a polynomial-time solution to Π1 would yield a polynomial-time solution to Π2. Similarly, because all NP problems can be reduced to the set, finding an NP-complete problem that can be solved in polynomial time would mean that P = NP.\n",
            "In the centre of Basel, the first major city in the course of the stream, is located the \"Rhine knee\"; this is a major bend, where the overall direction of the Rhine changes from West to North. Here the High Rhine ends. Legally, the Central Bridge is the boundary between High and Upper Rhine. The river now flows North as Upper Rhine through the Upper Rhine Plain, which is about 300 km long and up to 40 km wide. The most important tributaries in this area are the Ill below of Strasbourg, the Neckar in Mannheim and the Main across from Mainz. In Mainz, the Rhine leaves the Upper Rhine Valley and flows through the Mainz Basin.\n"
          ]
        }
      ],
      "source": [
        "print(\"Contexts:\\n\")\n",
        "for c in contexts:\n",
        "  print(c[0])"
      ]
    },
    {
      "cell_type": "code",
      "execution_count": 13,
      "metadata": {
        "colab": {
          "base_uri": "https://localhost:8080/"
        },
        "id": "l_ssY9IAfc9U",
        "outputId": "e5aeb7b5-7312-4fd4-b992-6082e4d4de09"
      },
      "outputs": [
        {
          "name": "stdout",
          "output_type": "stream",
          "text": [
            "Responses:\n",
            "\n",
            "The Tehachapi Mountains influenced the split of the regions, as referenced by the geographical phrase \"South of the Tehachapis.\"\n",
            "The prize offered for finding a solution to the P versus NP problem is US$1,000,000.\n",
            "The context provided does not mention any Californios or provide information related to California. \"Californio\" typically refers to a Hispanic person of Californian descent, particularly during the period when California was part of Mexico. If you are looking for a specific Californio associated with a historical or geographical significance, please provide more context or clarify your question.\n"
          ]
        }
      ],
      "source": [
        "print(\"Responses:\\n\")\n",
        "print(\"\\n\".join(responses))"
      ]
    },
    {
      "cell_type": "code",
      "execution_count": 14,
      "metadata": {
        "colab": {
          "base_uri": "https://localhost:8080/"
        },
        "id": "2qT8fBFwYNUX",
        "outputId": "5e7e329d-ef43-4e15-a6b5-374ed2723f35"
      },
      "outputs": [
        {
          "name": "stdout",
          "output_type": "stream",
          "text": [
            "Ground truths:\n",
            "\n",
            "Tehachapis\n",
            "$1,000,000\n",
            "Monterey\n"
          ]
        }
      ],
      "source": [
        "print(\"Ground truths:\\n\")\n",
        "print(\"\\n\".join(ground_truths))"
      ]
    },
    {
      "cell_type": "markdown",
      "metadata": {
        "id": "geGTaUYtAf05"
      },
      "source": [
        "## Evaluate the RAG pipeline\n",
        "\n",
        "\n",
        "\n"
      ]
    },
    {
      "cell_type": "markdown",
      "metadata": {
        "id": "MixUQOMJGprR"
      },
      "source": [
        "Now that we have the `questions`, `contexts`,`responses` and the `ground truths`, we can begin our pipeline evaluation and compute all the supported metrics."
      ]
    },
    {
      "cell_type": "markdown",
      "metadata": {
        "id": "8Ge_aouohGBo"
      },
      "source": [
        "## Metrics computation\n",
        "\n",
        "In addition to evaluating the final responses of the LLM, it is important that we also evaluate the individual components of the RAG pipeline as they can significantly impact the overall performance. Therefore, there are different metrics to evaluate the retriever, the generator and the overall pipeline. For a full list of available metrics and their expected inputs, check out the [DeepEvalEvaluator Docs](https://docs.haystack.deepset.ai/docs/deepevalevaluator)\n",
        "\n",
        "The [DeepEval documentation](https://docs.confident-ai.com/docs/metrics-introduction) provides explanation of the individual metrics with simple examples for each of them."
      ]
    },
    {
      "cell_type": "markdown",
      "metadata": {
        "id": "PllEAyisEG2l"
      },
      "source": [
        "### Contextul Precision\n",
        "\n",
        "The contextual precision metric measures our RAG pipeline's retriever by evaluating whether items in our contexts that are relevant to the given input are ranked higher than irrelevant ones."
      ]
    },
    {
      "cell_type": "code",
      "execution_count": 15,
      "metadata": {
        "colab": {
          "base_uri": "https://localhost:8080/"
        },
        "id": "6qmXfqmnFaSH",
        "outputId": "acb2236d-302a-4569-92d3-613a68cf1b1f"
      },
      "outputs": [],
      "source": [
        "from haystack import Pipeline\n",
        "from haystack_integrations.components.evaluators.deepeval import DeepEvalEvaluator, DeepEvalMetric\n",
        "\n",
        "context_precision_pipeline = Pipeline()\n",
        "evaluator = DeepEvalEvaluator(metric=DeepEvalMetric.CONTEXTUAL_PRECISION, metric_params={\"model\":\"gpt-4o-mini\"})\n",
        "context_precision_pipeline.add_component(\"evaluator\", evaluator)\n"
      ]
    },
    {
      "cell_type": "code",
      "execution_count": 16,
      "metadata": {
        "colab": {
          "base_uri": "https://localhost:8080/",
          "height": 1000,
          "referenced_widgets": [
            "d15207369b574b73be7227951ccd5b4f",
            "b08b84b6b34a4519b9768868550b1b68",
            "13231a77c09a4fd0a077b686e9fc2c7e",
            "18a9ce63be2d44718eaf1b11cf2d694c",
            "0d0aed942be3451d9fce19c07f1e0aa3",
            "4712f9ec552a49f6b0ea07d6b7ef9464",
            "3f0c2d0d295b4fa289ba1acc982a3e05",
            "8cdc1aec1c614b7d85142e07725dcd13"
          ]
        },
        "id": "KAanj3XTFeIz",
        "outputId": "24482210-f200-4ec5-c1a8-e52e4ee742df"
      },
      "outputs": [
        {
          "data": {
            "text/html": [
              "<pre style=\"white-space:pre;overflow-x:auto;line-height:normal;font-family:Menlo,'DejaVu Sans Mono',consolas,'Courier New',monospace\">✨ You're running DeepEval's latest <span style=\"color: #6a00ff; text-decoration-color: #6a00ff\">Contextual Precision Metric</span>! <span style=\"color: #374151; text-decoration-color: #374151; font-weight: bold\">(</span><span style=\"color: #374151; text-decoration-color: #374151\">using gpt-4o-mini, </span><span style=\"color: #374151; text-decoration-color: #374151\">strict</span><span style=\"color: #374151; text-decoration-color: #374151\">=</span><span style=\"color: #374151; text-decoration-color: #374151; font-style: italic\">False</span><span style=\"color: #374151; text-decoration-color: #374151\">, </span>\n",
              "<span style=\"color: #374151; text-decoration-color: #374151\">async_mode</span><span style=\"color: #374151; text-decoration-color: #374151\">=</span><span style=\"color: #374151; text-decoration-color: #374151; font-style: italic\">True</span><span style=\"color: #374151; text-decoration-color: #374151; font-weight: bold\">)</span><span style=\"color: #374151; text-decoration-color: #374151\">...</span>\n",
              "</pre>\n"
            ],
            "text/plain": [
              "✨ You're running DeepEval's latest \u001b[38;2;106;0;255mContextual Precision Metric\u001b[0m! \u001b[1;38;2;55;65;81m(\u001b[0m\u001b[38;2;55;65;81musing gpt-4o-mini, \u001b[0m\u001b[38;2;55;65;81mstrict\u001b[0m\u001b[38;2;55;65;81m=\u001b[0m\u001b[3;38;2;55;65;81mFalse\u001b[0m\u001b[38;2;55;65;81m, \u001b[0m\n",
              "\u001b[38;2;55;65;81masync_mode\u001b[0m\u001b[38;2;55;65;81m=\u001b[0m\u001b[3;38;2;55;65;81mTrue\u001b[0m\u001b[1;38;2;55;65;81m)\u001b[0m\u001b[38;2;55;65;81m...\u001b[0m\n"
            ]
          },
          "metadata": {},
          "output_type": "display_data"
        },
        {
          "name": "stdout",
          "output_type": "stream",
          "text": [
            "Event loop is already running. Applying nest_asyncio patch to allow async execution...\n"
          ]
        },
        {
          "name": "stderr",
          "output_type": "stream",
          "text": [
            "Evaluating 3 test case(s) in parallel: |██████████|100% (3/3) [Time Taken: 00:05,  1.75s/test case]"
          ]
        },
        {
          "name": "stdout",
          "output_type": "stream",
          "text": [
            "\n",
            "======================================================================\n",
            "\n",
            "Metrics Summary\n",
            "\n",
            "  - ✅ Contextual Precision (score: 0.5, threshold: 0.0, strict: False, evaluation model: gpt-4o-mini, reason: The score is 0.50 because the relevant node (rank 2) is correctly placed above the irrelevant nodes (rank 1 and rank 3), which discuss unrelated topics. However, since there are two irrelevant nodes ranked higher than just one relevant node, it affects the overall precision score., error: None)\n",
            "\n",
            "For test case:\n",
            "\n",
            "  - input: What is the prize offered for finding a solution to P=NP?\n",
            "  - actual output: The prize offered for finding a solution to the P versus NP problem is US$1,000,000.\n",
            "  - expected output: $1,000,000\n",
            "  - context: None\n",
            "  - retrieval context: ['If a problem X is in C and hard for C, then X is said to be complete for C. This means that X is the hardest problem in C. (Since many problems could be equally hard, one might say that X is one of the hardest problems in C.) Thus the class of NP-complete problems contains the most difficult problems in NP, in the sense that they are the ones most likely not to be in P. Because the problem P = NP is not solved, being able to reduce a known NP-complete problem, Π2, to another problem, Π1, would indicate that there is no known polynomial-time solution for Π1. This is because a polynomial-time solution to Π1 would yield a polynomial-time solution to Π2. Similarly, because all NP problems can be reduced to the set, finding an NP-complete problem that can be solved in polynomial time would mean that P = NP.', 'The question of whether P equals NP is one of the most important open questions in theoretical computer science because of the wide implications of a solution. If the answer is yes, many important problems can be shown to have more efficient solutions. These include various types of integer programming problems in operations research, many problems in logistics, protein structure prediction in biology, and the ability to find formal proofs of pure mathematics theorems. The P versus NP problem is one of the Millennium Prize Problems proposed by the Clay Mathematics Institute. There is a US$1,000,000 prize for resolving the problem.', 'What intractability means in practice is open to debate. Saying that a problem is not in P does not imply that all large cases of the problem are hard or even that most of them are. For example, the decision problem in Presburger arithmetic has been shown not to be in P, yet algorithms have been written that solve the problem in reasonable times in most cases. Similarly, algorithms can solve the NP-complete knapsack problem over a wide range of sizes in less than quadratic time and SAT solvers routinely handle large instances of the NP-complete Boolean satisfiability problem.']\n",
            "\n",
            "======================================================================\n",
            "\n",
            "Metrics Summary\n",
            "\n",
            "  - ✅ Contextual Precision (score: 1.0, threshold: 0.0, strict: False, evaluation model: gpt-4o-mini, reason: The score is 1.00 because the relevant node, which is the first node, clearly states that the Tehachapis mountain range is influential in dividing regions in California. The second and third nodes, ranked lower, focus on unrelated topics such as structural geology and climate, which do not pertain to the influence of mountain ranges on regional division., error: None)\n",
            "\n",
            "For test case:\n",
            "\n",
            "  - input: Which mountain range influenced the split of the regions?\n",
            "  - actual output: The Tehachapi Mountains influenced the split of the regions, as referenced by the geographical phrase \"South of the Tehachapis.\"\n",
            "  - expected output: Tehachapis\n",
            "  - context: None\n",
            "  - retrieval context: ['The state is most commonly divided and promoted by its regional tourism groups as consisting of northern, central, and southern California regions. The two AAA Auto Clubs of the state, the California State Automobile Association and the Automobile Club of Southern California, choose to simplify matters by dividing the state along the lines where their jurisdictions for membership apply, as either northern or southern California, in contrast to the three-region point of view. Another influence is the geographical phrase South of the Tehachapis, which would split the southern region off at the crest of that transverse range, but in that definition, the desert portions of north Los Angeles County and eastern Kern and San Bernardino Counties would be included in the southern California region due to their remoteness from the central valley and interior desert landscape.', 'Among the most well-known experiments in structural geology are those involving orogenic wedges, which are zones in which mountains are built along convergent tectonic plate boundaries. In the analog versions of these experiments, horizontal layers of sand are pulled along a lower surface into a back stop, which results in realistic-looking patterns of faulting and the growth of a critically tapered (all angles remain the same) orogenic wedge. Numerical models work in the same way as these analog models, though they are often more sophisticated and can include patterns of erosion and uplift in the mountain belt. This helps to show the relationship between erosion and the shape of the mountain range. These studies can also give useful information about pathways for metamorphism through pressure, temperature, space, and time.', \"The Mallee and upper Wimmera are Victoria's warmest regions with hot winds blowing from nearby semi-deserts. Average temperatures exceed 32 °C (90 °F) during summer and 15 °C (59 °F) in winter. Except at cool mountain elevations, the inland monthly temperatures are 2–7 °C (4–13 °F) warmer than around Melbourne (see chart). Victoria's highest maximum temperature since World War II, of 48.8 °C (119.8 °F) was recorded in Hopetoun on 7 February 2009, during the 2009 southeastern Australia heat wave.\"]\n",
            "\n",
            "======================================================================\n",
            "\n",
            "Metrics Summary\n",
            "\n",
            "  - ✅ Contextual Precision (score: 0.0, threshold: 0.0, strict: False, evaluation model: gpt-4o-mini, reason: The score is 0.00 because all nodes in the retrieval context are irrelevant to the input. The first node, ranked 1, states that 'In the centre of Basel...' does not address the question about a Californio located in the upper part. Similarly, the second node, ranked 2, mentions 'From the death of Augustus...' discussing Roman boundaries, which is unrelated to the query. Finally, the third node, ranked 3, indicates that 'In the 1960s, a series of discoveries...' talks about tectonic plates, lacking any relevance to the question. Since all nodes are irrelevant, the score reflects this lack of contextual precision., error: None)\n",
            "\n",
            "For test case:\n",
            "\n",
            "  - input: Which Californio is located in the upper part?\n",
            "  - actual output: The context provided does not mention any Californios or provide information related to California. \"Californio\" typically refers to a Hispanic person of Californian descent, particularly during the period when California was part of Mexico. If you are looking for a specific Californio associated with a historical or geographical significance, please provide more context or clarify your question.\n",
            "  - expected output: Monterey\n",
            "  - context: None\n",
            "  - retrieval context: ['In the centre of Basel, the first major city in the course of the stream, is located the \"Rhine knee\"; this is a major bend, where the overall direction of the Rhine changes from West to North. Here the High Rhine ends. Legally, the Central Bridge is the boundary between High and Upper Rhine. The river now flows North as Upper Rhine through the Upper Rhine Plain, which is about 300 km long and up to 40 km wide. The most important tributaries in this area are the Ill below of Strasbourg, the Neckar in Mannheim and the Main across from Mainz. In Mainz, the Rhine leaves the Upper Rhine Valley and flows through the Mainz Basin.', 'From the death of Augustus in AD 14 until after AD 70, Rome accepted as her Germanic frontier the water-boundary of the Rhine and upper Danube. Beyond these rivers she held only the fertile plain of Frankfurt, opposite the Roman border fortress of Moguntiacum (Mainz), the southernmost slopes of the Black Forest and a few scattered bridge-heads. The northern section of this frontier, where the Rhine is deep and broad, remained the Roman boundary until the empire fell. The southern part was different. The upper Rhine and upper Danube are easily crossed. The frontier which they form is inconveniently long, enclosing an acute-angled wedge of foreign territory between the modern Baden and Württemberg. The Germanic populations of these lands seem in Roman times to have been scanty, and Roman subjects from the modern Alsace-Lorraine had drifted across the river eastwards.', \"In the 1960s, a series of discoveries, the most important of which was seafloor spreading, showed that the Earth's lithosphere, which includes the crust and rigid uppermost portion of the upper mantle, is separated into a number of tectonic plates that move across the plastically deforming, solid, upper mantle, which is called the asthenosphere. There is an intimate coupling between the movement of the plates on the surface and the convection of the mantle: oceanic plate motions and mantle convection currents always move in the same direction, because the oceanic lithosphere is the rigid upper thermal boundary layer of the convecting mantle. This coupling between rigid plates moving on the surface of the Earth and the convecting mantle is called plate tectonics.\"]\n",
            "\n",
            "======================================================================\n",
            "\n",
            "Overall Metric Pass Rates\n",
            "\n",
            "Contextual Precision: 100.00% pass rate\n",
            "\n",
            "======================================================================\n",
            "\n"
          ]
        },
        {
          "name": "stderr",
          "output_type": "stream",
          "text": [
            "\n"
          ]
        },
        {
          "data": {
            "text/html": [
              "<pre style=\"white-space:pre;overflow-x:auto;line-height:normal;font-family:Menlo,'DejaVu Sans Mono',consolas,'Courier New',monospace\"><span style=\"color: #05f58d; text-decoration-color: #05f58d\">✓</span> Tests finished 🎉! Run <span style=\"color: #008000; text-decoration-color: #008000\">'deepeval login'</span> to save and analyze evaluation results on Confident AI. \n",
              "‼️  Friendly reminder 😇: You can also run evaluations with ALL of deepeval's metrics directly on Confident AI \n",
              "instead.\n",
              "</pre>\n"
            ],
            "text/plain": [
              "\u001b[38;2;5;245;141m✓\u001b[0m Tests finished 🎉! Run \u001b[32m'deepeval login'\u001b[0m to save and analyze evaluation results on Confident AI. \n",
              "‼️  Friendly reminder 😇: You can also run evaluations with ALL of deepeval's metrics directly on Confident AI \n",
              "instead.\n"
            ]
          },
          "metadata": {},
          "output_type": "display_data"
        },
        {
          "name": "stdout",
          "output_type": "stream",
          "text": [
            "<class 'tuple'> ('test_results', [TestResult(success=True, metrics_data=[MetricData(name='Contextual Precision', threshold=0.0, success=True, score=0.5, reason='The score is 0.50 because the relevant node (rank 2) is correctly placed above the irrelevant nodes (rank 1 and rank 3), which discuss unrelated topics. However, since there are two irrelevant nodes ranked higher than just one relevant node, it affects the overall precision score.', strict_mode=False, evaluation_model='gpt-4o-mini', error=None, evaluation_cost=0.0003183, verbose_logs='Verdicts:\\n[\\n    {\\n        \"verdict\": \"no\",\\n        \"reason\": \"The first context discusses NP-completeness and does not mention any prize related to P=NP.\"\\n    },\\n    {\\n        \"verdict\": \"yes\",\\n        \"reason\": \"This context states that \\'There is a US$1,000,000 prize for resolving the problem,\\' which directly answers the input question.\"\\n    },\\n    {\\n        \"verdict\": \"no\",\\n        \"reason\": \"The third context talks about intractability and algorithms but does not provide any information about the prize for solving P=NP.\"\\n    }\\n]')], conversational=False, multimodal=False, input='What is the prize offered for finding a solution to P=NP?', actual_output='The prize offered for finding a solution to the P versus NP problem is US$1,000,000.', expected_output='$1,000,000', context=None, retrieval_context=['If a problem X is in C and hard for C, then X is said to be complete for C. This means that X is the hardest problem in C. (Since many problems could be equally hard, one might say that X is one of the hardest problems in C.) Thus the class of NP-complete problems contains the most difficult problems in NP, in the sense that they are the ones most likely not to be in P. Because the problem P = NP is not solved, being able to reduce a known NP-complete problem, Π2, to another problem, Π1, would indicate that there is no known polynomial-time solution for Π1. This is because a polynomial-time solution to Π1 would yield a polynomial-time solution to Π2. Similarly, because all NP problems can be reduced to the set, finding an NP-complete problem that can be solved in polynomial time would mean that P = NP.', 'The question of whether P equals NP is one of the most important open questions in theoretical computer science because of the wide implications of a solution. If the answer is yes, many important problems can be shown to have more efficient solutions. These include various types of integer programming problems in operations research, many problems in logistics, protein structure prediction in biology, and the ability to find formal proofs of pure mathematics theorems. The P versus NP problem is one of the Millennium Prize Problems proposed by the Clay Mathematics Institute. There is a US$1,000,000 prize for resolving the problem.', 'What intractability means in practice is open to debate. Saying that a problem is not in P does not imply that all large cases of the problem are hard or even that most of them are. For example, the decision problem in Presburger arithmetic has been shown not to be in P, yet algorithms have been written that solve the problem in reasonable times in most cases. Similarly, algorithms can solve the NP-complete knapsack problem over a wide range of sizes in less than quadratic time and SAT solvers routinely handle large instances of the NP-complete Boolean satisfiability problem.']), TestResult(success=True, metrics_data=[MetricData(name='Contextual Precision', threshold=0.0, success=True, score=1.0, reason='The score is 1.00 because the relevant node, which is the first node, clearly states that the Tehachapis mountain range is influential in dividing regions in California. The second and third nodes, ranked lower, focus on unrelated topics such as structural geology and climate, which do not pertain to the influence of mountain ranges on regional division.', strict_mode=False, evaluation_model='gpt-4o-mini', error=None, evaluation_cost=0.0003294, verbose_logs='Verdicts:\\n[\\n    {\\n        \"verdict\": \"yes\",\\n        \"reason\": \"The context mentions \\'South of the Tehachapis\\', which indicates that the Tehachapis mountain range is influential in dividing regions in California.\"\\n    },\\n    {\\n        \"verdict\": \"no\",\\n        \"reason\": \"This section discusses structural geology and orogenic wedges, which is unrelated to the influence of mountain ranges on regional division.\"\\n    },\\n    {\\n        \"verdict\": \"no\",\\n        \"reason\": \"This context focuses on climate and temperature in Victoria, Australia, which does not relate to the division of regions by mountain ranges.\"\\n    }\\n]')], conversational=False, multimodal=False, input='Which mountain range influenced the split of the regions?', actual_output='The Tehachapi Mountains influenced the split of the regions, as referenced by the geographical phrase \"South of the Tehachapis.\"', expected_output='Tehachapis', context=None, retrieval_context=['The state is most commonly divided and promoted by its regional tourism groups as consisting of northern, central, and southern California regions. The two AAA Auto Clubs of the state, the California State Automobile Association and the Automobile Club of Southern California, choose to simplify matters by dividing the state along the lines where their jurisdictions for membership apply, as either northern or southern California, in contrast to the three-region point of view. Another influence is the geographical phrase South of the Tehachapis, which would split the southern region off at the crest of that transverse range, but in that definition, the desert portions of north Los Angeles County and eastern Kern and San Bernardino Counties would be included in the southern California region due to their remoteness from the central valley and interior desert landscape.', 'Among the most well-known experiments in structural geology are those involving orogenic wedges, which are zones in which mountains are built along convergent tectonic plate boundaries. In the analog versions of these experiments, horizontal layers of sand are pulled along a lower surface into a back stop, which results in realistic-looking patterns of faulting and the growth of a critically tapered (all angles remain the same) orogenic wedge. Numerical models work in the same way as these analog models, though they are often more sophisticated and can include patterns of erosion and uplift in the mountain belt. This helps to show the relationship between erosion and the shape of the mountain range. These studies can also give useful information about pathways for metamorphism through pressure, temperature, space, and time.', \"The Mallee and upper Wimmera are Victoria's warmest regions with hot winds blowing from nearby semi-deserts. Average temperatures exceed 32 °C (90 °F) during summer and 15 °C (59 °F) in winter. Except at cool mountain elevations, the inland monthly temperatures are 2–7 °C (4–13 °F) warmer than around Melbourne (see chart). Victoria's highest maximum temperature since World War II, of 48.8 °C (119.8 °F) was recorded in Hopetoun on 7 February 2009, during the 2009 southeastern Australia heat wave.\"]), TestResult(success=True, metrics_data=[MetricData(name='Contextual Precision', threshold=0.0, success=True, score=0.0, reason=\"The score is 0.00 because all nodes in the retrieval context are irrelevant to the input. The first node, ranked 1, states that 'In the centre of Basel...' does not address the question about a Californio located in the upper part. Similarly, the second node, ranked 2, mentions 'From the death of Augustus...' discussing Roman boundaries, which is unrelated to the query. Finally, the third node, ranked 3, indicates that 'In the 1960s, a series of discoveries...' talks about tectonic plates, lacking any relevance to the question. Since all nodes are irrelevant, the score reflects this lack of contextual precision.\", strict_mode=False, evaluation_model='gpt-4o-mini', error=None, evaluation_cost=0.0003675, verbose_logs='Verdicts:\\n[\\n    {\\n        \"verdict\": \"no\",\\n        \"reason\": \"\\'In the centre of Basel...\\' does not address the question about a Californio located in the upper part.\"\\n    },\\n    {\\n        \"verdict\": \"no\",\\n        \"reason\": \"\\'From the death of Augustus...\\' is unrelated to the query about a Californio and discusses Roman boundaries instead.\"\\n    },\\n    {\\n        \"verdict\": \"no\",\\n        \"reason\": \"\\'In the 1960s, a series of discoveries...\\' talks about tectonic plates and has no relevance to the question about a Californio.\"\\n    }\\n]')], conversational=False, multimodal=False, input='Which Californio is located in the upper part?', actual_output='The context provided does not mention any Californios or provide information related to California. \"Californio\" typically refers to a Hispanic person of Californian descent, particularly during the period when California was part of Mexico. If you are looking for a specific Californio associated with a historical or geographical significance, please provide more context or clarify your question.', expected_output='Monterey', context=None, retrieval_context=['In the centre of Basel, the first major city in the course of the stream, is located the \"Rhine knee\"; this is a major bend, where the overall direction of the Rhine changes from West to North. Here the High Rhine ends. Legally, the Central Bridge is the boundary between High and Upper Rhine. The river now flows North as Upper Rhine through the Upper Rhine Plain, which is about 300 km long and up to 40 km wide. The most important tributaries in this area are the Ill below of Strasbourg, the Neckar in Mannheim and the Main across from Mainz. In Mainz, the Rhine leaves the Upper Rhine Valley and flows through the Mainz Basin.', 'From the death of Augustus in AD 14 until after AD 70, Rome accepted as her Germanic frontier the water-boundary of the Rhine and upper Danube. Beyond these rivers she held only the fertile plain of Frankfurt, opposite the Roman border fortress of Moguntiacum (Mainz), the southernmost slopes of the Black Forest and a few scattered bridge-heads. The northern section of this frontier, where the Rhine is deep and broad, remained the Roman boundary until the empire fell. The southern part was different. The upper Rhine and upper Danube are easily crossed. The frontier which they form is inconveniently long, enclosing an acute-angled wedge of foreign territory between the modern Baden and Württemberg. The Germanic populations of these lands seem in Roman times to have been scanty, and Roman subjects from the modern Alsace-Lorraine had drifted across the river eastwards.', \"In the 1960s, a series of discoveries, the most important of which was seafloor spreading, showed that the Earth's lithosphere, which includes the crust and rigid uppermost portion of the upper mantle, is separated into a number of tectonic plates that move across the plastically deforming, solid, upper mantle, which is called the asthenosphere. There is an intimate coupling between the movement of the plates on the surface and the convection of the mantle: oceanic plate motions and mantle convection currents always move in the same direction, because the oceanic lithosphere is the rigid upper thermal boundary layer of the convecting mantle. This coupling between rigid plates moving on the surface of the Earth and the convecting mantle is called plate tectonics.\"])])\n"
          ]
        },
        {
          "ename": "AttributeError",
          "evalue": "'tuple' object has no attribute 'metrics'",
          "output_type": "error",
          "traceback": [
            "\u001b[0;31m---------------------------------------------------------------------------\u001b[0m",
            "\u001b[0;31mAttributeError\u001b[0m                            Traceback (most recent call last)",
            "Cell \u001b[0;32mIn[16], line 1\u001b[0m\n\u001b[0;32m----> 1\u001b[0m evaluation_results \u001b[38;5;241m=\u001b[39m \u001b[43mcontext_precision_pipeline\u001b[49m\u001b[38;5;241;43m.\u001b[39;49m\u001b[43mrun\u001b[49m\u001b[43m(\u001b[49m\n\u001b[1;32m      2\u001b[0m \u001b[43m    \u001b[49m\u001b[43m{\u001b[49m\u001b[38;5;124;43m\"\u001b[39;49m\u001b[38;5;124;43mevaluator\u001b[39;49m\u001b[38;5;124;43m\"\u001b[39;49m\u001b[43m:\u001b[49m\u001b[43m \u001b[49m\u001b[43m{\u001b[49m\u001b[38;5;124;43m\"\u001b[39;49m\u001b[38;5;124;43mquestions\u001b[39;49m\u001b[38;5;124;43m\"\u001b[39;49m\u001b[43m:\u001b[49m\u001b[43m \u001b[49m\u001b[43mquestions\u001b[49m\u001b[43m,\u001b[49m\u001b[43m \u001b[49m\u001b[38;5;124;43m\"\u001b[39;49m\u001b[38;5;124;43mcontexts\u001b[39;49m\u001b[38;5;124;43m\"\u001b[39;49m\u001b[43m:\u001b[49m\u001b[43m \u001b[49m\u001b[43mcontexts\u001b[49m\u001b[43m,\u001b[49m\u001b[43m \u001b[49m\u001b[38;5;124;43m\"\u001b[39;49m\u001b[38;5;124;43mground_truths\u001b[39;49m\u001b[38;5;124;43m\"\u001b[39;49m\u001b[43m:\u001b[49m\u001b[43m \u001b[49m\u001b[43mground_truths\u001b[49m\u001b[43m,\u001b[49m\u001b[43m \u001b[49m\u001b[38;5;124;43m\"\u001b[39;49m\u001b[38;5;124;43mresponses\u001b[39;49m\u001b[38;5;124;43m\"\u001b[39;49m\u001b[43m:\u001b[49m\u001b[43m \u001b[49m\u001b[43mresponses\u001b[49m\u001b[43m}\u001b[49m\u001b[43m}\u001b[49m\n\u001b[1;32m      3\u001b[0m \u001b[43m)\u001b[49m\n\u001b[1;32m      4\u001b[0m \u001b[38;5;28mprint\u001b[39m(evaluation_results[\u001b[38;5;124m\"\u001b[39m\u001b[38;5;124mevaluator\u001b[39m\u001b[38;5;124m\"\u001b[39m][\u001b[38;5;124m\"\u001b[39m\u001b[38;5;124mresults\u001b[39m\u001b[38;5;124m\"\u001b[39m])\n",
            "File \u001b[0;32m~/projects/master-thesis-alj95/.venv-haystack/lib/python3.12/site-packages/haystack/core/pipeline/pipeline.py:229\u001b[0m, in \u001b[0;36mPipeline.run\u001b[0;34m(self, data, include_outputs_from)\u001b[0m\n\u001b[1;32m    226\u001b[0m     msg \u001b[38;5;241m=\u001b[39m \u001b[38;5;124mf\u001b[39m\u001b[38;5;124m\"\u001b[39m\u001b[38;5;124mMaximum run count \u001b[39m\u001b[38;5;132;01m{\u001b[39;00m\u001b[38;5;28mself\u001b[39m\u001b[38;5;241m.\u001b[39m_max_runs_per_component\u001b[38;5;132;01m}\u001b[39;00m\u001b[38;5;124m reached for component \u001b[39m\u001b[38;5;124m'\u001b[39m\u001b[38;5;132;01m{\u001b[39;00mname\u001b[38;5;132;01m}\u001b[39;00m\u001b[38;5;124m'\u001b[39m\u001b[38;5;124m\"\u001b[39m\n\u001b[1;32m    227\u001b[0m     \u001b[38;5;28;01mraise\u001b[39;00m PipelineMaxComponentRuns(msg)\n\u001b[0;32m--> 229\u001b[0m res: Dict[\u001b[38;5;28mstr\u001b[39m, Any] \u001b[38;5;241m=\u001b[39m \u001b[38;5;28;43mself\u001b[39;49m\u001b[38;5;241;43m.\u001b[39;49m\u001b[43m_run_component\u001b[49m\u001b[43m(\u001b[49m\u001b[43mname\u001b[49m\u001b[43m,\u001b[49m\u001b[43m \u001b[49m\u001b[43mcomponents_inputs\u001b[49m\u001b[43m[\u001b[49m\u001b[43mname\u001b[49m\u001b[43m]\u001b[49m\u001b[43m)\u001b[49m\n\u001b[1;32m    231\u001b[0m \u001b[38;5;28;01mif\u001b[39;00m name \u001b[38;5;129;01min\u001b[39;00m include_outputs_from:\n\u001b[1;32m    232\u001b[0m     \u001b[38;5;66;03m# Deepcopy the outputs to prevent downstream nodes from modifying them\u001b[39;00m\n\u001b[1;32m    233\u001b[0m     \u001b[38;5;66;03m# We don't care about loops - Always store the last output.\u001b[39;00m\n\u001b[1;32m    234\u001b[0m     extra_outputs[name] \u001b[38;5;241m=\u001b[39m deepcopy(res)\n",
            "File \u001b[0;32m~/projects/master-thesis-alj95/.venv-haystack/lib/python3.12/site-packages/haystack/core/pipeline/pipeline.py:67\u001b[0m, in \u001b[0;36mPipeline._run_component\u001b[0;34m(self, name, inputs)\u001b[0m\n\u001b[1;32m     65\u001b[0m span\u001b[38;5;241m.\u001b[39mset_content_tag(\u001b[38;5;124m\"\u001b[39m\u001b[38;5;124mhaystack.component.input\u001b[39m\u001b[38;5;124m\"\u001b[39m, inputs)\n\u001b[1;32m     66\u001b[0m logger\u001b[38;5;241m.\u001b[39minfo(\u001b[38;5;124m\"\u001b[39m\u001b[38;5;124mRunning component \u001b[39m\u001b[38;5;132;01m{component_name}\u001b[39;00m\u001b[38;5;124m\"\u001b[39m, component_name\u001b[38;5;241m=\u001b[39mname)\n\u001b[0;32m---> 67\u001b[0m res: Dict[\u001b[38;5;28mstr\u001b[39m, Any] \u001b[38;5;241m=\u001b[39m \u001b[43minstance\u001b[49m\u001b[38;5;241;43m.\u001b[39;49m\u001b[43mrun\u001b[49m\u001b[43m(\u001b[49m\u001b[38;5;241;43m*\u001b[39;49m\u001b[38;5;241;43m*\u001b[39;49m\u001b[43minputs\u001b[49m\u001b[43m)\u001b[49m\n\u001b[1;32m     68\u001b[0m \u001b[38;5;28mself\u001b[39m\u001b[38;5;241m.\u001b[39mgraph\u001b[38;5;241m.\u001b[39mnodes[name][\u001b[38;5;124m\"\u001b[39m\u001b[38;5;124mvisits\u001b[39m\u001b[38;5;124m\"\u001b[39m] \u001b[38;5;241m+\u001b[39m\u001b[38;5;241m=\u001b[39m \u001b[38;5;241m1\u001b[39m\n\u001b[1;32m     70\u001b[0m \u001b[38;5;66;03m# After a Component that has variadic inputs is run, we need to reset the variadic inputs that were consumed\u001b[39;00m\n",
            "File \u001b[0;32m~/projects/master-thesis-alj95/.venv-haystack/lib/python3.12/site-packages/haystack_integrations/components/evaluators/deepeval/evaluator.py:90\u001b[0m, in \u001b[0;36mDeepEvalEvaluator.run\u001b[0;34m(self, **inputs)\u001b[0m\n\u001b[1;32m     87\u001b[0m converted_inputs: List[LLMTestCase] \u001b[38;5;241m=\u001b[39m \u001b[38;5;28mlist\u001b[39m(\u001b[38;5;28mself\u001b[39m\u001b[38;5;241m.\u001b[39mdescriptor\u001b[38;5;241m.\u001b[39minput_converter(\u001b[38;5;241m*\u001b[39m\u001b[38;5;241m*\u001b[39minputs))  \u001b[38;5;66;03m# type: ignore\u001b[39;00m\n\u001b[1;32m     89\u001b[0m results \u001b[38;5;241m=\u001b[39m \u001b[38;5;28mself\u001b[39m\u001b[38;5;241m.\u001b[39m_backend_callable(converted_inputs, \u001b[38;5;28mself\u001b[39m\u001b[38;5;241m.\u001b[39m_backend_metric)\n\u001b[0;32m---> 90\u001b[0m converted_results \u001b[38;5;241m=\u001b[39m [[result\u001b[38;5;241m.\u001b[39mto_dict() \u001b[38;5;28;01mfor\u001b[39;00m result \u001b[38;5;129;01min\u001b[39;00m \u001b[38;5;28;43mself\u001b[39;49m\u001b[38;5;241;43m.\u001b[39;49m\u001b[43mdescriptor\u001b[49m\u001b[38;5;241;43m.\u001b[39;49m\u001b[43moutput_converter\u001b[49m\u001b[43m(\u001b[49m\u001b[43mx\u001b[49m\u001b[43m)\u001b[49m] \u001b[38;5;28;01mfor\u001b[39;00m x \u001b[38;5;129;01min\u001b[39;00m results]\n\u001b[1;32m     92\u001b[0m \u001b[38;5;28;01mreturn\u001b[39;00m {\u001b[38;5;124m\"\u001b[39m\u001b[38;5;124mresults\u001b[39m\u001b[38;5;124m\"\u001b[39m: converted_results}\n",
            "File \u001b[0;32m~/projects/master-thesis-alj95/.venv-haystack/lib/python3.12/site-packages/haystack_integrations/components/evaluators/deepeval/metrics.py:213\u001b[0m, in \u001b[0;36mOutputConverters.default.<locals>.inner\u001b[0;34m(output, metric)\u001b[0m\n\u001b[1;32m    211\u001b[0m metric_name \u001b[38;5;241m=\u001b[39m \u001b[38;5;28mstr\u001b[39m(metric)\n\u001b[1;32m    212\u001b[0m \u001b[38;5;28mprint\u001b[39m(\u001b[38;5;28mtype\u001b[39m(output), output)\n\u001b[0;32m--> 213\u001b[0m \u001b[38;5;28;01massert\u001b[39;00m \u001b[38;5;28mlen\u001b[39m(\u001b[43moutput\u001b[49m\u001b[38;5;241;43m.\u001b[39;49m\u001b[43mmetrics\u001b[49m) \u001b[38;5;241m==\u001b[39m \u001b[38;5;241m1\u001b[39m\n\u001b[1;32m    214\u001b[0m metric_result \u001b[38;5;241m=\u001b[39m output\u001b[38;5;241m.\u001b[39mmetrics[\u001b[38;5;241m0\u001b[39m]\n\u001b[1;32m    215\u001b[0m out \u001b[38;5;241m=\u001b[39m [MetricResult(name\u001b[38;5;241m=\u001b[39mmetric_name, score\u001b[38;5;241m=\u001b[39mmetric_result\u001b[38;5;241m.\u001b[39mscore, explanation\u001b[38;5;241m=\u001b[39mmetric_result\u001b[38;5;241m.\u001b[39mreason)]\n",
            "\u001b[0;31mAttributeError\u001b[0m: 'tuple' object has no attribute 'metrics'"
          ]
        }
      ],
      "source": [
        "evaluation_results = context_precision_pipeline.run(\n",
        "    {\"evaluator\": {\"questions\": questions, \"contexts\": contexts, \"ground_truths\": ground_truths, \"responses\": responses}}\n",
        ")\n",
        "print(evaluation_results[\"evaluator\"][\"results\"])\n"
      ]
    },
    {
      "cell_type": "code",
      "execution_count": null,
      "metadata": {},
      "outputs": [],
      "source": []
    },
    {
      "cell_type": "code",
      "execution_count": 16,
      "metadata": {},
      "outputs": [
        {
          "name": "stdout",
          "output_type": "stream",
          "text": [
            "Package                                  Version\n",
            "---------------------------------------- -----------\n",
            "absl-py                                  2.1.0\n",
            "aiohappyeyeballs                         2.4.3\n",
            "aiohttp                                  3.10.10\n",
            "aiosignal                                1.3.1\n",
            "annotated-types                          0.7.0\n",
            "anyio                                    4.6.2.post1\n",
            "appdirs                                  1.4.4\n",
            "appnope                                  0.1.4\n",
            "asttokens                                2.4.1\n",
            "attrs                                    24.2.0\n",
            "backoff                                  2.2.1\n",
            "certifi                                  2024.8.30\n",
            "charset-normalizer                       3.4.0\n",
            "click                                    8.1.7\n",
            "comm                                     0.2.2\n",
            "dataclasses-json                         0.6.7\n",
            "datasets                                 3.1.0\n",
            "debugpy                                  1.8.7\n",
            "decorator                                5.1.1\n",
            "deepeval                                 1.4.8\n",
            "deepeval-haystack                        0.1.1\n",
            "Deprecated                               1.2.14\n",
            "dill                                     0.3.8\n",
            "distro                                   1.9.0\n",
            "docx2txt                                 0.8\n",
            "execnet                                  2.1.1\n",
            "executing                                2.1.0\n",
            "filelock                                 3.16.1\n",
            "frozenlist                               1.5.0\n",
            "fsspec                                   2024.9.0\n",
            "googleapis-common-protos                 1.65.0\n",
            "greenlet                                 3.1.1\n",
            "grpcio                                   1.63.2\n",
            "h11                                      0.14.0\n",
            "haystack-ai                              2.6.1\n",
            "haystack-experimental                    0.2.0\n",
            "httpcore                                 1.0.6\n",
            "httpx                                    0.27.2\n",
            "httpx-sse                                0.4.0\n",
            "huggingface-hub                          0.26.2\n",
            "idna                                     3.10\n",
            "importlib-metadata                       7.0.0\n",
            "iniconfig                                2.0.0\n",
            "ipykernel                                6.29.5\n",
            "ipython                                  8.28.0\n",
            "jedi                                     0.19.1\n",
            "Jinja2                                   3.1.4\n",
            "jiter                                    0.6.1\n",
            "joblib                                   1.4.2\n",
            "jsonpatch                                1.33\n",
            "jsonpointer                              3.0.0\n",
            "jupyter_client                           8.6.3\n",
            "jupyter_core                             5.7.2\n",
            "langchain                                0.3.7\n",
            "langchain-community                      0.3.5\n",
            "langchain-core                           0.3.15\n",
            "langchain-openai                         0.2.5\n",
            "langchain-text-splitters                 0.3.2\n",
            "langsmith                                0.1.139\n",
            "lazy-imports                             0.3.1\n",
            "markdown-it-py                           3.0.0\n",
            "MarkupSafe                               3.0.2\n",
            "marshmallow                              3.23.1\n",
            "matplotlib-inline                        0.1.7\n",
            "mdurl                                    0.1.2\n",
            "monotonic                                1.6\n",
            "more-itertools                           10.5.0\n",
            "mpmath                                   1.3.0\n",
            "multidict                                6.1.0\n",
            "multiprocess                             0.70.16\n",
            "mypy-extensions                          1.0.0\n",
            "nest-asyncio                             1.6.0\n",
            "networkx                                 3.4.1\n",
            "nltk                                     3.8.1\n",
            "numpy                                    1.26.4\n",
            "openai                                   1.52.0\n",
            "opentelemetry-api                        1.24.0\n",
            "opentelemetry-exporter-otlp-proto-common 1.24.0\n",
            "opentelemetry-exporter-otlp-proto-grpc   1.24.0\n",
            "opentelemetry-proto                      1.24.0\n",
            "opentelemetry-sdk                        1.24.0\n",
            "opentelemetry-semantic-conventions       0.45b0\n",
            "orjson                                   3.10.11\n",
            "packaging                                24.1\n",
            "pandas                                   2.2.3\n",
            "parso                                    0.8.4\n",
            "pexpect                                  4.9.0\n",
            "pillow                                   11.0.0\n",
            "pip                                      24.2\n",
            "platformdirs                             4.3.6\n",
            "pluggy                                   1.5.0\n",
            "portalocker                              2.10.1\n",
            "posthog                                  3.7.0\n",
            "prompt_toolkit                           3.0.48\n",
            "propcache                                0.2.0\n",
            "protobuf                                 4.25.1\n",
            "psutil                                   6.1.0\n",
            "ptyprocess                               0.7.0\n",
            "pure_eval                                0.2.3\n",
            "pyarrow                                  18.0.0\n",
            "pydantic                                 2.9.2\n",
            "pydantic_core                            2.23.4\n",
            "pydantic-settings                        2.6.1\n",
            "Pygments                                 2.18.0\n",
            "pysbd                                    0.3.4\n",
            "pytest                                   8.3.3\n",
            "pytest-repeat                            0.9.3\n",
            "pytest-xdist                             3.6.1\n",
            "python-dateutil                          2.9.0.post0\n",
            "python-dotenv                            1.0.1\n",
            "pytz                                     2024.2\n",
            "PyYAML                                   6.0.2\n",
            "pyzmq                                    26.2.0\n",
            "ragas                                    0.2.3\n",
            "regex                                    2024.9.11\n",
            "requests                                 2.32.3\n",
            "requests-toolbelt                        1.0.0\n",
            "rich                                     13.9.4\n",
            "rouge_score                              0.1.2\n",
            "safetensors                              0.4.5\n",
            "scikit-learn                             1.5.2\n",
            "scipy                                    1.14.1\n",
            "sentence-transformers                    3.2.1\n",
            "sentry-sdk                               2.17.0\n",
            "shellingham                              1.5.4\n",
            "six                                      1.16.0\n",
            "sniffio                                  1.3.1\n",
            "SQLAlchemy                               2.0.35\n",
            "stack-data                               0.6.3\n",
            "sympy                                    1.13.3\n",
            "tabulate                                 0.9.0\n",
            "tenacity                                 8.4.2\n",
            "threadpoolctl                            3.5.0\n",
            "tiktoken                                 0.8.0\n",
            "tokenizers                               0.20.1\n",
            "torch                                    2.2.2\n",
            "tornado                                  6.4.1\n",
            "tqdm                                     4.66.5\n",
            "traitlets                                5.14.3\n",
            "transformers                             4.46.1\n",
            "typer                                    0.12.5\n",
            "typing_extensions                        4.12.2\n",
            "typing-inspect                           0.9.0\n",
            "tzdata                                   2024.2\n",
            "urllib3                                  2.2.3\n",
            "wcwidth                                  0.2.13\n",
            "wrapt                                    1.16.0\n",
            "xxhash                                   3.5.0\n",
            "yarl                                     1.17.1\n",
            "zipp                                     3.20.2\n"
          ]
        }
      ],
      "source": [
        "!pip list"
      ]
    },
    {
      "cell_type": "markdown",
      "metadata": {
        "id": "Z6T-x33AERO1"
      },
      "source": [
        "### Contextual Recall\n",
        "\n",
        "Contextual recall measures the extent to which the contexts aligns with the `ground truth`."
      ]
    },
    {
      "cell_type": "code",
      "execution_count": 20,
      "metadata": {
        "colab": {
          "base_uri": "https://localhost:8080/",
          "height": 418
        },
        "id": "UFB89BwJFs1O",
        "outputId": "00c2eebd-7488-430f-a0d5-ababe0c60d4a"
      },
      "outputs": [],
      "source": [
        "from haystack import Pipeline\n",
        "from haystack_integrations.components.evaluators.deepeval import DeepEvalEvaluator, DeepEvalMetric\n",
        "\n",
        "context_recall_pipeline = Pipeline()\n",
        "evaluator = DeepEvalEvaluator(metric=DeepEvalMetric.CONTEXTUAL_RECALL, metric_params={\"model\":\"gpt-4o-mini\"})\n",
        "context_recall_pipeline.add_component(\"evaluator\", evaluator)\n"
      ]
    },
    {
      "cell_type": "code",
      "execution_count": 21,
      "metadata": {
        "colab": {
          "base_uri": "https://localhost:8080/",
          "height": 400,
          "referenced_widgets": [
            "cea6c263eb0d4e0e8cdcb8d9794058ab",
            "4c4169fdd12c4a4398da332ed7767a4e",
            "7b4736d834784dd28feb34666c098d11",
            "79c60a0c45bb4c1c8ceed3735a12c454",
            "78ca439f850f481d9531d46f93086377",
            "15da0d67f4c748528d6bc7ff027e65ef",
            "5f7b736696c9434db124ce6f2f7336a0",
            "99bca06bfd524744ac6d0dda0b364588"
          ]
        },
        "id": "L_0vM4ryFuOc",
        "outputId": "d491f7f2-780a-47d4-f48a-e42cd6d4a189"
      },
      "outputs": [
        {
          "data": {
            "text/html": [
              "<pre style=\"white-space:pre;overflow-x:auto;line-height:normal;font-family:Menlo,'DejaVu Sans Mono',consolas,'Courier New',monospace\">✨ You're running DeepEval's latest <span style=\"color: #6a00ff; text-decoration-color: #6a00ff\">Contextual Recall Metric</span>! <span style=\"color: #374151; text-decoration-color: #374151; font-weight: bold\">(</span><span style=\"color: #374151; text-decoration-color: #374151\">using gpt-4o-mini, </span><span style=\"color: #374151; text-decoration-color: #374151\">strict</span><span style=\"color: #374151; text-decoration-color: #374151\">=</span><span style=\"color: #374151; text-decoration-color: #374151; font-style: italic\">False</span><span style=\"color: #374151; text-decoration-color: #374151\">, </span><span style=\"color: #374151; text-decoration-color: #374151\">async_mode</span><span style=\"color: #374151; text-decoration-color: #374151\">=</span><span style=\"color: #374151; text-decoration-color: #374151; font-style: italic\">True</span><span style=\"color: #374151; text-decoration-color: #374151; font-weight: bold\">)</span><span style=\"color: #374151; text-decoration-color: #374151\">...</span>\n",
              "</pre>\n"
            ],
            "text/plain": [
              "✨ You're running DeepEval's latest \u001b[38;2;106;0;255mContextual Recall Metric\u001b[0m! \u001b[1;38;2;55;65;81m(\u001b[0m\u001b[38;2;55;65;81musing gpt-4o-mini, \u001b[0m\u001b[38;2;55;65;81mstrict\u001b[0m\u001b[38;2;55;65;81m=\u001b[0m\u001b[3;38;2;55;65;81mFalse\u001b[0m\u001b[38;2;55;65;81m, \u001b[0m\u001b[38;2;55;65;81masync_mode\u001b[0m\u001b[38;2;55;65;81m=\u001b[0m\u001b[3;38;2;55;65;81mTrue\u001b[0m\u001b[1;38;2;55;65;81m)\u001b[0m\u001b[38;2;55;65;81m...\u001b[0m\n"
            ]
          },
          "metadata": {},
          "output_type": "display_data"
        },
        {
          "name": "stdout",
          "output_type": "stream",
          "text": [
            "Event loop is already running. Applying nest_asyncio patch to allow async execution...\n"
          ]
        },
        {
          "name": "stderr",
          "output_type": "stream",
          "text": [
            "Evaluating 3 test case(s) in parallel: |██████████|100% (3/3) [Time Taken: 00:06,  2.23s/test case]"
          ]
        },
        {
          "name": "stdout",
          "output_type": "stream",
          "text": [
            "\n",
            "======================================================================\n",
            "\n",
            "Metrics Summary\n",
            "\n",
            "  - ✅ Contextual Recall (score: 0.0, threshold: 0.0, strict: False, evaluation model: gpt-4o-mini, reason: The score is 0.00 because the term 'Monterey' does not appear in any part of the node(s) in retrieval context, indicating a complete lack of relevant information., error: None)\n",
            "\n",
            "For test case:\n",
            "\n",
            "  - input: Which Californio is located in the upper part?\n",
            "  - actual output: The provided context does not mention anything about Californios or their locations. Therefore, based on the given information, it is not possible to determine which Californio is located in the upper part. If you have more specific information or context about Californios, I would be happy to help!\n",
            "  - expected output: Monterey\n",
            "  - context: None\n",
            "  - retrieval context: ['In the centre of Basel, the first major city in the course of the stream, is located the \"Rhine knee\"; this is a major bend, where the overall direction of the Rhine changes from West to North. Here the High Rhine ends. Legally, the Central Bridge is the boundary between High and Upper Rhine. The river now flows North as Upper Rhine through the Upper Rhine Plain, which is about 300 km long and up to 40 km wide. The most important tributaries in this area are the Ill below of Strasbourg, the Neckar in Mannheim and the Main across from Mainz. In Mainz, the Rhine leaves the Upper Rhine Valley and flows through the Mainz Basin.', 'From the death of Augustus in AD 14 until after AD 70, Rome accepted as her Germanic frontier the water-boundary of the Rhine and upper Danube. Beyond these rivers she held only the fertile plain of Frankfurt, opposite the Roman border fortress of Moguntiacum (Mainz), the southernmost slopes of the Black Forest and a few scattered bridge-heads. The northern section of this frontier, where the Rhine is deep and broad, remained the Roman boundary until the empire fell. The southern part was different. The upper Rhine and upper Danube are easily crossed. The frontier which they form is inconveniently long, enclosing an acute-angled wedge of foreign territory between the modern Baden and Württemberg. The Germanic populations of these lands seem in Roman times to have been scanty, and Roman subjects from the modern Alsace-Lorraine had drifted across the river eastwards.', \"In the 1960s, a series of discoveries, the most important of which was seafloor spreading, showed that the Earth's lithosphere, which includes the crust and rigid uppermost portion of the upper mantle, is separated into a number of tectonic plates that move across the plastically deforming, solid, upper mantle, which is called the asthenosphere. There is an intimate coupling between the movement of the plates on the surface and the convection of the mantle: oceanic plate motions and mantle convection currents always move in the same direction, because the oceanic lithosphere is the rigid upper thermal boundary layer of the convecting mantle. This coupling between rigid plates moving on the surface of the Earth and the convecting mantle is called plate tectonics.\"]\n",
            "\n",
            "======================================================================\n",
            "\n",
            "Metrics Summary\n",
            "\n",
            "  - ✅ Contextual Recall (score: 1.0, threshold: 0.0, strict: False, evaluation model: gpt-4o-mini, reason: The score is 1.00 because the retrieval context explicitly mentions a US$1,000,000 prize, perfectly aligning with the expected output., error: None)\n",
            "\n",
            "For test case:\n",
            "\n",
            "  - input: What is the prize offered for finding a solution to P=NP?\n",
            "  - actual output: The prize offered for finding a solution to the P vs NP problem is US$1,000,000.\n",
            "  - expected output: $1,000,000\n",
            "  - context: None\n",
            "  - retrieval context: ['If a problem X is in C and hard for C, then X is said to be complete for C. This means that X is the hardest problem in C. (Since many problems could be equally hard, one might say that X is one of the hardest problems in C.) Thus the class of NP-complete problems contains the most difficult problems in NP, in the sense that they are the ones most likely not to be in P. Because the problem P = NP is not solved, being able to reduce a known NP-complete problem, Π2, to another problem, Π1, would indicate that there is no known polynomial-time solution for Π1. This is because a polynomial-time solution to Π1 would yield a polynomial-time solution to Π2. Similarly, because all NP problems can be reduced to the set, finding an NP-complete problem that can be solved in polynomial time would mean that P = NP.', 'The question of whether P equals NP is one of the most important open questions in theoretical computer science because of the wide implications of a solution. If the answer is yes, many important problems can be shown to have more efficient solutions. These include various types of integer programming problems in operations research, many problems in logistics, protein structure prediction in biology, and the ability to find formal proofs of pure mathematics theorems. The P versus NP problem is one of the Millennium Prize Problems proposed by the Clay Mathematics Institute. There is a US$1,000,000 prize for resolving the problem.', 'What intractability means in practice is open to debate. Saying that a problem is not in P does not imply that all large cases of the problem are hard or even that most of them are. For example, the decision problem in Presburger arithmetic has been shown not to be in P, yet algorithms have been written that solve the problem in reasonable times in most cases. Similarly, algorithms can solve the NP-complete knapsack problem over a wide range of sizes in less than quadratic time and SAT solvers routinely handle large instances of the NP-complete Boolean satisfiability problem.']\n",
            "\n",
            "======================================================================\n",
            "\n",
            "Metrics Summary\n",
            "\n",
            "  - ✅ Contextual Recall (score: 1.0, threshold: 0.0, strict: False, evaluation model: gpt-4o-mini, reason: The score is 1.00 because 'Tehachapis' is directly referenced in the retrieval context, specifically in the first node that mentions 'South of the Tehachapis...', perfectly aligning with the expected output., error: None)\n",
            "\n",
            "For test case:\n",
            "\n",
            "  - input: Which mountain range influenced the split of the regions?\n",
            "  - actual output: The mountain range that influenced the split of the regions is the Tehachapi Mountains.\n",
            "  - expected output: Tehachapis\n",
            "  - context: None\n",
            "  - retrieval context: ['The state is most commonly divided and promoted by its regional tourism groups as consisting of northern, central, and southern California regions. The two AAA Auto Clubs of the state, the California State Automobile Association and the Automobile Club of Southern California, choose to simplify matters by dividing the state along the lines where their jurisdictions for membership apply, as either northern or southern California, in contrast to the three-region point of view. Another influence is the geographical phrase South of the Tehachapis, which would split the southern region off at the crest of that transverse range, but in that definition, the desert portions of north Los Angeles County and eastern Kern and San Bernardino Counties would be included in the southern California region due to their remoteness from the central valley and interior desert landscape.', 'Among the most well-known experiments in structural geology are those involving orogenic wedges, which are zones in which mountains are built along convergent tectonic plate boundaries. In the analog versions of these experiments, horizontal layers of sand are pulled along a lower surface into a back stop, which results in realistic-looking patterns of faulting and the growth of a critically tapered (all angles remain the same) orogenic wedge. Numerical models work in the same way as these analog models, though they are often more sophisticated and can include patterns of erosion and uplift in the mountain belt. This helps to show the relationship between erosion and the shape of the mountain range. These studies can also give useful information about pathways for metamorphism through pressure, temperature, space, and time.', \"The Mallee and upper Wimmera are Victoria's warmest regions with hot winds blowing from nearby semi-deserts. Average temperatures exceed 32 °C (90 °F) during summer and 15 °C (59 °F) in winter. Except at cool mountain elevations, the inland monthly temperatures are 2–7 °C (4–13 °F) warmer than around Melbourne (see chart). Victoria's highest maximum temperature since World War II, of 48.8 °C (119.8 °F) was recorded in Hopetoun on 7 February 2009, during the 2009 southeastern Australia heat wave.\"]\n",
            "\n",
            "======================================================================\n",
            "\n",
            "Overall Metric Pass Rates\n",
            "\n",
            "Contextual Recall: 100.00% pass rate\n",
            "\n",
            "======================================================================\n",
            "\n"
          ]
        },
        {
          "name": "stderr",
          "output_type": "stream",
          "text": [
            "\n"
          ]
        },
        {
          "data": {
            "text/html": [
              "<pre style=\"white-space:pre;overflow-x:auto;line-height:normal;font-family:Menlo,'DejaVu Sans Mono',consolas,'Courier New',monospace\"><span style=\"color: #05f58d; text-decoration-color: #05f58d\">✓</span> Tests finished 🎉! Run <span style=\"color: #008000; text-decoration-color: #008000\">'deepeval login'</span> to save and analyze evaluation results on Confident AI. \n",
              "‼️  Friendly reminder 😇: You can also run evaluations with ALL of deepeval's metrics directly on Confident AI \n",
              "instead.\n",
              "</pre>\n"
            ],
            "text/plain": [
              "\u001b[38;2;5;245;141m✓\u001b[0m Tests finished 🎉! Run \u001b[32m'deepeval login'\u001b[0m to save and analyze evaluation results on Confident AI. \n",
              "‼️  Friendly reminder 😇: You can also run evaluations with ALL of deepeval's metrics directly on Confident AI \n",
              "instead.\n"
            ]
          },
          "metadata": {},
          "output_type": "display_data"
        },
        {
          "ename": "AttributeError",
          "evalue": "'tuple' object has no attribute 'metrics'",
          "output_type": "error",
          "traceback": [
            "\u001b[0;31m---------------------------------------------------------------------------\u001b[0m",
            "\u001b[0;31mAttributeError\u001b[0m                            Traceback (most recent call last)",
            "Cell \u001b[0;32mIn[21], line 1\u001b[0m\n\u001b[0;32m----> 1\u001b[0m evaluation_results \u001b[38;5;241m=\u001b[39m \u001b[43mcontext_recall_pipeline\u001b[49m\u001b[38;5;241;43m.\u001b[39;49m\u001b[43mrun\u001b[49m\u001b[43m(\u001b[49m\n\u001b[1;32m      2\u001b[0m \u001b[43m    \u001b[49m\u001b[43m{\u001b[49m\u001b[38;5;124;43m\"\u001b[39;49m\u001b[38;5;124;43mevaluator\u001b[39;49m\u001b[38;5;124;43m\"\u001b[39;49m\u001b[43m:\u001b[49m\u001b[43m \u001b[49m\u001b[43m{\u001b[49m\u001b[38;5;124;43m\"\u001b[39;49m\u001b[38;5;124;43mquestions\u001b[39;49m\u001b[38;5;124;43m\"\u001b[39;49m\u001b[43m:\u001b[49m\u001b[43m \u001b[49m\u001b[43mquestions\u001b[49m\u001b[43m,\u001b[49m\u001b[43m \u001b[49m\u001b[38;5;124;43m\"\u001b[39;49m\u001b[38;5;124;43mcontexts\u001b[39;49m\u001b[38;5;124;43m\"\u001b[39;49m\u001b[43m:\u001b[49m\u001b[43m \u001b[49m\u001b[43mcontexts\u001b[49m\u001b[43m,\u001b[49m\u001b[43m \u001b[49m\u001b[38;5;124;43m\"\u001b[39;49m\u001b[38;5;124;43mground_truths\u001b[39;49m\u001b[38;5;124;43m\"\u001b[39;49m\u001b[43m:\u001b[49m\u001b[43m \u001b[49m\u001b[43mground_truths\u001b[49m\u001b[43m,\u001b[49m\u001b[43m \u001b[49m\u001b[38;5;124;43m\"\u001b[39;49m\u001b[38;5;124;43mresponses\u001b[39;49m\u001b[38;5;124;43m\"\u001b[39;49m\u001b[43m:\u001b[49m\u001b[43m \u001b[49m\u001b[43mresponses\u001b[49m\u001b[43m}\u001b[49m\u001b[43m}\u001b[49m\n\u001b[1;32m      3\u001b[0m \u001b[43m)\u001b[49m\n\u001b[1;32m      4\u001b[0m \u001b[38;5;28mprint\u001b[39m(evaluation_results[\u001b[38;5;124m\"\u001b[39m\u001b[38;5;124mevaluator\u001b[39m\u001b[38;5;124m\"\u001b[39m][\u001b[38;5;124m\"\u001b[39m\u001b[38;5;124mresults\u001b[39m\u001b[38;5;124m\"\u001b[39m])\n",
            "File \u001b[0;32m~/projects/master-thesis-alj95/.venv-haystack/lib/python3.12/site-packages/haystack/core/pipeline/pipeline.py:229\u001b[0m, in \u001b[0;36mPipeline.run\u001b[0;34m(self, data, include_outputs_from)\u001b[0m\n\u001b[1;32m    226\u001b[0m     msg \u001b[38;5;241m=\u001b[39m \u001b[38;5;124mf\u001b[39m\u001b[38;5;124m\"\u001b[39m\u001b[38;5;124mMaximum run count \u001b[39m\u001b[38;5;132;01m{\u001b[39;00m\u001b[38;5;28mself\u001b[39m\u001b[38;5;241m.\u001b[39m_max_runs_per_component\u001b[38;5;132;01m}\u001b[39;00m\u001b[38;5;124m reached for component \u001b[39m\u001b[38;5;124m'\u001b[39m\u001b[38;5;132;01m{\u001b[39;00mname\u001b[38;5;132;01m}\u001b[39;00m\u001b[38;5;124m'\u001b[39m\u001b[38;5;124m\"\u001b[39m\n\u001b[1;32m    227\u001b[0m     \u001b[38;5;28;01mraise\u001b[39;00m PipelineMaxComponentRuns(msg)\n\u001b[0;32m--> 229\u001b[0m res: Dict[\u001b[38;5;28mstr\u001b[39m, Any] \u001b[38;5;241m=\u001b[39m \u001b[38;5;28;43mself\u001b[39;49m\u001b[38;5;241;43m.\u001b[39;49m\u001b[43m_run_component\u001b[49m\u001b[43m(\u001b[49m\u001b[43mname\u001b[49m\u001b[43m,\u001b[49m\u001b[43m \u001b[49m\u001b[43mcomponents_inputs\u001b[49m\u001b[43m[\u001b[49m\u001b[43mname\u001b[49m\u001b[43m]\u001b[49m\u001b[43m)\u001b[49m\n\u001b[1;32m    231\u001b[0m \u001b[38;5;28;01mif\u001b[39;00m name \u001b[38;5;129;01min\u001b[39;00m include_outputs_from:\n\u001b[1;32m    232\u001b[0m     \u001b[38;5;66;03m# Deepcopy the outputs to prevent downstream nodes from modifying them\u001b[39;00m\n\u001b[1;32m    233\u001b[0m     \u001b[38;5;66;03m# We don't care about loops - Always store the last output.\u001b[39;00m\n\u001b[1;32m    234\u001b[0m     extra_outputs[name] \u001b[38;5;241m=\u001b[39m deepcopy(res)\n",
            "File \u001b[0;32m~/projects/master-thesis-alj95/.venv-haystack/lib/python3.12/site-packages/haystack/core/pipeline/pipeline.py:67\u001b[0m, in \u001b[0;36mPipeline._run_component\u001b[0;34m(self, name, inputs)\u001b[0m\n\u001b[1;32m     65\u001b[0m span\u001b[38;5;241m.\u001b[39mset_content_tag(\u001b[38;5;124m\"\u001b[39m\u001b[38;5;124mhaystack.component.input\u001b[39m\u001b[38;5;124m\"\u001b[39m, inputs)\n\u001b[1;32m     66\u001b[0m logger\u001b[38;5;241m.\u001b[39minfo(\u001b[38;5;124m\"\u001b[39m\u001b[38;5;124mRunning component \u001b[39m\u001b[38;5;132;01m{component_name}\u001b[39;00m\u001b[38;5;124m\"\u001b[39m, component_name\u001b[38;5;241m=\u001b[39mname)\n\u001b[0;32m---> 67\u001b[0m res: Dict[\u001b[38;5;28mstr\u001b[39m, Any] \u001b[38;5;241m=\u001b[39m \u001b[43minstance\u001b[49m\u001b[38;5;241;43m.\u001b[39;49m\u001b[43mrun\u001b[49m\u001b[43m(\u001b[49m\u001b[38;5;241;43m*\u001b[39;49m\u001b[38;5;241;43m*\u001b[39;49m\u001b[43minputs\u001b[49m\u001b[43m)\u001b[49m\n\u001b[1;32m     68\u001b[0m \u001b[38;5;28mself\u001b[39m\u001b[38;5;241m.\u001b[39mgraph\u001b[38;5;241m.\u001b[39mnodes[name][\u001b[38;5;124m\"\u001b[39m\u001b[38;5;124mvisits\u001b[39m\u001b[38;5;124m\"\u001b[39m] \u001b[38;5;241m+\u001b[39m\u001b[38;5;241m=\u001b[39m \u001b[38;5;241m1\u001b[39m\n\u001b[1;32m     70\u001b[0m \u001b[38;5;66;03m# After a Component that has variadic inputs is run, we need to reset the variadic inputs that were consumed\u001b[39;00m\n",
            "File \u001b[0;32m~/projects/master-thesis-alj95/.venv-haystack/lib/python3.12/site-packages/haystack_integrations/components/evaluators/deepeval/evaluator.py:90\u001b[0m, in \u001b[0;36mDeepEvalEvaluator.run\u001b[0;34m(self, **inputs)\u001b[0m\n\u001b[1;32m     87\u001b[0m converted_inputs: List[LLMTestCase] \u001b[38;5;241m=\u001b[39m \u001b[38;5;28mlist\u001b[39m(\u001b[38;5;28mself\u001b[39m\u001b[38;5;241m.\u001b[39mdescriptor\u001b[38;5;241m.\u001b[39minput_converter(\u001b[38;5;241m*\u001b[39m\u001b[38;5;241m*\u001b[39minputs))  \u001b[38;5;66;03m# type: ignore\u001b[39;00m\n\u001b[1;32m     89\u001b[0m results \u001b[38;5;241m=\u001b[39m \u001b[38;5;28mself\u001b[39m\u001b[38;5;241m.\u001b[39m_backend_callable(converted_inputs, \u001b[38;5;28mself\u001b[39m\u001b[38;5;241m.\u001b[39m_backend_metric)\n\u001b[0;32m---> 90\u001b[0m converted_results \u001b[38;5;241m=\u001b[39m [[result\u001b[38;5;241m.\u001b[39mto_dict() \u001b[38;5;28;01mfor\u001b[39;00m result \u001b[38;5;129;01min\u001b[39;00m \u001b[38;5;28;43mself\u001b[39;49m\u001b[38;5;241;43m.\u001b[39;49m\u001b[43mdescriptor\u001b[49m\u001b[38;5;241;43m.\u001b[39;49m\u001b[43moutput_converter\u001b[49m\u001b[43m(\u001b[49m\u001b[43mx\u001b[49m\u001b[43m)\u001b[49m] \u001b[38;5;28;01mfor\u001b[39;00m x \u001b[38;5;129;01min\u001b[39;00m results]\n\u001b[1;32m     92\u001b[0m \u001b[38;5;28;01mreturn\u001b[39;00m {\u001b[38;5;124m\"\u001b[39m\u001b[38;5;124mresults\u001b[39m\u001b[38;5;124m\"\u001b[39m: converted_results}\n",
            "File \u001b[0;32m~/projects/master-thesis-alj95/.venv-haystack/lib/python3.12/site-packages/haystack_integrations/components/evaluators/deepeval/metrics.py:212\u001b[0m, in \u001b[0;36mOutputConverters.default.<locals>.inner\u001b[0;34m(output, metric)\u001b[0m\n\u001b[1;32m    210\u001b[0m \u001b[38;5;28;01mdef\u001b[39;00m \u001b[38;5;21minner\u001b[39m(output: TestResult, metric: DeepEvalMetric) \u001b[38;5;241m-\u001b[39m\u001b[38;5;241m>\u001b[39m List[MetricResult]:\n\u001b[1;32m    211\u001b[0m     metric_name \u001b[38;5;241m=\u001b[39m \u001b[38;5;28mstr\u001b[39m(metric)\n\u001b[0;32m--> 212\u001b[0m     \u001b[38;5;28;01massert\u001b[39;00m \u001b[38;5;28mlen\u001b[39m(\u001b[43moutput\u001b[49m\u001b[38;5;241;43m.\u001b[39;49m\u001b[43mmetrics\u001b[49m) \u001b[38;5;241m==\u001b[39m \u001b[38;5;241m1\u001b[39m\n\u001b[1;32m    213\u001b[0m     metric_result \u001b[38;5;241m=\u001b[39m output\u001b[38;5;241m.\u001b[39mmetrics[\u001b[38;5;241m0\u001b[39m]\n\u001b[1;32m    214\u001b[0m     out \u001b[38;5;241m=\u001b[39m [MetricResult(name\u001b[38;5;241m=\u001b[39mmetric_name, score\u001b[38;5;241m=\u001b[39mmetric_result\u001b[38;5;241m.\u001b[39mscore, explanation\u001b[38;5;241m=\u001b[39mmetric_result\u001b[38;5;241m.\u001b[39mreason)]\n",
            "\u001b[0;31mAttributeError\u001b[0m: 'tuple' object has no attribute 'metrics'"
          ]
        }
      ],
      "source": [
        "evaluation_results = context_recall_pipeline.run(\n",
        "    {\"evaluator\": {\"questions\": questions, \"contexts\": contexts, \"ground_truths\": ground_truths, \"responses\": responses}}\n",
        ")\n",
        "print(evaluation_results[\"evaluator\"][\"results\"])\n"
      ]
    },
    {
      "cell_type": "markdown",
      "metadata": {
        "id": "C_91cVvZEfuk"
      },
      "source": [
        "### Contextual Relevancy\n",
        "\n",
        "The contextual relevancy metric measures the quality of our RAG pipeline's retriever by evaluating the overall relevance of the context for a given question."
      ]
    },
    {
      "cell_type": "code",
      "execution_count": null,
      "metadata": {
        "id": "eIQqeX7cF_a6"
      },
      "outputs": [],
      "source": [
        "from haystack import Pipeline\n",
        "from haystack_integrations.components.evaluators.deepeval import DeepEvalEvaluator, DeepEvalMetric\n",
        "\n",
        "context_relevancy_pipeline = Pipeline()\n",
        "evaluator = DeepEvalEvaluator(metric=DeepEvalMetric.CONTEXTUAL_RELEVANCE, metric_params={\"model\":\"gpt-4\"})\n",
        "context_relevancy_pipeline.add_component(\"evaluator\", evaluator)\n"
      ]
    },
    {
      "cell_type": "code",
      "execution_count": null,
      "metadata": {
        "colab": {
          "base_uri": "https://localhost:8080/",
          "height": 1000,
          "referenced_widgets": [
            "529e0a3f1bb94633b3a7ef3465025eb1",
            "f037a8d0089a4628991a70ed217095b0",
            "713f9175346140a6a8b5a60915ec3eb2",
            "35da6c45d95540c883b87df1985a530d",
            "72fa3d3d04f54f91be7dd6429721c6e5",
            "191ecf80edfd4653b01a69428d560032",
            "afed416a13094ef69b4cdebb0bb056bc",
            "9de852d380924ba4a8ffd526b18babf5"
          ]
        },
        "id": "XCfENS79GCsj",
        "outputId": "61ab013d-d7d5-4651-ddce-a02fca56ac63"
      },
      "outputs": [
        {
          "data": {
            "application/vnd.jupyter.widget-view+json": {
              "model_id": "529e0a3f1bb94633b3a7ef3465025eb1",
              "version_major": 2,
              "version_minor": 0
            },
            "text/plain": [
              "Output()"
            ]
          },
          "metadata": {},
          "output_type": "display_data"
        },
        {
          "data": {
            "application/vnd.jupyter.widget-view+json": {
              "model_id": "713f9175346140a6a8b5a60915ec3eb2",
              "version_major": 2,
              "version_minor": 0
            },
            "text/plain": [
              "Output()"
            ]
          },
          "metadata": {},
          "output_type": "display_data"
        },
        {
          "data": {
            "text/html": [
              "<pre style=\"white-space:pre;overflow-x:auto;line-height:normal;font-family:Menlo,'DejaVu Sans Mono',consolas,'Courier New',monospace\"></pre>\n"
            ],
            "text/plain": []
          },
          "metadata": {},
          "output_type": "display_data"
        },
        {
          "data": {
            "text/html": [
              "<pre style=\"white-space:pre;overflow-x:auto;line-height:normal;font-family:Menlo,'DejaVu Sans Mono',consolas,'Courier New',monospace\">\n",
              "</pre>\n"
            ],
            "text/plain": [
              "\n"
            ]
          },
          "metadata": {},
          "output_type": "display_data"
        },
        {
          "data": {
            "application/vnd.jupyter.widget-view+json": {
              "model_id": "72fa3d3d04f54f91be7dd6429721c6e5",
              "version_major": 2,
              "version_minor": 0
            },
            "text/plain": [
              "Output()"
            ]
          },
          "metadata": {},
          "output_type": "display_data"
        },
        {
          "data": {
            "text/html": [
              "<pre style=\"white-space:pre;overflow-x:auto;line-height:normal;font-family:Menlo,'DejaVu Sans Mono',consolas,'Courier New',monospace\"></pre>\n"
            ],
            "text/plain": []
          },
          "metadata": {},
          "output_type": "display_data"
        },
        {
          "data": {
            "text/html": [
              "<pre style=\"white-space:pre;overflow-x:auto;line-height:normal;font-family:Menlo,'DejaVu Sans Mono',consolas,'Courier New',monospace\">\n",
              "</pre>\n"
            ],
            "text/plain": [
              "\n"
            ]
          },
          "metadata": {},
          "output_type": "display_data"
        },
        {
          "data": {
            "application/vnd.jupyter.widget-view+json": {
              "model_id": "afed416a13094ef69b4cdebb0bb056bc",
              "version_major": 2,
              "version_minor": 0
            },
            "text/plain": [
              "Output()"
            ]
          },
          "metadata": {},
          "output_type": "display_data"
        },
        {
          "data": {
            "text/html": [
              "<pre style=\"white-space:pre;overflow-x:auto;line-height:normal;font-family:Menlo,'DejaVu Sans Mono',consolas,'Courier New',monospace\"></pre>\n"
            ],
            "text/plain": []
          },
          "metadata": {},
          "output_type": "display_data"
        },
        {
          "data": {
            "text/html": [
              "<pre style=\"white-space:pre;overflow-x:auto;line-height:normal;font-family:Menlo,'DejaVu Sans Mono',consolas,'Courier New',monospace\">\n",
              "</pre>\n"
            ],
            "text/plain": [
              "\n"
            ]
          },
          "metadata": {},
          "output_type": "display_data"
        },
        {
          "data": {
            "text/html": [
              "<pre style=\"white-space:pre;overflow-x:auto;line-height:normal;font-family:Menlo,'DejaVu Sans Mono',consolas,'Courier New',monospace\">\n",
              "</pre>\n"
            ],
            "text/plain": [
              "\n"
            ]
          },
          "metadata": {},
          "output_type": "display_data"
        },
        {
          "data": {
            "text/html": [
              "<pre style=\"white-space:pre;overflow-x:auto;line-height:normal;font-family:Menlo,'DejaVu Sans Mono',consolas,'Courier New',monospace\">======================================================================\n",
              "</pre>\n"
            ],
            "text/plain": [
              "======================================================================\n"
            ]
          },
          "metadata": {},
          "output_type": "display_data"
        },
        {
          "data": {
            "text/html": [
              "<pre style=\"white-space:pre;overflow-x:auto;line-height:normal;font-family:Menlo,'DejaVu Sans Mono',consolas,'Courier New',monospace\">\n",
              "</pre>\n"
            ],
            "text/plain": [
              "\n"
            ]
          },
          "metadata": {},
          "output_type": "display_data"
        },
        {
          "data": {
            "text/html": [
              "<pre style=\"white-space:pre;overflow-x:auto;line-height:normal;font-family:Menlo,'DejaVu Sans Mono',consolas,'Courier New',monospace\">Metrics Summary\n",
              "</pre>\n"
            ],
            "text/plain": [
              "Metrics Summary\n"
            ]
          },
          "metadata": {},
          "output_type": "display_data"
        },
        {
          "data": {
            "text/html": [
              "<pre style=\"white-space:pre;overflow-x:auto;line-height:normal;font-family:Menlo,'DejaVu Sans Mono',consolas,'Courier New',monospace\">\n",
              "</pre>\n"
            ],
            "text/plain": [
              "\n"
            ]
          },
          "metadata": {},
          "output_type": "display_data"
        },
        {
          "data": {
            "text/html": [
              "<pre style=\"white-space:pre;overflow-x:auto;line-height:normal;font-family:Menlo,'DejaVu Sans Mono',consolas,'Courier New',monospace\">  - ✅ Contextual Relevancy (score: 0.09090909090909091, threshold: 0.0, evaluation model: gpt-4, reason: The score\n",
              "is 0.09 because the sentences provided do not directly address the influence of a mountain range on the division of\n",
              "regions. They discuss the division of California, temperature data for Victoria, and experiments in structural \n",
              "geology, but do not provide information pertinent to the input question.)\n",
              "</pre>\n"
            ],
            "text/plain": [
              "  - ✅ Contextual Relevancy (score: 0.09090909090909091, threshold: 0.0, evaluation model: gpt-4, reason: The score\n",
              "is 0.09 because the sentences provided do not directly address the influence of a mountain range on the division of\n",
              "regions. They discuss the division of California, temperature data for Victoria, and experiments in structural \n",
              "geology, but do not provide information pertinent to the input question.)\n"
            ]
          },
          "metadata": {},
          "output_type": "display_data"
        },
        {
          "data": {
            "text/html": [
              "<pre style=\"white-space:pre;overflow-x:auto;line-height:normal;font-family:Menlo,'DejaVu Sans Mono',consolas,'Courier New',monospace\">\n",
              "</pre>\n"
            ],
            "text/plain": [
              "\n"
            ]
          },
          "metadata": {},
          "output_type": "display_data"
        },
        {
          "data": {
            "text/html": [
              "<pre style=\"white-space:pre;overflow-x:auto;line-height:normal;font-family:Menlo,'DejaVu Sans Mono',consolas,'Courier New',monospace\">For test case:\n",
              "</pre>\n"
            ],
            "text/plain": [
              "For test case:\n"
            ]
          },
          "metadata": {},
          "output_type": "display_data"
        },
        {
          "data": {
            "text/html": [
              "<pre style=\"white-space:pre;overflow-x:auto;line-height:normal;font-family:Menlo,'DejaVu Sans Mono',consolas,'Courier New',monospace\">\n",
              "</pre>\n"
            ],
            "text/plain": [
              "\n"
            ]
          },
          "metadata": {},
          "output_type": "display_data"
        },
        {
          "data": {
            "text/html": [
              "<pre style=\"white-space:pre;overflow-x:auto;line-height:normal;font-family:Menlo,'DejaVu Sans Mono',consolas,'Courier New',monospace\">  - input: Which mountain range influenced the split of the regions?\n",
              "</pre>\n"
            ],
            "text/plain": [
              "  - input: Which mountain range influenced the split of the regions?\n"
            ]
          },
          "metadata": {},
          "output_type": "display_data"
        },
        {
          "data": {
            "text/html": [
              "<pre style=\"white-space:pre;overflow-x:auto;line-height:normal;font-family:Menlo,'DejaVu Sans Mono',consolas,'Courier New',monospace\">  - actual output: The Tehachapi mountain range influenced the split of the regions in California.\n",
              "</pre>\n"
            ],
            "text/plain": [
              "  - actual output: The Tehachapi mountain range influenced the split of the regions in California.\n"
            ]
          },
          "metadata": {},
          "output_type": "display_data"
        },
        {
          "data": {
            "text/html": [
              "<pre style=\"white-space:pre;overflow-x:auto;line-height:normal;font-family:Menlo,'DejaVu Sans Mono',consolas,'Courier New',monospace\">  - expected output: None\n",
              "</pre>\n"
            ],
            "text/plain": [
              "  - expected output: None\n"
            ]
          },
          "metadata": {},
          "output_type": "display_data"
        },
        {
          "data": {
            "text/html": [
              "<pre style=\"white-space:pre;overflow-x:auto;line-height:normal;font-family:Menlo,'DejaVu Sans Mono',consolas,'Courier New',monospace\">  - context: None\n",
              "</pre>\n"
            ],
            "text/plain": [
              "  - context: None\n"
            ]
          },
          "metadata": {},
          "output_type": "display_data"
        },
        {
          "data": {
            "text/html": [
              "<pre style=\"white-space:pre;overflow-x:auto;line-height:normal;font-family:Menlo,'DejaVu Sans Mono',consolas,'Courier New',monospace\">  - retrieval context: ['The state is most commonly divided and promoted by its regional tourism groups as \n",
              "consisting of northern, central, and southern California regions. The two AAA Auto Clubs of the state, the \n",
              "California State Automobile Association and the Automobile Club of Southern California, choose to simplify matters \n",
              "by dividing the state along the lines where their jurisdictions for membership apply, as either northern or \n",
              "southern California, in contrast to the three-region point of view. Another influence is the geographical phrase \n",
              "South of the Tehachapis, which would split the southern region off at the crest of that transverse range, but in \n",
              "that definition, the desert portions of north Los Angeles County and eastern Kern and San Bernardino Counties would\n",
              "be included in the southern California region due to their remoteness from the central valley and interior desert \n",
              "landscape.', 'Among the most well-known experiments in structural geology are those involving orogenic wedges, \n",
              "which are zones in which mountains are built along convergent tectonic plate boundaries. In the analog versions of \n",
              "these experiments, horizontal layers of sand are pulled along a lower surface into a back stop, which results in \n",
              "realistic-looking patterns of faulting and the growth of a critically tapered (all angles remain the same) orogenic\n",
              "wedge. Numerical models work in the same way as these analog models, though they are often more sophisticated and \n",
              "can include patterns of erosion and uplift in the mountain belt. This helps to show the relationship between \n",
              "erosion and the shape of the mountain range. These studies can also give useful information about pathways for \n",
              "metamorphism through pressure, temperature, space, and time.', \"The Mallee and upper Wimmera are Victoria's warmest\n",
              "regions with hot winds blowing from nearby semi-deserts. Average temperatures exceed 32 °C (90 °F) during summer \n",
              "and 15 °C (59 °F) in winter. Except at cool mountain elevations, the inland monthly temperatures are 2–7 °C (4–13 \n",
              "°F) warmer than around Melbourne (see chart). Victoria's highest maximum temperature since World War II, of 48.8 °C\n",
              "(119.8 °F) was recorded in Hopetoun on 7 February 2009, during the 2009 southeastern Australia heat wave.\"]\n",
              "</pre>\n"
            ],
            "text/plain": [
              "  - retrieval context: ['The state is most commonly divided and promoted by its regional tourism groups as \n",
              "consisting of northern, central, and southern California regions. The two AAA Auto Clubs of the state, the \n",
              "California State Automobile Association and the Automobile Club of Southern California, choose to simplify matters \n",
              "by dividing the state along the lines where their jurisdictions for membership apply, as either northern or \n",
              "southern California, in contrast to the three-region point of view. Another influence is the geographical phrase \n",
              "South of the Tehachapis, which would split the southern region off at the crest of that transverse range, but in \n",
              "that definition, the desert portions of north Los Angeles County and eastern Kern and San Bernardino Counties would\n",
              "be included in the southern California region due to their remoteness from the central valley and interior desert \n",
              "landscape.', 'Among the most well-known experiments in structural geology are those involving orogenic wedges, \n",
              "which are zones in which mountains are built along convergent tectonic plate boundaries. In the analog versions of \n",
              "these experiments, horizontal layers of sand are pulled along a lower surface into a back stop, which results in \n",
              "realistic-looking patterns of faulting and the growth of a critically tapered (all angles remain the same) orogenic\n",
              "wedge. Numerical models work in the same way as these analog models, though they are often more sophisticated and \n",
              "can include patterns of erosion and uplift in the mountain belt. This helps to show the relationship between \n",
              "erosion and the shape of the mountain range. These studies can also give useful information about pathways for \n",
              "metamorphism through pressure, temperature, space, and time.', \"The Mallee and upper Wimmera are Victoria's warmest\n",
              "regions with hot winds blowing from nearby semi-deserts. Average temperatures exceed 32 °C (90 °F) during summer \n",
              "and 15 °C (59 °F) in winter. Except at cool mountain elevations, the inland monthly temperatures are 2–7 °C (4–13 \n",
              "°F) warmer than around Melbourne (see chart). Victoria's highest maximum temperature since World War II, of 48.8 °C\n",
              "(119.8 °F) was recorded in Hopetoun on 7 February 2009, during the 2009 southeastern Australia heat wave.\"]\n"
            ]
          },
          "metadata": {},
          "output_type": "display_data"
        },
        {
          "data": {
            "text/html": [
              "<pre style=\"white-space:pre;overflow-x:auto;line-height:normal;font-family:Menlo,'DejaVu Sans Mono',consolas,'Courier New',monospace\">\n",
              "</pre>\n"
            ],
            "text/plain": [
              "\n"
            ]
          },
          "metadata": {},
          "output_type": "display_data"
        },
        {
          "data": {
            "text/html": [
              "<pre style=\"white-space:pre;overflow-x:auto;line-height:normal;font-family:Menlo,'DejaVu Sans Mono',consolas,'Courier New',monospace\">======================================================================\n",
              "</pre>\n"
            ],
            "text/plain": [
              "======================================================================\n"
            ]
          },
          "metadata": {},
          "output_type": "display_data"
        },
        {
          "data": {
            "text/html": [
              "<pre style=\"white-space:pre;overflow-x:auto;line-height:normal;font-family:Menlo,'DejaVu Sans Mono',consolas,'Courier New',monospace\">\n",
              "</pre>\n"
            ],
            "text/plain": [
              "\n"
            ]
          },
          "metadata": {},
          "output_type": "display_data"
        },
        {
          "data": {
            "text/html": [
              "<pre style=\"white-space:pre;overflow-x:auto;line-height:normal;font-family:Menlo,'DejaVu Sans Mono',consolas,'Courier New',monospace\">Metrics Summary\n",
              "</pre>\n"
            ],
            "text/plain": [
              "Metrics Summary\n"
            ]
          },
          "metadata": {},
          "output_type": "display_data"
        },
        {
          "data": {
            "text/html": [
              "<pre style=\"white-space:pre;overflow-x:auto;line-height:normal;font-family:Menlo,'DejaVu Sans Mono',consolas,'Courier New',monospace\">\n",
              "</pre>\n"
            ],
            "text/plain": [
              "\n"
            ]
          },
          "metadata": {},
          "output_type": "display_data"
        },
        {
          "data": {
            "text/html": [
              "<pre style=\"white-space:pre;overflow-x:auto;line-height:normal;font-family:Menlo,'DejaVu Sans Mono',consolas,'Courier New',monospace\">  - ✅ Contextual Relevancy (score: 0.5384615384615384, threshold: 0.0, evaluation model: gpt-4, reason: The score \n",
              "is 0.54 because the majority of the sentences extracted from the retrieval context, particularly from nodes 2 and \n",
              "3, focus on explaining the complexities and characteristics of the P=NP problem, rather than directly addressing \n",
              "the specific question about the prize offered for finding a solution to this problem.)\n",
              "</pre>\n"
            ],
            "text/plain": [
              "  - ✅ Contextual Relevancy (score: 0.5384615384615384, threshold: 0.0, evaluation model: gpt-4, reason: The score \n",
              "is 0.54 because the majority of the sentences extracted from the retrieval context, particularly from nodes 2 and \n",
              "3, focus on explaining the complexities and characteristics of the P=NP problem, rather than directly addressing \n",
              "the specific question about the prize offered for finding a solution to this problem.)\n"
            ]
          },
          "metadata": {},
          "output_type": "display_data"
        },
        {
          "data": {
            "text/html": [
              "<pre style=\"white-space:pre;overflow-x:auto;line-height:normal;font-family:Menlo,'DejaVu Sans Mono',consolas,'Courier New',monospace\">\n",
              "</pre>\n"
            ],
            "text/plain": [
              "\n"
            ]
          },
          "metadata": {},
          "output_type": "display_data"
        },
        {
          "data": {
            "text/html": [
              "<pre style=\"white-space:pre;overflow-x:auto;line-height:normal;font-family:Menlo,'DejaVu Sans Mono',consolas,'Courier New',monospace\">For test case:\n",
              "</pre>\n"
            ],
            "text/plain": [
              "For test case:\n"
            ]
          },
          "metadata": {},
          "output_type": "display_data"
        },
        {
          "data": {
            "text/html": [
              "<pre style=\"white-space:pre;overflow-x:auto;line-height:normal;font-family:Menlo,'DejaVu Sans Mono',consolas,'Courier New',monospace\">\n",
              "</pre>\n"
            ],
            "text/plain": [
              "\n"
            ]
          },
          "metadata": {},
          "output_type": "display_data"
        },
        {
          "data": {
            "text/html": [
              "<pre style=\"white-space:pre;overflow-x:auto;line-height:normal;font-family:Menlo,'DejaVu Sans Mono',consolas,'Courier New',monospace\">  - input: What is the prize offered for finding a solution to P=NP?\n",
              "</pre>\n"
            ],
            "text/plain": [
              "  - input: What is the prize offered for finding a solution to P=NP?\n"
            ]
          },
          "metadata": {},
          "output_type": "display_data"
        },
        {
          "data": {
            "text/html": [
              "<pre style=\"white-space:pre;overflow-x:auto;line-height:normal;font-family:Menlo,'DejaVu Sans Mono',consolas,'Courier New',monospace\">  - actual output: The prize offered for finding a solution to P=NP is US$1,000,000.\n",
              "</pre>\n"
            ],
            "text/plain": [
              "  - actual output: The prize offered for finding a solution to P=NP is US$1,000,000.\n"
            ]
          },
          "metadata": {},
          "output_type": "display_data"
        },
        {
          "data": {
            "text/html": [
              "<pre style=\"white-space:pre;overflow-x:auto;line-height:normal;font-family:Menlo,'DejaVu Sans Mono',consolas,'Courier New',monospace\">  - expected output: None\n",
              "</pre>\n"
            ],
            "text/plain": [
              "  - expected output: None\n"
            ]
          },
          "metadata": {},
          "output_type": "display_data"
        },
        {
          "data": {
            "text/html": [
              "<pre style=\"white-space:pre;overflow-x:auto;line-height:normal;font-family:Menlo,'DejaVu Sans Mono',consolas,'Courier New',monospace\">  - context: None\n",
              "</pre>\n"
            ],
            "text/plain": [
              "  - context: None\n"
            ]
          },
          "metadata": {},
          "output_type": "display_data"
        },
        {
          "data": {
            "text/html": [
              "<pre style=\"white-space:pre;overflow-x:auto;line-height:normal;font-family:Menlo,'DejaVu Sans Mono',consolas,'Courier New',monospace\">  - retrieval context: ['If a problem X is in C and hard for C, then X is said to be complete for C. This means \n",
              "that X is the hardest problem in C. (Since many problems could be equally hard, one might say that X is one of the \n",
              "hardest problems in C.) Thus the class of NP-complete problems contains the most difficult problems in NP, in the \n",
              "sense that they are the ones most likely not to be in P. Because the problem P = NP is not solved, being able to \n",
              "reduce a known NP-complete problem, Π2, to another problem, Π1, would indicate that there is no known \n",
              "polynomial-time solution for Π1. This is because a polynomial-time solution to Π1 would yield a polynomial-time \n",
              "solution to Π2. Similarly, because all NP problems can be reduced to the set, finding an NP-complete problem that \n",
              "can be solved in polynomial time would mean that P = NP.', 'The question of whether P equals NP is one of the most \n",
              "important open questions in theoretical computer science because of the wide implications of a solution. If the \n",
              "answer is yes, many important problems can be shown to have more efficient solutions. These include various types \n",
              "of integer programming problems in operations research, many problems in logistics, protein structure prediction in\n",
              "biology, and the ability to find formal proofs of pure mathematics theorems. The P versus NP problem is one of the \n",
              "Millennium Prize Problems proposed by the Clay Mathematics Institute. There is a US$1,000,000 prize for resolving \n",
              "the problem.', 'What intractability means in practice is open to debate. Saying that a problem is not in P does not\n",
              "imply that all large cases of the problem are hard or even that most of them are. For example, the decision problem\n",
              "in Presburger arithmetic has been shown not to be in P, yet algorithms have been written that solve the problem in \n",
              "reasonable times in most cases. Similarly, algorithms can solve the NP-complete knapsack problem over a wide range \n",
              "of sizes in less than quadratic time and SAT solvers routinely handle large instances of the NP-complete Boolean \n",
              "satisfiability problem.']\n",
              "</pre>\n"
            ],
            "text/plain": [
              "  - retrieval context: ['If a problem X is in C and hard for C, then X is said to be complete for C. This means \n",
              "that X is the hardest problem in C. (Since many problems could be equally hard, one might say that X is one of the \n",
              "hardest problems in C.) Thus the class of NP-complete problems contains the most difficult problems in NP, in the \n",
              "sense that they are the ones most likely not to be in P. Because the problem P = NP is not solved, being able to \n",
              "reduce a known NP-complete problem, Π2, to another problem, Π1, would indicate that there is no known \n",
              "polynomial-time solution for Π1. This is because a polynomial-time solution to Π1 would yield a polynomial-time \n",
              "solution to Π2. Similarly, because all NP problems can be reduced to the set, finding an NP-complete problem that \n",
              "can be solved in polynomial time would mean that P = NP.', 'The question of whether P equals NP is one of the most \n",
              "important open questions in theoretical computer science because of the wide implications of a solution. If the \n",
              "answer is yes, many important problems can be shown to have more efficient solutions. These include various types \n",
              "of integer programming problems in operations research, many problems in logistics, protein structure prediction in\n",
              "biology, and the ability to find formal proofs of pure mathematics theorems. The P versus NP problem is one of the \n",
              "Millennium Prize Problems proposed by the Clay Mathematics Institute. There is a US$1,000,000 prize for resolving \n",
              "the problem.', 'What intractability means in practice is open to debate. Saying that a problem is not in P does not\n",
              "imply that all large cases of the problem are hard or even that most of them are. For example, the decision problem\n",
              "in Presburger arithmetic has been shown not to be in P, yet algorithms have been written that solve the problem in \n",
              "reasonable times in most cases. Similarly, algorithms can solve the NP-complete knapsack problem over a wide range \n",
              "of sizes in less than quadratic time and SAT solvers routinely handle large instances of the NP-complete Boolean \n",
              "satisfiability problem.']\n"
            ]
          },
          "metadata": {},
          "output_type": "display_data"
        },
        {
          "data": {
            "text/html": [
              "<pre style=\"white-space:pre;overflow-x:auto;line-height:normal;font-family:Menlo,'DejaVu Sans Mono',consolas,'Courier New',monospace\">\n",
              "</pre>\n"
            ],
            "text/plain": [
              "\n"
            ]
          },
          "metadata": {},
          "output_type": "display_data"
        },
        {
          "data": {
            "text/html": [
              "<pre style=\"white-space:pre;overflow-x:auto;line-height:normal;font-family:Menlo,'DejaVu Sans Mono',consolas,'Courier New',monospace\">======================================================================\n",
              "</pre>\n"
            ],
            "text/plain": [
              "======================================================================\n"
            ]
          },
          "metadata": {},
          "output_type": "display_data"
        },
        {
          "data": {
            "text/html": [
              "<pre style=\"white-space:pre;overflow-x:auto;line-height:normal;font-family:Menlo,'DejaVu Sans Mono',consolas,'Courier New',monospace\">\n",
              "</pre>\n"
            ],
            "text/plain": [
              "\n"
            ]
          },
          "metadata": {},
          "output_type": "display_data"
        },
        {
          "data": {
            "text/html": [
              "<pre style=\"white-space:pre;overflow-x:auto;line-height:normal;font-family:Menlo,'DejaVu Sans Mono',consolas,'Courier New',monospace\">Metrics Summary\n",
              "</pre>\n"
            ],
            "text/plain": [
              "Metrics Summary\n"
            ]
          },
          "metadata": {},
          "output_type": "display_data"
        },
        {
          "data": {
            "text/html": [
              "<pre style=\"white-space:pre;overflow-x:auto;line-height:normal;font-family:Menlo,'DejaVu Sans Mono',consolas,'Courier New',monospace\">\n",
              "</pre>\n"
            ],
            "text/plain": [
              "\n"
            ]
          },
          "metadata": {},
          "output_type": "display_data"
        },
        {
          "data": {
            "text/html": [
              "<pre style=\"white-space:pre;overflow-x:auto;line-height:normal;font-family:Menlo,'DejaVu Sans Mono',consolas,'Courier New',monospace\">  - ✅ Contextual Relevancy (score: 0.0, threshold: 0.0, evaluation model: gpt-4, reason: The score is 0.00 because\n",
              "none of the sentences in the retrieval context provide any information related to the queried Californio's \n",
              "location. They mostly discuss geological and geographical matters like tectonic plates and river courses, which are\n",
              "irrelevant to the original question.)\n",
              "</pre>\n"
            ],
            "text/plain": [
              "  - ✅ Contextual Relevancy (score: 0.0, threshold: 0.0, evaluation model: gpt-4, reason: The score is 0.00 because\n",
              "none of the sentences in the retrieval context provide any information related to the queried Californio's \n",
              "location. They mostly discuss geological and geographical matters like tectonic plates and river courses, which are\n",
              "irrelevant to the original question.)\n"
            ]
          },
          "metadata": {},
          "output_type": "display_data"
        },
        {
          "data": {
            "text/html": [
              "<pre style=\"white-space:pre;overflow-x:auto;line-height:normal;font-family:Menlo,'DejaVu Sans Mono',consolas,'Courier New',monospace\">\n",
              "</pre>\n"
            ],
            "text/plain": [
              "\n"
            ]
          },
          "metadata": {},
          "output_type": "display_data"
        },
        {
          "data": {
            "text/html": [
              "<pre style=\"white-space:pre;overflow-x:auto;line-height:normal;font-family:Menlo,'DejaVu Sans Mono',consolas,'Courier New',monospace\">For test case:\n",
              "</pre>\n"
            ],
            "text/plain": [
              "For test case:\n"
            ]
          },
          "metadata": {},
          "output_type": "display_data"
        },
        {
          "data": {
            "text/html": [
              "<pre style=\"white-space:pre;overflow-x:auto;line-height:normal;font-family:Menlo,'DejaVu Sans Mono',consolas,'Courier New',monospace\">\n",
              "</pre>\n"
            ],
            "text/plain": [
              "\n"
            ]
          },
          "metadata": {},
          "output_type": "display_data"
        },
        {
          "data": {
            "text/html": [
              "<pre style=\"white-space:pre;overflow-x:auto;line-height:normal;font-family:Menlo,'DejaVu Sans Mono',consolas,'Courier New',monospace\">  - input: Which Californio is located in the upper part?\n",
              "</pre>\n"
            ],
            "text/plain": [
              "  - input: Which Californio is located in the upper part?\n"
            ]
          },
          "metadata": {},
          "output_type": "display_data"
        },
        {
          "data": {
            "text/html": [
              "<pre style=\"white-space:pre;overflow-x:auto;line-height:normal;font-family:Menlo,'DejaVu Sans Mono',consolas,'Courier New',monospace\">  - actual output: The Californio located in the upper part is the Ill below of Strasbourg.\n",
              "</pre>\n"
            ],
            "text/plain": [
              "  - actual output: The Californio located in the upper part is the Ill below of Strasbourg.\n"
            ]
          },
          "metadata": {},
          "output_type": "display_data"
        },
        {
          "data": {
            "text/html": [
              "<pre style=\"white-space:pre;overflow-x:auto;line-height:normal;font-family:Menlo,'DejaVu Sans Mono',consolas,'Courier New',monospace\">  - expected output: None\n",
              "</pre>\n"
            ],
            "text/plain": [
              "  - expected output: None\n"
            ]
          },
          "metadata": {},
          "output_type": "display_data"
        },
        {
          "data": {
            "text/html": [
              "<pre style=\"white-space:pre;overflow-x:auto;line-height:normal;font-family:Menlo,'DejaVu Sans Mono',consolas,'Courier New',monospace\">  - context: None\n",
              "</pre>\n"
            ],
            "text/plain": [
              "  - context: None\n"
            ]
          },
          "metadata": {},
          "output_type": "display_data"
        },
        {
          "data": {
            "text/html": [
              "<pre style=\"white-space:pre;overflow-x:auto;line-height:normal;font-family:Menlo,'DejaVu Sans Mono',consolas,'Courier New',monospace\">  - retrieval context: ['In the centre of Basel, the first major city in the course of the stream, is located the \n",
              "\"Rhine knee\"; this is a major bend, where the overall direction of the Rhine changes from West to North. Here the \n",
              "High Rhine ends. Legally, the Central Bridge is the boundary between High and Upper Rhine. The river now flows \n",
              "North as Upper Rhine through the Upper Rhine Plain, which is about 300 km long and up to 40 km wide. The most \n",
              "important tributaries in this area are the Ill below of Strasbourg, the Neckar in Mannheim and the Main across from\n",
              "Mainz. In Mainz, the Rhine leaves the Upper Rhine Valley and flows through the Mainz Basin.', 'From the death of \n",
              "Augustus in AD 14 until after AD 70, Rome accepted as her Germanic frontier the water-boundary of the Rhine and \n",
              "upper Danube. Beyond these rivers she held only the fertile plain of Frankfurt, opposite the Roman border fortress \n",
              "of Moguntiacum (Mainz), the southernmost slopes of the Black Forest and a few scattered bridge-heads. The northern \n",
              "section of this frontier, where the Rhine is deep and broad, remained the Roman boundary until the empire fell. The\n",
              "southern part was different. The upper Rhine and upper Danube are easily crossed. The frontier which they form is \n",
              "inconveniently long, enclosing an acute-angled wedge of foreign territory between the modern Baden and Württemberg.\n",
              "The Germanic populations of these lands seem in Roman times to have been scanty, and Roman subjects from the modern\n",
              "Alsace-Lorraine had drifted across the river eastwards.', \"In the 1960s, a series of discoveries, the most \n",
              "important of which was seafloor spreading, showed that the Earth's lithosphere, which includes the crust and rigid \n",
              "uppermost portion of the upper mantle, is separated into a number of tectonic plates that move across the \n",
              "plastically deforming, solid, upper mantle, which is called the asthenosphere. There is an intimate coupling \n",
              "between the movement of the plates on the surface and the convection of the mantle: oceanic plate motions and \n",
              "mantle convection currents always move in the same direction, because the oceanic lithosphere is the rigid upper \n",
              "thermal boundary layer of the convecting mantle. This coupling between rigid plates moving on the surface of the \n",
              "Earth and the convecting mantle is called plate tectonics.\"]\n",
              "</pre>\n"
            ],
            "text/plain": [
              "  - retrieval context: ['In the centre of Basel, the first major city in the course of the stream, is located the \n",
              "\"Rhine knee\"; this is a major bend, where the overall direction of the Rhine changes from West to North. Here the \n",
              "High Rhine ends. Legally, the Central Bridge is the boundary between High and Upper Rhine. The river now flows \n",
              "North as Upper Rhine through the Upper Rhine Plain, which is about 300 km long and up to 40 km wide. The most \n",
              "important tributaries in this area are the Ill below of Strasbourg, the Neckar in Mannheim and the Main across from\n",
              "Mainz. In Mainz, the Rhine leaves the Upper Rhine Valley and flows through the Mainz Basin.', 'From the death of \n",
              "Augustus in AD 14 until after AD 70, Rome accepted as her Germanic frontier the water-boundary of the Rhine and \n",
              "upper Danube. Beyond these rivers she held only the fertile plain of Frankfurt, opposite the Roman border fortress \n",
              "of Moguntiacum (Mainz), the southernmost slopes of the Black Forest and a few scattered bridge-heads. The northern \n",
              "section of this frontier, where the Rhine is deep and broad, remained the Roman boundary until the empire fell. The\n",
              "southern part was different. The upper Rhine and upper Danube are easily crossed. The frontier which they form is \n",
              "inconveniently long, enclosing an acute-angled wedge of foreign territory between the modern Baden and Württemberg.\n",
              "The Germanic populations of these lands seem in Roman times to have been scanty, and Roman subjects from the modern\n",
              "Alsace-Lorraine had drifted across the river eastwards.', \"In the 1960s, a series of discoveries, the most \n",
              "important of which was seafloor spreading, showed that the Earth's lithosphere, which includes the crust and rigid \n",
              "uppermost portion of the upper mantle, is separated into a number of tectonic plates that move across the \n",
              "plastically deforming, solid, upper mantle, which is called the asthenosphere. There is an intimate coupling \n",
              "between the movement of the plates on the surface and the convection of the mantle: oceanic plate motions and \n",
              "mantle convection currents always move in the same direction, because the oceanic lithosphere is the rigid upper \n",
              "thermal boundary layer of the convecting mantle. This coupling between rigid plates moving on the surface of the \n",
              "Earth and the convecting mantle is called plate tectonics.\"]\n"
            ]
          },
          "metadata": {},
          "output_type": "display_data"
        },
        {
          "data": {
            "text/html": [
              "<pre style=\"white-space:pre;overflow-x:auto;line-height:normal;font-family:Menlo,'DejaVu Sans Mono',consolas,'Courier New',monospace\">\n",
              "</pre>\n"
            ],
            "text/plain": [
              "\n"
            ]
          },
          "metadata": {},
          "output_type": "display_data"
        },
        {
          "data": {
            "text/html": [
              "<pre style=\"white-space:pre;overflow-x:auto;line-height:normal;font-family:Menlo,'DejaVu Sans Mono',consolas,'Courier New',monospace\">----------------------------------------------------------------------\n",
              "</pre>\n"
            ],
            "text/plain": [
              "----------------------------------------------------------------------\n"
            ]
          },
          "metadata": {},
          "output_type": "display_data"
        },
        {
          "data": {
            "text/html": [
              "<pre style=\"white-space:pre;overflow-x:auto;line-height:normal;font-family:Menlo,'DejaVu Sans Mono',consolas,'Courier New',monospace\">✅ Tests finished! Run <span style=\"color: #008000; text-decoration-color: #008000\">\"deepeval login\"</span> to view evaluation results on the web.\n",
              "</pre>\n"
            ],
            "text/plain": [
              "✅ Tests finished! Run \u001b[32m\"deepeval login\"\u001b[0m to view evaluation results on the web.\n"
            ]
          },
          "metadata": {},
          "output_type": "display_data"
        },
        {
          "data": {
            "text/html": [
              "<pre style=\"white-space:pre;overflow-x:auto;line-height:normal;font-family:Menlo,'DejaVu Sans Mono',consolas,'Courier New',monospace\"></pre>\n"
            ],
            "text/plain": []
          },
          "metadata": {},
          "output_type": "display_data"
        },
        {
          "data": {
            "text/html": [
              "<pre style=\"white-space:pre;overflow-x:auto;line-height:normal;font-family:Menlo,'DejaVu Sans Mono',consolas,'Courier New',monospace\">\n",
              "</pre>\n"
            ],
            "text/plain": [
              "\n"
            ]
          },
          "metadata": {},
          "output_type": "display_data"
        },
        {
          "name": "stdout",
          "output_type": "stream",
          "text": [
            "[[{'name': 'contextual_relevance', 'score': 0.09090909090909091, 'explanation': 'The score is 0.09 because the sentences provided do not directly address the influence of a mountain range on the division of regions. They discuss the division of California, temperature data for Victoria, and experiments in structural geology, but do not provide information pertinent to the input question.'}], [{'name': 'contextual_relevance', 'score': 0.5384615384615384, 'explanation': 'The score is 0.54 because the majority of the sentences extracted from the retrieval context, particularly from nodes 2 and 3, focus on explaining the complexities and characteristics of the P=NP problem, rather than directly addressing the specific question about the prize offered for finding a solution to this problem.'}], [{'name': 'contextual_relevance', 'score': 0.0, 'explanation': \"The score is 0.00 because none of the sentences in the retrieval context provide any information related to the queried Californio's location. They mostly discuss geological and geographical matters like tectonic plates and river courses, which are irrelevant to the original question.\"}]]\n"
          ]
        }
      ],
      "source": [
        "evaluation_results = context_relevancy_pipeline.run(\n",
        "    {\"evaluator\": {\"questions\": questions, \"contexts\": contexts, \"responses\": responses}}\n",
        ")\n",
        "print(evaluation_results[\"evaluator\"][\"results\"])\n"
      ]
    },
    {
      "cell_type": "markdown",
      "metadata": {
        "id": "QKkYIq3OEivN"
      },
      "source": [
        "### Answer relevancy\n",
        "\n",
        "The answer relevancy metric measures the quality of our RAG pipeline's response by evaluating how relevant the response is compared to the provided question."
      ]
    },
    {
      "cell_type": "code",
      "execution_count": null,
      "metadata": {
        "id": "WV67fOajMbkF"
      },
      "outputs": [],
      "source": [
        "from haystack import Pipeline\n",
        "from haystack_integrations.components.evaluators.deepeval import DeepEvalEvaluator, DeepEvalMetric\n",
        "\n",
        "answer_relevancy_pipeline = Pipeline()\n",
        "evaluator = DeepEvalEvaluator(metric=DeepEvalMetric.ANSWER_RELEVANCY, metric_params={\"model\":\"gpt-4\"})\n",
        "answer_relevancy_pipeline.add_component(\"evaluator\", evaluator)\n"
      ]
    },
    {
      "cell_type": "code",
      "execution_count": null,
      "metadata": {
        "colab": {
          "base_uri": "https://localhost:8080/",
          "height": 1000,
          "referenced_widgets": [
            "f1639c9c99a846d7a17aee870ff80d98",
            "3bb9e44e17ec4f3986378ddb3c1255c4",
            "e36f222e6b3946e6a1ed1e4c71ea31be",
            "1559b47643e4481483256713396bf4da",
            "d87df86ef2804f83b0c11fca2a37fd49",
            "5ae473c91e084c339e339bba168d52cc",
            "da36b58414074e409c049c73f4e07d94",
            "ca67b112541f4c0ebc104572d3a2492b"
          ]
        },
        "id": "9h5OBTI7MhFj",
        "outputId": "6e41e11c-ae7e-40b7-b41d-b32c3dac9787"
      },
      "outputs": [
        {
          "data": {
            "application/vnd.jupyter.widget-view+json": {
              "model_id": "f1639c9c99a846d7a17aee870ff80d98",
              "version_major": 2,
              "version_minor": 0
            },
            "text/plain": [
              "Output()"
            ]
          },
          "metadata": {},
          "output_type": "display_data"
        },
        {
          "data": {
            "application/vnd.jupyter.widget-view+json": {
              "model_id": "e36f222e6b3946e6a1ed1e4c71ea31be",
              "version_major": 2,
              "version_minor": 0
            },
            "text/plain": [
              "Output()"
            ]
          },
          "metadata": {},
          "output_type": "display_data"
        },
        {
          "data": {
            "text/html": [
              "<pre style=\"white-space:pre;overflow-x:auto;line-height:normal;font-family:Menlo,'DejaVu Sans Mono',consolas,'Courier New',monospace\"></pre>\n"
            ],
            "text/plain": []
          },
          "metadata": {},
          "output_type": "display_data"
        },
        {
          "data": {
            "text/html": [
              "<pre style=\"white-space:pre;overflow-x:auto;line-height:normal;font-family:Menlo,'DejaVu Sans Mono',consolas,'Courier New',monospace\">\n",
              "</pre>\n"
            ],
            "text/plain": [
              "\n"
            ]
          },
          "metadata": {},
          "output_type": "display_data"
        },
        {
          "data": {
            "application/vnd.jupyter.widget-view+json": {
              "model_id": "d87df86ef2804f83b0c11fca2a37fd49",
              "version_major": 2,
              "version_minor": 0
            },
            "text/plain": [
              "Output()"
            ]
          },
          "metadata": {},
          "output_type": "display_data"
        },
        {
          "data": {
            "text/html": [
              "<pre style=\"white-space:pre;overflow-x:auto;line-height:normal;font-family:Menlo,'DejaVu Sans Mono',consolas,'Courier New',monospace\"></pre>\n"
            ],
            "text/plain": []
          },
          "metadata": {},
          "output_type": "display_data"
        },
        {
          "data": {
            "text/html": [
              "<pre style=\"white-space:pre;overflow-x:auto;line-height:normal;font-family:Menlo,'DejaVu Sans Mono',consolas,'Courier New',monospace\">\n",
              "</pre>\n"
            ],
            "text/plain": [
              "\n"
            ]
          },
          "metadata": {},
          "output_type": "display_data"
        },
        {
          "data": {
            "application/vnd.jupyter.widget-view+json": {
              "model_id": "da36b58414074e409c049c73f4e07d94",
              "version_major": 2,
              "version_minor": 0
            },
            "text/plain": [
              "Output()"
            ]
          },
          "metadata": {},
          "output_type": "display_data"
        },
        {
          "data": {
            "text/html": [
              "<pre style=\"white-space:pre;overflow-x:auto;line-height:normal;font-family:Menlo,'DejaVu Sans Mono',consolas,'Courier New',monospace\"></pre>\n"
            ],
            "text/plain": []
          },
          "metadata": {},
          "output_type": "display_data"
        },
        {
          "data": {
            "text/html": [
              "<pre style=\"white-space:pre;overflow-x:auto;line-height:normal;font-family:Menlo,'DejaVu Sans Mono',consolas,'Courier New',monospace\">\n",
              "</pre>\n"
            ],
            "text/plain": [
              "\n"
            ]
          },
          "metadata": {},
          "output_type": "display_data"
        },
        {
          "data": {
            "text/html": [
              "<pre style=\"white-space:pre;overflow-x:auto;line-height:normal;font-family:Menlo,'DejaVu Sans Mono',consolas,'Courier New',monospace\">\n",
              "</pre>\n"
            ],
            "text/plain": [
              "\n"
            ]
          },
          "metadata": {},
          "output_type": "display_data"
        },
        {
          "data": {
            "text/html": [
              "<pre style=\"white-space:pre;overflow-x:auto;line-height:normal;font-family:Menlo,'DejaVu Sans Mono',consolas,'Courier New',monospace\">======================================================================\n",
              "</pre>\n"
            ],
            "text/plain": [
              "======================================================================\n"
            ]
          },
          "metadata": {},
          "output_type": "display_data"
        },
        {
          "data": {
            "text/html": [
              "<pre style=\"white-space:pre;overflow-x:auto;line-height:normal;font-family:Menlo,'DejaVu Sans Mono',consolas,'Courier New',monospace\">\n",
              "</pre>\n"
            ],
            "text/plain": [
              "\n"
            ]
          },
          "metadata": {},
          "output_type": "display_data"
        },
        {
          "data": {
            "text/html": [
              "<pre style=\"white-space:pre;overflow-x:auto;line-height:normal;font-family:Menlo,'DejaVu Sans Mono',consolas,'Courier New',monospace\">Metrics Summary\n",
              "</pre>\n"
            ],
            "text/plain": [
              "Metrics Summary\n"
            ]
          },
          "metadata": {},
          "output_type": "display_data"
        },
        {
          "data": {
            "text/html": [
              "<pre style=\"white-space:pre;overflow-x:auto;line-height:normal;font-family:Menlo,'DejaVu Sans Mono',consolas,'Courier New',monospace\">\n",
              "</pre>\n"
            ],
            "text/plain": [
              "\n"
            ]
          },
          "metadata": {},
          "output_type": "display_data"
        },
        {
          "data": {
            "text/html": [
              "<pre style=\"white-space:pre;overflow-x:auto;line-height:normal;font-family:Menlo,'DejaVu Sans Mono',consolas,'Courier New',monospace\">  - ✅ Answer Relevancy (score: 0.3333333333333333, threshold: 0.0, evaluation model: gpt-4, reason: The score is \n",
              "0.33 because the answer correctly identifies the Tehachapi mountain range as the influence for the split of the \n",
              "regions in California. However, the score is not higher because the majority of the points presented in the answer,\n",
              "including details about AAA Auto Clubs, orogenic wedges, numerical models, and Victoria's temperature records, are \n",
              "irrelevant to the original question.)\n",
              "</pre>\n"
            ],
            "text/plain": [
              "  - ✅ Answer Relevancy (score: 0.3333333333333333, threshold: 0.0, evaluation model: gpt-4, reason: The score is \n",
              "0.33 because the answer correctly identifies the Tehachapi mountain range as the influence for the split of the \n",
              "regions in California. However, the score is not higher because the majority of the points presented in the answer,\n",
              "including details about AAA Auto Clubs, orogenic wedges, numerical models, and Victoria's temperature records, are \n",
              "irrelevant to the original question.)\n"
            ]
          },
          "metadata": {},
          "output_type": "display_data"
        },
        {
          "data": {
            "text/html": [
              "<pre style=\"white-space:pre;overflow-x:auto;line-height:normal;font-family:Menlo,'DejaVu Sans Mono',consolas,'Courier New',monospace\">\n",
              "</pre>\n"
            ],
            "text/plain": [
              "\n"
            ]
          },
          "metadata": {},
          "output_type": "display_data"
        },
        {
          "data": {
            "text/html": [
              "<pre style=\"white-space:pre;overflow-x:auto;line-height:normal;font-family:Menlo,'DejaVu Sans Mono',consolas,'Courier New',monospace\">For test case:\n",
              "</pre>\n"
            ],
            "text/plain": [
              "For test case:\n"
            ]
          },
          "metadata": {},
          "output_type": "display_data"
        },
        {
          "data": {
            "text/html": [
              "<pre style=\"white-space:pre;overflow-x:auto;line-height:normal;font-family:Menlo,'DejaVu Sans Mono',consolas,'Courier New',monospace\">\n",
              "</pre>\n"
            ],
            "text/plain": [
              "\n"
            ]
          },
          "metadata": {},
          "output_type": "display_data"
        },
        {
          "data": {
            "text/html": [
              "<pre style=\"white-space:pre;overflow-x:auto;line-height:normal;font-family:Menlo,'DejaVu Sans Mono',consolas,'Courier New',monospace\">  - input: Which mountain range influenced the split of the regions?\n",
              "</pre>\n"
            ],
            "text/plain": [
              "  - input: Which mountain range influenced the split of the regions?\n"
            ]
          },
          "metadata": {},
          "output_type": "display_data"
        },
        {
          "data": {
            "text/html": [
              "<pre style=\"white-space:pre;overflow-x:auto;line-height:normal;font-family:Menlo,'DejaVu Sans Mono',consolas,'Courier New',monospace\">  - actual output: The Tehachapi mountain range influenced the split of the regions in California.\n",
              "</pre>\n"
            ],
            "text/plain": [
              "  - actual output: The Tehachapi mountain range influenced the split of the regions in California.\n"
            ]
          },
          "metadata": {},
          "output_type": "display_data"
        },
        {
          "data": {
            "text/html": [
              "<pre style=\"white-space:pre;overflow-x:auto;line-height:normal;font-family:Menlo,'DejaVu Sans Mono',consolas,'Courier New',monospace\">  - expected output: None\n",
              "</pre>\n"
            ],
            "text/plain": [
              "  - expected output: None\n"
            ]
          },
          "metadata": {},
          "output_type": "display_data"
        },
        {
          "data": {
            "text/html": [
              "<pre style=\"white-space:pre;overflow-x:auto;line-height:normal;font-family:Menlo,'DejaVu Sans Mono',consolas,'Courier New',monospace\">  - context: None\n",
              "</pre>\n"
            ],
            "text/plain": [
              "  - context: None\n"
            ]
          },
          "metadata": {},
          "output_type": "display_data"
        },
        {
          "data": {
            "text/html": [
              "<pre style=\"white-space:pre;overflow-x:auto;line-height:normal;font-family:Menlo,'DejaVu Sans Mono',consolas,'Courier New',monospace\">  - retrieval context: ['The state is most commonly divided and promoted by its regional tourism groups as \n",
              "consisting of northern, central, and southern California regions. The two AAA Auto Clubs of the state, the \n",
              "California State Automobile Association and the Automobile Club of Southern California, choose to simplify matters \n",
              "by dividing the state along the lines where their jurisdictions for membership apply, as either northern or \n",
              "southern California, in contrast to the three-region point of view. Another influence is the geographical phrase \n",
              "South of the Tehachapis, which would split the southern region off at the crest of that transverse range, but in \n",
              "that definition, the desert portions of north Los Angeles County and eastern Kern and San Bernardino Counties would\n",
              "be included in the southern California region due to their remoteness from the central valley and interior desert \n",
              "landscape.', 'Among the most well-known experiments in structural geology are those involving orogenic wedges, \n",
              "which are zones in which mountains are built along convergent tectonic plate boundaries. In the analog versions of \n",
              "these experiments, horizontal layers of sand are pulled along a lower surface into a back stop, which results in \n",
              "realistic-looking patterns of faulting and the growth of a critically tapered (all angles remain the same) orogenic\n",
              "wedge. Numerical models work in the same way as these analog models, though they are often more sophisticated and \n",
              "can include patterns of erosion and uplift in the mountain belt. This helps to show the relationship between \n",
              "erosion and the shape of the mountain range. These studies can also give useful information about pathways for \n",
              "metamorphism through pressure, temperature, space, and time.', \"The Mallee and upper Wimmera are Victoria's warmest\n",
              "regions with hot winds blowing from nearby semi-deserts. Average temperatures exceed 32 °C (90 °F) during summer \n",
              "and 15 °C (59 °F) in winter. Except at cool mountain elevations, the inland monthly temperatures are 2–7 °C (4–13 \n",
              "°F) warmer than around Melbourne (see chart). Victoria's highest maximum temperature since World War II, of 48.8 °C\n",
              "(119.8 °F) was recorded in Hopetoun on 7 February 2009, during the 2009 southeastern Australia heat wave.\"]\n",
              "</pre>\n"
            ],
            "text/plain": [
              "  - retrieval context: ['The state is most commonly divided and promoted by its regional tourism groups as \n",
              "consisting of northern, central, and southern California regions. The two AAA Auto Clubs of the state, the \n",
              "California State Automobile Association and the Automobile Club of Southern California, choose to simplify matters \n",
              "by dividing the state along the lines where their jurisdictions for membership apply, as either northern or \n",
              "southern California, in contrast to the three-region point of view. Another influence is the geographical phrase \n",
              "South of the Tehachapis, which would split the southern region off at the crest of that transverse range, but in \n",
              "that definition, the desert portions of north Los Angeles County and eastern Kern and San Bernardino Counties would\n",
              "be included in the southern California region due to their remoteness from the central valley and interior desert \n",
              "landscape.', 'Among the most well-known experiments in structural geology are those involving orogenic wedges, \n",
              "which are zones in which mountains are built along convergent tectonic plate boundaries. In the analog versions of \n",
              "these experiments, horizontal layers of sand are pulled along a lower surface into a back stop, which results in \n",
              "realistic-looking patterns of faulting and the growth of a critically tapered (all angles remain the same) orogenic\n",
              "wedge. Numerical models work in the same way as these analog models, though they are often more sophisticated and \n",
              "can include patterns of erosion and uplift in the mountain belt. This helps to show the relationship between \n",
              "erosion and the shape of the mountain range. These studies can also give useful information about pathways for \n",
              "metamorphism through pressure, temperature, space, and time.', \"The Mallee and upper Wimmera are Victoria's warmest\n",
              "regions with hot winds blowing from nearby semi-deserts. Average temperatures exceed 32 °C (90 °F) during summer \n",
              "and 15 °C (59 °F) in winter. Except at cool mountain elevations, the inland monthly temperatures are 2–7 °C (4–13 \n",
              "°F) warmer than around Melbourne (see chart). Victoria's highest maximum temperature since World War II, of 48.8 °C\n",
              "(119.8 °F) was recorded in Hopetoun on 7 February 2009, during the 2009 southeastern Australia heat wave.\"]\n"
            ]
          },
          "metadata": {},
          "output_type": "display_data"
        },
        {
          "data": {
            "text/html": [
              "<pre style=\"white-space:pre;overflow-x:auto;line-height:normal;font-family:Menlo,'DejaVu Sans Mono',consolas,'Courier New',monospace\">\n",
              "</pre>\n"
            ],
            "text/plain": [
              "\n"
            ]
          },
          "metadata": {},
          "output_type": "display_data"
        },
        {
          "data": {
            "text/html": [
              "<pre style=\"white-space:pre;overflow-x:auto;line-height:normal;font-family:Menlo,'DejaVu Sans Mono',consolas,'Courier New',monospace\">======================================================================\n",
              "</pre>\n"
            ],
            "text/plain": [
              "======================================================================\n"
            ]
          },
          "metadata": {},
          "output_type": "display_data"
        },
        {
          "data": {
            "text/html": [
              "<pre style=\"white-space:pre;overflow-x:auto;line-height:normal;font-family:Menlo,'DejaVu Sans Mono',consolas,'Courier New',monospace\">\n",
              "</pre>\n"
            ],
            "text/plain": [
              "\n"
            ]
          },
          "metadata": {},
          "output_type": "display_data"
        },
        {
          "data": {
            "text/html": [
              "<pre style=\"white-space:pre;overflow-x:auto;line-height:normal;font-family:Menlo,'DejaVu Sans Mono',consolas,'Courier New',monospace\">Metrics Summary\n",
              "</pre>\n"
            ],
            "text/plain": [
              "Metrics Summary\n"
            ]
          },
          "metadata": {},
          "output_type": "display_data"
        },
        {
          "data": {
            "text/html": [
              "<pre style=\"white-space:pre;overflow-x:auto;line-height:normal;font-family:Menlo,'DejaVu Sans Mono',consolas,'Courier New',monospace\">\n",
              "</pre>\n"
            ],
            "text/plain": [
              "\n"
            ]
          },
          "metadata": {},
          "output_type": "display_data"
        },
        {
          "data": {
            "text/html": [
              "<pre style=\"white-space:pre;overflow-x:auto;line-height:normal;font-family:Menlo,'DejaVu Sans Mono',consolas,'Courier New',monospace\">  - ✅ Answer Relevancy (score: 0.5, threshold: 0.0, evaluation model: gpt-4, reason: The score is 0.50 because \n",
              "while the answer did provide the correct information about the prize amount for solving the P=NP problem, it also \n",
              "included unnecessary details about the significance of the P=NP problem itself, which was not asked for in the \n",
              "question.)\n",
              "</pre>\n"
            ],
            "text/plain": [
              "  - ✅ Answer Relevancy (score: 0.5, threshold: 0.0, evaluation model: gpt-4, reason: The score is 0.50 because \n",
              "while the answer did provide the correct information about the prize amount for solving the P=NP problem, it also \n",
              "included unnecessary details about the significance of the P=NP problem itself, which was not asked for in the \n",
              "question.)\n"
            ]
          },
          "metadata": {},
          "output_type": "display_data"
        },
        {
          "data": {
            "text/html": [
              "<pre style=\"white-space:pre;overflow-x:auto;line-height:normal;font-family:Menlo,'DejaVu Sans Mono',consolas,'Courier New',monospace\">\n",
              "</pre>\n"
            ],
            "text/plain": [
              "\n"
            ]
          },
          "metadata": {},
          "output_type": "display_data"
        },
        {
          "data": {
            "text/html": [
              "<pre style=\"white-space:pre;overflow-x:auto;line-height:normal;font-family:Menlo,'DejaVu Sans Mono',consolas,'Courier New',monospace\">For test case:\n",
              "</pre>\n"
            ],
            "text/plain": [
              "For test case:\n"
            ]
          },
          "metadata": {},
          "output_type": "display_data"
        },
        {
          "data": {
            "text/html": [
              "<pre style=\"white-space:pre;overflow-x:auto;line-height:normal;font-family:Menlo,'DejaVu Sans Mono',consolas,'Courier New',monospace\">\n",
              "</pre>\n"
            ],
            "text/plain": [
              "\n"
            ]
          },
          "metadata": {},
          "output_type": "display_data"
        },
        {
          "data": {
            "text/html": [
              "<pre style=\"white-space:pre;overflow-x:auto;line-height:normal;font-family:Menlo,'DejaVu Sans Mono',consolas,'Courier New',monospace\">  - input: What is the prize offered for finding a solution to P=NP?\n",
              "</pre>\n"
            ],
            "text/plain": [
              "  - input: What is the prize offered for finding a solution to P=NP?\n"
            ]
          },
          "metadata": {},
          "output_type": "display_data"
        },
        {
          "data": {
            "text/html": [
              "<pre style=\"white-space:pre;overflow-x:auto;line-height:normal;font-family:Menlo,'DejaVu Sans Mono',consolas,'Courier New',monospace\">  - actual output: The prize offered for finding a solution to P=NP is US$1,000,000.\n",
              "</pre>\n"
            ],
            "text/plain": [
              "  - actual output: The prize offered for finding a solution to P=NP is US$1,000,000.\n"
            ]
          },
          "metadata": {},
          "output_type": "display_data"
        },
        {
          "data": {
            "text/html": [
              "<pre style=\"white-space:pre;overflow-x:auto;line-height:normal;font-family:Menlo,'DejaVu Sans Mono',consolas,'Courier New',monospace\">  - expected output: None\n",
              "</pre>\n"
            ],
            "text/plain": [
              "  - expected output: None\n"
            ]
          },
          "metadata": {},
          "output_type": "display_data"
        },
        {
          "data": {
            "text/html": [
              "<pre style=\"white-space:pre;overflow-x:auto;line-height:normal;font-family:Menlo,'DejaVu Sans Mono',consolas,'Courier New',monospace\">  - context: None\n",
              "</pre>\n"
            ],
            "text/plain": [
              "  - context: None\n"
            ]
          },
          "metadata": {},
          "output_type": "display_data"
        },
        {
          "data": {
            "text/html": [
              "<pre style=\"white-space:pre;overflow-x:auto;line-height:normal;font-family:Menlo,'DejaVu Sans Mono',consolas,'Courier New',monospace\">  - retrieval context: ['If a problem X is in C and hard for C, then X is said to be complete for C. This means \n",
              "that X is the hardest problem in C. (Since many problems could be equally hard, one might say that X is one of the \n",
              "hardest problems in C.) Thus the class of NP-complete problems contains the most difficult problems in NP, in the \n",
              "sense that they are the ones most likely not to be in P. Because the problem P = NP is not solved, being able to \n",
              "reduce a known NP-complete problem, Π2, to another problem, Π1, would indicate that there is no known \n",
              "polynomial-time solution for Π1. This is because a polynomial-time solution to Π1 would yield a polynomial-time \n",
              "solution to Π2. Similarly, because all NP problems can be reduced to the set, finding an NP-complete problem that \n",
              "can be solved in polynomial time would mean that P = NP.', 'The question of whether P equals NP is one of the most \n",
              "important open questions in theoretical computer science because of the wide implications of a solution. If the \n",
              "answer is yes, many important problems can be shown to have more efficient solutions. These include various types \n",
              "of integer programming problems in operations research, many problems in logistics, protein structure prediction in\n",
              "biology, and the ability to find formal proofs of pure mathematics theorems. The P versus NP problem is one of the \n",
              "Millennium Prize Problems proposed by the Clay Mathematics Institute. There is a US$1,000,000 prize for resolving \n",
              "the problem.', 'What intractability means in practice is open to debate. Saying that a problem is not in P does not\n",
              "imply that all large cases of the problem are hard or even that most of them are. For example, the decision problem\n",
              "in Presburger arithmetic has been shown not to be in P, yet algorithms have been written that solve the problem in \n",
              "reasonable times in most cases. Similarly, algorithms can solve the NP-complete knapsack problem over a wide range \n",
              "of sizes in less than quadratic time and SAT solvers routinely handle large instances of the NP-complete Boolean \n",
              "satisfiability problem.']\n",
              "</pre>\n"
            ],
            "text/plain": [
              "  - retrieval context: ['If a problem X is in C and hard for C, then X is said to be complete for C. This means \n",
              "that X is the hardest problem in C. (Since many problems could be equally hard, one might say that X is one of the \n",
              "hardest problems in C.) Thus the class of NP-complete problems contains the most difficult problems in NP, in the \n",
              "sense that they are the ones most likely not to be in P. Because the problem P = NP is not solved, being able to \n",
              "reduce a known NP-complete problem, Π2, to another problem, Π1, would indicate that there is no known \n",
              "polynomial-time solution for Π1. This is because a polynomial-time solution to Π1 would yield a polynomial-time \n",
              "solution to Π2. Similarly, because all NP problems can be reduced to the set, finding an NP-complete problem that \n",
              "can be solved in polynomial time would mean that P = NP.', 'The question of whether P equals NP is one of the most \n",
              "important open questions in theoretical computer science because of the wide implications of a solution. If the \n",
              "answer is yes, many important problems can be shown to have more efficient solutions. These include various types \n",
              "of integer programming problems in operations research, many problems in logistics, protein structure prediction in\n",
              "biology, and the ability to find formal proofs of pure mathematics theorems. The P versus NP problem is one of the \n",
              "Millennium Prize Problems proposed by the Clay Mathematics Institute. There is a US$1,000,000 prize for resolving \n",
              "the problem.', 'What intractability means in practice is open to debate. Saying that a problem is not in P does not\n",
              "imply that all large cases of the problem are hard or even that most of them are. For example, the decision problem\n",
              "in Presburger arithmetic has been shown not to be in P, yet algorithms have been written that solve the problem in \n",
              "reasonable times in most cases. Similarly, algorithms can solve the NP-complete knapsack problem over a wide range \n",
              "of sizes in less than quadratic time and SAT solvers routinely handle large instances of the NP-complete Boolean \n",
              "satisfiability problem.']\n"
            ]
          },
          "metadata": {},
          "output_type": "display_data"
        },
        {
          "data": {
            "text/html": [
              "<pre style=\"white-space:pre;overflow-x:auto;line-height:normal;font-family:Menlo,'DejaVu Sans Mono',consolas,'Courier New',monospace\">\n",
              "</pre>\n"
            ],
            "text/plain": [
              "\n"
            ]
          },
          "metadata": {},
          "output_type": "display_data"
        },
        {
          "data": {
            "text/html": [
              "<pre style=\"white-space:pre;overflow-x:auto;line-height:normal;font-family:Menlo,'DejaVu Sans Mono',consolas,'Courier New',monospace\">======================================================================\n",
              "</pre>\n"
            ],
            "text/plain": [
              "======================================================================\n"
            ]
          },
          "metadata": {},
          "output_type": "display_data"
        },
        {
          "data": {
            "text/html": [
              "<pre style=\"white-space:pre;overflow-x:auto;line-height:normal;font-family:Menlo,'DejaVu Sans Mono',consolas,'Courier New',monospace\">\n",
              "</pre>\n"
            ],
            "text/plain": [
              "\n"
            ]
          },
          "metadata": {},
          "output_type": "display_data"
        },
        {
          "data": {
            "text/html": [
              "<pre style=\"white-space:pre;overflow-x:auto;line-height:normal;font-family:Menlo,'DejaVu Sans Mono',consolas,'Courier New',monospace\">Metrics Summary\n",
              "</pre>\n"
            ],
            "text/plain": [
              "Metrics Summary\n"
            ]
          },
          "metadata": {},
          "output_type": "display_data"
        },
        {
          "data": {
            "text/html": [
              "<pre style=\"white-space:pre;overflow-x:auto;line-height:normal;font-family:Menlo,'DejaVu Sans Mono',consolas,'Courier New',monospace\">\n",
              "</pre>\n"
            ],
            "text/plain": [
              "\n"
            ]
          },
          "metadata": {},
          "output_type": "display_data"
        },
        {
          "data": {
            "text/html": [
              "<pre style=\"white-space:pre;overflow-x:auto;line-height:normal;font-family:Menlo,'DejaVu Sans Mono',consolas,'Courier New',monospace\">  - ✅ Answer Relevancy (score: 0.2, threshold: 0.0, evaluation model: gpt-4, reason: The score is 0.20 because \n",
              "while the answer does mention a location in the upper part, it is not related to the original question about a \n",
              "Californio. The answer also includes irrelevant information about the Ill, the Upper Rhine Plain, and the Rhine, \n",
              "which are not related to the question. The score is not zero because the concept of a location in the upper part is\n",
              "addressed.)\n",
              "</pre>\n"
            ],
            "text/plain": [
              "  - ✅ Answer Relevancy (score: 0.2, threshold: 0.0, evaluation model: gpt-4, reason: The score is 0.20 because \n",
              "while the answer does mention a location in the upper part, it is not related to the original question about a \n",
              "Californio. The answer also includes irrelevant information about the Ill, the Upper Rhine Plain, and the Rhine, \n",
              "which are not related to the question. The score is not zero because the concept of a location in the upper part is\n",
              "addressed.)\n"
            ]
          },
          "metadata": {},
          "output_type": "display_data"
        },
        {
          "data": {
            "text/html": [
              "<pre style=\"white-space:pre;overflow-x:auto;line-height:normal;font-family:Menlo,'DejaVu Sans Mono',consolas,'Courier New',monospace\">\n",
              "</pre>\n"
            ],
            "text/plain": [
              "\n"
            ]
          },
          "metadata": {},
          "output_type": "display_data"
        },
        {
          "data": {
            "text/html": [
              "<pre style=\"white-space:pre;overflow-x:auto;line-height:normal;font-family:Menlo,'DejaVu Sans Mono',consolas,'Courier New',monospace\">For test case:\n",
              "</pre>\n"
            ],
            "text/plain": [
              "For test case:\n"
            ]
          },
          "metadata": {},
          "output_type": "display_data"
        },
        {
          "data": {
            "text/html": [
              "<pre style=\"white-space:pre;overflow-x:auto;line-height:normal;font-family:Menlo,'DejaVu Sans Mono',consolas,'Courier New',monospace\">\n",
              "</pre>\n"
            ],
            "text/plain": [
              "\n"
            ]
          },
          "metadata": {},
          "output_type": "display_data"
        },
        {
          "data": {
            "text/html": [
              "<pre style=\"white-space:pre;overflow-x:auto;line-height:normal;font-family:Menlo,'DejaVu Sans Mono',consolas,'Courier New',monospace\">  - input: Which Californio is located in the upper part?\n",
              "</pre>\n"
            ],
            "text/plain": [
              "  - input: Which Californio is located in the upper part?\n"
            ]
          },
          "metadata": {},
          "output_type": "display_data"
        },
        {
          "data": {
            "text/html": [
              "<pre style=\"white-space:pre;overflow-x:auto;line-height:normal;font-family:Menlo,'DejaVu Sans Mono',consolas,'Courier New',monospace\">  - actual output: The Californio located in the upper part is the Ill below of Strasbourg.\n",
              "</pre>\n"
            ],
            "text/plain": [
              "  - actual output: The Californio located in the upper part is the Ill below of Strasbourg.\n"
            ]
          },
          "metadata": {},
          "output_type": "display_data"
        },
        {
          "data": {
            "text/html": [
              "<pre style=\"white-space:pre;overflow-x:auto;line-height:normal;font-family:Menlo,'DejaVu Sans Mono',consolas,'Courier New',monospace\">  - expected output: None\n",
              "</pre>\n"
            ],
            "text/plain": [
              "  - expected output: None\n"
            ]
          },
          "metadata": {},
          "output_type": "display_data"
        },
        {
          "data": {
            "text/html": [
              "<pre style=\"white-space:pre;overflow-x:auto;line-height:normal;font-family:Menlo,'DejaVu Sans Mono',consolas,'Courier New',monospace\">  - context: None\n",
              "</pre>\n"
            ],
            "text/plain": [
              "  - context: None\n"
            ]
          },
          "metadata": {},
          "output_type": "display_data"
        },
        {
          "data": {
            "text/html": [
              "<pre style=\"white-space:pre;overflow-x:auto;line-height:normal;font-family:Menlo,'DejaVu Sans Mono',consolas,'Courier New',monospace\">  - retrieval context: ['In the centre of Basel, the first major city in the course of the stream, is located the \n",
              "\"Rhine knee\"; this is a major bend, where the overall direction of the Rhine changes from West to North. Here the \n",
              "High Rhine ends. Legally, the Central Bridge is the boundary between High and Upper Rhine. The river now flows \n",
              "North as Upper Rhine through the Upper Rhine Plain, which is about 300 km long and up to 40 km wide. The most \n",
              "important tributaries in this area are the Ill below of Strasbourg, the Neckar in Mannheim and the Main across from\n",
              "Mainz. In Mainz, the Rhine leaves the Upper Rhine Valley and flows through the Mainz Basin.', 'From the death of \n",
              "Augustus in AD 14 until after AD 70, Rome accepted as her Germanic frontier the water-boundary of the Rhine and \n",
              "upper Danube. Beyond these rivers she held only the fertile plain of Frankfurt, opposite the Roman border fortress \n",
              "of Moguntiacum (Mainz), the southernmost slopes of the Black Forest and a few scattered bridge-heads. The northern \n",
              "section of this frontier, where the Rhine is deep and broad, remained the Roman boundary until the empire fell. The\n",
              "southern part was different. The upper Rhine and upper Danube are easily crossed. The frontier which they form is \n",
              "inconveniently long, enclosing an acute-angled wedge of foreign territory between the modern Baden and Württemberg.\n",
              "The Germanic populations of these lands seem in Roman times to have been scanty, and Roman subjects from the modern\n",
              "Alsace-Lorraine had drifted across the river eastwards.', \"In the 1960s, a series of discoveries, the most \n",
              "important of which was seafloor spreading, showed that the Earth's lithosphere, which includes the crust and rigid \n",
              "uppermost portion of the upper mantle, is separated into a number of tectonic plates that move across the \n",
              "plastically deforming, solid, upper mantle, which is called the asthenosphere. There is an intimate coupling \n",
              "between the movement of the plates on the surface and the convection of the mantle: oceanic plate motions and \n",
              "mantle convection currents always move in the same direction, because the oceanic lithosphere is the rigid upper \n",
              "thermal boundary layer of the convecting mantle. This coupling between rigid plates moving on the surface of the \n",
              "Earth and the convecting mantle is called plate tectonics.\"]\n",
              "</pre>\n"
            ],
            "text/plain": [
              "  - retrieval context: ['In the centre of Basel, the first major city in the course of the stream, is located the \n",
              "\"Rhine knee\"; this is a major bend, where the overall direction of the Rhine changes from West to North. Here the \n",
              "High Rhine ends. Legally, the Central Bridge is the boundary between High and Upper Rhine. The river now flows \n",
              "North as Upper Rhine through the Upper Rhine Plain, which is about 300 km long and up to 40 km wide. The most \n",
              "important tributaries in this area are the Ill below of Strasbourg, the Neckar in Mannheim and the Main across from\n",
              "Mainz. In Mainz, the Rhine leaves the Upper Rhine Valley and flows through the Mainz Basin.', 'From the death of \n",
              "Augustus in AD 14 until after AD 70, Rome accepted as her Germanic frontier the water-boundary of the Rhine and \n",
              "upper Danube. Beyond these rivers she held only the fertile plain of Frankfurt, opposite the Roman border fortress \n",
              "of Moguntiacum (Mainz), the southernmost slopes of the Black Forest and a few scattered bridge-heads. The northern \n",
              "section of this frontier, where the Rhine is deep and broad, remained the Roman boundary until the empire fell. The\n",
              "southern part was different. The upper Rhine and upper Danube are easily crossed. The frontier which they form is \n",
              "inconveniently long, enclosing an acute-angled wedge of foreign territory between the modern Baden and Württemberg.\n",
              "The Germanic populations of these lands seem in Roman times to have been scanty, and Roman subjects from the modern\n",
              "Alsace-Lorraine had drifted across the river eastwards.', \"In the 1960s, a series of discoveries, the most \n",
              "important of which was seafloor spreading, showed that the Earth's lithosphere, which includes the crust and rigid \n",
              "uppermost portion of the upper mantle, is separated into a number of tectonic plates that move across the \n",
              "plastically deforming, solid, upper mantle, which is called the asthenosphere. There is an intimate coupling \n",
              "between the movement of the plates on the surface and the convection of the mantle: oceanic plate motions and \n",
              "mantle convection currents always move in the same direction, because the oceanic lithosphere is the rigid upper \n",
              "thermal boundary layer of the convecting mantle. This coupling between rigid plates moving on the surface of the \n",
              "Earth and the convecting mantle is called plate tectonics.\"]\n"
            ]
          },
          "metadata": {},
          "output_type": "display_data"
        },
        {
          "data": {
            "text/html": [
              "<pre style=\"white-space:pre;overflow-x:auto;line-height:normal;font-family:Menlo,'DejaVu Sans Mono',consolas,'Courier New',monospace\">✅ Tests finished! Run <span style=\"color: #008000; text-decoration-color: #008000\">\"deepeval login\"</span> to view evaluation results on the web.\n",
              "</pre>\n"
            ],
            "text/plain": [
              "✅ Tests finished! Run \u001b[32m\"deepeval login\"\u001b[0m to view evaluation results on the web.\n"
            ]
          },
          "metadata": {},
          "output_type": "display_data"
        },
        {
          "data": {
            "text/html": [
              "<pre style=\"white-space:pre;overflow-x:auto;line-height:normal;font-family:Menlo,'DejaVu Sans Mono',consolas,'Courier New',monospace\"></pre>\n"
            ],
            "text/plain": []
          },
          "metadata": {},
          "output_type": "display_data"
        },
        {
          "data": {
            "text/html": [
              "<pre style=\"white-space:pre;overflow-x:auto;line-height:normal;font-family:Menlo,'DejaVu Sans Mono',consolas,'Courier New',monospace\">\n",
              "</pre>\n"
            ],
            "text/plain": [
              "\n"
            ]
          },
          "metadata": {},
          "output_type": "display_data"
        },
        {
          "name": "stdout",
          "output_type": "stream",
          "text": [
            "[[{'name': 'answer_relevancy', 'score': 0.3333333333333333, 'explanation': \"The score is 0.33 because the answer correctly identifies the Tehachapi mountain range as the influence for the split of the regions in California. However, the score is not higher because the majority of the points presented in the answer, including details about AAA Auto Clubs, orogenic wedges, numerical models, and Victoria's temperature records, are irrelevant to the original question.\"}], [{'name': 'answer_relevancy', 'score': 0.5, 'explanation': 'The score is 0.50 because while the answer did provide the correct information about the prize amount for solving the P=NP problem, it also included unnecessary details about the significance of the P=NP problem itself, which was not asked for in the question.'}], [{'name': 'answer_relevancy', 'score': 0.2, 'explanation': 'The score is 0.20 because while the answer does mention a location in the upper part, it is not related to the original question about a Californio. The answer also includes irrelevant information about the Ill, the Upper Rhine Plain, and the Rhine, which are not related to the question. The score is not zero because the concept of a location in the upper part is addressed.'}]]\n"
          ]
        }
      ],
      "source": [
        "evaluation_results = answer_relevancy_pipeline.run(\n",
        "    {\"evaluator\": {\"questions\": questions, \"responses\": responses, \"contexts\": contexts}}\n",
        ")\n",
        "print(evaluation_results[\"evaluator\"][\"results\"])"
      ]
    },
    {
      "cell_type": "markdown",
      "metadata": {
        "id": "j6vX1z8iyswB"
      },
      "source": [
        "#### Note\n",
        "\n",
        "When this notebook was created, the version 0.20.57 of [deepeval](https://github.com/confident-ai/deepeval/tree/v0.20.57) required the use of contexts for calculating Answer Relevancy. Please note that future versions will no longer require the context field. Specifically, the upcoming release of deepeval-haystack will eliminate the context field as a mandatory requirement."
      ]
    },
    {
      "cell_type": "markdown",
      "metadata": {
        "id": "yJFAehqJD6fB"
      },
      "source": [
        "### Faithfulness\n",
        "\n",
        "The faithfulness metric measures the quality of our RAG pipeline's responses by evaluating whether the response factually aligns with the contents of context we provided."
      ]
    },
    {
      "cell_type": "code",
      "execution_count": null,
      "metadata": {
        "id": "HYtc-Y-_NpbG"
      },
      "outputs": [],
      "source": [
        "from haystack import Pipeline\n",
        "from haystack_integrations.components.evaluators.deepeval import DeepEvalEvaluator, DeepEvalMetric\n",
        "\n",
        "faithfulness_pipeline = Pipeline()\n",
        "evaluator = DeepEvalEvaluator(metric=DeepEvalMetric.FAITHFULNESS, metric_params={\"model\":\"gpt-4\"} )\n",
        "faithfulness_pipeline.add_component(\"evaluator\", evaluator)\n"
      ]
    },
    {
      "cell_type": "code",
      "execution_count": null,
      "metadata": {
        "colab": {
          "base_uri": "https://localhost:8080/",
          "height": 1000,
          "referenced_widgets": [
            "c0358b409098420da7bfe302f9f48c5c",
            "ebf2e2e45d53410e9126677c1cf61267",
            "bb98efd743c84bdab5cb275e3ac8e6b9",
            "167d5d9446f04530babc624ca48befb1",
            "5ae8eaa505ca48ad8eee06b8175c5a98",
            "cc764ae9496f45b39a3a5b40029b9196",
            "a3b496d277f74df69464a5e9dda63c23",
            "98c3859bfe82482e87d5798eddd51f61"
          ]
        },
        "id": "o7obq_DSNsKo",
        "outputId": "fa62e280-e110-446c-e900-9c936ae5aeaa"
      },
      "outputs": [
        {
          "data": {
            "application/vnd.jupyter.widget-view+json": {
              "model_id": "c0358b409098420da7bfe302f9f48c5c",
              "version_major": 2,
              "version_minor": 0
            },
            "text/plain": [
              "Output()"
            ]
          },
          "metadata": {},
          "output_type": "display_data"
        },
        {
          "data": {
            "application/vnd.jupyter.widget-view+json": {
              "model_id": "bb98efd743c84bdab5cb275e3ac8e6b9",
              "version_major": 2,
              "version_minor": 0
            },
            "text/plain": [
              "Output()"
            ]
          },
          "metadata": {},
          "output_type": "display_data"
        },
        {
          "data": {
            "text/html": [
              "<pre style=\"white-space:pre;overflow-x:auto;line-height:normal;font-family:Menlo,'DejaVu Sans Mono',consolas,'Courier New',monospace\"></pre>\n"
            ],
            "text/plain": []
          },
          "metadata": {},
          "output_type": "display_data"
        },
        {
          "data": {
            "text/html": [
              "<pre style=\"white-space:pre;overflow-x:auto;line-height:normal;font-family:Menlo,'DejaVu Sans Mono',consolas,'Courier New',monospace\">\n",
              "</pre>\n"
            ],
            "text/plain": [
              "\n"
            ]
          },
          "metadata": {},
          "output_type": "display_data"
        },
        {
          "data": {
            "application/vnd.jupyter.widget-view+json": {
              "model_id": "5ae8eaa505ca48ad8eee06b8175c5a98",
              "version_major": 2,
              "version_minor": 0
            },
            "text/plain": [
              "Output()"
            ]
          },
          "metadata": {},
          "output_type": "display_data"
        },
        {
          "data": {
            "text/html": [
              "<pre style=\"white-space:pre;overflow-x:auto;line-height:normal;font-family:Menlo,'DejaVu Sans Mono',consolas,'Courier New',monospace\"></pre>\n"
            ],
            "text/plain": []
          },
          "metadata": {},
          "output_type": "display_data"
        },
        {
          "data": {
            "text/html": [
              "<pre style=\"white-space:pre;overflow-x:auto;line-height:normal;font-family:Menlo,'DejaVu Sans Mono',consolas,'Courier New',monospace\">\n",
              "</pre>\n"
            ],
            "text/plain": [
              "\n"
            ]
          },
          "metadata": {},
          "output_type": "display_data"
        },
        {
          "data": {
            "application/vnd.jupyter.widget-view+json": {
              "model_id": "a3b496d277f74df69464a5e9dda63c23",
              "version_major": 2,
              "version_minor": 0
            },
            "text/plain": [
              "Output()"
            ]
          },
          "metadata": {},
          "output_type": "display_data"
        },
        {
          "data": {
            "text/html": [
              "<pre style=\"white-space:pre;overflow-x:auto;line-height:normal;font-family:Menlo,'DejaVu Sans Mono',consolas,'Courier New',monospace\"></pre>\n"
            ],
            "text/plain": []
          },
          "metadata": {},
          "output_type": "display_data"
        },
        {
          "data": {
            "text/html": [
              "<pre style=\"white-space:pre;overflow-x:auto;line-height:normal;font-family:Menlo,'DejaVu Sans Mono',consolas,'Courier New',monospace\">\n",
              "</pre>\n"
            ],
            "text/plain": [
              "\n"
            ]
          },
          "metadata": {},
          "output_type": "display_data"
        },
        {
          "data": {
            "text/html": [
              "<pre style=\"white-space:pre;overflow-x:auto;line-height:normal;font-family:Menlo,'DejaVu Sans Mono',consolas,'Courier New',monospace\">\n",
              "</pre>\n"
            ],
            "text/plain": [
              "\n"
            ]
          },
          "metadata": {},
          "output_type": "display_data"
        },
        {
          "data": {
            "text/html": [
              "<pre style=\"white-space:pre;overflow-x:auto;line-height:normal;font-family:Menlo,'DejaVu Sans Mono',consolas,'Courier New',monospace\">======================================================================\n",
              "</pre>\n"
            ],
            "text/plain": [
              "======================================================================\n"
            ]
          },
          "metadata": {},
          "output_type": "display_data"
        },
        {
          "data": {
            "text/html": [
              "<pre style=\"white-space:pre;overflow-x:auto;line-height:normal;font-family:Menlo,'DejaVu Sans Mono',consolas,'Courier New',monospace\">\n",
              "</pre>\n"
            ],
            "text/plain": [
              "\n"
            ]
          },
          "metadata": {},
          "output_type": "display_data"
        },
        {
          "data": {
            "text/html": [
              "<pre style=\"white-space:pre;overflow-x:auto;line-height:normal;font-family:Menlo,'DejaVu Sans Mono',consolas,'Courier New',monospace\">Metrics Summary\n",
              "</pre>\n"
            ],
            "text/plain": [
              "Metrics Summary\n"
            ]
          },
          "metadata": {},
          "output_type": "display_data"
        },
        {
          "data": {
            "text/html": [
              "<pre style=\"white-space:pre;overflow-x:auto;line-height:normal;font-family:Menlo,'DejaVu Sans Mono',consolas,'Courier New',monospace\">\n",
              "</pre>\n"
            ],
            "text/plain": [
              "\n"
            ]
          },
          "metadata": {},
          "output_type": "display_data"
        },
        {
          "data": {
            "text/html": [
              "<pre style=\"white-space:pre;overflow-x:auto;line-height:normal;font-family:Menlo,'DejaVu Sans Mono',consolas,'Courier New',monospace\">  - ✅ Faithfulness (score: 0.2631578947368421, threshold: 0.0, evaluation model: gpt-4, reason: The score is 0.26 \n",
              "because the actual output persistently mentions the Tehachapi mountain range influencing the split of regions in \n",
              "California, which is not addressed in the context of the discussions on orogenic wedges, numerical models, and \n",
              "their role in mountain building in the second node of the retrieval context. Additionally, the output is also \n",
              "unrelated to the third node of the retrieval context, which discusses about Victoria's warmest regions, the Mallee,\n",
              "and upper Wimmera, and their weather patterns.)\n",
              "</pre>\n"
            ],
            "text/plain": [
              "  - ✅ Faithfulness (score: 0.2631578947368421, threshold: 0.0, evaluation model: gpt-4, reason: The score is 0.26 \n",
              "because the actual output persistently mentions the Tehachapi mountain range influencing the split of regions in \n",
              "California, which is not addressed in the context of the discussions on orogenic wedges, numerical models, and \n",
              "their role in mountain building in the second node of the retrieval context. Additionally, the output is also \n",
              "unrelated to the third node of the retrieval context, which discusses about Victoria's warmest regions, the Mallee,\n",
              "and upper Wimmera, and their weather patterns.)\n"
            ]
          },
          "metadata": {},
          "output_type": "display_data"
        },
        {
          "data": {
            "text/html": [
              "<pre style=\"white-space:pre;overflow-x:auto;line-height:normal;font-family:Menlo,'DejaVu Sans Mono',consolas,'Courier New',monospace\">\n",
              "</pre>\n"
            ],
            "text/plain": [
              "\n"
            ]
          },
          "metadata": {},
          "output_type": "display_data"
        },
        {
          "data": {
            "text/html": [
              "<pre style=\"white-space:pre;overflow-x:auto;line-height:normal;font-family:Menlo,'DejaVu Sans Mono',consolas,'Courier New',monospace\">For test case:\n",
              "</pre>\n"
            ],
            "text/plain": [
              "For test case:\n"
            ]
          },
          "metadata": {},
          "output_type": "display_data"
        },
        {
          "data": {
            "text/html": [
              "<pre style=\"white-space:pre;overflow-x:auto;line-height:normal;font-family:Menlo,'DejaVu Sans Mono',consolas,'Courier New',monospace\">\n",
              "</pre>\n"
            ],
            "text/plain": [
              "\n"
            ]
          },
          "metadata": {},
          "output_type": "display_data"
        },
        {
          "data": {
            "text/html": [
              "<pre style=\"white-space:pre;overflow-x:auto;line-height:normal;font-family:Menlo,'DejaVu Sans Mono',consolas,'Courier New',monospace\">  - input: Which mountain range influenced the split of the regions?\n",
              "</pre>\n"
            ],
            "text/plain": [
              "  - input: Which mountain range influenced the split of the regions?\n"
            ]
          },
          "metadata": {},
          "output_type": "display_data"
        },
        {
          "data": {
            "text/html": [
              "<pre style=\"white-space:pre;overflow-x:auto;line-height:normal;font-family:Menlo,'DejaVu Sans Mono',consolas,'Courier New',monospace\">  - actual output: The Tehachapi mountain range influenced the split of the regions in California.\n",
              "</pre>\n"
            ],
            "text/plain": [
              "  - actual output: The Tehachapi mountain range influenced the split of the regions in California.\n"
            ]
          },
          "metadata": {},
          "output_type": "display_data"
        },
        {
          "data": {
            "text/html": [
              "<pre style=\"white-space:pre;overflow-x:auto;line-height:normal;font-family:Menlo,'DejaVu Sans Mono',consolas,'Courier New',monospace\">  - expected output: None\n",
              "</pre>\n"
            ],
            "text/plain": [
              "  - expected output: None\n"
            ]
          },
          "metadata": {},
          "output_type": "display_data"
        },
        {
          "data": {
            "text/html": [
              "<pre style=\"white-space:pre;overflow-x:auto;line-height:normal;font-family:Menlo,'DejaVu Sans Mono',consolas,'Courier New',monospace\">  - context: None\n",
              "</pre>\n"
            ],
            "text/plain": [
              "  - context: None\n"
            ]
          },
          "metadata": {},
          "output_type": "display_data"
        },
        {
          "data": {
            "text/html": [
              "<pre style=\"white-space:pre;overflow-x:auto;line-height:normal;font-family:Menlo,'DejaVu Sans Mono',consolas,'Courier New',monospace\">  - retrieval context: ['The state is most commonly divided and promoted by its regional tourism groups as \n",
              "consisting of northern, central, and southern California regions. The two AAA Auto Clubs of the state, the \n",
              "California State Automobile Association and the Automobile Club of Southern California, choose to simplify matters \n",
              "by dividing the state along the lines where their jurisdictions for membership apply, as either northern or \n",
              "southern California, in contrast to the three-region point of view. Another influence is the geographical phrase \n",
              "South of the Tehachapis, which would split the southern region off at the crest of that transverse range, but in \n",
              "that definition, the desert portions of north Los Angeles County and eastern Kern and San Bernardino Counties would\n",
              "be included in the southern California region due to their remoteness from the central valley and interior desert \n",
              "landscape.', 'Among the most well-known experiments in structural geology are those involving orogenic wedges, \n",
              "which are zones in which mountains are built along convergent tectonic plate boundaries. In the analog versions of \n",
              "these experiments, horizontal layers of sand are pulled along a lower surface into a back stop, which results in \n",
              "realistic-looking patterns of faulting and the growth of a critically tapered (all angles remain the same) orogenic\n",
              "wedge. Numerical models work in the same way as these analog models, though they are often more sophisticated and \n",
              "can include patterns of erosion and uplift in the mountain belt. This helps to show the relationship between \n",
              "erosion and the shape of the mountain range. These studies can also give useful information about pathways for \n",
              "metamorphism through pressure, temperature, space, and time.', \"The Mallee and upper Wimmera are Victoria's warmest\n",
              "regions with hot winds blowing from nearby semi-deserts. Average temperatures exceed 32 °C (90 °F) during summer \n",
              "and 15 °C (59 °F) in winter. Except at cool mountain elevations, the inland monthly temperatures are 2–7 °C (4–13 \n",
              "°F) warmer than around Melbourne (see chart). Victoria's highest maximum temperature since World War II, of 48.8 °C\n",
              "(119.8 °F) was recorded in Hopetoun on 7 February 2009, during the 2009 southeastern Australia heat wave.\"]\n",
              "</pre>\n"
            ],
            "text/plain": [
              "  - retrieval context: ['The state is most commonly divided and promoted by its regional tourism groups as \n",
              "consisting of northern, central, and southern California regions. The two AAA Auto Clubs of the state, the \n",
              "California State Automobile Association and the Automobile Club of Southern California, choose to simplify matters \n",
              "by dividing the state along the lines where their jurisdictions for membership apply, as either northern or \n",
              "southern California, in contrast to the three-region point of view. Another influence is the geographical phrase \n",
              "South of the Tehachapis, which would split the southern region off at the crest of that transverse range, but in \n",
              "that definition, the desert portions of north Los Angeles County and eastern Kern and San Bernardino Counties would\n",
              "be included in the southern California region due to their remoteness from the central valley and interior desert \n",
              "landscape.', 'Among the most well-known experiments in structural geology are those involving orogenic wedges, \n",
              "which are zones in which mountains are built along convergent tectonic plate boundaries. In the analog versions of \n",
              "these experiments, horizontal layers of sand are pulled along a lower surface into a back stop, which results in \n",
              "realistic-looking patterns of faulting and the growth of a critically tapered (all angles remain the same) orogenic\n",
              "wedge. Numerical models work in the same way as these analog models, though they are often more sophisticated and \n",
              "can include patterns of erosion and uplift in the mountain belt. This helps to show the relationship between \n",
              "erosion and the shape of the mountain range. These studies can also give useful information about pathways for \n",
              "metamorphism through pressure, temperature, space, and time.', \"The Mallee and upper Wimmera are Victoria's warmest\n",
              "regions with hot winds blowing from nearby semi-deserts. Average temperatures exceed 32 °C (90 °F) during summer \n",
              "and 15 °C (59 °F) in winter. Except at cool mountain elevations, the inland monthly temperatures are 2–7 °C (4–13 \n",
              "°F) warmer than around Melbourne (see chart). Victoria's highest maximum temperature since World War II, of 48.8 °C\n",
              "(119.8 °F) was recorded in Hopetoun on 7 February 2009, during the 2009 southeastern Australia heat wave.\"]\n"
            ]
          },
          "metadata": {},
          "output_type": "display_data"
        },
        {
          "data": {
            "text/html": [
              "<pre style=\"white-space:pre;overflow-x:auto;line-height:normal;font-family:Menlo,'DejaVu Sans Mono',consolas,'Courier New',monospace\">\n",
              "</pre>\n"
            ],
            "text/plain": [
              "\n"
            ]
          },
          "metadata": {},
          "output_type": "display_data"
        },
        {
          "data": {
            "text/html": [
              "<pre style=\"white-space:pre;overflow-x:auto;line-height:normal;font-family:Menlo,'DejaVu Sans Mono',consolas,'Courier New',monospace\">======================================================================\n",
              "</pre>\n"
            ],
            "text/plain": [
              "======================================================================\n"
            ]
          },
          "metadata": {},
          "output_type": "display_data"
        },
        {
          "data": {
            "text/html": [
              "<pre style=\"white-space:pre;overflow-x:auto;line-height:normal;font-family:Menlo,'DejaVu Sans Mono',consolas,'Courier New',monospace\">\n",
              "</pre>\n"
            ],
            "text/plain": [
              "\n"
            ]
          },
          "metadata": {},
          "output_type": "display_data"
        },
        {
          "data": {
            "text/html": [
              "<pre style=\"white-space:pre;overflow-x:auto;line-height:normal;font-family:Menlo,'DejaVu Sans Mono',consolas,'Courier New',monospace\">Metrics Summary\n",
              "</pre>\n"
            ],
            "text/plain": [
              "Metrics Summary\n"
            ]
          },
          "metadata": {},
          "output_type": "display_data"
        },
        {
          "data": {
            "text/html": [
              "<pre style=\"white-space:pre;overflow-x:auto;line-height:normal;font-family:Menlo,'DejaVu Sans Mono',consolas,'Courier New',monospace\">\n",
              "</pre>\n"
            ],
            "text/plain": [
              "\n"
            ]
          },
          "metadata": {},
          "output_type": "display_data"
        },
        {
          "data": {
            "text/html": [
              "<pre style=\"white-space:pre;overflow-x:auto;line-height:normal;font-family:Menlo,'DejaVu Sans Mono',consolas,'Courier New',monospace\">  - retrieval context: ['If a problem X is in C and hard for C, then X is said to be complete for C. This means \n",
              "that X is the hardest problem in C. (Since many problems could be equally hard, one might say that X is one of the \n",
              "hardest problems in C.) Thus the class of NP-complete problems contains the most difficult problems in NP, in the \n",
              "sense that they are the ones most likely not to be in P. Because the problem P = NP is not solved, being able to \n",
              "reduce a known NP-complete problem, Π2, to another problem, Π1, would indicate that there is no known \n",
              "polynomial-time solution for Π1. This is because a polynomial-time solution to Π1 would yield a polynomial-time \n",
              "solution to Π2. Similarly, because all NP problems can be reduced to the set, finding an NP-complete problem that \n",
              "can be solved in polynomial time would mean that P = NP.', 'The question of whether P equals NP is one of the most \n",
              "important open questions in theoretical computer science because of the wide implications of a solution. If the \n",
              "answer is yes, many important problems can be shown to have more efficient solutions. These include various types \n",
              "of integer programming problems in operations research, many problems in logistics, protein structure prediction in\n",
              "biology, and the ability to find formal proofs of pure mathematics theorems. The P versus NP problem is one of the \n",
              "Millennium Prize Problems proposed by the Clay Mathematics Institute. There is a US$1,000,000 prize for resolving \n",
              "the problem.', 'What intractability means in practice is open to debate. Saying that a problem is not in P does not\n",
              "imply that all large cases of the problem are hard or even that most of them are. For example, the decision problem\n",
              "in Presburger arithmetic has been shown not to be in P, yet algorithms have been written that solve the problem in \n",
              "reasonable times in most cases. Similarly, algorithms can solve the NP-complete knapsack problem over a wide range \n",
              "of sizes in less than quadratic time and SAT solvers routinely handle large instances of the NP-complete Boolean \n",
              "satisfiability problem.']\n",
              "</pre>\n"
            ],
            "text/plain": [
              "  - retrieval context: ['If a problem X is in C and hard for C, then X is said to be complete for C. This means \n",
              "that X is the hardest problem in C. (Since many problems could be equally hard, one might say that X is one of the \n",
              "hardest problems in C.) Thus the class of NP-complete problems contains the most difficult problems in NP, in the \n",
              "sense that they are the ones most likely not to be in P. Because the problem P = NP is not solved, being able to \n",
              "reduce a known NP-complete problem, Π2, to another problem, Π1, would indicate that there is no known \n",
              "polynomial-time solution for Π1. This is because a polynomial-time solution to Π1 would yield a polynomial-time \n",
              "solution to Π2. Similarly, because all NP problems can be reduced to the set, finding an NP-complete problem that \n",
              "can be solved in polynomial time would mean that P = NP.', 'The question of whether P equals NP is one of the most \n",
              "important open questions in theoretical computer science because of the wide implications of a solution. If the \n",
              "answer is yes, many important problems can be shown to have more efficient solutions. These include various types \n",
              "of integer programming problems in operations research, many problems in logistics, protein structure prediction in\n",
              "biology, and the ability to find formal proofs of pure mathematics theorems. The P versus NP problem is one of the \n",
              "Millennium Prize Problems proposed by the Clay Mathematics Institute. There is a US$1,000,000 prize for resolving \n",
              "the problem.', 'What intractability means in practice is open to debate. Saying that a problem is not in P does not\n",
              "imply that all large cases of the problem are hard or even that most of them are. For example, the decision problem\n",
              "in Presburger arithmetic has been shown not to be in P, yet algorithms have been written that solve the problem in \n",
              "reasonable times in most cases. Similarly, algorithms can solve the NP-complete knapsack problem over a wide range \n",
              "of sizes in less than quadratic time and SAT solvers routinely handle large instances of the NP-complete Boolean \n",
              "satisfiability problem.']\n"
            ]
          },
          "metadata": {},
          "output_type": "display_data"
        },
        {
          "data": {
            "text/html": [
              "<pre style=\"white-space:pre;overflow-x:auto;line-height:normal;font-family:Menlo,'DejaVu Sans Mono',consolas,'Courier New',monospace\">\n",
              "</pre>\n"
            ],
            "text/plain": [
              "\n"
            ]
          },
          "metadata": {},
          "output_type": "display_data"
        },
        {
          "data": {
            "text/html": [
              "<pre style=\"white-space:pre;overflow-x:auto;line-height:normal;font-family:Menlo,'DejaVu Sans Mono',consolas,'Courier New',monospace\">======================================================================\n",
              "</pre>\n"
            ],
            "text/plain": [
              "======================================================================\n"
            ]
          },
          "metadata": {},
          "output_type": "display_data"
        },
        {
          "data": {
            "text/html": [
              "<pre style=\"white-space:pre;overflow-x:auto;line-height:normal;font-family:Menlo,'DejaVu Sans Mono',consolas,'Courier New',monospace\">\n",
              "</pre>\n"
            ],
            "text/plain": [
              "\n"
            ]
          },
          "metadata": {},
          "output_type": "display_data"
        },
        {
          "data": {
            "text/html": [
              "<pre style=\"white-space:pre;overflow-x:auto;line-height:normal;font-family:Menlo,'DejaVu Sans Mono',consolas,'Courier New',monospace\">Metrics Summary\n",
              "</pre>\n"
            ],
            "text/plain": [
              "Metrics Summary\n"
            ]
          },
          "metadata": {},
          "output_type": "display_data"
        },
        {
          "data": {
            "text/html": [
              "<pre style=\"white-space:pre;overflow-x:auto;line-height:normal;font-family:Menlo,'DejaVu Sans Mono',consolas,'Courier New',monospace\">\n",
              "</pre>\n"
            ],
            "text/plain": [
              "\n"
            ]
          },
          "metadata": {},
          "output_type": "display_data"
        },
        {
          "data": {
            "text/html": [
              "<pre style=\"white-space:pre;overflow-x:auto;line-height:normal;font-family:Menlo,'DejaVu Sans Mono',consolas,'Courier New',monospace\">  - ✅ Faithfulness (score: 0.03571428571428571, threshold: 0.0, evaluation model: gpt-4, reason: The score is 0.04\n",
              "because the actual output is significantly unfaithful to the retrieval context. It completely ignores the series of\n",
              "discoveries made in the 1960s, tectonic plates, and their movement, seafloor spreading, components of the Earth's \n",
              "lithosphere, and other related concepts as stated in the first node. Additionally, it incorrectly references \n",
              "'Californio' and 'Strasbourg' which contradict the context of the Rhine knee and the geographical information \n",
              "provided in the second node. It also inaccurately mentions 'Californio' and 'Strasbourg' in the context of Rome and\n",
              "its historical and geographical facts from the third node.)\n",
              "</pre>\n"
            ],
            "text/plain": [
              "  - ✅ Faithfulness (score: 0.03571428571428571, threshold: 0.0, evaluation model: gpt-4, reason: The score is 0.04\n",
              "because the actual output is significantly unfaithful to the retrieval context. It completely ignores the series of\n",
              "discoveries made in the 1960s, tectonic plates, and their movement, seafloor spreading, components of the Earth's \n",
              "lithosphere, and other related concepts as stated in the first node. Additionally, it incorrectly references \n",
              "'Californio' and 'Strasbourg' which contradict the context of the Rhine knee and the geographical information \n",
              "provided in the second node. It also inaccurately mentions 'Californio' and 'Strasbourg' in the context of Rome and\n",
              "its historical and geographical facts from the third node.)\n"
            ]
          },
          "metadata": {},
          "output_type": "display_data"
        },
        {
          "data": {
            "text/html": [
              "<pre style=\"white-space:pre;overflow-x:auto;line-height:normal;font-family:Menlo,'DejaVu Sans Mono',consolas,'Courier New',monospace\">\n",
              "</pre>\n"
            ],
            "text/plain": [
              "\n"
            ]
          },
          "metadata": {},
          "output_type": "display_data"
        },
        {
          "data": {
            "text/html": [
              "<pre style=\"white-space:pre;overflow-x:auto;line-height:normal;font-family:Menlo,'DejaVu Sans Mono',consolas,'Courier New',monospace\">For test case:\n",
              "</pre>\n"
            ],
            "text/plain": [
              "For test case:\n"
            ]
          },
          "metadata": {},
          "output_type": "display_data"
        },
        {
          "data": {
            "text/html": [
              "<pre style=\"white-space:pre;overflow-x:auto;line-height:normal;font-family:Menlo,'DejaVu Sans Mono',consolas,'Courier New',monospace\">\n",
              "</pre>\n"
            ],
            "text/plain": [
              "\n"
            ]
          },
          "metadata": {},
          "output_type": "display_data"
        },
        {
          "data": {
            "text/html": [
              "<pre style=\"white-space:pre;overflow-x:auto;line-height:normal;font-family:Menlo,'DejaVu Sans Mono',consolas,'Courier New',monospace\">  - input: Which Californio is located in the upper part?\n",
              "</pre>\n"
            ],
            "text/plain": [
              "  - input: Which Californio is located in the upper part?\n"
            ]
          },
          "metadata": {},
          "output_type": "display_data"
        },
        {
          "data": {
            "text/html": [
              "<pre style=\"white-space:pre;overflow-x:auto;line-height:normal;font-family:Menlo,'DejaVu Sans Mono',consolas,'Courier New',monospace\">  - actual output: The Californio located in the upper part is the Ill below of Strasbourg.\n",
              "</pre>\n"
            ],
            "text/plain": [
              "  - actual output: The Californio located in the upper part is the Ill below of Strasbourg.\n"
            ]
          },
          "metadata": {},
          "output_type": "display_data"
        },
        {
          "data": {
            "text/html": [
              "<pre style=\"white-space:pre;overflow-x:auto;line-height:normal;font-family:Menlo,'DejaVu Sans Mono',consolas,'Courier New',monospace\">  - expected output: None\n",
              "</pre>\n"
            ],
            "text/plain": [
              "  - expected output: None\n"
            ]
          },
          "metadata": {},
          "output_type": "display_data"
        },
        {
          "data": {
            "text/html": [
              "<pre style=\"white-space:pre;overflow-x:auto;line-height:normal;font-family:Menlo,'DejaVu Sans Mono',consolas,'Courier New',monospace\">  - context: None\n",
              "</pre>\n"
            ],
            "text/plain": [
              "  - context: None\n"
            ]
          },
          "metadata": {},
          "output_type": "display_data"
        },
        {
          "data": {
            "text/html": [
              "<pre style=\"white-space:pre;overflow-x:auto;line-height:normal;font-family:Menlo,'DejaVu Sans Mono',consolas,'Courier New',monospace\">  - retrieval context: ['In the centre of Basel, the first major city in the course of the stream, is located the \n",
              "\"Rhine knee\"; this is a major bend, where the overall direction of the Rhine changes from West to North. Here the \n",
              "High Rhine ends. Legally, the Central Bridge is the boundary between High and Upper Rhine. The river now flows \n",
              "North as Upper Rhine through the Upper Rhine Plain, which is about 300 km long and up to 40 km wide. The most \n",
              "important tributaries in this area are the Ill below of Strasbourg, the Neckar in Mannheim and the Main across from\n",
              "Mainz. In Mainz, the Rhine leaves the Upper Rhine Valley and flows through the Mainz Basin.', 'From the death of \n",
              "Augustus in AD 14 until after AD 70, Rome accepted as her Germanic frontier the water-boundary of the Rhine and \n",
              "upper Danube. Beyond these rivers she held only the fertile plain of Frankfurt, opposite the Roman border fortress \n",
              "of Moguntiacum (Mainz), the southernmost slopes of the Black Forest and a few scattered bridge-heads. The northern \n",
              "section of this frontier, where the Rhine is deep and broad, remained the Roman boundary until the empire fell. The\n",
              "southern part was different. The upper Rhine and upper Danube are easily crossed. The frontier which they form is \n",
              "inconveniently long, enclosing an acute-angled wedge of foreign territory between the modern Baden and Württemberg.\n",
              "The Germanic populations of these lands seem in Roman times to have been scanty, and Roman subjects from the modern\n",
              "Alsace-Lorraine had drifted across the river eastwards.', \"In the 1960s, a series of discoveries, the most \n",
              "important of which was seafloor spreading, showed that the Earth's lithosphere, which includes the crust and rigid \n",
              "uppermost portion of the upper mantle, is separated into a number of tectonic plates that move across the \n",
              "plastically deforming, solid, upper mantle, which is called the asthenosphere. There is an intimate coupling \n",
              "between the movement of the plates on the surface and the convection of the mantle: oceanic plate motions and \n",
              "mantle convection currents always move in the same direction, because the oceanic lithosphere is the rigid upper \n",
              "thermal boundary layer of the convecting mantle. This coupling between rigid plates moving on the surface of the \n",
              "Earth and the convecting mantle is called plate tectonics.\"]\n",
              "</pre>\n"
            ],
            "text/plain": [
              "  - retrieval context: ['In the centre of Basel, the first major city in the course of the stream, is located the \n",
              "\"Rhine knee\"; this is a major bend, where the overall direction of the Rhine changes from West to North. Here the \n",
              "High Rhine ends. Legally, the Central Bridge is the boundary between High and Upper Rhine. The river now flows \n",
              "North as Upper Rhine through the Upper Rhine Plain, which is about 300 km long and up to 40 km wide. The most \n",
              "important tributaries in this area are the Ill below of Strasbourg, the Neckar in Mannheim and the Main across from\n",
              "Mainz. In Mainz, the Rhine leaves the Upper Rhine Valley and flows through the Mainz Basin.', 'From the death of \n",
              "Augustus in AD 14 until after AD 70, Rome accepted as her Germanic frontier the water-boundary of the Rhine and \n",
              "upper Danube. Beyond these rivers she held only the fertile plain of Frankfurt, opposite the Roman border fortress \n",
              "of Moguntiacum (Mainz), the southernmost slopes of the Black Forest and a few scattered bridge-heads. The northern \n",
              "section of this frontier, where the Rhine is deep and broad, remained the Roman boundary until the empire fell. The\n",
              "southern part was different. The upper Rhine and upper Danube are easily crossed. The frontier which they form is \n",
              "inconveniently long, enclosing an acute-angled wedge of foreign territory between the modern Baden and Württemberg.\n",
              "The Germanic populations of these lands seem in Roman times to have been scanty, and Roman subjects from the modern\n",
              "Alsace-Lorraine had drifted across the river eastwards.', \"In the 1960s, a series of discoveries, the most \n",
              "important of which was seafloor spreading, showed that the Earth's lithosphere, which includes the crust and rigid \n",
              "uppermost portion of the upper mantle, is separated into a number of tectonic plates that move across the \n",
              "plastically deforming, solid, upper mantle, which is called the asthenosphere. There is an intimate coupling \n",
              "between the movement of the plates on the surface and the convection of the mantle: oceanic plate motions and \n",
              "mantle convection currents always move in the same direction, because the oceanic lithosphere is the rigid upper \n",
              "thermal boundary layer of the convecting mantle. This coupling between rigid plates moving on the surface of the \n",
              "Earth and the convecting mantle is called plate tectonics.\"]\n"
            ]
          },
          "metadata": {},
          "output_type": "display_data"
        },
        {
          "data": {
            "text/html": [
              "<pre style=\"white-space:pre;overflow-x:auto;line-height:normal;font-family:Menlo,'DejaVu Sans Mono',consolas,'Courier New',monospace\">\n",
              "</pre>\n"
            ],
            "text/plain": [
              "\n"
            ]
          },
          "metadata": {},
          "output_type": "display_data"
        },
        {
          "data": {
            "text/html": [
              "<pre style=\"white-space:pre;overflow-x:auto;line-height:normal;font-family:Menlo,'DejaVu Sans Mono',consolas,'Courier New',monospace\">----------------------------------------------------------------------\n",
              "</pre>\n"
            ],
            "text/plain": [
              "----------------------------------------------------------------------\n"
            ]
          },
          "metadata": {},
          "output_type": "display_data"
        },
        {
          "data": {
            "text/html": [
              "<pre style=\"white-space:pre;overflow-x:auto;line-height:normal;font-family:Menlo,'DejaVu Sans Mono',consolas,'Courier New',monospace\">✅ Tests finished! Run <span style=\"color: #008000; text-decoration-color: #008000\">\"deepeval login\"</span> to view evaluation results on the web.\n",
              "</pre>\n"
            ],
            "text/plain": [
              "✅ Tests finished! Run \u001b[32m\"deepeval login\"\u001b[0m to view evaluation results on the web.\n"
            ]
          },
          "metadata": {},
          "output_type": "display_data"
        },
        {
          "data": {
            "text/html": [
              "<pre style=\"white-space:pre;overflow-x:auto;line-height:normal;font-family:Menlo,'DejaVu Sans Mono',consolas,'Courier New',monospace\"></pre>\n"
            ],
            "text/plain": []
          },
          "metadata": {},
          "output_type": "display_data"
        },
        {
          "data": {
            "text/html": [
              "<pre style=\"white-space:pre;overflow-x:auto;line-height:normal;font-family:Menlo,'DejaVu Sans Mono',consolas,'Courier New',monospace\">\n",
              "</pre>\n"
            ],
            "text/plain": [
              "\n"
            ]
          },
          "metadata": {},
          "output_type": "display_data"
        },
        {
          "name": "stdout",
          "output_type": "stream",
          "text": [
            "[[{'name': 'faithfulness', 'score': 0.2631578947368421, 'explanation': \"The score is 0.26 because the actual output persistently mentions the Tehachapi mountain range influencing the split of regions in California, which is not addressed in the context of the discussions on orogenic wedges, numerical models, and their role in mountain building in the second node of the retrieval context. Additionally, the output is also unrelated to the third node of the retrieval context, which discusses about Victoria's warmest regions, the Mallee, and upper Wimmera, and their weather patterns.\"}], [{'name': 'faithfulness', 'score': 1.0, 'explanation': 'The score is 1.00 because the actual output perfectly aligns with all the nodes in the retrieval context, without any contradictions.'}], [{'name': 'faithfulness', 'score': 0.03571428571428571, 'explanation': \"The score is 0.04 because the actual output is significantly unfaithful to the retrieval context. It completely ignores the series of discoveries made in the 1960s, tectonic plates, and their movement, seafloor spreading, components of the Earth's lithosphere, and other related concepts as stated in the first node. Additionally, it incorrectly references 'Californio' and 'Strasbourg' which contradict the context of the Rhine knee and the geographical information provided in the second node. It also inaccurately mentions 'Californio' and 'Strasbourg' in the context of Rome and its historical and geographical facts from the third node.\"}]]\n"
          ]
        }
      ],
      "source": [
        "evaluation_results = faithfulness_pipeline.run(\n",
        "    {\"evaluator\": {\"questions\": questions, \"contexts\": contexts, \"responses\": responses}}\n",
        ")\n",
        "print(evaluation_results[\"evaluator\"][\"results\"])"
      ]
    },
    {
      "cell_type": "markdown",
      "metadata": {
        "id": "GkHTvZ5lIGI7"
      },
      "source": [
        "**Our pipeline evaluation using DeepEval is now complete!**"
      ]
    },
    {
      "cell_type": "markdown",
      "metadata": {
        "id": "L0EnH7dbFT3i"
      },
      "source": [
        "**Haystack 2.0 Useful Sources**\n",
        "\n",
        "* [Docs](https://docs.haystack.deepset.ai/docs/intro)\n",
        "* [Tutorials](https://haystack.deepset.ai/tutorials)\n",
        "* [Other Cookbooks](https://github.com/deepset-ai/haystack-cookbook)"
      ]
    }
  ],
  "metadata": {
    "colab": {
      "provenance": []
    },
    "kernelspec": {
      "display_name": ".venv-haystack",
      "language": "python",
      "name": "python3"
    },
    "language_info": {
      "codemirror_mode": {
        "name": "ipython",
        "version": 3
      },
      "file_extension": ".py",
      "mimetype": "text/x-python",
      "name": "python",
      "nbconvert_exporter": "python",
      "pygments_lexer": "ipython3",
      "version": "3.12.6"
    },
    "widgets": {
      "application/vnd.jupyter.widget-state+json": {
        "08bff23da68e4250b4aa2276a8c7ef1f": {
          "model_module": "@jupyter-widgets/controls",
          "model_module_version": "1.5.0",
          "model_name": "HTMLModel",
          "state": {
            "_dom_classes": [],
            "_model_module": "@jupyter-widgets/controls",
            "_model_module_version": "1.5.0",
            "_model_name": "HTMLModel",
            "_view_count": null,
            "_view_module": "@jupyter-widgets/controls",
            "_view_module_version": "1.5.0",
            "_view_name": "HTMLView",
            "description": "",
            "description_tooltip": null,
            "layout": "IPY_MODEL_6b91d29d10be4542a66895c7fe264e9f",
            "placeholder": "​",
            "style": "IPY_MODEL_59491bd2016a4e91a6e5f8bc24e4e2ae",
            "value": " 1.35M/1.35M [00:00&lt;00:00, 18.3MB/s]"
          }
        },
        "098f6432d5ba494a8d2dac3f4c56c6c2": {
          "model_module": "@jupyter-widgets/base",
          "model_module_version": "1.2.0",
          "model_name": "LayoutModel",
          "state": {
            "_model_module": "@jupyter-widgets/base",
            "_model_module_version": "1.2.0",
            "_model_name": "LayoutModel",
            "_view_count": null,
            "_view_module": "@jupyter-widgets/base",
            "_view_module_version": "1.2.0",
            "_view_name": "LayoutView",
            "align_content": null,
            "align_items": null,
            "align_self": null,
            "border": null,
            "bottom": null,
            "display": null,
            "flex": null,
            "flex_flow": null,
            "grid_area": null,
            "grid_auto_columns": null,
            "grid_auto_flow": null,
            "grid_auto_rows": null,
            "grid_column": null,
            "grid_gap": null,
            "grid_row": null,
            "grid_template_areas": null,
            "grid_template_columns": null,
            "grid_template_rows": null,
            "height": null,
            "justify_content": null,
            "justify_items": null,
            "left": null,
            "margin": null,
            "max_height": null,
            "max_width": null,
            "min_height": null,
            "min_width": null,
            "object_fit": null,
            "object_position": null,
            "order": null,
            "overflow": null,
            "overflow_x": null,
            "overflow_y": null,
            "padding": null,
            "right": null,
            "top": null,
            "visibility": null,
            "width": null
          }
        },
        "0a8ad04907b14cdaa7374bf867fb50f5": {
          "model_module": "@jupyter-widgets/controls",
          "model_module_version": "1.5.0",
          "model_name": "ProgressStyleModel",
          "state": {
            "_model_module": "@jupyter-widgets/controls",
            "_model_module_version": "1.5.0",
            "_model_name": "ProgressStyleModel",
            "_view_count": null,
            "_view_module": "@jupyter-widgets/base",
            "_view_module_version": "1.2.0",
            "_view_name": "StyleView",
            "bar_color": null,
            "description_width": ""
          }
        },
        "0d0aed942be3451d9fce19c07f1e0aa3": {
          "model_module": "@jupyter-widgets/output",
          "model_module_version": "1.0.0",
          "model_name": "OutputModel",
          "state": {
            "_dom_classes": [],
            "_model_module": "@jupyter-widgets/output",
            "_model_module_version": "1.0.0",
            "_model_name": "OutputModel",
            "_view_count": null,
            "_view_module": "@jupyter-widgets/output",
            "_view_module_version": "1.0.0",
            "_view_name": "OutputView",
            "layout": "IPY_MODEL_4712f9ec552a49f6b0ea07d6b7ef9464",
            "msg_id": "",
            "outputs": [
              {
                "data": {
                  "text/html": "<pre style=\"white-space:pre;overflow-x:auto;line-height:normal;font-family:Menlo,'DejaVu Sans Mono',consolas,'Courier New',monospace\"><span style=\"color: #008000; text-decoration-color: #008000\">⠦</span> ✨ 🍰 ✨ You're using DeepEval's latest Contextual Precision Metric (using gpt-4)! This may take a minute...\n</pre>\n",
                  "text/plain": "\u001b[32m⠦\u001b[0m ✨ 🍰 ✨ You're using DeepEval's latest Contextual Precision Metric (using gpt-4)! This may take a minute...\n"
                },
                "metadata": {},
                "output_type": "display_data"
              }
            ]
          }
        },
        "120e473ed08b4100aa60c10eeb78a864": {
          "model_module": "@jupyter-widgets/controls",
          "model_module_version": "1.5.0",
          "model_name": "DescriptionStyleModel",
          "state": {
            "_model_module": "@jupyter-widgets/controls",
            "_model_module_version": "1.5.0",
            "_model_name": "DescriptionStyleModel",
            "_view_count": null,
            "_view_module": "@jupyter-widgets/base",
            "_view_module_version": "1.2.0",
            "_view_name": "StyleView",
            "description_width": ""
          }
        },
        "12ed03787fcb4759b468e172f464d419": {
          "model_module": "@jupyter-widgets/controls",
          "model_module_version": "1.5.0",
          "model_name": "HBoxModel",
          "state": {
            "_dom_classes": [],
            "_model_module": "@jupyter-widgets/controls",
            "_model_module_version": "1.5.0",
            "_model_name": "HBoxModel",
            "_view_count": null,
            "_view_module": "@jupyter-widgets/controls",
            "_view_module_version": "1.5.0",
            "_view_name": "HBoxView",
            "box_style": "",
            "children": [
              "IPY_MODEL_b60573f360d1407b841ef729ff5a7376",
              "IPY_MODEL_51d8f3cd841a4cc7a6f983b35aeacd2c",
              "IPY_MODEL_203eaa05dc87443c872cd8711c056d7c"
            ],
            "layout": "IPY_MODEL_d5ef6848b091428eb7d951c7fb343b88"
          }
        },
        "13231a77c09a4fd0a077b686e9fc2c7e": {
          "model_module": "@jupyter-widgets/output",
          "model_module_version": "1.0.0",
          "model_name": "OutputModel",
          "state": {
            "_dom_classes": [],
            "_model_module": "@jupyter-widgets/output",
            "_model_module_version": "1.0.0",
            "_model_name": "OutputModel",
            "_view_count": null,
            "_view_module": "@jupyter-widgets/output",
            "_view_module_version": "1.0.0",
            "_view_name": "OutputView",
            "layout": "IPY_MODEL_18a9ce63be2d44718eaf1b11cf2d694c",
            "msg_id": "",
            "outputs": [
              {
                "data": {
                  "text/html": "<pre style=\"white-space:pre;overflow-x:auto;line-height:normal;font-family:Menlo,'DejaVu Sans Mono',consolas,'Courier New',monospace\"><span style=\"color: #008000; text-decoration-color: #008000\">⠹</span> ✨ 🍰 ✨ You're using DeepEval's latest Contextual Precision Metric (using gpt-4)! This may take a minute...\n</pre>\n",
                  "text/plain": "\u001b[32m⠹\u001b[0m ✨ 🍰 ✨ You're using DeepEval's latest Contextual Precision Metric (using gpt-4)! This may take a minute...\n"
                },
                "metadata": {},
                "output_type": "display_data"
              }
            ]
          }
        },
        "151d51f4a8474d0591afe3fc8c46fa7a": {
          "model_module": "@jupyter-widgets/controls",
          "model_module_version": "1.5.0",
          "model_name": "DescriptionStyleModel",
          "state": {
            "_model_module": "@jupyter-widgets/controls",
            "_model_module_version": "1.5.0",
            "_model_name": "DescriptionStyleModel",
            "_view_count": null,
            "_view_module": "@jupyter-widgets/base",
            "_view_module_version": "1.2.0",
            "_view_name": "StyleView",
            "description_width": ""
          }
        },
        "1559b47643e4481483256713396bf4da": {
          "model_module": "@jupyter-widgets/base",
          "model_module_version": "1.2.0",
          "model_name": "LayoutModel",
          "state": {
            "_model_module": "@jupyter-widgets/base",
            "_model_module_version": "1.2.0",
            "_model_name": "LayoutModel",
            "_view_count": null,
            "_view_module": "@jupyter-widgets/base",
            "_view_module_version": "1.2.0",
            "_view_name": "LayoutView",
            "align_content": null,
            "align_items": null,
            "align_self": null,
            "border": null,
            "bottom": null,
            "display": null,
            "flex": null,
            "flex_flow": null,
            "grid_area": null,
            "grid_auto_columns": null,
            "grid_auto_flow": null,
            "grid_auto_rows": null,
            "grid_column": null,
            "grid_gap": null,
            "grid_row": null,
            "grid_template_areas": null,
            "grid_template_columns": null,
            "grid_template_rows": null,
            "height": null,
            "justify_content": null,
            "justify_items": null,
            "left": null,
            "margin": null,
            "max_height": null,
            "max_width": null,
            "min_height": null,
            "min_width": null,
            "object_fit": null,
            "object_position": null,
            "order": null,
            "overflow": null,
            "overflow_x": null,
            "overflow_y": null,
            "padding": null,
            "right": null,
            "top": null,
            "visibility": null,
            "width": null
          }
        },
        "15da0d67f4c748528d6bc7ff027e65ef": {
          "model_module": "@jupyter-widgets/base",
          "model_module_version": "1.2.0",
          "model_name": "LayoutModel",
          "state": {
            "_model_module": "@jupyter-widgets/base",
            "_model_module_version": "1.2.0",
            "_model_name": "LayoutModel",
            "_view_count": null,
            "_view_module": "@jupyter-widgets/base",
            "_view_module_version": "1.2.0",
            "_view_name": "LayoutView",
            "align_content": null,
            "align_items": null,
            "align_self": null,
            "border": null,
            "bottom": null,
            "display": null,
            "flex": null,
            "flex_flow": null,
            "grid_area": null,
            "grid_auto_columns": null,
            "grid_auto_flow": null,
            "grid_auto_rows": null,
            "grid_column": null,
            "grid_gap": null,
            "grid_row": null,
            "grid_template_areas": null,
            "grid_template_columns": null,
            "grid_template_rows": null,
            "height": null,
            "justify_content": null,
            "justify_items": null,
            "left": null,
            "margin": null,
            "max_height": null,
            "max_width": null,
            "min_height": null,
            "min_width": null,
            "object_fit": null,
            "object_position": null,
            "order": null,
            "overflow": null,
            "overflow_x": null,
            "overflow_y": null,
            "padding": null,
            "right": null,
            "top": null,
            "visibility": null,
            "width": null
          }
        },
        "167d5d9446f04530babc624ca48befb1": {
          "model_module": "@jupyter-widgets/base",
          "model_module_version": "1.2.0",
          "model_name": "LayoutModel",
          "state": {
            "_model_module": "@jupyter-widgets/base",
            "_model_module_version": "1.2.0",
            "_model_name": "LayoutModel",
            "_view_count": null,
            "_view_module": "@jupyter-widgets/base",
            "_view_module_version": "1.2.0",
            "_view_name": "LayoutView",
            "align_content": null,
            "align_items": null,
            "align_self": null,
            "border": null,
            "bottom": null,
            "display": null,
            "flex": null,
            "flex_flow": null,
            "grid_area": null,
            "grid_auto_columns": null,
            "grid_auto_flow": null,
            "grid_auto_rows": null,
            "grid_column": null,
            "grid_gap": null,
            "grid_row": null,
            "grid_template_areas": null,
            "grid_template_columns": null,
            "grid_template_rows": null,
            "height": null,
            "justify_content": null,
            "justify_items": null,
            "left": null,
            "margin": null,
            "max_height": null,
            "max_width": null,
            "min_height": null,
            "min_width": null,
            "object_fit": null,
            "object_position": null,
            "order": null,
            "overflow": null,
            "overflow_x": null,
            "overflow_y": null,
            "padding": null,
            "right": null,
            "top": null,
            "visibility": null,
            "width": null
          }
        },
        "18a9ce63be2d44718eaf1b11cf2d694c": {
          "model_module": "@jupyter-widgets/base",
          "model_module_version": "1.2.0",
          "model_name": "LayoutModel",
          "state": {
            "_model_module": "@jupyter-widgets/base",
            "_model_module_version": "1.2.0",
            "_model_name": "LayoutModel",
            "_view_count": null,
            "_view_module": "@jupyter-widgets/base",
            "_view_module_version": "1.2.0",
            "_view_name": "LayoutView",
            "align_content": null,
            "align_items": null,
            "align_self": null,
            "border": null,
            "bottom": null,
            "display": null,
            "flex": null,
            "flex_flow": null,
            "grid_area": null,
            "grid_auto_columns": null,
            "grid_auto_flow": null,
            "grid_auto_rows": null,
            "grid_column": null,
            "grid_gap": null,
            "grid_row": null,
            "grid_template_areas": null,
            "grid_template_columns": null,
            "grid_template_rows": null,
            "height": null,
            "justify_content": null,
            "justify_items": null,
            "left": null,
            "margin": null,
            "max_height": null,
            "max_width": null,
            "min_height": null,
            "min_width": null,
            "object_fit": null,
            "object_position": null,
            "order": null,
            "overflow": null,
            "overflow_x": null,
            "overflow_y": null,
            "padding": null,
            "right": null,
            "top": null,
            "visibility": null,
            "width": null
          }
        },
        "191ecf80edfd4653b01a69428d560032": {
          "model_module": "@jupyter-widgets/base",
          "model_module_version": "1.2.0",
          "model_name": "LayoutModel",
          "state": {
            "_model_module": "@jupyter-widgets/base",
            "_model_module_version": "1.2.0",
            "_model_name": "LayoutModel",
            "_view_count": null,
            "_view_module": "@jupyter-widgets/base",
            "_view_module_version": "1.2.0",
            "_view_name": "LayoutView",
            "align_content": null,
            "align_items": null,
            "align_self": null,
            "border": null,
            "bottom": null,
            "display": null,
            "flex": null,
            "flex_flow": null,
            "grid_area": null,
            "grid_auto_columns": null,
            "grid_auto_flow": null,
            "grid_auto_rows": null,
            "grid_column": null,
            "grid_gap": null,
            "grid_row": null,
            "grid_template_areas": null,
            "grid_template_columns": null,
            "grid_template_rows": null,
            "height": null,
            "justify_content": null,
            "justify_items": null,
            "left": null,
            "margin": null,
            "max_height": null,
            "max_width": null,
            "min_height": null,
            "min_width": null,
            "object_fit": null,
            "object_position": null,
            "order": null,
            "overflow": null,
            "overflow_x": null,
            "overflow_y": null,
            "padding": null,
            "right": null,
            "top": null,
            "visibility": null,
            "width": null
          }
        },
        "1fdcf27ebdb34b55921b95d496dad8ce": {
          "model_module": "@jupyter-widgets/controls",
          "model_module_version": "1.5.0",
          "model_name": "HBoxModel",
          "state": {
            "_dom_classes": [],
            "_model_module": "@jupyter-widgets/controls",
            "_model_module_version": "1.5.0",
            "_model_name": "HBoxModel",
            "_view_count": null,
            "_view_module": "@jupyter-widgets/controls",
            "_view_module_version": "1.5.0",
            "_view_name": "HBoxView",
            "box_style": "",
            "children": [
              "IPY_MODEL_96d2be18a95d4fe793197d1ba1a1a03b",
              "IPY_MODEL_e555e3c56d564c63aba5c5685ed70da6",
              "IPY_MODEL_24734ae18e2740bfaf1d036f71d335c2"
            ],
            "layout": "IPY_MODEL_f83494ad92314b66a22cf459863e5334"
          }
        },
        "203eaa05dc87443c872cd8711c056d7c": {
          "model_module": "@jupyter-widgets/controls",
          "model_module_version": "1.5.0",
          "model_name": "HTMLModel",
          "state": {
            "_dom_classes": [],
            "_model_module": "@jupyter-widgets/controls",
            "_model_module_version": "1.5.0",
            "_model_name": "HTMLModel",
            "_view_count": null,
            "_view_module": "@jupyter-widgets/controls",
            "_view_module_version": "1.5.0",
            "_view_name": "HTMLView",
            "description": "",
            "description_tooltip": null,
            "layout": "IPY_MODEL_448b3769ebc0495690e103605039ed56",
            "placeholder": "​",
            "style": "IPY_MODEL_8e2fc5ecd35f40e98bc98f5d5e6f6fee",
            "value": " 8.92k/8.92k [00:00&lt;00:00, 105kB/s]"
          }
        },
        "2285e6ff25da456a88d23cb0fe264f59": {
          "model_module": "@jupyter-widgets/controls",
          "model_module_version": "1.5.0",
          "model_name": "HTMLModel",
          "state": {
            "_dom_classes": [],
            "_model_module": "@jupyter-widgets/controls",
            "_model_module_version": "1.5.0",
            "_model_name": "HTMLModel",
            "_view_count": null,
            "_view_module": "@jupyter-widgets/controls",
            "_view_module_version": "1.5.0",
            "_view_name": "HTMLView",
            "description": "",
            "description_tooltip": null,
            "layout": "IPY_MODEL_470e21a54a0e4c38ab293dcc9d953821",
            "placeholder": "​",
            "style": "IPY_MODEL_8da1245e20954b74bf65e9fbbe592a11",
            "value": "Generating validation split: 100%"
          }
        },
        "24734ae18e2740bfaf1d036f71d335c2": {
          "model_module": "@jupyter-widgets/controls",
          "model_module_version": "1.5.0",
          "model_name": "HTMLModel",
          "state": {
            "_dom_classes": [],
            "_model_module": "@jupyter-widgets/controls",
            "_model_module_version": "1.5.0",
            "_model_name": "HTMLModel",
            "_view_count": null,
            "_view_module": "@jupyter-widgets/controls",
            "_view_module_version": "1.5.0",
            "_view_name": "HTMLView",
            "description": "",
            "description_tooltip": null,
            "layout": "IPY_MODEL_2e5a1ba5134a441bae9f7bac58d72059",
            "placeholder": "​",
            "style": "IPY_MODEL_cafd637a667e45788cb16425b4c9575d",
            "value": " 130319/130319 [00:00&lt;00:00, 129824.03 examples/s]"
          }
        },
        "2d6112f020134ffc8e106d79d9c33f80": {
          "model_module": "@jupyter-widgets/controls",
          "model_module_version": "1.5.0",
          "model_name": "ProgressStyleModel",
          "state": {
            "_model_module": "@jupyter-widgets/controls",
            "_model_module_version": "1.5.0",
            "_model_name": "ProgressStyleModel",
            "_view_count": null,
            "_view_module": "@jupyter-widgets/base",
            "_view_module_version": "1.2.0",
            "_view_name": "StyleView",
            "bar_color": null,
            "description_width": ""
          }
        },
        "2e5a1ba5134a441bae9f7bac58d72059": {
          "model_module": "@jupyter-widgets/base",
          "model_module_version": "1.2.0",
          "model_name": "LayoutModel",
          "state": {
            "_model_module": "@jupyter-widgets/base",
            "_model_module_version": "1.2.0",
            "_model_name": "LayoutModel",
            "_view_count": null,
            "_view_module": "@jupyter-widgets/base",
            "_view_module_version": "1.2.0",
            "_view_name": "LayoutView",
            "align_content": null,
            "align_items": null,
            "align_self": null,
            "border": null,
            "bottom": null,
            "display": null,
            "flex": null,
            "flex_flow": null,
            "grid_area": null,
            "grid_auto_columns": null,
            "grid_auto_flow": null,
            "grid_auto_rows": null,
            "grid_column": null,
            "grid_gap": null,
            "grid_row": null,
            "grid_template_areas": null,
            "grid_template_columns": null,
            "grid_template_rows": null,
            "height": null,
            "justify_content": null,
            "justify_items": null,
            "left": null,
            "margin": null,
            "max_height": null,
            "max_width": null,
            "min_height": null,
            "min_width": null,
            "object_fit": null,
            "object_position": null,
            "order": null,
            "overflow": null,
            "overflow_x": null,
            "overflow_y": null,
            "padding": null,
            "right": null,
            "top": null,
            "visibility": null,
            "width": null
          }
        },
        "2f834cf0dfea4490a00261ed345db109": {
          "model_module": "@jupyter-widgets/controls",
          "model_module_version": "1.5.0",
          "model_name": "DescriptionStyleModel",
          "state": {
            "_model_module": "@jupyter-widgets/controls",
            "_model_module_version": "1.5.0",
            "_model_name": "DescriptionStyleModel",
            "_view_count": null,
            "_view_module": "@jupyter-widgets/base",
            "_view_module_version": "1.2.0",
            "_view_name": "StyleView",
            "description_width": ""
          }
        },
        "35da6c45d95540c883b87df1985a530d": {
          "model_module": "@jupyter-widgets/base",
          "model_module_version": "1.2.0",
          "model_name": "LayoutModel",
          "state": {
            "_model_module": "@jupyter-widgets/base",
            "_model_module_version": "1.2.0",
            "_model_name": "LayoutModel",
            "_view_count": null,
            "_view_module": "@jupyter-widgets/base",
            "_view_module_version": "1.2.0",
            "_view_name": "LayoutView",
            "align_content": null,
            "align_items": null,
            "align_self": null,
            "border": null,
            "bottom": null,
            "display": null,
            "flex": null,
            "flex_flow": null,
            "grid_area": null,
            "grid_auto_columns": null,
            "grid_auto_flow": null,
            "grid_auto_rows": null,
            "grid_column": null,
            "grid_gap": null,
            "grid_row": null,
            "grid_template_areas": null,
            "grid_template_columns": null,
            "grid_template_rows": null,
            "height": null,
            "justify_content": null,
            "justify_items": null,
            "left": null,
            "margin": null,
            "max_height": null,
            "max_width": null,
            "min_height": null,
            "min_width": null,
            "object_fit": null,
            "object_position": null,
            "order": null,
            "overflow": null,
            "overflow_x": null,
            "overflow_y": null,
            "padding": null,
            "right": null,
            "top": null,
            "visibility": null,
            "width": null
          }
        },
        "3bb9e44e17ec4f3986378ddb3c1255c4": {
          "model_module": "@jupyter-widgets/base",
          "model_module_version": "1.2.0",
          "model_name": "LayoutModel",
          "state": {
            "_model_module": "@jupyter-widgets/base",
            "_model_module_version": "1.2.0",
            "_model_name": "LayoutModel",
            "_view_count": null,
            "_view_module": "@jupyter-widgets/base",
            "_view_module_version": "1.2.0",
            "_view_name": "LayoutView",
            "align_content": null,
            "align_items": null,
            "align_self": null,
            "border": null,
            "bottom": null,
            "display": null,
            "flex": null,
            "flex_flow": null,
            "grid_area": null,
            "grid_auto_columns": null,
            "grid_auto_flow": null,
            "grid_auto_rows": null,
            "grid_column": null,
            "grid_gap": null,
            "grid_row": null,
            "grid_template_areas": null,
            "grid_template_columns": null,
            "grid_template_rows": null,
            "height": null,
            "justify_content": null,
            "justify_items": null,
            "left": null,
            "margin": null,
            "max_height": null,
            "max_width": null,
            "min_height": null,
            "min_width": null,
            "object_fit": null,
            "object_position": null,
            "order": null,
            "overflow": null,
            "overflow_x": null,
            "overflow_y": null,
            "padding": null,
            "right": null,
            "top": null,
            "visibility": null,
            "width": null
          }
        },
        "3f0c2d0d295b4fa289ba1acc982a3e05": {
          "model_module": "@jupyter-widgets/output",
          "model_module_version": "1.0.0",
          "model_name": "OutputModel",
          "state": {
            "_dom_classes": [],
            "_model_module": "@jupyter-widgets/output",
            "_model_module_version": "1.0.0",
            "_model_name": "OutputModel",
            "_view_count": null,
            "_view_module": "@jupyter-widgets/output",
            "_view_module_version": "1.0.0",
            "_view_name": "OutputView",
            "layout": "IPY_MODEL_8cdc1aec1c614b7d85142e07725dcd13",
            "msg_id": "",
            "outputs": [
              {
                "data": {
                  "text/html": "<pre style=\"white-space:pre;overflow-x:auto;line-height:normal;font-family:Menlo,'DejaVu Sans Mono',consolas,'Courier New',monospace\"><span style=\"color: #008000; text-decoration-color: #008000\">⠏</span> ✨ 🍰 ✨ You're using DeepEval's latest Contextual Precision Metric (using gpt-4)! This may take a minute...\n</pre>\n",
                  "text/plain": "\u001b[32m⠏\u001b[0m ✨ 🍰 ✨ You're using DeepEval's latest Contextual Precision Metric (using gpt-4)! This may take a minute...\n"
                },
                "metadata": {},
                "output_type": "display_data"
              }
            ]
          }
        },
        "41ab70de29344c9d881d4c8708e3bd6e": {
          "model_module": "@jupyter-widgets/controls",
          "model_module_version": "1.5.0",
          "model_name": "HTMLModel",
          "state": {
            "_dom_classes": [],
            "_model_module": "@jupyter-widgets/controls",
            "_model_module_version": "1.5.0",
            "_model_name": "HTMLModel",
            "_view_count": null,
            "_view_module": "@jupyter-widgets/controls",
            "_view_module_version": "1.5.0",
            "_view_name": "HTMLView",
            "description": "",
            "description_tooltip": null,
            "layout": "IPY_MODEL_9f804f3ed3df4dc2963bd50f4b29cbd2",
            "placeholder": "​",
            "style": "IPY_MODEL_f11cdd616ccf4f38977d6ae88a2fa56e",
            "value": "train-00000-of-00001.parquet: 100%"
          }
        },
        "448b3769ebc0495690e103605039ed56": {
          "model_module": "@jupyter-widgets/base",
          "model_module_version": "1.2.0",
          "model_name": "LayoutModel",
          "state": {
            "_model_module": "@jupyter-widgets/base",
            "_model_module_version": "1.2.0",
            "_model_name": "LayoutModel",
            "_view_count": null,
            "_view_module": "@jupyter-widgets/base",
            "_view_module_version": "1.2.0",
            "_view_name": "LayoutView",
            "align_content": null,
            "align_items": null,
            "align_self": null,
            "border": null,
            "bottom": null,
            "display": null,
            "flex": null,
            "flex_flow": null,
            "grid_area": null,
            "grid_auto_columns": null,
            "grid_auto_flow": null,
            "grid_auto_rows": null,
            "grid_column": null,
            "grid_gap": null,
            "grid_row": null,
            "grid_template_areas": null,
            "grid_template_columns": null,
            "grid_template_rows": null,
            "height": null,
            "justify_content": null,
            "justify_items": null,
            "left": null,
            "margin": null,
            "max_height": null,
            "max_width": null,
            "min_height": null,
            "min_width": null,
            "object_fit": null,
            "object_position": null,
            "order": null,
            "overflow": null,
            "overflow_x": null,
            "overflow_y": null,
            "padding": null,
            "right": null,
            "top": null,
            "visibility": null,
            "width": null
          }
        },
        "4492b1d4a2024ffa880e8370b8136df5": {
          "model_module": "@jupyter-widgets/base",
          "model_module_version": "1.2.0",
          "model_name": "LayoutModel",
          "state": {
            "_model_module": "@jupyter-widgets/base",
            "_model_module_version": "1.2.0",
            "_model_name": "LayoutModel",
            "_view_count": null,
            "_view_module": "@jupyter-widgets/base",
            "_view_module_version": "1.2.0",
            "_view_name": "LayoutView",
            "align_content": null,
            "align_items": null,
            "align_self": null,
            "border": null,
            "bottom": null,
            "display": null,
            "flex": null,
            "flex_flow": null,
            "grid_area": null,
            "grid_auto_columns": null,
            "grid_auto_flow": null,
            "grid_auto_rows": null,
            "grid_column": null,
            "grid_gap": null,
            "grid_row": null,
            "grid_template_areas": null,
            "grid_template_columns": null,
            "grid_template_rows": null,
            "height": null,
            "justify_content": null,
            "justify_items": null,
            "left": null,
            "margin": null,
            "max_height": null,
            "max_width": null,
            "min_height": null,
            "min_width": null,
            "object_fit": null,
            "object_position": null,
            "order": null,
            "overflow": null,
            "overflow_x": null,
            "overflow_y": null,
            "padding": null,
            "right": null,
            "top": null,
            "visibility": null,
            "width": null
          }
        },
        "470e21a54a0e4c38ab293dcc9d953821": {
          "model_module": "@jupyter-widgets/base",
          "model_module_version": "1.2.0",
          "model_name": "LayoutModel",
          "state": {
            "_model_module": "@jupyter-widgets/base",
            "_model_module_version": "1.2.0",
            "_model_name": "LayoutModel",
            "_view_count": null,
            "_view_module": "@jupyter-widgets/base",
            "_view_module_version": "1.2.0",
            "_view_name": "LayoutView",
            "align_content": null,
            "align_items": null,
            "align_self": null,
            "border": null,
            "bottom": null,
            "display": null,
            "flex": null,
            "flex_flow": null,
            "grid_area": null,
            "grid_auto_columns": null,
            "grid_auto_flow": null,
            "grid_auto_rows": null,
            "grid_column": null,
            "grid_gap": null,
            "grid_row": null,
            "grid_template_areas": null,
            "grid_template_columns": null,
            "grid_template_rows": null,
            "height": null,
            "justify_content": null,
            "justify_items": null,
            "left": null,
            "margin": null,
            "max_height": null,
            "max_width": null,
            "min_height": null,
            "min_width": null,
            "object_fit": null,
            "object_position": null,
            "order": null,
            "overflow": null,
            "overflow_x": null,
            "overflow_y": null,
            "padding": null,
            "right": null,
            "top": null,
            "visibility": null,
            "width": null
          }
        },
        "4712f9ec552a49f6b0ea07d6b7ef9464": {
          "model_module": "@jupyter-widgets/base",
          "model_module_version": "1.2.0",
          "model_name": "LayoutModel",
          "state": {
            "_model_module": "@jupyter-widgets/base",
            "_model_module_version": "1.2.0",
            "_model_name": "LayoutModel",
            "_view_count": null,
            "_view_module": "@jupyter-widgets/base",
            "_view_module_version": "1.2.0",
            "_view_name": "LayoutView",
            "align_content": null,
            "align_items": null,
            "align_self": null,
            "border": null,
            "bottom": null,
            "display": null,
            "flex": null,
            "flex_flow": null,
            "grid_area": null,
            "grid_auto_columns": null,
            "grid_auto_flow": null,
            "grid_auto_rows": null,
            "grid_column": null,
            "grid_gap": null,
            "grid_row": null,
            "grid_template_areas": null,
            "grid_template_columns": null,
            "grid_template_rows": null,
            "height": null,
            "justify_content": null,
            "justify_items": null,
            "left": null,
            "margin": null,
            "max_height": null,
            "max_width": null,
            "min_height": null,
            "min_width": null,
            "object_fit": null,
            "object_position": null,
            "order": null,
            "overflow": null,
            "overflow_x": null,
            "overflow_y": null,
            "padding": null,
            "right": null,
            "top": null,
            "visibility": null,
            "width": null
          }
        },
        "4c4169fdd12c4a4398da332ed7767a4e": {
          "model_module": "@jupyter-widgets/base",
          "model_module_version": "1.2.0",
          "model_name": "LayoutModel",
          "state": {
            "_model_module": "@jupyter-widgets/base",
            "_model_module_version": "1.2.0",
            "_model_name": "LayoutModel",
            "_view_count": null,
            "_view_module": "@jupyter-widgets/base",
            "_view_module_version": "1.2.0",
            "_view_name": "LayoutView",
            "align_content": null,
            "align_items": null,
            "align_self": null,
            "border": null,
            "bottom": null,
            "display": null,
            "flex": null,
            "flex_flow": null,
            "grid_area": null,
            "grid_auto_columns": null,
            "grid_auto_flow": null,
            "grid_auto_rows": null,
            "grid_column": null,
            "grid_gap": null,
            "grid_row": null,
            "grid_template_areas": null,
            "grid_template_columns": null,
            "grid_template_rows": null,
            "height": null,
            "justify_content": null,
            "justify_items": null,
            "left": null,
            "margin": null,
            "max_height": null,
            "max_width": null,
            "min_height": null,
            "min_width": null,
            "object_fit": null,
            "object_position": null,
            "order": null,
            "overflow": null,
            "overflow_x": null,
            "overflow_y": null,
            "padding": null,
            "right": null,
            "top": null,
            "visibility": null,
            "width": null
          }
        },
        "4c6f5f6d74b64fc0b90ccba9212c67e1": {
          "model_module": "@jupyter-widgets/controls",
          "model_module_version": "1.5.0",
          "model_name": "HTMLModel",
          "state": {
            "_dom_classes": [],
            "_model_module": "@jupyter-widgets/controls",
            "_model_module_version": "1.5.0",
            "_model_name": "HTMLModel",
            "_view_count": null,
            "_view_module": "@jupyter-widgets/controls",
            "_view_module_version": "1.5.0",
            "_view_name": "HTMLView",
            "description": "",
            "description_tooltip": null,
            "layout": "IPY_MODEL_befa096452004b85930116b0868ce0fd",
            "placeholder": "​",
            "style": "IPY_MODEL_120e473ed08b4100aa60c10eeb78a864",
            "value": "validation-00000-of-00001.parquet: 100%"
          }
        },
        "51d8f3cd841a4cc7a6f983b35aeacd2c": {
          "model_module": "@jupyter-widgets/controls",
          "model_module_version": "1.5.0",
          "model_name": "FloatProgressModel",
          "state": {
            "_dom_classes": [],
            "_model_module": "@jupyter-widgets/controls",
            "_model_module_version": "1.5.0",
            "_model_name": "FloatProgressModel",
            "_view_count": null,
            "_view_module": "@jupyter-widgets/controls",
            "_view_module_version": "1.5.0",
            "_view_name": "ProgressView",
            "bar_style": "success",
            "description": "",
            "description_tooltip": null,
            "layout": "IPY_MODEL_fc908f25c2d74a64a29000a5a41028b4",
            "max": 8916,
            "min": 0,
            "orientation": "horizontal",
            "style": "IPY_MODEL_63a0ef9ce5b843e69f4c727437e857ea",
            "value": 8916
          }
        },
        "521a91d6e637432b8cd7bf7039548b8b": {
          "model_module": "@jupyter-widgets/base",
          "model_module_version": "1.2.0",
          "model_name": "LayoutModel",
          "state": {
            "_model_module": "@jupyter-widgets/base",
            "_model_module_version": "1.2.0",
            "_model_name": "LayoutModel",
            "_view_count": null,
            "_view_module": "@jupyter-widgets/base",
            "_view_module_version": "1.2.0",
            "_view_name": "LayoutView",
            "align_content": null,
            "align_items": null,
            "align_self": null,
            "border": null,
            "bottom": null,
            "display": null,
            "flex": null,
            "flex_flow": null,
            "grid_area": null,
            "grid_auto_columns": null,
            "grid_auto_flow": null,
            "grid_auto_rows": null,
            "grid_column": null,
            "grid_gap": null,
            "grid_row": null,
            "grid_template_areas": null,
            "grid_template_columns": null,
            "grid_template_rows": null,
            "height": null,
            "justify_content": null,
            "justify_items": null,
            "left": null,
            "margin": null,
            "max_height": null,
            "max_width": null,
            "min_height": null,
            "min_width": null,
            "object_fit": null,
            "object_position": null,
            "order": null,
            "overflow": null,
            "overflow_x": null,
            "overflow_y": null,
            "padding": null,
            "right": null,
            "top": null,
            "visibility": null,
            "width": null
          }
        },
        "529e0a3f1bb94633b3a7ef3465025eb1": {
          "model_module": "@jupyter-widgets/output",
          "model_module_version": "1.0.0",
          "model_name": "OutputModel",
          "state": {
            "_dom_classes": [],
            "_model_module": "@jupyter-widgets/output",
            "_model_module_version": "1.0.0",
            "_model_name": "OutputModel",
            "_view_count": null,
            "_view_module": "@jupyter-widgets/output",
            "_view_module_version": "1.0.0",
            "_view_name": "OutputView",
            "layout": "IPY_MODEL_f037a8d0089a4628991a70ed217095b0",
            "msg_id": "",
            "outputs": [
              {
                "data": {
                  "text/html": "<pre style=\"white-space:pre;overflow-x:auto;line-height:normal;font-family:Menlo,'DejaVu Sans Mono',consolas,'Courier New',monospace\"><span style=\"color: #008000; text-decoration-color: #008000\">⠹</span> Evaluating testcases...\n</pre>\n",
                  "text/plain": "\u001b[32m⠹\u001b[0m Evaluating testcases...\n"
                },
                "metadata": {},
                "output_type": "display_data"
              }
            ]
          }
        },
        "53832dd0d7bc4a26ba22a87d20dbb691": {
          "model_module": "@jupyter-widgets/base",
          "model_module_version": "1.2.0",
          "model_name": "LayoutModel",
          "state": {
            "_model_module": "@jupyter-widgets/base",
            "_model_module_version": "1.2.0",
            "_model_name": "LayoutModel",
            "_view_count": null,
            "_view_module": "@jupyter-widgets/base",
            "_view_module_version": "1.2.0",
            "_view_name": "LayoutView",
            "align_content": null,
            "align_items": null,
            "align_self": null,
            "border": null,
            "bottom": null,
            "display": null,
            "flex": null,
            "flex_flow": null,
            "grid_area": null,
            "grid_auto_columns": null,
            "grid_auto_flow": null,
            "grid_auto_rows": null,
            "grid_column": null,
            "grid_gap": null,
            "grid_row": null,
            "grid_template_areas": null,
            "grid_template_columns": null,
            "grid_template_rows": null,
            "height": null,
            "justify_content": null,
            "justify_items": null,
            "left": null,
            "margin": null,
            "max_height": null,
            "max_width": null,
            "min_height": null,
            "min_width": null,
            "object_fit": null,
            "object_position": null,
            "order": null,
            "overflow": null,
            "overflow_x": null,
            "overflow_y": null,
            "padding": null,
            "right": null,
            "top": null,
            "visibility": null,
            "width": null
          }
        },
        "570fabc9ea2848de8cd7f436bf32b796": {
          "model_module": "@jupyter-widgets/controls",
          "model_module_version": "1.5.0",
          "model_name": "HTMLModel",
          "state": {
            "_dom_classes": [],
            "_model_module": "@jupyter-widgets/controls",
            "_model_module_version": "1.5.0",
            "_model_name": "HTMLModel",
            "_view_count": null,
            "_view_module": "@jupyter-widgets/controls",
            "_view_module_version": "1.5.0",
            "_view_name": "HTMLView",
            "description": "",
            "description_tooltip": null,
            "layout": "IPY_MODEL_815fefd855a54b54a6dc204ca88df9f3",
            "placeholder": "​",
            "style": "IPY_MODEL_da930d3fba1247ff810908f4879c871a",
            "value": " 11873/11873 [00:00&lt;00:00, 45038.86 examples/s]"
          }
        },
        "59491bd2016a4e91a6e5f8bc24e4e2ae": {
          "model_module": "@jupyter-widgets/controls",
          "model_module_version": "1.5.0",
          "model_name": "DescriptionStyleModel",
          "state": {
            "_model_module": "@jupyter-widgets/controls",
            "_model_module_version": "1.5.0",
            "_model_name": "DescriptionStyleModel",
            "_view_count": null,
            "_view_module": "@jupyter-widgets/base",
            "_view_module_version": "1.2.0",
            "_view_name": "StyleView",
            "description_width": ""
          }
        },
        "5ae473c91e084c339e339bba168d52cc": {
          "model_module": "@jupyter-widgets/base",
          "model_module_version": "1.2.0",
          "model_name": "LayoutModel",
          "state": {
            "_model_module": "@jupyter-widgets/base",
            "_model_module_version": "1.2.0",
            "_model_name": "LayoutModel",
            "_view_count": null,
            "_view_module": "@jupyter-widgets/base",
            "_view_module_version": "1.2.0",
            "_view_name": "LayoutView",
            "align_content": null,
            "align_items": null,
            "align_self": null,
            "border": null,
            "bottom": null,
            "display": null,
            "flex": null,
            "flex_flow": null,
            "grid_area": null,
            "grid_auto_columns": null,
            "grid_auto_flow": null,
            "grid_auto_rows": null,
            "grid_column": null,
            "grid_gap": null,
            "grid_row": null,
            "grid_template_areas": null,
            "grid_template_columns": null,
            "grid_template_rows": null,
            "height": null,
            "justify_content": null,
            "justify_items": null,
            "left": null,
            "margin": null,
            "max_height": null,
            "max_width": null,
            "min_height": null,
            "min_width": null,
            "object_fit": null,
            "object_position": null,
            "order": null,
            "overflow": null,
            "overflow_x": null,
            "overflow_y": null,
            "padding": null,
            "right": null,
            "top": null,
            "visibility": null,
            "width": null
          }
        },
        "5ae8eaa505ca48ad8eee06b8175c5a98": {
          "model_module": "@jupyter-widgets/output",
          "model_module_version": "1.0.0",
          "model_name": "OutputModel",
          "state": {
            "_dom_classes": [],
            "_model_module": "@jupyter-widgets/output",
            "_model_module_version": "1.0.0",
            "_model_name": "OutputModel",
            "_view_count": null,
            "_view_module": "@jupyter-widgets/output",
            "_view_module_version": "1.0.0",
            "_view_name": "OutputView",
            "layout": "IPY_MODEL_cc764ae9496f45b39a3a5b40029b9196",
            "msg_id": "",
            "outputs": [
              {
                "data": {
                  "text/html": "<pre style=\"white-space:pre;overflow-x:auto;line-height:normal;font-family:Menlo,'DejaVu Sans Mono',consolas,'Courier New',monospace\"><span style=\"color: #008000; text-decoration-color: #008000\">⠴</span> ✨ 🍰 ✨ You're using DeepEval's latest Faithfulness Metric (using gpt-4)! This may take a minute...\n</pre>\n",
                  "text/plain": "\u001b[32m⠴\u001b[0m ✨ 🍰 ✨ You're using DeepEval's latest Faithfulness Metric (using gpt-4)! This may take a minute...\n"
                },
                "metadata": {},
                "output_type": "display_data"
              }
            ]
          }
        },
        "5da6136f1cfb435895c0a05848a2bbed": {
          "model_module": "@jupyter-widgets/controls",
          "model_module_version": "1.5.0",
          "model_name": "FloatProgressModel",
          "state": {
            "_dom_classes": [],
            "_model_module": "@jupyter-widgets/controls",
            "_model_module_version": "1.5.0",
            "_model_name": "FloatProgressModel",
            "_view_count": null,
            "_view_module": "@jupyter-widgets/controls",
            "_view_module_version": "1.5.0",
            "_view_name": "ProgressView",
            "bar_style": "success",
            "description": "",
            "description_tooltip": null,
            "layout": "IPY_MODEL_521a91d6e637432b8cd7bf7039548b8b",
            "max": 1350511,
            "min": 0,
            "orientation": "horizontal",
            "style": "IPY_MODEL_731f1104225246d9932c3bf4cec1b5ba",
            "value": 1350511
          }
        },
        "5f7b736696c9434db124ce6f2f7336a0": {
          "model_module": "@jupyter-widgets/output",
          "model_module_version": "1.0.0",
          "model_name": "OutputModel",
          "state": {
            "_dom_classes": [],
            "_model_module": "@jupyter-widgets/output",
            "_model_module_version": "1.0.0",
            "_model_name": "OutputModel",
            "_view_count": null,
            "_view_module": "@jupyter-widgets/output",
            "_view_module_version": "1.0.0",
            "_view_name": "OutputView",
            "layout": "IPY_MODEL_99bca06bfd524744ac6d0dda0b364588",
            "msg_id": "",
            "outputs": [
              {
                "data": {
                  "text/html": "<pre style=\"white-space:pre;overflow-x:auto;line-height:normal;font-family:Menlo,'DejaVu Sans Mono',consolas,'Courier New',monospace\"><span style=\"color: #008000; text-decoration-color: #008000\">⠙</span> ✨ 🍰 ✨ You're using DeepEval's latest Contextual Recall Metric (using gpt-4)! This may take a minute...\n</pre>\n",
                  "text/plain": "\u001b[32m⠙\u001b[0m ✨ 🍰 ✨ You're using DeepEval's latest Contextual Recall Metric (using gpt-4)! This may take a minute...\n"
                },
                "metadata": {},
                "output_type": "display_data"
              }
            ]
          }
        },
        "63a0ef9ce5b843e69f4c727437e857ea": {
          "model_module": "@jupyter-widgets/controls",
          "model_module_version": "1.5.0",
          "model_name": "ProgressStyleModel",
          "state": {
            "_model_module": "@jupyter-widgets/controls",
            "_model_module_version": "1.5.0",
            "_model_name": "ProgressStyleModel",
            "_view_count": null,
            "_view_module": "@jupyter-widgets/base",
            "_view_module_version": "1.2.0",
            "_view_name": "StyleView",
            "bar_color": null,
            "description_width": ""
          }
        },
        "6b91d29d10be4542a66895c7fe264e9f": {
          "model_module": "@jupyter-widgets/base",
          "model_module_version": "1.2.0",
          "model_name": "LayoutModel",
          "state": {
            "_model_module": "@jupyter-widgets/base",
            "_model_module_version": "1.2.0",
            "_model_name": "LayoutModel",
            "_view_count": null,
            "_view_module": "@jupyter-widgets/base",
            "_view_module_version": "1.2.0",
            "_view_name": "LayoutView",
            "align_content": null,
            "align_items": null,
            "align_self": null,
            "border": null,
            "bottom": null,
            "display": null,
            "flex": null,
            "flex_flow": null,
            "grid_area": null,
            "grid_auto_columns": null,
            "grid_auto_flow": null,
            "grid_auto_rows": null,
            "grid_column": null,
            "grid_gap": null,
            "grid_row": null,
            "grid_template_areas": null,
            "grid_template_columns": null,
            "grid_template_rows": null,
            "height": null,
            "justify_content": null,
            "justify_items": null,
            "left": null,
            "margin": null,
            "max_height": null,
            "max_width": null,
            "min_height": null,
            "min_width": null,
            "object_fit": null,
            "object_position": null,
            "order": null,
            "overflow": null,
            "overflow_x": null,
            "overflow_y": null,
            "padding": null,
            "right": null,
            "top": null,
            "visibility": null,
            "width": null
          }
        },
        "713f9175346140a6a8b5a60915ec3eb2": {
          "model_module": "@jupyter-widgets/output",
          "model_module_version": "1.0.0",
          "model_name": "OutputModel",
          "state": {
            "_dom_classes": [],
            "_model_module": "@jupyter-widgets/output",
            "_model_module_version": "1.0.0",
            "_model_name": "OutputModel",
            "_view_count": null,
            "_view_module": "@jupyter-widgets/output",
            "_view_module_version": "1.0.0",
            "_view_name": "OutputView",
            "layout": "IPY_MODEL_35da6c45d95540c883b87df1985a530d",
            "msg_id": "",
            "outputs": [
              {
                "data": {
                  "text/html": "<pre style=\"white-space:pre;overflow-x:auto;line-height:normal;font-family:Menlo,'DejaVu Sans Mono',consolas,'Courier New',monospace\"><span style=\"color: #008000; text-decoration-color: #008000\">⠇</span> ✨ 🍰 ✨ You're using DeepEval's latest Contextual Relevancy Metric (using gpt-4)! This may take a minute...\n</pre>\n",
                  "text/plain": "\u001b[32m⠇\u001b[0m ✨ 🍰 ✨ You're using DeepEval's latest Contextual Relevancy Metric (using gpt-4)! This may take a minute...\n"
                },
                "metadata": {},
                "output_type": "display_data"
              }
            ]
          }
        },
        "72fa3d3d04f54f91be7dd6429721c6e5": {
          "model_module": "@jupyter-widgets/output",
          "model_module_version": "1.0.0",
          "model_name": "OutputModel",
          "state": {
            "_dom_classes": [],
            "_model_module": "@jupyter-widgets/output",
            "_model_module_version": "1.0.0",
            "_model_name": "OutputModel",
            "_view_count": null,
            "_view_module": "@jupyter-widgets/output",
            "_view_module_version": "1.0.0",
            "_view_name": "OutputView",
            "layout": "IPY_MODEL_191ecf80edfd4653b01a69428d560032",
            "msg_id": "",
            "outputs": [
              {
                "data": {
                  "text/html": "<pre style=\"white-space:pre;overflow-x:auto;line-height:normal;font-family:Menlo,'DejaVu Sans Mono',consolas,'Courier New',monospace\"><span style=\"color: #008000; text-decoration-color: #008000\">⠹</span> ✨ 🍰 ✨ You're using DeepEval's latest Contextual Relevancy Metric (using gpt-4)! This may take a minute...\n</pre>\n",
                  "text/plain": "\u001b[32m⠹\u001b[0m ✨ 🍰 ✨ You're using DeepEval's latest Contextual Relevancy Metric (using gpt-4)! This may take a minute...\n"
                },
                "metadata": {},
                "output_type": "display_data"
              }
            ]
          }
        },
        "731f1104225246d9932c3bf4cec1b5ba": {
          "model_module": "@jupyter-widgets/controls",
          "model_module_version": "1.5.0",
          "model_name": "ProgressStyleModel",
          "state": {
            "_model_module": "@jupyter-widgets/controls",
            "_model_module_version": "1.5.0",
            "_model_name": "ProgressStyleModel",
            "_view_count": null,
            "_view_module": "@jupyter-widgets/base",
            "_view_module_version": "1.2.0",
            "_view_name": "StyleView",
            "bar_color": null,
            "description_width": ""
          }
        },
        "78ca439f850f481d9531d46f93086377": {
          "model_module": "@jupyter-widgets/output",
          "model_module_version": "1.0.0",
          "model_name": "OutputModel",
          "state": {
            "_dom_classes": [],
            "_model_module": "@jupyter-widgets/output",
            "_model_module_version": "1.0.0",
            "_model_name": "OutputModel",
            "_view_count": null,
            "_view_module": "@jupyter-widgets/output",
            "_view_module_version": "1.0.0",
            "_view_name": "OutputView",
            "layout": "IPY_MODEL_15da0d67f4c748528d6bc7ff027e65ef",
            "msg_id": "",
            "outputs": [
              {
                "data": {
                  "text/html": "<pre style=\"white-space:pre;overflow-x:auto;line-height:normal;font-family:Menlo,'DejaVu Sans Mono',consolas,'Courier New',monospace\"><span style=\"color: #008000; text-decoration-color: #008000\">⠏</span> ✨ 🍰 ✨ You're using DeepEval's latest Contextual Recall Metric (using gpt-4)! This may take a minute...\n</pre>\n",
                  "text/plain": "\u001b[32m⠏\u001b[0m ✨ 🍰 ✨ You're using DeepEval's latest Contextual Recall Metric (using gpt-4)! This may take a minute...\n"
                },
                "metadata": {},
                "output_type": "display_data"
              }
            ]
          }
        },
        "79c60a0c45bb4c1c8ceed3735a12c454": {
          "model_module": "@jupyter-widgets/base",
          "model_module_version": "1.2.0",
          "model_name": "LayoutModel",
          "state": {
            "_model_module": "@jupyter-widgets/base",
            "_model_module_version": "1.2.0",
            "_model_name": "LayoutModel",
            "_view_count": null,
            "_view_module": "@jupyter-widgets/base",
            "_view_module_version": "1.2.0",
            "_view_name": "LayoutView",
            "align_content": null,
            "align_items": null,
            "align_self": null,
            "border": null,
            "bottom": null,
            "display": null,
            "flex": null,
            "flex_flow": null,
            "grid_area": null,
            "grid_auto_columns": null,
            "grid_auto_flow": null,
            "grid_auto_rows": null,
            "grid_column": null,
            "grid_gap": null,
            "grid_row": null,
            "grid_template_areas": null,
            "grid_template_columns": null,
            "grid_template_rows": null,
            "height": null,
            "justify_content": null,
            "justify_items": null,
            "left": null,
            "margin": null,
            "max_height": null,
            "max_width": null,
            "min_height": null,
            "min_width": null,
            "object_fit": null,
            "object_position": null,
            "order": null,
            "overflow": null,
            "overflow_x": null,
            "overflow_y": null,
            "padding": null,
            "right": null,
            "top": null,
            "visibility": null,
            "width": null
          }
        },
        "7b4736d834784dd28feb34666c098d11": {
          "model_module": "@jupyter-widgets/output",
          "model_module_version": "1.0.0",
          "model_name": "OutputModel",
          "state": {
            "_dom_classes": [],
            "_model_module": "@jupyter-widgets/output",
            "_model_module_version": "1.0.0",
            "_model_name": "OutputModel",
            "_view_count": null,
            "_view_module": "@jupyter-widgets/output",
            "_view_module_version": "1.0.0",
            "_view_name": "OutputView",
            "layout": "IPY_MODEL_79c60a0c45bb4c1c8ceed3735a12c454",
            "msg_id": "",
            "outputs": [
              {
                "data": {
                  "text/html": "<pre style=\"white-space:pre;overflow-x:auto;line-height:normal;font-family:Menlo,'DejaVu Sans Mono',consolas,'Courier New',monospace\"><span style=\"color: #008000; text-decoration-color: #008000\">⠏</span> ✨ 🍰 ✨ You're using DeepEval's latest Contextual Recall Metric (using gpt-4)! This may take a minute...\n</pre>\n",
                  "text/plain": "\u001b[32m⠏\u001b[0m ✨ 🍰 ✨ You're using DeepEval's latest Contextual Recall Metric (using gpt-4)! This may take a minute...\n"
                },
                "metadata": {},
                "output_type": "display_data"
              }
            ]
          }
        },
        "815fefd855a54b54a6dc204ca88df9f3": {
          "model_module": "@jupyter-widgets/base",
          "model_module_version": "1.2.0",
          "model_name": "LayoutModel",
          "state": {
            "_model_module": "@jupyter-widgets/base",
            "_model_module_version": "1.2.0",
            "_model_name": "LayoutModel",
            "_view_count": null,
            "_view_module": "@jupyter-widgets/base",
            "_view_module_version": "1.2.0",
            "_view_name": "LayoutView",
            "align_content": null,
            "align_items": null,
            "align_self": null,
            "border": null,
            "bottom": null,
            "display": null,
            "flex": null,
            "flex_flow": null,
            "grid_area": null,
            "grid_auto_columns": null,
            "grid_auto_flow": null,
            "grid_auto_rows": null,
            "grid_column": null,
            "grid_gap": null,
            "grid_row": null,
            "grid_template_areas": null,
            "grid_template_columns": null,
            "grid_template_rows": null,
            "height": null,
            "justify_content": null,
            "justify_items": null,
            "left": null,
            "margin": null,
            "max_height": null,
            "max_width": null,
            "min_height": null,
            "min_width": null,
            "object_fit": null,
            "object_position": null,
            "order": null,
            "overflow": null,
            "overflow_x": null,
            "overflow_y": null,
            "padding": null,
            "right": null,
            "top": null,
            "visibility": null,
            "width": null
          }
        },
        "8a17b327bccb4d24a9c3f7c0630ffb32": {
          "model_module": "@jupyter-widgets/base",
          "model_module_version": "1.2.0",
          "model_name": "LayoutModel",
          "state": {
            "_model_module": "@jupyter-widgets/base",
            "_model_module_version": "1.2.0",
            "_model_name": "LayoutModel",
            "_view_count": null,
            "_view_module": "@jupyter-widgets/base",
            "_view_module_version": "1.2.0",
            "_view_name": "LayoutView",
            "align_content": null,
            "align_items": null,
            "align_self": null,
            "border": null,
            "bottom": null,
            "display": null,
            "flex": null,
            "flex_flow": null,
            "grid_area": null,
            "grid_auto_columns": null,
            "grid_auto_flow": null,
            "grid_auto_rows": null,
            "grid_column": null,
            "grid_gap": null,
            "grid_row": null,
            "grid_template_areas": null,
            "grid_template_columns": null,
            "grid_template_rows": null,
            "height": null,
            "justify_content": null,
            "justify_items": null,
            "left": null,
            "margin": null,
            "max_height": null,
            "max_width": null,
            "min_height": null,
            "min_width": null,
            "object_fit": null,
            "object_position": null,
            "order": null,
            "overflow": null,
            "overflow_x": null,
            "overflow_y": null,
            "padding": null,
            "right": null,
            "top": null,
            "visibility": null,
            "width": null
          }
        },
        "8cdc1aec1c614b7d85142e07725dcd13": {
          "model_module": "@jupyter-widgets/base",
          "model_module_version": "1.2.0",
          "model_name": "LayoutModel",
          "state": {
            "_model_module": "@jupyter-widgets/base",
            "_model_module_version": "1.2.0",
            "_model_name": "LayoutModel",
            "_view_count": null,
            "_view_module": "@jupyter-widgets/base",
            "_view_module_version": "1.2.0",
            "_view_name": "LayoutView",
            "align_content": null,
            "align_items": null,
            "align_self": null,
            "border": null,
            "bottom": null,
            "display": null,
            "flex": null,
            "flex_flow": null,
            "grid_area": null,
            "grid_auto_columns": null,
            "grid_auto_flow": null,
            "grid_auto_rows": null,
            "grid_column": null,
            "grid_gap": null,
            "grid_row": null,
            "grid_template_areas": null,
            "grid_template_columns": null,
            "grid_template_rows": null,
            "height": null,
            "justify_content": null,
            "justify_items": null,
            "left": null,
            "margin": null,
            "max_height": null,
            "max_width": null,
            "min_height": null,
            "min_width": null,
            "object_fit": null,
            "object_position": null,
            "order": null,
            "overflow": null,
            "overflow_x": null,
            "overflow_y": null,
            "padding": null,
            "right": null,
            "top": null,
            "visibility": null,
            "width": null
          }
        },
        "8cdffbcba4e5467196e9efe46213c1d9": {
          "model_module": "@jupyter-widgets/base",
          "model_module_version": "1.2.0",
          "model_name": "LayoutModel",
          "state": {
            "_model_module": "@jupyter-widgets/base",
            "_model_module_version": "1.2.0",
            "_model_name": "LayoutModel",
            "_view_count": null,
            "_view_module": "@jupyter-widgets/base",
            "_view_module_version": "1.2.0",
            "_view_name": "LayoutView",
            "align_content": null,
            "align_items": null,
            "align_self": null,
            "border": null,
            "bottom": null,
            "display": null,
            "flex": null,
            "flex_flow": null,
            "grid_area": null,
            "grid_auto_columns": null,
            "grid_auto_flow": null,
            "grid_auto_rows": null,
            "grid_column": null,
            "grid_gap": null,
            "grid_row": null,
            "grid_template_areas": null,
            "grid_template_columns": null,
            "grid_template_rows": null,
            "height": null,
            "justify_content": null,
            "justify_items": null,
            "left": null,
            "margin": null,
            "max_height": null,
            "max_width": null,
            "min_height": null,
            "min_width": null,
            "object_fit": null,
            "object_position": null,
            "order": null,
            "overflow": null,
            "overflow_x": null,
            "overflow_y": null,
            "padding": null,
            "right": null,
            "top": null,
            "visibility": null,
            "width": null
          }
        },
        "8da1245e20954b74bf65e9fbbe592a11": {
          "model_module": "@jupyter-widgets/controls",
          "model_module_version": "1.5.0",
          "model_name": "DescriptionStyleModel",
          "state": {
            "_model_module": "@jupyter-widgets/controls",
            "_model_module_version": "1.5.0",
            "_model_name": "DescriptionStyleModel",
            "_view_count": null,
            "_view_module": "@jupyter-widgets/base",
            "_view_module_version": "1.2.0",
            "_view_name": "StyleView",
            "description_width": ""
          }
        },
        "8e2fc5ecd35f40e98bc98f5d5e6f6fee": {
          "model_module": "@jupyter-widgets/controls",
          "model_module_version": "1.5.0",
          "model_name": "DescriptionStyleModel",
          "state": {
            "_model_module": "@jupyter-widgets/controls",
            "_model_module_version": "1.5.0",
            "_model_name": "DescriptionStyleModel",
            "_view_count": null,
            "_view_module": "@jupyter-widgets/base",
            "_view_module_version": "1.2.0",
            "_view_name": "StyleView",
            "description_width": ""
          }
        },
        "956f3c2301844dccbc94760fa2ccd685": {
          "model_module": "@jupyter-widgets/controls",
          "model_module_version": "1.5.0",
          "model_name": "DescriptionStyleModel",
          "state": {
            "_model_module": "@jupyter-widgets/controls",
            "_model_module_version": "1.5.0",
            "_model_name": "DescriptionStyleModel",
            "_view_count": null,
            "_view_module": "@jupyter-widgets/base",
            "_view_module_version": "1.2.0",
            "_view_name": "StyleView",
            "description_width": ""
          }
        },
        "9669b92e6a00497cb3ede19d165f7bc6": {
          "model_module": "@jupyter-widgets/controls",
          "model_module_version": "1.5.0",
          "model_name": "ProgressStyleModel",
          "state": {
            "_model_module": "@jupyter-widgets/controls",
            "_model_module_version": "1.5.0",
            "_model_name": "ProgressStyleModel",
            "_view_count": null,
            "_view_module": "@jupyter-widgets/base",
            "_view_module_version": "1.2.0",
            "_view_name": "StyleView",
            "bar_color": null,
            "description_width": ""
          }
        },
        "96d2be18a95d4fe793197d1ba1a1a03b": {
          "model_module": "@jupyter-widgets/controls",
          "model_module_version": "1.5.0",
          "model_name": "HTMLModel",
          "state": {
            "_dom_classes": [],
            "_model_module": "@jupyter-widgets/controls",
            "_model_module_version": "1.5.0",
            "_model_name": "HTMLModel",
            "_view_count": null,
            "_view_module": "@jupyter-widgets/controls",
            "_view_module_version": "1.5.0",
            "_view_name": "HTMLView",
            "description": "",
            "description_tooltip": null,
            "layout": "IPY_MODEL_8a17b327bccb4d24a9c3f7c0630ffb32",
            "placeholder": "​",
            "style": "IPY_MODEL_2f834cf0dfea4490a00261ed345db109",
            "value": "Generating train split: 100%"
          }
        },
        "98c3859bfe82482e87d5798eddd51f61": {
          "model_module": "@jupyter-widgets/base",
          "model_module_version": "1.2.0",
          "model_name": "LayoutModel",
          "state": {
            "_model_module": "@jupyter-widgets/base",
            "_model_module_version": "1.2.0",
            "_model_name": "LayoutModel",
            "_view_count": null,
            "_view_module": "@jupyter-widgets/base",
            "_view_module_version": "1.2.0",
            "_view_name": "LayoutView",
            "align_content": null,
            "align_items": null,
            "align_self": null,
            "border": null,
            "bottom": null,
            "display": null,
            "flex": null,
            "flex_flow": null,
            "grid_area": null,
            "grid_auto_columns": null,
            "grid_auto_flow": null,
            "grid_auto_rows": null,
            "grid_column": null,
            "grid_gap": null,
            "grid_row": null,
            "grid_template_areas": null,
            "grid_template_columns": null,
            "grid_template_rows": null,
            "height": null,
            "justify_content": null,
            "justify_items": null,
            "left": null,
            "margin": null,
            "max_height": null,
            "max_width": null,
            "min_height": null,
            "min_width": null,
            "object_fit": null,
            "object_position": null,
            "order": null,
            "overflow": null,
            "overflow_x": null,
            "overflow_y": null,
            "padding": null,
            "right": null,
            "top": null,
            "visibility": null,
            "width": null
          }
        },
        "99bca06bfd524744ac6d0dda0b364588": {
          "model_module": "@jupyter-widgets/base",
          "model_module_version": "1.2.0",
          "model_name": "LayoutModel",
          "state": {
            "_model_module": "@jupyter-widgets/base",
            "_model_module_version": "1.2.0",
            "_model_name": "LayoutModel",
            "_view_count": null,
            "_view_module": "@jupyter-widgets/base",
            "_view_module_version": "1.2.0",
            "_view_name": "LayoutView",
            "align_content": null,
            "align_items": null,
            "align_self": null,
            "border": null,
            "bottom": null,
            "display": null,
            "flex": null,
            "flex_flow": null,
            "grid_area": null,
            "grid_auto_columns": null,
            "grid_auto_flow": null,
            "grid_auto_rows": null,
            "grid_column": null,
            "grid_gap": null,
            "grid_row": null,
            "grid_template_areas": null,
            "grid_template_columns": null,
            "grid_template_rows": null,
            "height": null,
            "justify_content": null,
            "justify_items": null,
            "left": null,
            "margin": null,
            "max_height": null,
            "max_width": null,
            "min_height": null,
            "min_width": null,
            "object_fit": null,
            "object_position": null,
            "order": null,
            "overflow": null,
            "overflow_x": null,
            "overflow_y": null,
            "padding": null,
            "right": null,
            "top": null,
            "visibility": null,
            "width": null
          }
        },
        "9d9e4b085ba44a1f9666bd0b4af95ec7": {
          "model_module": "@jupyter-widgets/controls",
          "model_module_version": "1.5.0",
          "model_name": "FloatProgressModel",
          "state": {
            "_dom_classes": [],
            "_model_module": "@jupyter-widgets/controls",
            "_model_module_version": "1.5.0",
            "_model_name": "FloatProgressModel",
            "_view_count": null,
            "_view_module": "@jupyter-widgets/controls",
            "_view_module_version": "1.5.0",
            "_view_name": "ProgressView",
            "bar_style": "success",
            "description": "",
            "description_tooltip": null,
            "layout": "IPY_MODEL_4492b1d4a2024ffa880e8370b8136df5",
            "max": 11873,
            "min": 0,
            "orientation": "horizontal",
            "style": "IPY_MODEL_9669b92e6a00497cb3ede19d165f7bc6",
            "value": 11873
          }
        },
        "9de852d380924ba4a8ffd526b18babf5": {
          "model_module": "@jupyter-widgets/base",
          "model_module_version": "1.2.0",
          "model_name": "LayoutModel",
          "state": {
            "_model_module": "@jupyter-widgets/base",
            "_model_module_version": "1.2.0",
            "_model_name": "LayoutModel",
            "_view_count": null,
            "_view_module": "@jupyter-widgets/base",
            "_view_module_version": "1.2.0",
            "_view_name": "LayoutView",
            "align_content": null,
            "align_items": null,
            "align_self": null,
            "border": null,
            "bottom": null,
            "display": null,
            "flex": null,
            "flex_flow": null,
            "grid_area": null,
            "grid_auto_columns": null,
            "grid_auto_flow": null,
            "grid_auto_rows": null,
            "grid_column": null,
            "grid_gap": null,
            "grid_row": null,
            "grid_template_areas": null,
            "grid_template_columns": null,
            "grid_template_rows": null,
            "height": null,
            "justify_content": null,
            "justify_items": null,
            "left": null,
            "margin": null,
            "max_height": null,
            "max_width": null,
            "min_height": null,
            "min_width": null,
            "object_fit": null,
            "object_position": null,
            "order": null,
            "overflow": null,
            "overflow_x": null,
            "overflow_y": null,
            "padding": null,
            "right": null,
            "top": null,
            "visibility": null,
            "width": null
          }
        },
        "9f804f3ed3df4dc2963bd50f4b29cbd2": {
          "model_module": "@jupyter-widgets/base",
          "model_module_version": "1.2.0",
          "model_name": "LayoutModel",
          "state": {
            "_model_module": "@jupyter-widgets/base",
            "_model_module_version": "1.2.0",
            "_model_name": "LayoutModel",
            "_view_count": null,
            "_view_module": "@jupyter-widgets/base",
            "_view_module_version": "1.2.0",
            "_view_name": "LayoutView",
            "align_content": null,
            "align_items": null,
            "align_self": null,
            "border": null,
            "bottom": null,
            "display": null,
            "flex": null,
            "flex_flow": null,
            "grid_area": null,
            "grid_auto_columns": null,
            "grid_auto_flow": null,
            "grid_auto_rows": null,
            "grid_column": null,
            "grid_gap": null,
            "grid_row": null,
            "grid_template_areas": null,
            "grid_template_columns": null,
            "grid_template_rows": null,
            "height": null,
            "justify_content": null,
            "justify_items": null,
            "left": null,
            "margin": null,
            "max_height": null,
            "max_width": null,
            "min_height": null,
            "min_width": null,
            "object_fit": null,
            "object_position": null,
            "order": null,
            "overflow": null,
            "overflow_x": null,
            "overflow_y": null,
            "padding": null,
            "right": null,
            "top": null,
            "visibility": null,
            "width": null
          }
        },
        "a00cdd14f153460a9a554cfebdd23a14": {
          "model_module": "@jupyter-widgets/controls",
          "model_module_version": "1.5.0",
          "model_name": "HTMLModel",
          "state": {
            "_dom_classes": [],
            "_model_module": "@jupyter-widgets/controls",
            "_model_module_version": "1.5.0",
            "_model_name": "HTMLModel",
            "_view_count": null,
            "_view_module": "@jupyter-widgets/controls",
            "_view_module_version": "1.5.0",
            "_view_name": "HTMLView",
            "description": "",
            "description_tooltip": null,
            "layout": "IPY_MODEL_f18505cc53fb48b5a989d2063fb8b7ec",
            "placeholder": "​",
            "style": "IPY_MODEL_956f3c2301844dccbc94760fa2ccd685",
            "value": " 16.4M/16.4M [00:00&lt;00:00, 19.5MB/s]"
          }
        },
        "a3b496d277f74df69464a5e9dda63c23": {
          "model_module": "@jupyter-widgets/output",
          "model_module_version": "1.0.0",
          "model_name": "OutputModel",
          "state": {
            "_dom_classes": [],
            "_model_module": "@jupyter-widgets/output",
            "_model_module_version": "1.0.0",
            "_model_name": "OutputModel",
            "_view_count": null,
            "_view_module": "@jupyter-widgets/output",
            "_view_module_version": "1.0.0",
            "_view_name": "OutputView",
            "layout": "IPY_MODEL_98c3859bfe82482e87d5798eddd51f61",
            "msg_id": "",
            "outputs": [
              {
                "data": {
                  "text/html": "<pre style=\"white-space:pre;overflow-x:auto;line-height:normal;font-family:Menlo,'DejaVu Sans Mono',consolas,'Courier New',monospace\"><span style=\"color: #008000; text-decoration-color: #008000\">⠋</span> ✨ 🍰 ✨ You're using DeepEval's latest Faithfulness Metric (using gpt-4)! This may take a minute...\n</pre>\n",
                  "text/plain": "\u001b[32m⠋\u001b[0m ✨ 🍰 ✨ You're using DeepEval's latest Faithfulness Metric (using gpt-4)! This may take a minute...\n"
                },
                "metadata": {},
                "output_type": "display_data"
              }
            ]
          }
        },
        "aec25f66ee2948a49b0da0590b240676": {
          "model_module": "@jupyter-widgets/base",
          "model_module_version": "1.2.0",
          "model_name": "LayoutModel",
          "state": {
            "_model_module": "@jupyter-widgets/base",
            "_model_module_version": "1.2.0",
            "_model_name": "LayoutModel",
            "_view_count": null,
            "_view_module": "@jupyter-widgets/base",
            "_view_module_version": "1.2.0",
            "_view_name": "LayoutView",
            "align_content": null,
            "align_items": null,
            "align_self": null,
            "border": null,
            "bottom": null,
            "display": null,
            "flex": null,
            "flex_flow": null,
            "grid_area": null,
            "grid_auto_columns": null,
            "grid_auto_flow": null,
            "grid_auto_rows": null,
            "grid_column": null,
            "grid_gap": null,
            "grid_row": null,
            "grid_template_areas": null,
            "grid_template_columns": null,
            "grid_template_rows": null,
            "height": null,
            "justify_content": null,
            "justify_items": null,
            "left": null,
            "margin": null,
            "max_height": null,
            "max_width": null,
            "min_height": null,
            "min_width": null,
            "object_fit": null,
            "object_position": null,
            "order": null,
            "overflow": null,
            "overflow_x": null,
            "overflow_y": null,
            "padding": null,
            "right": null,
            "top": null,
            "visibility": null,
            "width": null
          }
        },
        "afed416a13094ef69b4cdebb0bb056bc": {
          "model_module": "@jupyter-widgets/output",
          "model_module_version": "1.0.0",
          "model_name": "OutputModel",
          "state": {
            "_dom_classes": [],
            "_model_module": "@jupyter-widgets/output",
            "_model_module_version": "1.0.0",
            "_model_name": "OutputModel",
            "_view_count": null,
            "_view_module": "@jupyter-widgets/output",
            "_view_module_version": "1.0.0",
            "_view_name": "OutputView",
            "layout": "IPY_MODEL_9de852d380924ba4a8ffd526b18babf5",
            "msg_id": "",
            "outputs": [
              {
                "data": {
                  "text/html": "<pre style=\"white-space:pre;overflow-x:auto;line-height:normal;font-family:Menlo,'DejaVu Sans Mono',consolas,'Courier New',monospace\"><span style=\"color: #008000; text-decoration-color: #008000\">⠇</span> ✨ 🍰 ✨ You're using DeepEval's latest Contextual Relevancy Metric (using gpt-4)! This may take a minute...\n</pre>\n",
                  "text/plain": "\u001b[32m⠇\u001b[0m ✨ 🍰 ✨ You're using DeepEval's latest Contextual Relevancy Metric (using gpt-4)! This may take a minute...\n"
                },
                "metadata": {},
                "output_type": "display_data"
              }
            ]
          }
        },
        "b08b84b6b34a4519b9768868550b1b68": {
          "model_module": "@jupyter-widgets/base",
          "model_module_version": "1.2.0",
          "model_name": "LayoutModel",
          "state": {
            "_model_module": "@jupyter-widgets/base",
            "_model_module_version": "1.2.0",
            "_model_name": "LayoutModel",
            "_view_count": null,
            "_view_module": "@jupyter-widgets/base",
            "_view_module_version": "1.2.0",
            "_view_name": "LayoutView",
            "align_content": null,
            "align_items": null,
            "align_self": null,
            "border": null,
            "bottom": null,
            "display": null,
            "flex": null,
            "flex_flow": null,
            "grid_area": null,
            "grid_auto_columns": null,
            "grid_auto_flow": null,
            "grid_auto_rows": null,
            "grid_column": null,
            "grid_gap": null,
            "grid_row": null,
            "grid_template_areas": null,
            "grid_template_columns": null,
            "grid_template_rows": null,
            "height": null,
            "justify_content": null,
            "justify_items": null,
            "left": null,
            "margin": null,
            "max_height": null,
            "max_width": null,
            "min_height": null,
            "min_width": null,
            "object_fit": null,
            "object_position": null,
            "order": null,
            "overflow": null,
            "overflow_x": null,
            "overflow_y": null,
            "padding": null,
            "right": null,
            "top": null,
            "visibility": null,
            "width": null
          }
        },
        "b60573f360d1407b841ef729ff5a7376": {
          "model_module": "@jupyter-widgets/controls",
          "model_module_version": "1.5.0",
          "model_name": "HTMLModel",
          "state": {
            "_dom_classes": [],
            "_model_module": "@jupyter-widgets/controls",
            "_model_module_version": "1.5.0",
            "_model_name": "HTMLModel",
            "_view_count": null,
            "_view_module": "@jupyter-widgets/controls",
            "_view_module_version": "1.5.0",
            "_view_name": "HTMLView",
            "description": "",
            "description_tooltip": null,
            "layout": "IPY_MODEL_bce14323c716485e9d822f9e0de5a5b5",
            "placeholder": "​",
            "style": "IPY_MODEL_151d51f4a8474d0591afe3fc8c46fa7a",
            "value": "README.md: 100%"
          }
        },
        "bb98efd743c84bdab5cb275e3ac8e6b9": {
          "model_module": "@jupyter-widgets/output",
          "model_module_version": "1.0.0",
          "model_name": "OutputModel",
          "state": {
            "_dom_classes": [],
            "_model_module": "@jupyter-widgets/output",
            "_model_module_version": "1.0.0",
            "_model_name": "OutputModel",
            "_view_count": null,
            "_view_module": "@jupyter-widgets/output",
            "_view_module_version": "1.0.0",
            "_view_name": "OutputView",
            "layout": "IPY_MODEL_167d5d9446f04530babc624ca48befb1",
            "msg_id": "",
            "outputs": [
              {
                "data": {
                  "text/html": "<pre style=\"white-space:pre;overflow-x:auto;line-height:normal;font-family:Menlo,'DejaVu Sans Mono',consolas,'Courier New',monospace\"><span style=\"color: #008000; text-decoration-color: #008000\">⠇</span> ✨ 🍰 ✨ You're using DeepEval's latest Faithfulness Metric (using gpt-4)! This may take a minute...\n</pre>\n",
                  "text/plain": "\u001b[32m⠇\u001b[0m ✨ 🍰 ✨ You're using DeepEval's latest Faithfulness Metric (using gpt-4)! This may take a minute...\n"
                },
                "metadata": {},
                "output_type": "display_data"
              }
            ]
          }
        },
        "bce14323c716485e9d822f9e0de5a5b5": {
          "model_module": "@jupyter-widgets/base",
          "model_module_version": "1.2.0",
          "model_name": "LayoutModel",
          "state": {
            "_model_module": "@jupyter-widgets/base",
            "_model_module_version": "1.2.0",
            "_model_name": "LayoutModel",
            "_view_count": null,
            "_view_module": "@jupyter-widgets/base",
            "_view_module_version": "1.2.0",
            "_view_name": "LayoutView",
            "align_content": null,
            "align_items": null,
            "align_self": null,
            "border": null,
            "bottom": null,
            "display": null,
            "flex": null,
            "flex_flow": null,
            "grid_area": null,
            "grid_auto_columns": null,
            "grid_auto_flow": null,
            "grid_auto_rows": null,
            "grid_column": null,
            "grid_gap": null,
            "grid_row": null,
            "grid_template_areas": null,
            "grid_template_columns": null,
            "grid_template_rows": null,
            "height": null,
            "justify_content": null,
            "justify_items": null,
            "left": null,
            "margin": null,
            "max_height": null,
            "max_width": null,
            "min_height": null,
            "min_width": null,
            "object_fit": null,
            "object_position": null,
            "order": null,
            "overflow": null,
            "overflow_x": null,
            "overflow_y": null,
            "padding": null,
            "right": null,
            "top": null,
            "visibility": null,
            "width": null
          }
        },
        "befa096452004b85930116b0868ce0fd": {
          "model_module": "@jupyter-widgets/base",
          "model_module_version": "1.2.0",
          "model_name": "LayoutModel",
          "state": {
            "_model_module": "@jupyter-widgets/base",
            "_model_module_version": "1.2.0",
            "_model_name": "LayoutModel",
            "_view_count": null,
            "_view_module": "@jupyter-widgets/base",
            "_view_module_version": "1.2.0",
            "_view_name": "LayoutView",
            "align_content": null,
            "align_items": null,
            "align_self": null,
            "border": null,
            "bottom": null,
            "display": null,
            "flex": null,
            "flex_flow": null,
            "grid_area": null,
            "grid_auto_columns": null,
            "grid_auto_flow": null,
            "grid_auto_rows": null,
            "grid_column": null,
            "grid_gap": null,
            "grid_row": null,
            "grid_template_areas": null,
            "grid_template_columns": null,
            "grid_template_rows": null,
            "height": null,
            "justify_content": null,
            "justify_items": null,
            "left": null,
            "margin": null,
            "max_height": null,
            "max_width": null,
            "min_height": null,
            "min_width": null,
            "object_fit": null,
            "object_position": null,
            "order": null,
            "overflow": null,
            "overflow_x": null,
            "overflow_y": null,
            "padding": null,
            "right": null,
            "top": null,
            "visibility": null,
            "width": null
          }
        },
        "c0358b409098420da7bfe302f9f48c5c": {
          "model_module": "@jupyter-widgets/output",
          "model_module_version": "1.0.0",
          "model_name": "OutputModel",
          "state": {
            "_dom_classes": [],
            "_model_module": "@jupyter-widgets/output",
            "_model_module_version": "1.0.0",
            "_model_name": "OutputModel",
            "_view_count": null,
            "_view_module": "@jupyter-widgets/output",
            "_view_module_version": "1.0.0",
            "_view_name": "OutputView",
            "layout": "IPY_MODEL_ebf2e2e45d53410e9126677c1cf61267",
            "msg_id": "",
            "outputs": [
              {
                "data": {
                  "text/html": "<pre style=\"white-space:pre;overflow-x:auto;line-height:normal;font-family:Menlo,'DejaVu Sans Mono',consolas,'Courier New',monospace\">  - ✅ Faithfulness (score: 1.0, threshold: 0.0, evaluation model: gpt-4, reason: The score is 1.00 because the \nactual output perfectly aligns with all the nodes in the retrieval context, without any contradictions.)\n</pre>\n",
                  "text/plain": "  - ✅ Faithfulness (score: 1.0, threshold: 0.0, evaluation model: gpt-4, reason: The score is 1.00 because the \nactual output perfectly aligns with all the nodes in the retrieval context, without any contradictions.)\n"
                },
                "metadata": {},
                "output_type": "display_data"
              },
              {
                "data": {
                  "text/html": "<pre style=\"white-space:pre;overflow-x:auto;line-height:normal;font-family:Menlo,'DejaVu Sans Mono',consolas,'Courier New',monospace\">\n</pre>\n",
                  "text/plain": "\n"
                },
                "metadata": {},
                "output_type": "display_data"
              },
              {
                "data": {
                  "text/html": "<pre style=\"white-space:pre;overflow-x:auto;line-height:normal;font-family:Menlo,'DejaVu Sans Mono',consolas,'Courier New',monospace\">For test case:\n</pre>\n",
                  "text/plain": "For test case:\n"
                },
                "metadata": {},
                "output_type": "display_data"
              },
              {
                "data": {
                  "text/html": "<pre style=\"white-space:pre;overflow-x:auto;line-height:normal;font-family:Menlo,'DejaVu Sans Mono',consolas,'Courier New',monospace\">\n</pre>\n",
                  "text/plain": "\n"
                },
                "metadata": {},
                "output_type": "display_data"
              },
              {
                "data": {
                  "text/html": "<pre style=\"white-space:pre;overflow-x:auto;line-height:normal;font-family:Menlo,'DejaVu Sans Mono',consolas,'Courier New',monospace\">  - input: What is the prize offered for finding a solution to P=NP?\n</pre>\n",
                  "text/plain": "  - input: What is the prize offered for finding a solution to P=NP?\n"
                },
                "metadata": {},
                "output_type": "display_data"
              },
              {
                "data": {
                  "text/html": "<pre style=\"white-space:pre;overflow-x:auto;line-height:normal;font-family:Menlo,'DejaVu Sans Mono',consolas,'Courier New',monospace\">  - actual output: The prize offered for finding a solution to P=NP is US$1,000,000.\n</pre>\n",
                  "text/plain": "  - actual output: The prize offered for finding a solution to P=NP is US$1,000,000.\n"
                },
                "metadata": {},
                "output_type": "display_data"
              },
              {
                "data": {
                  "text/html": "<pre style=\"white-space:pre;overflow-x:auto;line-height:normal;font-family:Menlo,'DejaVu Sans Mono',consolas,'Courier New',monospace\">  - expected output: None\n</pre>\n",
                  "text/plain": "  - expected output: None\n"
                },
                "metadata": {},
                "output_type": "display_data"
              },
              {
                "data": {
                  "text/html": "<pre style=\"white-space:pre;overflow-x:auto;line-height:normal;font-family:Menlo,'DejaVu Sans Mono',consolas,'Courier New',monospace\">  - context: None\n</pre>\n",
                  "text/plain": "  - context: None\n"
                },
                "metadata": {},
                "output_type": "display_data"
              },
              {
                "data": {
                  "text/html": "<pre style=\"white-space:pre;overflow-x:auto;line-height:normal;font-family:Menlo,'DejaVu Sans Mono',consolas,'Courier New',monospace\"><span style=\"color: #008000; text-decoration-color: #008000\">⠏</span> Evaluating testcases...\n</pre>\n",
                  "text/plain": "\u001b[32m⠏\u001b[0m Evaluating testcases...\n"
                },
                "metadata": {},
                "output_type": "display_data"
              }
            ]
          }
        },
        "c0e03312f4ae4377ae82fc59830a624d": {
          "model_module": "@jupyter-widgets/base",
          "model_module_version": "1.2.0",
          "model_name": "LayoutModel",
          "state": {
            "_model_module": "@jupyter-widgets/base",
            "_model_module_version": "1.2.0",
            "_model_name": "LayoutModel",
            "_view_count": null,
            "_view_module": "@jupyter-widgets/base",
            "_view_module_version": "1.2.0",
            "_view_name": "LayoutView",
            "align_content": null,
            "align_items": null,
            "align_self": null,
            "border": null,
            "bottom": null,
            "display": null,
            "flex": null,
            "flex_flow": null,
            "grid_area": null,
            "grid_auto_columns": null,
            "grid_auto_flow": null,
            "grid_auto_rows": null,
            "grid_column": null,
            "grid_gap": null,
            "grid_row": null,
            "grid_template_areas": null,
            "grid_template_columns": null,
            "grid_template_rows": null,
            "height": null,
            "justify_content": null,
            "justify_items": null,
            "left": null,
            "margin": null,
            "max_height": null,
            "max_width": null,
            "min_height": null,
            "min_width": null,
            "object_fit": null,
            "object_position": null,
            "order": null,
            "overflow": null,
            "overflow_x": null,
            "overflow_y": null,
            "padding": null,
            "right": null,
            "top": null,
            "visibility": null,
            "width": null
          }
        },
        "ca67b112541f4c0ebc104572d3a2492b": {
          "model_module": "@jupyter-widgets/base",
          "model_module_version": "1.2.0",
          "model_name": "LayoutModel",
          "state": {
            "_model_module": "@jupyter-widgets/base",
            "_model_module_version": "1.2.0",
            "_model_name": "LayoutModel",
            "_view_count": null,
            "_view_module": "@jupyter-widgets/base",
            "_view_module_version": "1.2.0",
            "_view_name": "LayoutView",
            "align_content": null,
            "align_items": null,
            "align_self": null,
            "border": null,
            "bottom": null,
            "display": null,
            "flex": null,
            "flex_flow": null,
            "grid_area": null,
            "grid_auto_columns": null,
            "grid_auto_flow": null,
            "grid_auto_rows": null,
            "grid_column": null,
            "grid_gap": null,
            "grid_row": null,
            "grid_template_areas": null,
            "grid_template_columns": null,
            "grid_template_rows": null,
            "height": null,
            "justify_content": null,
            "justify_items": null,
            "left": null,
            "margin": null,
            "max_height": null,
            "max_width": null,
            "min_height": null,
            "min_width": null,
            "object_fit": null,
            "object_position": null,
            "order": null,
            "overflow": null,
            "overflow_x": null,
            "overflow_y": null,
            "padding": null,
            "right": null,
            "top": null,
            "visibility": null,
            "width": null
          }
        },
        "cafd637a667e45788cb16425b4c9575d": {
          "model_module": "@jupyter-widgets/controls",
          "model_module_version": "1.5.0",
          "model_name": "DescriptionStyleModel",
          "state": {
            "_model_module": "@jupyter-widgets/controls",
            "_model_module_version": "1.5.0",
            "_model_name": "DescriptionStyleModel",
            "_view_count": null,
            "_view_module": "@jupyter-widgets/base",
            "_view_module_version": "1.2.0",
            "_view_name": "StyleView",
            "description_width": ""
          }
        },
        "cc6240c3269b48598b534048c79262a4": {
          "model_module": "@jupyter-widgets/controls",
          "model_module_version": "1.5.0",
          "model_name": "HBoxModel",
          "state": {
            "_dom_classes": [],
            "_model_module": "@jupyter-widgets/controls",
            "_model_module_version": "1.5.0",
            "_model_name": "HBoxModel",
            "_view_count": null,
            "_view_module": "@jupyter-widgets/controls",
            "_view_module_version": "1.5.0",
            "_view_name": "HBoxView",
            "box_style": "",
            "children": [
              "IPY_MODEL_41ab70de29344c9d881d4c8708e3bd6e",
              "IPY_MODEL_fe327bdef1544ed2b4aadfe0b4adf964",
              "IPY_MODEL_a00cdd14f153460a9a554cfebdd23a14"
            ],
            "layout": "IPY_MODEL_aec25f66ee2948a49b0da0590b240676"
          }
        },
        "cc764ae9496f45b39a3a5b40029b9196": {
          "model_module": "@jupyter-widgets/base",
          "model_module_version": "1.2.0",
          "model_name": "LayoutModel",
          "state": {
            "_model_module": "@jupyter-widgets/base",
            "_model_module_version": "1.2.0",
            "_model_name": "LayoutModel",
            "_view_count": null,
            "_view_module": "@jupyter-widgets/base",
            "_view_module_version": "1.2.0",
            "_view_name": "LayoutView",
            "align_content": null,
            "align_items": null,
            "align_self": null,
            "border": null,
            "bottom": null,
            "display": null,
            "flex": null,
            "flex_flow": null,
            "grid_area": null,
            "grid_auto_columns": null,
            "grid_auto_flow": null,
            "grid_auto_rows": null,
            "grid_column": null,
            "grid_gap": null,
            "grid_row": null,
            "grid_template_areas": null,
            "grid_template_columns": null,
            "grid_template_rows": null,
            "height": null,
            "justify_content": null,
            "justify_items": null,
            "left": null,
            "margin": null,
            "max_height": null,
            "max_width": null,
            "min_height": null,
            "min_width": null,
            "object_fit": null,
            "object_position": null,
            "order": null,
            "overflow": null,
            "overflow_x": null,
            "overflow_y": null,
            "padding": null,
            "right": null,
            "top": null,
            "visibility": null,
            "width": null
          }
        },
        "cea6c263eb0d4e0e8cdcb8d9794058ab": {
          "model_module": "@jupyter-widgets/output",
          "model_module_version": "1.0.0",
          "model_name": "OutputModel",
          "state": {
            "_dom_classes": [],
            "_model_module": "@jupyter-widgets/output",
            "_model_module_version": "1.0.0",
            "_model_name": "OutputModel",
            "_view_count": null,
            "_view_module": "@jupyter-widgets/output",
            "_view_module_version": "1.0.0",
            "_view_name": "OutputView",
            "layout": "IPY_MODEL_4c4169fdd12c4a4398da332ed7767a4e",
            "msg_id": "",
            "outputs": [
              {
                "data": {
                  "text/html": "<pre style=\"white-space:pre;overflow-x:auto;line-height:normal;font-family:Menlo,'DejaVu Sans Mono',consolas,'Courier New',monospace\"><span style=\"color: #008000; text-decoration-color: #008000\">⠸</span> Evaluating testcases...\n</pre>\n",
                  "text/plain": "\u001b[32m⠸\u001b[0m Evaluating testcases...\n"
                },
                "metadata": {},
                "output_type": "display_data"
              }
            ]
          }
        },
        "d15207369b574b73be7227951ccd5b4f": {
          "model_module": "@jupyter-widgets/output",
          "model_module_version": "1.0.0",
          "model_name": "OutputModel",
          "state": {
            "_dom_classes": [],
            "_model_module": "@jupyter-widgets/output",
            "_model_module_version": "1.0.0",
            "_model_name": "OutputModel",
            "_view_count": null,
            "_view_module": "@jupyter-widgets/output",
            "_view_module_version": "1.0.0",
            "_view_name": "OutputView",
            "layout": "IPY_MODEL_b08b84b6b34a4519b9768868550b1b68",
            "msg_id": "",
            "outputs": [
              {
                "data": {
                  "text/html": "<pre style=\"white-space:pre;overflow-x:auto;line-height:normal;font-family:Menlo,'DejaVu Sans Mono',consolas,'Courier New',monospace\"><span style=\"color: #008000; text-decoration-color: #008000\">⠹</span> Evaluating testcases...\n</pre>\n",
                  "text/plain": "\u001b[32m⠹\u001b[0m Evaluating testcases...\n"
                },
                "metadata": {},
                "output_type": "display_data"
              }
            ]
          }
        },
        "d5ef6848b091428eb7d951c7fb343b88": {
          "model_module": "@jupyter-widgets/base",
          "model_module_version": "1.2.0",
          "model_name": "LayoutModel",
          "state": {
            "_model_module": "@jupyter-widgets/base",
            "_model_module_version": "1.2.0",
            "_model_name": "LayoutModel",
            "_view_count": null,
            "_view_module": "@jupyter-widgets/base",
            "_view_module_version": "1.2.0",
            "_view_name": "LayoutView",
            "align_content": null,
            "align_items": null,
            "align_self": null,
            "border": null,
            "bottom": null,
            "display": null,
            "flex": null,
            "flex_flow": null,
            "grid_area": null,
            "grid_auto_columns": null,
            "grid_auto_flow": null,
            "grid_auto_rows": null,
            "grid_column": null,
            "grid_gap": null,
            "grid_row": null,
            "grid_template_areas": null,
            "grid_template_columns": null,
            "grid_template_rows": null,
            "height": null,
            "justify_content": null,
            "justify_items": null,
            "left": null,
            "margin": null,
            "max_height": null,
            "max_width": null,
            "min_height": null,
            "min_width": null,
            "object_fit": null,
            "object_position": null,
            "order": null,
            "overflow": null,
            "overflow_x": null,
            "overflow_y": null,
            "padding": null,
            "right": null,
            "top": null,
            "visibility": null,
            "width": null
          }
        },
        "d87df86ef2804f83b0c11fca2a37fd49": {
          "model_module": "@jupyter-widgets/output",
          "model_module_version": "1.0.0",
          "model_name": "OutputModel",
          "state": {
            "_dom_classes": [],
            "_model_module": "@jupyter-widgets/output",
            "_model_module_version": "1.0.0",
            "_model_name": "OutputModel",
            "_view_count": null,
            "_view_module": "@jupyter-widgets/output",
            "_view_module_version": "1.0.0",
            "_view_name": "OutputView",
            "layout": "IPY_MODEL_5ae473c91e084c339e339bba168d52cc",
            "msg_id": "",
            "outputs": [
              {
                "data": {
                  "text/html": "<pre style=\"white-space:pre;overflow-x:auto;line-height:normal;font-family:Menlo,'DejaVu Sans Mono',consolas,'Courier New',monospace\"><span style=\"color: #008000; text-decoration-color: #008000\">⠦</span> ✨ 🍰 ✨ You're using DeepEval's latest Answer Relevancy Metric (using gpt-4)! This may take a minute...\n</pre>\n",
                  "text/plain": "\u001b[32m⠦\u001b[0m ✨ 🍰 ✨ You're using DeepEval's latest Answer Relevancy Metric (using gpt-4)! This may take a minute...\n"
                },
                "metadata": {},
                "output_type": "display_data"
              }
            ]
          }
        },
        "d9c9e6b6d6404d5db855c3a61ffc5558": {
          "model_module": "@jupyter-widgets/controls",
          "model_module_version": "1.5.0",
          "model_name": "HBoxModel",
          "state": {
            "_dom_classes": [],
            "_model_module": "@jupyter-widgets/controls",
            "_model_module_version": "1.5.0",
            "_model_name": "HBoxModel",
            "_view_count": null,
            "_view_module": "@jupyter-widgets/controls",
            "_view_module_version": "1.5.0",
            "_view_name": "HBoxView",
            "box_style": "",
            "children": [
              "IPY_MODEL_4c6f5f6d74b64fc0b90ccba9212c67e1",
              "IPY_MODEL_5da6136f1cfb435895c0a05848a2bbed",
              "IPY_MODEL_08bff23da68e4250b4aa2276a8c7ef1f"
            ],
            "layout": "IPY_MODEL_8cdffbcba4e5467196e9efe46213c1d9"
          }
        },
        "da36b58414074e409c049c73f4e07d94": {
          "model_module": "@jupyter-widgets/output",
          "model_module_version": "1.0.0",
          "model_name": "OutputModel",
          "state": {
            "_dom_classes": [],
            "_model_module": "@jupyter-widgets/output",
            "_model_module_version": "1.0.0",
            "_model_name": "OutputModel",
            "_view_count": null,
            "_view_module": "@jupyter-widgets/output",
            "_view_module_version": "1.0.0",
            "_view_name": "OutputView",
            "layout": "IPY_MODEL_ca67b112541f4c0ebc104572d3a2492b",
            "msg_id": "",
            "outputs": [
              {
                "data": {
                  "text/html": "<pre style=\"white-space:pre;overflow-x:auto;line-height:normal;font-family:Menlo,'DejaVu Sans Mono',consolas,'Courier New',monospace\"><span style=\"color: #008000; text-decoration-color: #008000\">⠋</span> ✨ 🍰 ✨ You're using DeepEval's latest Answer Relevancy Metric (using gpt-4)! This may take a minute...\n</pre>\n",
                  "text/plain": "\u001b[32m⠋\u001b[0m ✨ 🍰 ✨ You're using DeepEval's latest Answer Relevancy Metric (using gpt-4)! This may take a minute...\n"
                },
                "metadata": {},
                "output_type": "display_data"
              }
            ]
          }
        },
        "da930d3fba1247ff810908f4879c871a": {
          "model_module": "@jupyter-widgets/controls",
          "model_module_version": "1.5.0",
          "model_name": "DescriptionStyleModel",
          "state": {
            "_model_module": "@jupyter-widgets/controls",
            "_model_module_version": "1.5.0",
            "_model_name": "DescriptionStyleModel",
            "_view_count": null,
            "_view_module": "@jupyter-widgets/base",
            "_view_module_version": "1.2.0",
            "_view_name": "StyleView",
            "description_width": ""
          }
        },
        "e36f222e6b3946e6a1ed1e4c71ea31be": {
          "model_module": "@jupyter-widgets/output",
          "model_module_version": "1.0.0",
          "model_name": "OutputModel",
          "state": {
            "_dom_classes": [],
            "_model_module": "@jupyter-widgets/output",
            "_model_module_version": "1.0.0",
            "_model_name": "OutputModel",
            "_view_count": null,
            "_view_module": "@jupyter-widgets/output",
            "_view_module_version": "1.0.0",
            "_view_name": "OutputView",
            "layout": "IPY_MODEL_1559b47643e4481483256713396bf4da",
            "msg_id": "",
            "outputs": [
              {
                "data": {
                  "text/html": "<pre style=\"white-space:pre;overflow-x:auto;line-height:normal;font-family:Menlo,'DejaVu Sans Mono',consolas,'Courier New',monospace\"><span style=\"color: #008000; text-decoration-color: #008000\">⠏</span> ✨ 🍰 ✨ You're using DeepEval's latest Answer Relevancy Metric (using gpt-4)! This may take a minute...\n</pre>\n",
                  "text/plain": "\u001b[32m⠏\u001b[0m ✨ 🍰 ✨ You're using DeepEval's latest Answer Relevancy Metric (using gpt-4)! This may take a minute...\n"
                },
                "metadata": {},
                "output_type": "display_data"
              }
            ]
          }
        },
        "e555e3c56d564c63aba5c5685ed70da6": {
          "model_module": "@jupyter-widgets/controls",
          "model_module_version": "1.5.0",
          "model_name": "FloatProgressModel",
          "state": {
            "_dom_classes": [],
            "_model_module": "@jupyter-widgets/controls",
            "_model_module_version": "1.5.0",
            "_model_name": "FloatProgressModel",
            "_view_count": null,
            "_view_module": "@jupyter-widgets/controls",
            "_view_module_version": "1.5.0",
            "_view_name": "ProgressView",
            "bar_style": "success",
            "description": "",
            "description_tooltip": null,
            "layout": "IPY_MODEL_c0e03312f4ae4377ae82fc59830a624d",
            "max": 130319,
            "min": 0,
            "orientation": "horizontal",
            "style": "IPY_MODEL_0a8ad04907b14cdaa7374bf867fb50f5",
            "value": 130319
          }
        },
        "ebf2e2e45d53410e9126677c1cf61267": {
          "model_module": "@jupyter-widgets/base",
          "model_module_version": "1.2.0",
          "model_name": "LayoutModel",
          "state": {
            "_model_module": "@jupyter-widgets/base",
            "_model_module_version": "1.2.0",
            "_model_name": "LayoutModel",
            "_view_count": null,
            "_view_module": "@jupyter-widgets/base",
            "_view_module_version": "1.2.0",
            "_view_name": "LayoutView",
            "align_content": null,
            "align_items": null,
            "align_self": null,
            "border": null,
            "bottom": null,
            "display": null,
            "flex": null,
            "flex_flow": null,
            "grid_area": null,
            "grid_auto_columns": null,
            "grid_auto_flow": null,
            "grid_auto_rows": null,
            "grid_column": null,
            "grid_gap": null,
            "grid_row": null,
            "grid_template_areas": null,
            "grid_template_columns": null,
            "grid_template_rows": null,
            "height": null,
            "justify_content": null,
            "justify_items": null,
            "left": null,
            "margin": null,
            "max_height": null,
            "max_width": null,
            "min_height": null,
            "min_width": null,
            "object_fit": null,
            "object_position": null,
            "order": null,
            "overflow": null,
            "overflow_x": null,
            "overflow_y": null,
            "padding": null,
            "right": null,
            "top": null,
            "visibility": null,
            "width": null
          }
        },
        "f037a8d0089a4628991a70ed217095b0": {
          "model_module": "@jupyter-widgets/base",
          "model_module_version": "1.2.0",
          "model_name": "LayoutModel",
          "state": {
            "_model_module": "@jupyter-widgets/base",
            "_model_module_version": "1.2.0",
            "_model_name": "LayoutModel",
            "_view_count": null,
            "_view_module": "@jupyter-widgets/base",
            "_view_module_version": "1.2.0",
            "_view_name": "LayoutView",
            "align_content": null,
            "align_items": null,
            "align_self": null,
            "border": null,
            "bottom": null,
            "display": null,
            "flex": null,
            "flex_flow": null,
            "grid_area": null,
            "grid_auto_columns": null,
            "grid_auto_flow": null,
            "grid_auto_rows": null,
            "grid_column": null,
            "grid_gap": null,
            "grid_row": null,
            "grid_template_areas": null,
            "grid_template_columns": null,
            "grid_template_rows": null,
            "height": null,
            "justify_content": null,
            "justify_items": null,
            "left": null,
            "margin": null,
            "max_height": null,
            "max_width": null,
            "min_height": null,
            "min_width": null,
            "object_fit": null,
            "object_position": null,
            "order": null,
            "overflow": null,
            "overflow_x": null,
            "overflow_y": null,
            "padding": null,
            "right": null,
            "top": null,
            "visibility": null,
            "width": null
          }
        },
        "f09a1d73dd6840cd8249756922ee1a01": {
          "model_module": "@jupyter-widgets/controls",
          "model_module_version": "1.5.0",
          "model_name": "HBoxModel",
          "state": {
            "_dom_classes": [],
            "_model_module": "@jupyter-widgets/controls",
            "_model_module_version": "1.5.0",
            "_model_name": "HBoxModel",
            "_view_count": null,
            "_view_module": "@jupyter-widgets/controls",
            "_view_module_version": "1.5.0",
            "_view_name": "HBoxView",
            "box_style": "",
            "children": [
              "IPY_MODEL_2285e6ff25da456a88d23cb0fe264f59",
              "IPY_MODEL_9d9e4b085ba44a1f9666bd0b4af95ec7",
              "IPY_MODEL_570fabc9ea2848de8cd7f436bf32b796"
            ],
            "layout": "IPY_MODEL_53832dd0d7bc4a26ba22a87d20dbb691"
          }
        },
        "f11cdd616ccf4f38977d6ae88a2fa56e": {
          "model_module": "@jupyter-widgets/controls",
          "model_module_version": "1.5.0",
          "model_name": "DescriptionStyleModel",
          "state": {
            "_model_module": "@jupyter-widgets/controls",
            "_model_module_version": "1.5.0",
            "_model_name": "DescriptionStyleModel",
            "_view_count": null,
            "_view_module": "@jupyter-widgets/base",
            "_view_module_version": "1.2.0",
            "_view_name": "StyleView",
            "description_width": ""
          }
        },
        "f1639c9c99a846d7a17aee870ff80d98": {
          "model_module": "@jupyter-widgets/output",
          "model_module_version": "1.0.0",
          "model_name": "OutputModel",
          "state": {
            "_dom_classes": [],
            "_model_module": "@jupyter-widgets/output",
            "_model_module_version": "1.0.0",
            "_model_name": "OutputModel",
            "_view_count": null,
            "_view_module": "@jupyter-widgets/output",
            "_view_module_version": "1.0.0",
            "_view_name": "OutputView",
            "layout": "IPY_MODEL_3bb9e44e17ec4f3986378ddb3c1255c4",
            "msg_id": "",
            "outputs": [
              {
                "data": {
                  "text/html": "<pre style=\"white-space:pre;overflow-x:auto;line-height:normal;font-family:Menlo,'DejaVu Sans Mono',consolas,'Courier New',monospace\"><span style=\"color: #008000; text-decoration-color: #008000\">⠏</span> Evaluating testcases...\n</pre>\n",
                  "text/plain": "\u001b[32m⠏\u001b[0m Evaluating testcases...\n"
                },
                "metadata": {},
                "output_type": "display_data"
              }
            ]
          }
        },
        "f18505cc53fb48b5a989d2063fb8b7ec": {
          "model_module": "@jupyter-widgets/base",
          "model_module_version": "1.2.0",
          "model_name": "LayoutModel",
          "state": {
            "_model_module": "@jupyter-widgets/base",
            "_model_module_version": "1.2.0",
            "_model_name": "LayoutModel",
            "_view_count": null,
            "_view_module": "@jupyter-widgets/base",
            "_view_module_version": "1.2.0",
            "_view_name": "LayoutView",
            "align_content": null,
            "align_items": null,
            "align_self": null,
            "border": null,
            "bottom": null,
            "display": null,
            "flex": null,
            "flex_flow": null,
            "grid_area": null,
            "grid_auto_columns": null,
            "grid_auto_flow": null,
            "grid_auto_rows": null,
            "grid_column": null,
            "grid_gap": null,
            "grid_row": null,
            "grid_template_areas": null,
            "grid_template_columns": null,
            "grid_template_rows": null,
            "height": null,
            "justify_content": null,
            "justify_items": null,
            "left": null,
            "margin": null,
            "max_height": null,
            "max_width": null,
            "min_height": null,
            "min_width": null,
            "object_fit": null,
            "object_position": null,
            "order": null,
            "overflow": null,
            "overflow_x": null,
            "overflow_y": null,
            "padding": null,
            "right": null,
            "top": null,
            "visibility": null,
            "width": null
          }
        },
        "f83494ad92314b66a22cf459863e5334": {
          "model_module": "@jupyter-widgets/base",
          "model_module_version": "1.2.0",
          "model_name": "LayoutModel",
          "state": {
            "_model_module": "@jupyter-widgets/base",
            "_model_module_version": "1.2.0",
            "_model_name": "LayoutModel",
            "_view_count": null,
            "_view_module": "@jupyter-widgets/base",
            "_view_module_version": "1.2.0",
            "_view_name": "LayoutView",
            "align_content": null,
            "align_items": null,
            "align_self": null,
            "border": null,
            "bottom": null,
            "display": null,
            "flex": null,
            "flex_flow": null,
            "grid_area": null,
            "grid_auto_columns": null,
            "grid_auto_flow": null,
            "grid_auto_rows": null,
            "grid_column": null,
            "grid_gap": null,
            "grid_row": null,
            "grid_template_areas": null,
            "grid_template_columns": null,
            "grid_template_rows": null,
            "height": null,
            "justify_content": null,
            "justify_items": null,
            "left": null,
            "margin": null,
            "max_height": null,
            "max_width": null,
            "min_height": null,
            "min_width": null,
            "object_fit": null,
            "object_position": null,
            "order": null,
            "overflow": null,
            "overflow_x": null,
            "overflow_y": null,
            "padding": null,
            "right": null,
            "top": null,
            "visibility": null,
            "width": null
          }
        },
        "fc908f25c2d74a64a29000a5a41028b4": {
          "model_module": "@jupyter-widgets/base",
          "model_module_version": "1.2.0",
          "model_name": "LayoutModel",
          "state": {
            "_model_module": "@jupyter-widgets/base",
            "_model_module_version": "1.2.0",
            "_model_name": "LayoutModel",
            "_view_count": null,
            "_view_module": "@jupyter-widgets/base",
            "_view_module_version": "1.2.0",
            "_view_name": "LayoutView",
            "align_content": null,
            "align_items": null,
            "align_self": null,
            "border": null,
            "bottom": null,
            "display": null,
            "flex": null,
            "flex_flow": null,
            "grid_area": null,
            "grid_auto_columns": null,
            "grid_auto_flow": null,
            "grid_auto_rows": null,
            "grid_column": null,
            "grid_gap": null,
            "grid_row": null,
            "grid_template_areas": null,
            "grid_template_columns": null,
            "grid_template_rows": null,
            "height": null,
            "justify_content": null,
            "justify_items": null,
            "left": null,
            "margin": null,
            "max_height": null,
            "max_width": null,
            "min_height": null,
            "min_width": null,
            "object_fit": null,
            "object_position": null,
            "order": null,
            "overflow": null,
            "overflow_x": null,
            "overflow_y": null,
            "padding": null,
            "right": null,
            "top": null,
            "visibility": null,
            "width": null
          }
        },
        "fe327bdef1544ed2b4aadfe0b4adf964": {
          "model_module": "@jupyter-widgets/controls",
          "model_module_version": "1.5.0",
          "model_name": "FloatProgressModel",
          "state": {
            "_dom_classes": [],
            "_model_module": "@jupyter-widgets/controls",
            "_model_module_version": "1.5.0",
            "_model_name": "FloatProgressModel",
            "_view_count": null,
            "_view_module": "@jupyter-widgets/controls",
            "_view_module_version": "1.5.0",
            "_view_name": "ProgressView",
            "bar_style": "success",
            "description": "",
            "description_tooltip": null,
            "layout": "IPY_MODEL_098f6432d5ba494a8d2dac3f4c56c6c2",
            "max": 16369982,
            "min": 0,
            "orientation": "horizontal",
            "style": "IPY_MODEL_2d6112f020134ffc8e106d79d9c33f80",
            "value": 16369982
          }
        }
      }
    }
  },
  "nbformat": 4,
  "nbformat_minor": 0
}
