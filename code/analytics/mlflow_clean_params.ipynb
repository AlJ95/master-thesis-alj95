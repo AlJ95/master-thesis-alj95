{
 "cells": [
  {
   "cell_type": "code",
   "execution_count": 29,
   "metadata": {},
   "outputs": [],
   "source": [
    "import mlflow\n",
    "import json\n"
   ]
  },
  {
   "cell_type": "code",
   "execution_count": 30,
   "metadata": {},
   "outputs": [
    {
     "data": {
      "text/html": [
       "<div>\n",
       "<style scoped>\n",
       "    .dataframe tbody tr th:only-of-type {\n",
       "        vertical-align: middle;\n",
       "    }\n",
       "\n",
       "    .dataframe tbody tr th {\n",
       "        vertical-align: top;\n",
       "    }\n",
       "\n",
       "    .dataframe thead th {\n",
       "        text-align: right;\n",
       "    }\n",
       "</style>\n",
       "<table border=\"1\" class=\"dataframe\">\n",
       "  <thead>\n",
       "    <tr style=\"text-align: right;\">\n",
       "      <th></th>\n",
       "      <th>run_id</th>\n",
       "      <th>experiment_id</th>\n",
       "      <th>status</th>\n",
       "      <th>artifact_uri</th>\n",
       "      <th>start_time</th>\n",
       "      <th>end_time</th>\n",
       "      <th>metrics.indexing_duration</th>\n",
       "      <th>metrics.VAL.SYS..memory_process_mean_mb</th>\n",
       "      <th>metrics.VAL.E2E..MatthewsCorrCoefMetric</th>\n",
       "      <th>metrics.VAL.SYS..cpu_process_min</th>\n",
       "      <th>...</th>\n",
       "      <th>params.components.reranker.init_parameters.calibration_factor</th>\n",
       "      <th>params.metadata.Comment</th>\n",
       "      <th>params.metadata.Reasoning</th>\n",
       "      <th>tags.mlflow.source.name</th>\n",
       "      <th>tags.mlflow.source.type</th>\n",
       "      <th>tags.mlflow.user</th>\n",
       "      <th>tags.mlflow.runName</th>\n",
       "      <th>tags.mlflow.source.git.commit</th>\n",
       "      <th>tags.LocalEmbedder</th>\n",
       "      <th>tags.Succesful</th>\n",
       "    </tr>\n",
       "  </thead>\n",
       "  <tbody>\n",
       "    <tr>\n",
       "      <th>0</th>\n",
       "      <td>7a404588695e46899981deec7af4b9fb</td>\n",
       "      <td>113580098883527177</td>\n",
       "      <td>RUNNING</td>\n",
       "      <td>mlflow-artifacts:/113580098883527177/7a4045886...</td>\n",
       "      <td>2025-04-28 08:42:04.663000+00:00</td>\n",
       "      <td>NaT</td>\n",
       "      <td>2161.268525</td>\n",
       "      <td>NaN</td>\n",
       "      <td>NaN</td>\n",
       "      <td>NaN</td>\n",
       "      <td>...</td>\n",
       "      <td>None</td>\n",
       "      <td>None</td>\n",
       "      <td>None</td>\n",
       "      <td>/srv/master-thesis-alj95/code/ragnroll_project...</td>\n",
       "      <td>LOCAL</td>\n",
       "      <td>root</td>\n",
       "      <td>from_matrix.rag_hybrid_retriever_0.yaml</td>\n",
       "      <td>5ec5f265dd41e8f579845bb77d3b241f39fea2a6</td>\n",
       "      <td>None</td>\n",
       "      <td>None</td>\n",
       "    </tr>\n",
       "    <tr>\n",
       "      <th>1</th>\n",
       "      <td>5ce10fdfaaa749d488f3dd4f6e2d6341</td>\n",
       "      <td>113580098883527177</td>\n",
       "      <td>FINISHED</td>\n",
       "      <td>mlflow-artifacts:/113580098883527177/5ce10fdfa...</td>\n",
       "      <td>2025-04-28 07:18:13.047000+00:00</td>\n",
       "      <td>2025-04-28 08:01:36.013000+00:00</td>\n",
       "      <td>2196.897666</td>\n",
       "      <td>4770.756956</td>\n",
       "      <td>0.301511</td>\n",
       "      <td>0.0</td>\n",
       "      <td>...</td>\n",
       "      <td>None</td>\n",
       "      <td>None</td>\n",
       "      <td>None</td>\n",
       "      <td>/srv/master-thesis-alj95/code/ragnroll_project...</td>\n",
       "      <td>LOCAL</td>\n",
       "      <td>root</td>\n",
       "      <td>from_matrix.rag_hybrid_retriever_0.yaml</td>\n",
       "      <td>5ec5f265dd41e8f579845bb77d3b241f39fea2a6</td>\n",
       "      <td>None</td>\n",
       "      <td>None</td>\n",
       "    </tr>\n",
       "    <tr>\n",
       "      <th>2</th>\n",
       "      <td>04cc45743ea54f6daaf03c6af2616f42</td>\n",
       "      <td>113580098883527177</td>\n",
       "      <td>RUNNING</td>\n",
       "      <td>mlflow-artifacts:/113580098883527177/04cc45743...</td>\n",
       "      <td>2025-04-27 15:09:44.001000+00:00</td>\n",
       "      <td>NaT</td>\n",
       "      <td>NaN</td>\n",
       "      <td>NaN</td>\n",
       "      <td>NaN</td>\n",
       "      <td>NaN</td>\n",
       "      <td>...</td>\n",
       "      <td>None</td>\n",
       "      <td>None</td>\n",
       "      <td>None</td>\n",
       "      <td>/srv/master-thesis-alj95/code/ragnroll_project...</td>\n",
       "      <td>LOCAL</td>\n",
       "      <td>root</td>\n",
       "      <td>from_pipeline.cp0_rag_dense_4r_hf_embedder.yaml</td>\n",
       "      <td>be1a7ce3b888a40f5abfedafb17a7db043126dbf</td>\n",
       "      <td>True</td>\n",
       "      <td>None</td>\n",
       "    </tr>\n",
       "    <tr>\n",
       "      <th>3</th>\n",
       "      <td>30ce7e43e39a4ec5a3cb138b4e961e78</td>\n",
       "      <td>113580098883527177</td>\n",
       "      <td>FINISHED</td>\n",
       "      <td>mlflow-artifacts:/113580098883527177/30ce7e43e...</td>\n",
       "      <td>2025-04-27 03:06:32.862000+00:00</td>\n",
       "      <td>2025-04-27 11:45:15.568000+00:00</td>\n",
       "      <td>0.021253</td>\n",
       "      <td>NaN</td>\n",
       "      <td>0.000000</td>\n",
       "      <td>0.0</td>\n",
       "      <td>...</td>\n",
       "      <td>None</td>\n",
       "      <td>None</td>\n",
       "      <td>None</td>\n",
       "      <td>/srv/master-thesis-alj95/code/ragnroll_project...</td>\n",
       "      <td>LOCAL</td>\n",
       "      <td>root</td>\n",
       "      <td>from_matrix.rag_dense_4r_iterative_max5_ciri_1...</td>\n",
       "      <td>5d5f4a81030a9102e49636b7f042776935b98b6c</td>\n",
       "      <td>None</td>\n",
       "      <td>None</td>\n",
       "    </tr>\n",
       "    <tr>\n",
       "      <th>4</th>\n",
       "      <td>70028b7cd3054ec69b802bd46f7327b2</td>\n",
       "      <td>113580098883527177</td>\n",
       "      <td>FINISHED</td>\n",
       "      <td>mlflow-artifacts:/113580098883527177/70028b7cd...</td>\n",
       "      <td>2025-04-26 18:42:39.803000+00:00</td>\n",
       "      <td>2025-04-27 03:06:32.838000+00:00</td>\n",
       "      <td>0.046402</td>\n",
       "      <td>NaN</td>\n",
       "      <td>0.000000</td>\n",
       "      <td>0.0</td>\n",
       "      <td>...</td>\n",
       "      <td>None</td>\n",
       "      <td>None</td>\n",
       "      <td>None</td>\n",
       "      <td>/srv/master-thesis-alj95/code/ragnroll_project...</td>\n",
       "      <td>LOCAL</td>\n",
       "      <td>root</td>\n",
       "      <td>from_matrix.rag_dense_4r_iterative_max5_ciri_0...</td>\n",
       "      <td>5d5f4a81030a9102e49636b7f042776935b98b6c</td>\n",
       "      <td>None</td>\n",
       "      <td>None</td>\n",
       "    </tr>\n",
       "  </tbody>\n",
       "</table>\n",
       "<p>5 rows × 302 columns</p>\n",
       "</div>"
      ],
      "text/plain": [
       "                             run_id       experiment_id    status  \\\n",
       "0  7a404588695e46899981deec7af4b9fb  113580098883527177   RUNNING   \n",
       "1  5ce10fdfaaa749d488f3dd4f6e2d6341  113580098883527177  FINISHED   \n",
       "2  04cc45743ea54f6daaf03c6af2616f42  113580098883527177   RUNNING   \n",
       "3  30ce7e43e39a4ec5a3cb138b4e961e78  113580098883527177  FINISHED   \n",
       "4  70028b7cd3054ec69b802bd46f7327b2  113580098883527177  FINISHED   \n",
       "\n",
       "                                        artifact_uri  \\\n",
       "0  mlflow-artifacts:/113580098883527177/7a4045886...   \n",
       "1  mlflow-artifacts:/113580098883527177/5ce10fdfa...   \n",
       "2  mlflow-artifacts:/113580098883527177/04cc45743...   \n",
       "3  mlflow-artifacts:/113580098883527177/30ce7e43e...   \n",
       "4  mlflow-artifacts:/113580098883527177/70028b7cd...   \n",
       "\n",
       "                        start_time                         end_time  \\\n",
       "0 2025-04-28 08:42:04.663000+00:00                              NaT   \n",
       "1 2025-04-28 07:18:13.047000+00:00 2025-04-28 08:01:36.013000+00:00   \n",
       "2 2025-04-27 15:09:44.001000+00:00                              NaT   \n",
       "3 2025-04-27 03:06:32.862000+00:00 2025-04-27 11:45:15.568000+00:00   \n",
       "4 2025-04-26 18:42:39.803000+00:00 2025-04-27 03:06:32.838000+00:00   \n",
       "\n",
       "   metrics.indexing_duration  metrics.VAL.SYS..memory_process_mean_mb  \\\n",
       "0                2161.268525                                      NaN   \n",
       "1                2196.897666                              4770.756956   \n",
       "2                        NaN                                      NaN   \n",
       "3                   0.021253                                      NaN   \n",
       "4                   0.046402                                      NaN   \n",
       "\n",
       "   metrics.VAL.E2E..MatthewsCorrCoefMetric  metrics.VAL.SYS..cpu_process_min  \\\n",
       "0                                      NaN                               NaN   \n",
       "1                                 0.301511                               0.0   \n",
       "2                                      NaN                               NaN   \n",
       "3                                 0.000000                               0.0   \n",
       "4                                 0.000000                               0.0   \n",
       "\n",
       "   ...  params.components.reranker.init_parameters.calibration_factor  \\\n",
       "0  ...                                               None               \n",
       "1  ...                                               None               \n",
       "2  ...                                               None               \n",
       "3  ...                                               None               \n",
       "4  ...                                               None               \n",
       "\n",
       "   params.metadata.Comment  params.metadata.Reasoning  \\\n",
       "0                     None                       None   \n",
       "1                     None                       None   \n",
       "2                     None                       None   \n",
       "3                     None                       None   \n",
       "4                     None                       None   \n",
       "\n",
       "                             tags.mlflow.source.name  tags.mlflow.source.type  \\\n",
       "0  /srv/master-thesis-alj95/code/ragnroll_project...                    LOCAL   \n",
       "1  /srv/master-thesis-alj95/code/ragnroll_project...                    LOCAL   \n",
       "2  /srv/master-thesis-alj95/code/ragnroll_project...                    LOCAL   \n",
       "3  /srv/master-thesis-alj95/code/ragnroll_project...                    LOCAL   \n",
       "4  /srv/master-thesis-alj95/code/ragnroll_project...                    LOCAL   \n",
       "\n",
       "   tags.mlflow.user                                tags.mlflow.runName  \\\n",
       "0              root            from_matrix.rag_hybrid_retriever_0.yaml   \n",
       "1              root            from_matrix.rag_hybrid_retriever_0.yaml   \n",
       "2              root    from_pipeline.cp0_rag_dense_4r_hf_embedder.yaml   \n",
       "3              root  from_matrix.rag_dense_4r_iterative_max5_ciri_1...   \n",
       "4              root  from_matrix.rag_dense_4r_iterative_max5_ciri_0...   \n",
       "\n",
       "              tags.mlflow.source.git.commit  tags.LocalEmbedder  \\\n",
       "0  5ec5f265dd41e8f579845bb77d3b241f39fea2a6                None   \n",
       "1  5ec5f265dd41e8f579845bb77d3b241f39fea2a6                None   \n",
       "2  be1a7ce3b888a40f5abfedafb17a7db043126dbf                True   \n",
       "3  5d5f4a81030a9102e49636b7f042776935b98b6c                None   \n",
       "4  5d5f4a81030a9102e49636b7f042776935b98b6c                None   \n",
       "\n",
       "   tags.Succesful  \n",
       "0            None  \n",
       "1            None  \n",
       "2            None  \n",
       "3            None  \n",
       "4            None  \n",
       "\n",
       "[5 rows x 302 columns]"
      ]
     },
     "execution_count": 30,
     "metadata": {},
     "output_type": "execute_result"
    }
   ],
   "source": [
    "mlflow.set_tracking_uri(\"http://91.99.14.73:8080\")\n",
    "mlflow.set_experiment(experiment_name=\"config-validation\")\n",
    "\n",
    "runs = mlflow.search_runs()\n",
    "runs.head()\n"
   ]
  },
  {
   "cell_type": "code",
   "execution_count": 31,
   "metadata": {},
   "outputs": [
    {
     "name": "stdout",
     "output_type": "stream",
     "text": [
      "----------------------------------------------------------------------------------------------------\n",
      "haystack.components.builders.answer_builder.AnswerBuilder = True\n",
      "pipelines.components.embedder_adapter.EmbedderAdapter = True\n",
      "haystack.components.retrievers.in_memory.bm25_retriever.InMemoryBM25Retriever = True\n",
      "haystack.components.embedders.openai_text_embedder.OpenAITextEmbedder = True\n",
      "haystack.components.retrievers.in_memory.embedding_retriever.InMemoryEmbeddingRetriever = True\n",
      "haystack.components.generators.openai.OpenAIGenerator = True\n",
      "haystack.document_stores.in_memory.document_store.InMemoryDocumentStore = True\n",
      "haystack.components.builders.prompt_builder.PromptBuilder = True\n",
      "haystack.document_stores.in_memory.document_store.InMemoryDocumentStore = True\n",
      "haystack.components.joiners.document_joiner.DocumentJoiner = True\n",
      "----------------------------------------------------------------------------------------------------\n",
      "haystack.components.builders.answer_builder.AnswerBuilder = True\n",
      "pipelines.components.embedder_adapter.EmbedderAdapter = True\n",
      "haystack.components.retrievers.in_memory.bm25_retriever.InMemoryBM25Retriever = True\n",
      "haystack.components.embedders.openai_text_embedder.OpenAITextEmbedder = True\n",
      "haystack.components.retrievers.in_memory.embedding_retriever.InMemoryEmbeddingRetriever = True\n",
      "haystack.components.generators.openai.OpenAIGenerator = True\n",
      "haystack.document_stores.in_memory.document_store.InMemoryDocumentStore = True\n",
      "haystack.components.builders.prompt_builder.PromptBuilder = True\n",
      "haystack.document_stores.in_memory.document_store.InMemoryDocumentStore = True\n",
      "haystack.components.joiners.document_joiner.DocumentJoiner = True\n",
      "----------------------------------------------------------------------------------------------------\n",
      "haystack.components.builders.answer_builder.AnswerBuilder = True\n",
      "haystack.components.embedders.sentence_transformers_text_embedder.SentenceTransformersTextEmbedder = True\n",
      "haystack.components.generators.openai.OpenAIGenerator = True\n",
      "haystack.components.builders.prompt_builder.PromptBuilder = True\n",
      "haystack.components.rankers.lost_in_the_middle.LostInTheMiddleRanker = True\n",
      "haystack.document_stores.in_memory.document_store.InMemoryDocumentStore = True\n",
      "haystack.components.generators.openai.OpenAIGenerator = True\n",
      "haystack.components.converters.output_adapter.OutputAdapter = True\n",
      "single = True\n",
      "haystack.components.builders.prompt_builder.PromptBuilder = True\n",
      "env_var = True\n",
      "haystack.components.retrievers.in_memory.embedding_retriever.InMemoryEmbeddingRetriever = True\n",
      "----------------------------------------------------------------------------------------------------\n",
      "haystack.components.builders.answer_builder.AnswerBuilder = True\n",
      "haystack.components.generators.openai.OpenAIGenerator = True\n",
      "haystack.components.builders.prompt_builder.PromptBuilder = True\n",
      "haystack.components.rankers.lost_in_the_middle.LostInTheMiddleRanker = True\n",
      "haystack.components.generators.openai.OpenAIGenerator = True\n",
      "haystack.components.converters.output_adapter.OutputAdapter = True\n",
      "haystack.components.builders.prompt_builder.PromptBuilder = True\n",
      "haystack.document_stores.in_memory.document_store.InMemoryDocumentStore = True\n",
      "haystack.document_stores.in_memory.document_store.InMemoryDocumentStore = True\n",
      "haystack.components.retrievers.in_memory.embedding_retriever.InMemoryEmbeddingRetriever = True\n",
      "haystack.components.joiners.document_joiner.DocumentJoiner = True\n",
      "haystack.components.embedders.openai_text_embedder.OpenAITextEmbedder = True\n",
      "haystack.components.converters.output_adapter.OutputAdapter = True\n",
      "haystack.components.converters.output_adapter.OutputAdapter = True\n",
      "pipelines.cp1_rag_dense_4r_iterative_max5.IterativeEmbedding = True\n",
      "haystack.components.retrievers.in_memory.embedding_retriever.InMemoryEmbeddingRetriever = True\n",
      "haystack.components.embedders.openai_text_embedder.OpenAITextEmbedder = True\n",
      "haystack.components.converters.output_adapter.OutputAdapter = True\n",
      "haystack.document_stores.in_memory.document_store.InMemoryDocumentStore = True\n",
      "haystack.components.retrievers.in_memory.embedding_retriever.InMemoryEmbeddingRetriever = True\n",
      "haystack.document_stores.in_memory.document_store.InMemoryDocumentStore = True\n",
      "haystack.components.embedders.openai_text_embedder.OpenAITextEmbedder = True\n",
      "haystack.components.embedders.openai_text_embedder.OpenAITextEmbedder = True\n",
      "haystack.components.retrievers.in_memory.embedding_retriever.InMemoryEmbeddingRetriever = True\n",
      "haystack.components.retrievers.in_memory.embedding_retriever.InMemoryEmbeddingRetriever = True\n",
      "haystack.document_stores.in_memory.document_store.InMemoryDocumentStore = True\n",
      "haystack.components.converters.output_adapter.OutputAdapter = True\n",
      "haystack.components.embedders.openai_text_embedder.OpenAITextEmbedder = True\n",
      "haystack.components.converters.output_adapter.OutputAdapter = True\n",
      "----------------------------------------------------------------------------------------------------\n",
      "haystack.components.builders.answer_builder.AnswerBuilder = True\n",
      "haystack.components.generators.openai.OpenAIGenerator = True\n",
      "haystack.components.builders.prompt_builder.PromptBuilder = True\n",
      "haystack.components.rankers.lost_in_the_middle.LostInTheMiddleRanker = True\n",
      "haystack.components.generators.openai.OpenAIGenerator = True\n",
      "haystack.components.converters.output_adapter.OutputAdapter = True\n",
      "haystack.components.builders.prompt_builder.PromptBuilder = True\n",
      "haystack.document_stores.in_memory.document_store.InMemoryDocumentStore = True\n",
      "haystack.document_stores.in_memory.document_store.InMemoryDocumentStore = True\n",
      "haystack.components.retrievers.in_memory.embedding_retriever.InMemoryEmbeddingRetriever = True\n",
      "haystack.components.joiners.document_joiner.DocumentJoiner = True\n",
      "haystack.components.embedders.openai_text_embedder.OpenAITextEmbedder = True\n",
      "haystack.components.converters.output_adapter.OutputAdapter = True\n",
      "haystack.components.converters.output_adapter.OutputAdapter = True\n",
      "pipelines.cp1_rag_dense_4r_iterative_max5.IterativeEmbedding = True\n",
      "haystack.components.retrievers.in_memory.embedding_retriever.InMemoryEmbeddingRetriever = True\n",
      "haystack.components.embedders.openai_text_embedder.OpenAITextEmbedder = True\n",
      "haystack.components.converters.output_adapter.OutputAdapter = True\n",
      "haystack.document_stores.in_memory.document_store.InMemoryDocumentStore = True\n",
      "haystack.components.retrievers.in_memory.embedding_retriever.InMemoryEmbeddingRetriever = True\n",
      "haystack.document_stores.in_memory.document_store.InMemoryDocumentStore = True\n",
      "haystack.components.embedders.openai_text_embedder.OpenAITextEmbedder = True\n",
      "haystack.components.embedders.openai_text_embedder.OpenAITextEmbedder = True\n",
      "haystack.components.retrievers.in_memory.embedding_retriever.InMemoryEmbeddingRetriever = True\n",
      "haystack.components.retrievers.in_memory.embedding_retriever.InMemoryEmbeddingRetriever = True\n",
      "haystack.document_stores.in_memory.document_store.InMemoryDocumentStore = True\n",
      "haystack.components.converters.output_adapter.OutputAdapter = True\n",
      "haystack.components.embedders.openai_text_embedder.OpenAITextEmbedder = True\n",
      "haystack.components.converters.output_adapter.OutputAdapter = True\n",
      "----------------------------------------------------------------------------------------------------\n",
      "haystack.components.builders.answer_builder.AnswerBuilder = True\n",
      "haystack.components.generators.openai.OpenAIGenerator = True\n",
      "haystack.components.builders.prompt_builder.PromptBuilder = True\n",
      "haystack.document_stores.in_memory.document_store.InMemoryDocumentStore = True\n",
      "haystack.components.retrievers.in_memory.bm25_retriever.InMemoryBM25Retriever = True\n",
      "----------------------------------------------------------------------------------------------------\n",
      "haystack.components.builders.answer_builder.AnswerBuilder = True\n",
      "haystack.components.generators.openai.OpenAIGenerator = True\n",
      "haystack.components.builders.prompt_builder.PromptBuilder = True\n",
      "----------------------------------------------------------------------------------------------------\n",
      "haystack.components.builders.answer_builder.AnswerBuilder = True\n",
      "haystack.components.generators.openai.OpenAIGenerator = True\n",
      "haystack.components.builders.prompt_builder.PromptBuilder = True\n",
      "haystack.components.rankers.lost_in_the_middle.LostInTheMiddleRanker = True\n",
      "haystack.components.generators.openai.OpenAIGenerator = True\n",
      "haystack.components.converters.output_adapter.OutputAdapter = True\n",
      "haystack.components.builders.prompt_builder.PromptBuilder = True\n",
      "haystack.document_stores.in_memory.document_store.InMemoryDocumentStore = True\n",
      "haystack.document_stores.in_memory.document_store.InMemoryDocumentStore = True\n",
      "haystack.components.retrievers.in_memory.embedding_retriever.InMemoryEmbeddingRetriever = True\n",
      "haystack.components.joiners.document_joiner.DocumentJoiner = True\n",
      "haystack.components.embedders.openai_text_embedder.OpenAITextEmbedder = True\n",
      "haystack.components.converters.output_adapter.OutputAdapter = True\n",
      "haystack.components.converters.output_adapter.OutputAdapter = True\n",
      "pipelines.cp1_rag_dense_4r_iterative_max5.IterativeEmbedding = True\n",
      "haystack.components.retrievers.in_memory.embedding_retriever.InMemoryEmbeddingRetriever = True\n",
      "haystack.components.embedders.openai_text_embedder.OpenAITextEmbedder = True\n",
      "haystack.components.converters.output_adapter.OutputAdapter = True\n",
      "haystack.document_stores.in_memory.document_store.InMemoryDocumentStore = True\n",
      "haystack.components.retrievers.in_memory.embedding_retriever.InMemoryEmbeddingRetriever = True\n",
      "haystack.document_stores.in_memory.document_store.InMemoryDocumentStore = True\n",
      "haystack.components.embedders.openai_text_embedder.OpenAITextEmbedder = True\n",
      "haystack.components.embedders.openai_text_embedder.OpenAITextEmbedder = True\n",
      "haystack.components.retrievers.in_memory.embedding_retriever.InMemoryEmbeddingRetriever = True\n",
      "haystack.components.retrievers.in_memory.embedding_retriever.InMemoryEmbeddingRetriever = True\n",
      "haystack.document_stores.in_memory.document_store.InMemoryDocumentStore = True\n",
      "haystack.components.converters.output_adapter.OutputAdapter = True\n",
      "haystack.components.embedders.openai_text_embedder.OpenAITextEmbedder = True\n",
      "haystack.components.converters.output_adapter.OutputAdapter = True\n",
      "----------------------------------------------------------------------------------------------------\n",
      "haystack.components.builders.answer_builder.AnswerBuilder = True\n",
      "haystack.components.generators.openai.OpenAIGenerator = True\n",
      "haystack.components.builders.prompt_builder.PromptBuilder = True\n",
      "haystack.document_stores.in_memory.document_store.InMemoryDocumentStore = True\n",
      "haystack.components.retrievers.in_memory.bm25_retriever.InMemoryBM25Retriever = True\n",
      "----------------------------------------------------------------------------------------------------\n",
      "haystack.components.builders.answer_builder.AnswerBuilder = True\n",
      "haystack.components.generators.openai.OpenAIGenerator = True\n",
      "haystack.components.builders.prompt_builder.PromptBuilder = True\n",
      "haystack.document_stores.in_memory.document_store.InMemoryDocumentStore = True\n",
      "haystack.components.retrievers.in_memory.bm25_retriever.InMemoryBM25Retriever = True\n",
      "----------------------------------------------------------------------------------------------------\n",
      "haystack.components.builders.answer_builder.AnswerBuilder = True\n",
      "haystack.components.generators.openai.OpenAIGenerator = True\n",
      "haystack.components.builders.prompt_builder.PromptBuilder = True\n",
      "----------------------------------------------------------------------------------------------------\n",
      "haystack.components.builders.answer_builder.AnswerBuilder = True\n",
      "haystack.components.generators.openai.OpenAIGenerator = True\n",
      "haystack.components.builders.prompt_builder.PromptBuilder = True\n",
      "----------------------------------------------------------------------------------------------------\n",
      "haystack.components.builders.answer_builder.AnswerBuilder = True\n",
      "haystack.components.generators.openai.OpenAIGenerator = True\n",
      "haystack.components.builders.prompt_builder.PromptBuilder = True\n",
      "haystack.document_stores.in_memory.document_store.InMemoryDocumentStore = True\n",
      "haystack.components.retrievers.in_memory.bm25_retriever.InMemoryBM25Retriever = True\n",
      "----------------------------------------------------------------------------------------------------\n",
      "haystack.components.builders.answer_builder.AnswerBuilder = True\n",
      "haystack.components.generators.openai.OpenAIGenerator = True\n",
      "haystack.components.builders.prompt_builder.PromptBuilder = True\n",
      "haystack.document_stores.in_memory.document_store.InMemoryDocumentStore = True\n",
      "haystack.components.retrievers.in_memory.bm25_retriever.InMemoryBM25Retriever = True\n",
      "----------------------------------------------------------------------------------------------------\n",
      "haystack.components.builders.answer_builder.AnswerBuilder = True\n",
      "haystack.components.generators.openai.OpenAIGenerator = True\n",
      "haystack.components.builders.prompt_builder.PromptBuilder = True\n",
      "----------------------------------------------------------------------------------------------------\n",
      "haystack.components.builders.answer_builder.AnswerBuilder = True\n",
      "haystack.components.generators.openai.OpenAIGenerator = True\n",
      "haystack.components.builders.prompt_builder.PromptBuilder = True\n",
      "----------------------------------------------------------------------------------------------------\n",
      "haystack.components.builders.answer_builder.AnswerBuilder = True\n",
      "haystack.components.embedders.openai_text_embedder.OpenAITextEmbedder = True\n",
      "haystack.components.generators.openai.OpenAIGenerator = True\n",
      "haystack.components.builders.prompt_builder.PromptBuilder = True\n",
      "haystack.components.rankers.lost_in_the_middle.LostInTheMiddleRanker = True\n",
      "haystack.document_stores.in_memory.document_store.InMemoryDocumentStore = True\n",
      "haystack.components.generators.openai.OpenAIGenerator = True\n",
      "haystack.components.converters.output_adapter.OutputAdapter = True\n",
      "haystack.components.builders.prompt_builder.PromptBuilder = True\n",
      "haystack.components.retrievers.in_memory.embedding_retriever.InMemoryEmbeddingRetriever = True\n",
      "----------------------------------------------------------------------------------------------------\n",
      "haystack.components.builders.answer_builder.AnswerBuilder = True\n",
      "haystack.components.generators.openai.OpenAIGenerator = True\n",
      "haystack.components.builders.prompt_builder.PromptBuilder = True\n",
      "----------------------------------------------------------------------------------------------------\n",
      "haystack.components.builders.answer_builder.AnswerBuilder = True\n",
      "haystack.components.generators.openai.OpenAIGenerator = True\n",
      "haystack.components.builders.prompt_builder.PromptBuilder = True\n",
      "----------------------------------------------------------------------------------------------------\n",
      "haystack.components.builders.answer_builder.AnswerBuilder = True\n",
      "haystack.components.generators.openai.OpenAIGenerator = True\n",
      "haystack.components.builders.prompt_builder.PromptBuilder = True\n",
      "----------------------------------------------------------------------------------------------------\n",
      "haystack.components.builders.answer_builder.AnswerBuilder = True\n",
      "haystack.components.embedders.openai_text_embedder.OpenAITextEmbedder = True\n",
      "haystack.components.retrievers.in_memory.embedding_retriever.InMemoryEmbeddingRetriever = True\n",
      "haystack.components.generators.openai.OpenAIGenerator = True\n",
      "haystack.document_stores.in_memory.document_store.InMemoryDocumentStore = True\n",
      "haystack.components.builders.prompt_builder.PromptBuilder = True\n",
      "env_var = True\n",
      "haystack.components.rankers.transformers_similarity.TransformersSimilarityRanker = True\n",
      "----------------------------------------------------------------------------------------------------\n",
      "haystack.components.builders.answer_builder.AnswerBuilder = True\n",
      "haystack.components.generators.openai.OpenAIGenerator = True\n",
      "haystack.components.builders.prompt_builder.PromptBuilder = True\n",
      "haystack.document_stores.in_memory.document_store.InMemoryDocumentStore = True\n",
      "haystack.components.retrievers.in_memory.bm25_retriever.InMemoryBM25Retriever = True\n",
      "env_var = True\n",
      "haystack.components.rankers.transformers_similarity.TransformersSimilarityRanker = True\n",
      "----------------------------------------------------------------------------------------------------\n",
      "haystack.components.builders.answer_builder.AnswerBuilder = True\n",
      "haystack.components.embedders.openai_text_embedder.OpenAITextEmbedder = True\n",
      "haystack.components.retrievers.in_memory.embedding_retriever.InMemoryEmbeddingRetriever = True\n",
      "haystack.components.generators.openai.OpenAIGenerator = True\n",
      "haystack.document_stores.in_memory.document_store.InMemoryDocumentStore = True\n",
      "haystack.components.builders.prompt_builder.PromptBuilder = True\n",
      "env_var = True\n",
      "haystack.components.rankers.transformers_similarity.TransformersSimilarityRanker = True\n",
      "----------------------------------------------------------------------------------------------------\n",
      "haystack.components.builders.answer_builder.AnswerBuilder = True\n",
      "haystack.components.generators.openai.OpenAIGenerator = True\n",
      "haystack.components.builders.prompt_builder.PromptBuilder = True\n",
      "----------------------------------------------------------------------------------------------------\n",
      "haystack.components.builders.answer_builder.AnswerBuilder = True\n",
      "haystack.components.generators.openai.OpenAIGenerator = True\n",
      "haystack.components.builders.prompt_builder.PromptBuilder = True\n",
      "----------------------------------------------------------------------------------------------------\n",
      "haystack.components.builders.answer_builder.AnswerBuilder = True\n",
      "haystack.components.generators.openai.OpenAIGenerator = True\n",
      "haystack.components.builders.prompt_builder.PromptBuilder = True\n",
      "----------------------------------------------------------------------------------------------------\n",
      "haystack.components.builders.answer_builder.AnswerBuilder = True\n",
      "haystack.components.generators.openai.OpenAIGenerator = True\n",
      "haystack.components.builders.prompt_builder.PromptBuilder = True\n",
      "----------------------------------------------------------------------------------------------------\n",
      "haystack.components.builders.answer_builder.AnswerBuilder = True\n",
      "haystack.components.generators.openai.OpenAIGenerator = True\n",
      "haystack.components.builders.prompt_builder.PromptBuilder = True\n",
      "haystack.document_stores.in_memory.document_store.InMemoryDocumentStore = True\n",
      "haystack.components.retrievers.in_memory.bm25_retriever.InMemoryBM25Retriever = True\n",
      "----------------------------------------------------------------------------------------------------\n",
      "haystack.components.builders.answer_builder.AnswerBuilder = True\n",
      "haystack.components.generators.openai.OpenAIGenerator = True\n",
      "haystack.components.builders.prompt_builder.PromptBuilder = True\n"
     ]
    },
    {
     "data": {
      "text/plain": [
       "['includes.AnswerBuilder',\n",
       " 'includes.EmbedderAdapter',\n",
       " 'includes.InMemoryBM25Retriever',\n",
       " 'includes.OpenAITextEmbedder',\n",
       " 'includes.InMemoryEmbeddingRetriever',\n",
       " 'includes.OpenAIGenerator',\n",
       " 'includes.InMemoryDocumentStore',\n",
       " 'includes.PromptBuilder',\n",
       " 'includes.DocumentJoiner',\n",
       " 'includes.SentenceTransformersTextEmbedder',\n",
       " 'includes.LostInTheMiddleRanker',\n",
       " 'includes.OutputAdapter',\n",
       " 'includes.single',\n",
       " 'includes.env_var',\n",
       " 'includes.IterativeEmbedding',\n",
       " 'includes.TransformersSimilarityRanker']"
      ]
     },
     "execution_count": 31,
     "metadata": {},
     "output_type": "execute_result"
    }
   ],
   "source": [
    "new_run_params = {}\n",
    "existing_types = []\n",
    "for run_id in runs[\"run_id\"]:\n",
    "    new_run_params[run_id] = {}\n",
    "    print(\"-\" * 100)\n",
    "    run = runs[runs[\"run_id\"] == run_id].iloc[0]\n",
    "    for key, value in run.items():\n",
    "        if key.endswith(\".type\") and value and value != \"LOCAL\":\n",
    "            new_value = \"includes.\" + value.split(\".\")[-1]\n",
    "            count_key = \"Nr.of.\" + value.split(\".\")[-1]\n",
    "            print(value, \"=\", True)\n",
    "            new_run_params[run_id][new_value] = True\n",
    "\n",
    "            if count_key not in new_run_params[run_id]:\n",
    "                new_run_params[run_id][count_key] = 1\n",
    "            else:\n",
    "                new_run_params[run_id][count_key] += 1\n",
    "\n",
    "            if new_value not in existing_types:\n",
    "                existing_types.append(new_value)\n",
    "existing_types\n"
   ]
  },
  {
   "cell_type": "code",
   "execution_count": 32,
   "metadata": {},
   "outputs": [
    {
     "data": {
      "text/plain": [
       "{'includes.AnswerBuilder': True,\n",
       " 'Nr.of.AnswerBuilder': 1,\n",
       " 'includes.OpenAIGenerator': True,\n",
       " 'Nr.of.OpenAIGenerator': 1,\n",
       " 'includes.PromptBuilder': True,\n",
       " 'Nr.of.PromptBuilder': 1,\n",
       " 'includes.EmbedderAdapter': False,\n",
       " 'Nr.of.EmbedderAdapter': 0,\n",
       " 'includes.InMemoryBM25Retriever': False,\n",
       " 'Nr.of.InMemoryBM25Retriever': 0,\n",
       " 'includes.OpenAITextEmbedder': False,\n",
       " 'Nr.of.OpenAITextEmbedder': 0,\n",
       " 'includes.InMemoryEmbeddingRetriever': False,\n",
       " 'Nr.of.InMemoryEmbeddingRetriever': 0,\n",
       " 'includes.InMemoryDocumentStore': False,\n",
       " 'Nr.of.InMemoryDocumentStore': 0,\n",
       " 'includes.DocumentJoiner': False,\n",
       " 'Nr.of.DocumentJoiner': 0,\n",
       " 'includes.SentenceTransformersTextEmbedder': False,\n",
       " 'Nr.of.SentenceTransformersTextEmbedder': 0,\n",
       " 'includes.LostInTheMiddleRanker': False,\n",
       " 'Nr.of.LostInTheMiddleRanker': 0,\n",
       " 'includes.OutputAdapter': False,\n",
       " 'Nr.of.OutputAdapter': 0,\n",
       " 'includes.single': False,\n",
       " 'Nr.of.single': 0,\n",
       " 'includes.env_var': False,\n",
       " 'Nr.of.env_var': 0,\n",
       " 'includes.IterativeEmbedding': False,\n",
       " 'Nr.of.IterativeEmbedding': 0,\n",
       " 'includes.TransformersSimilarityRanker': False,\n",
       " 'Nr.of.TransformersSimilarityRanker': 0}"
      ]
     },
     "execution_count": 32,
     "metadata": {},
     "output_type": "execute_result"
    }
   ],
   "source": [
    "for run_id, params in new_run_params.items():\n",
    "    for existing_type in existing_types:\n",
    "        if existing_type not in params:\n",
    "            params[existing_type] = False\n",
    "            params[f\"Nr.of.{existing_type.split('.')[-1]}\"] = 0\n",
    "params"
   ]
  },
  {
   "cell_type": "code",
   "execution_count": 33,
   "metadata": {},
   "outputs": [
    {
     "data": {
      "text/plain": [
       "['Hybrid RAGs have a higher retrieval quality than sparse or dense RAGs.',\n",
       " 'Most recent LLM models do not need retrieval for configuration validation and local models are sufficient.',\n",
       " 'Iterative embedding and retrieval for each configuration item can improve the performance of the pipeline.',\n",
       " 'The top models gemini-2.0 and deepseek gpt-4o handle this task well, how about Coding Models?',\n",
       " 'Most recent LLM models do not need retrieval for configuration validation and OS models are sufficient.',\n",
       " 'Most recent LLM models with web search do not need a customized RAG for configuration validation.',\n",
       " 'Most recent LLM models do not need retrieval for configuration validation.',\n",
       " 'Dense RAGs have a higher retrieval quality than sparse RAGs.',\n",
       " 'Sparse RAGs have a higher retrieval quality than dense RAGs.']"
      ]
     },
     "execution_count": 33,
     "metadata": {},
     "output_type": "execute_result"
    }
   ],
   "source": [
    "hypotheses = []\n",
    "from uuid import uuid4\n",
    "for run_id, params in runs.iterrows():\n",
    "    for key, value in params.items():\n",
    "        if \"hypothesis\" in str(key) and value:\n",
    "            hypotheses.append(value)\n",
    "\n",
    "hypotheses = list(set(hypotheses))\n",
    "hypotheses"
   ]
  },
  {
   "cell_type": "code",
   "execution_count": 34,
   "metadata": {},
   "outputs": [
    {
     "name": "stdout",
     "output_type": "stream",
     "text": [
      "0e642 Hybrid RAGs have a higher retrieval quality than sparse or dense RAGs.\n",
      "11ce5 Most recent LLM models do not need retrieval for configuration validation and local models are sufficient.\n",
      "41ee4 Iterative embedding and retrieval for each configuration item can improve the performance of the pipeline.\n",
      "ce287 The top models gemini-2.0 and deepseek gpt-4o handle this task well, how about Coding Models?\n",
      "be30b Most recent LLM models do not need retrieval for configuration validation and OS models are sufficient.\n",
      "8ff9f Most recent LLM models with web search do not need a customized RAG for configuration validation.\n",
      "fb8b3 Most recent LLM models do not need retrieval for configuration validation.\n",
      "efba7 Dense RAGs have a higher retrieval quality than sparse RAGs.\n",
      "983b9 Sparse RAGs have a higher retrieval quality than dense RAGs.\n"
     ]
    }
   ],
   "source": [
    "hypothesis_dict = {}\n",
    "for hypothesis in hypotheses:\n",
    "    hypothesis_dict[hypothesis] = str(uuid4())[:5]\n",
    "\n",
    "for k, v in hypothesis_dict.items():\n",
    "    print(v, k)"
   ]
  },
  {
   "cell_type": "code",
   "execution_count": 35,
   "metadata": {},
   "outputs": [
    {
     "data": {
      "text/html": [
       "<div>\n",
       "<style scoped>\n",
       "    .dataframe tbody tr th:only-of-type {\n",
       "        vertical-align: middle;\n",
       "    }\n",
       "\n",
       "    .dataframe tbody tr th {\n",
       "        vertical-align: top;\n",
       "    }\n",
       "\n",
       "    .dataframe thead tr th {\n",
       "        text-align: left;\n",
       "    }\n",
       "\n",
       "    .dataframe thead tr:last-of-type th {\n",
       "        text-align: right;\n",
       "    }\n",
       "</style>\n",
       "<table border=\"1\" class=\"dataframe\">\n",
       "  <thead>\n",
       "    <tr>\n",
       "      <th></th>\n",
       "      <th colspan=\"10\" halign=\"left\">value</th>\n",
       "    </tr>\n",
       "    <tr>\n",
       "      <th>params.metadata.hypothesis</th>\n",
       "      <th>Dense RAGs have a higher retrieval quality than sparse RAGs.</th>\n",
       "      <th>Hybrid RAGs have a higher retrieval quality than sparse or dense RAGs.</th>\n",
       "      <th>Iterative embedding and retrieval for each configuration item can improve the performance of the pipeline.</th>\n",
       "      <th>Most recent LLM models do not need retrieval for configuration validation and OS models are sufficient.</th>\n",
       "      <th>Most recent LLM models do not need retrieval for configuration validation and local models are sufficient.</th>\n",
       "      <th>Most recent LLM models do not need retrieval for configuration validation.</th>\n",
       "      <th>Most recent LLM models with web search do not need a customized RAG for configuration validation.</th>\n",
       "      <th>No hypothesis</th>\n",
       "      <th>Sparse RAGs have a higher retrieval quality than dense RAGs.</th>\n",
       "      <th>The top models gemini-2.0 and deepseek gpt-4o handle this task well, how about Coding Models?</th>\n",
       "    </tr>\n",
       "    <tr>\n",
       "      <th>run_id</th>\n",
       "      <th></th>\n",
       "      <th></th>\n",
       "      <th></th>\n",
       "      <th></th>\n",
       "      <th></th>\n",
       "      <th></th>\n",
       "      <th></th>\n",
       "      <th></th>\n",
       "      <th></th>\n",
       "      <th></th>\n",
       "    </tr>\n",
       "  </thead>\n",
       "  <tbody>\n",
       "    <tr>\n",
       "      <th>04a7144838064d4cb5d621dc85ec675c</th>\n",
       "      <td>False</td>\n",
       "      <td>False</td>\n",
       "      <td>True</td>\n",
       "      <td>False</td>\n",
       "      <td>False</td>\n",
       "      <td>False</td>\n",
       "      <td>False</td>\n",
       "      <td>False</td>\n",
       "      <td>False</td>\n",
       "      <td>False</td>\n",
       "    </tr>\n",
       "    <tr>\n",
       "      <th>04cc45743ea54f6daaf03c6af2616f42</th>\n",
       "      <td>False</td>\n",
       "      <td>False</td>\n",
       "      <td>False</td>\n",
       "      <td>False</td>\n",
       "      <td>False</td>\n",
       "      <td>False</td>\n",
       "      <td>False</td>\n",
       "      <td>True</td>\n",
       "      <td>False</td>\n",
       "      <td>False</td>\n",
       "    </tr>\n",
       "    <tr>\n",
       "      <th>30ce7e43e39a4ec5a3cb138b4e961e78</th>\n",
       "      <td>False</td>\n",
       "      <td>False</td>\n",
       "      <td>True</td>\n",
       "      <td>False</td>\n",
       "      <td>False</td>\n",
       "      <td>False</td>\n",
       "      <td>False</td>\n",
       "      <td>False</td>\n",
       "      <td>False</td>\n",
       "      <td>False</td>\n",
       "    </tr>\n",
       "    <tr>\n",
       "      <th>414d52e2f6d843b6ac60a2b6221e2a38</th>\n",
       "      <td>False</td>\n",
       "      <td>False</td>\n",
       "      <td>False</td>\n",
       "      <td>False</td>\n",
       "      <td>False</td>\n",
       "      <td>False</td>\n",
       "      <td>False</td>\n",
       "      <td>True</td>\n",
       "      <td>False</td>\n",
       "      <td>False</td>\n",
       "    </tr>\n",
       "    <tr>\n",
       "      <th>4a2d3bd7e1124ec786285bf6294b7c3b</th>\n",
       "      <td>False</td>\n",
       "      <td>False</td>\n",
       "      <td>False</td>\n",
       "      <td>False</td>\n",
       "      <td>False</td>\n",
       "      <td>False</td>\n",
       "      <td>False</td>\n",
       "      <td>True</td>\n",
       "      <td>False</td>\n",
       "      <td>False</td>\n",
       "    </tr>\n",
       "  </tbody>\n",
       "</table>\n",
       "</div>"
      ],
      "text/plain": [
       "                                                                                        value  \\\n",
       "params.metadata.hypothesis       Dense RAGs have a higher retrieval quality than sparse RAGs.   \n",
       "run_id                                                                                          \n",
       "04a7144838064d4cb5d621dc85ec675c                                              False             \n",
       "04cc45743ea54f6daaf03c6af2616f42                                              False             \n",
       "30ce7e43e39a4ec5a3cb138b4e961e78                                              False             \n",
       "414d52e2f6d843b6ac60a2b6221e2a38                                              False             \n",
       "4a2d3bd7e1124ec786285bf6294b7c3b                                              False             \n",
       "\n",
       "                                                                                                         \\\n",
       "params.metadata.hypothesis       Hybrid RAGs have a higher retrieval quality than sparse or dense RAGs.   \n",
       "run_id                                                                                                    \n",
       "04a7144838064d4cb5d621dc85ec675c                                              False                       \n",
       "04cc45743ea54f6daaf03c6af2616f42                                              False                       \n",
       "30ce7e43e39a4ec5a3cb138b4e961e78                                              False                       \n",
       "414d52e2f6d843b6ac60a2b6221e2a38                                              False                       \n",
       "4a2d3bd7e1124ec786285bf6294b7c3b                                              False                       \n",
       "\n",
       "                                                                                                                                             \\\n",
       "params.metadata.hypothesis       Iterative embedding and retrieval for each configuration item can improve the performance of the pipeline.   \n",
       "run_id                                                                                                                                        \n",
       "04a7144838064d4cb5d621dc85ec675c                                               True                                                           \n",
       "04cc45743ea54f6daaf03c6af2616f42                                              False                                                           \n",
       "30ce7e43e39a4ec5a3cb138b4e961e78                                               True                                                           \n",
       "414d52e2f6d843b6ac60a2b6221e2a38                                              False                                                           \n",
       "4a2d3bd7e1124ec786285bf6294b7c3b                                              False                                                           \n",
       "\n",
       "                                                                                                                                          \\\n",
       "params.metadata.hypothesis       Most recent LLM models do not need retrieval for configuration validation and OS models are sufficient.   \n",
       "run_id                                                                                                                                     \n",
       "04a7144838064d4cb5d621dc85ec675c                                              False                                                        \n",
       "04cc45743ea54f6daaf03c6af2616f42                                              False                                                        \n",
       "30ce7e43e39a4ec5a3cb138b4e961e78                                              False                                                        \n",
       "414d52e2f6d843b6ac60a2b6221e2a38                                              False                                                        \n",
       "4a2d3bd7e1124ec786285bf6294b7c3b                                              False                                                        \n",
       "\n",
       "                                                                                                                                             \\\n",
       "params.metadata.hypothesis       Most recent LLM models do not need retrieval for configuration validation and local models are sufficient.   \n",
       "run_id                                                                                                                                        \n",
       "04a7144838064d4cb5d621dc85ec675c                                              False                                                           \n",
       "04cc45743ea54f6daaf03c6af2616f42                                              False                                                           \n",
       "30ce7e43e39a4ec5a3cb138b4e961e78                                              False                                                           \n",
       "414d52e2f6d843b6ac60a2b6221e2a38                                              False                                                           \n",
       "4a2d3bd7e1124ec786285bf6294b7c3b                                              False                                                           \n",
       "\n",
       "                                                                                                             \\\n",
       "params.metadata.hypothesis       Most recent LLM models do not need retrieval for configuration validation.   \n",
       "run_id                                                                                                        \n",
       "04a7144838064d4cb5d621dc85ec675c                                              False                           \n",
       "04cc45743ea54f6daaf03c6af2616f42                                              False                           \n",
       "30ce7e43e39a4ec5a3cb138b4e961e78                                              False                           \n",
       "414d52e2f6d843b6ac60a2b6221e2a38                                              False                           \n",
       "4a2d3bd7e1124ec786285bf6294b7c3b                                              False                           \n",
       "\n",
       "                                                                                                                                    \\\n",
       "params.metadata.hypothesis       Most recent LLM models with web search do not need a customized RAG for configuration validation.   \n",
       "run_id                                                                                                                               \n",
       "04a7144838064d4cb5d621dc85ec675c                                              False                                                  \n",
       "04cc45743ea54f6daaf03c6af2616f42                                              False                                                  \n",
       "30ce7e43e39a4ec5a3cb138b4e961e78                                              False                                                  \n",
       "414d52e2f6d843b6ac60a2b6221e2a38                                              False                                                  \n",
       "4a2d3bd7e1124ec786285bf6294b7c3b                                              False                                                  \n",
       "\n",
       "                                                \\\n",
       "params.metadata.hypothesis       No hypothesis   \n",
       "run_id                                           \n",
       "04a7144838064d4cb5d621dc85ec675c         False   \n",
       "04cc45743ea54f6daaf03c6af2616f42          True   \n",
       "30ce7e43e39a4ec5a3cb138b4e961e78         False   \n",
       "414d52e2f6d843b6ac60a2b6221e2a38          True   \n",
       "4a2d3bd7e1124ec786285bf6294b7c3b          True   \n",
       "\n",
       "                                                                                               \\\n",
       "params.metadata.hypothesis       Sparse RAGs have a higher retrieval quality than dense RAGs.   \n",
       "run_id                                                                                          \n",
       "04a7144838064d4cb5d621dc85ec675c                                              False             \n",
       "04cc45743ea54f6daaf03c6af2616f42                                              False             \n",
       "30ce7e43e39a4ec5a3cb138b4e961e78                                              False             \n",
       "414d52e2f6d843b6ac60a2b6221e2a38                                              False             \n",
       "4a2d3bd7e1124ec786285bf6294b7c3b                                              False             \n",
       "\n",
       "                                                                                                                                \n",
       "params.metadata.hypothesis       The top models gemini-2.0 and deepseek gpt-4o handle this task well, how about Coding Models?  \n",
       "run_id                                                                                                                          \n",
       "04a7144838064d4cb5d621dc85ec675c                                              False                                             \n",
       "04cc45743ea54f6daaf03c6af2616f42                                              False                                             \n",
       "30ce7e43e39a4ec5a3cb138b4e961e78                                              False                                             \n",
       "414d52e2f6d843b6ac60a2b6221e2a38                                              False                                             \n",
       "4a2d3bd7e1124ec786285bf6294b7c3b                                              False                                             "
      ]
     },
     "execution_count": 35,
     "metadata": {},
     "output_type": "execute_result"
    }
   ],
   "source": [
    "\n",
    "hypothesis_params = (\n",
    "    runs\n",
    "    .loc[:, [\"run_id\", \"params.metadata.hypothesis\"]]\n",
    "    .fillna(\"No hypothesis\")\n",
    "    .set_index(\"run_id\")\n",
    "    .assign(value=True)\n",
    "    .pivot(columns=[\"params.metadata.hypothesis\"])\n",
    "    .fillna(\"False\")\n",
    "    )\n",
    "hypothesis_params.head()\n"
   ]
  },
  {
   "cell_type": "code",
   "execution_count": 36,
   "metadata": {},
   "outputs": [
    {
     "name": "stdout",
     "output_type": "stream",
     "text": [
      "04a7144838064d4cb5d621dc85ec675c: 41ee4 = True\n",
      "04cc45743ea54f6daaf03c6af2616f42: No hypothesis = True\n",
      "30ce7e43e39a4ec5a3cb138b4e961e78: 41ee4 = True\n",
      "414d52e2f6d843b6ac60a2b6221e2a38: No hypothesis = True\n",
      "4a2d3bd7e1124ec786285bf6294b7c3b: No hypothesis = True\n",
      "539bba316edb4c8e9d27bbe48357ba21: No hypothesis = True\n",
      "5ce10fdfaaa749d488f3dd4f6e2d6341: 0e642 = True\n",
      "5f7efa6ec96a461dbd85733e9bb811b6: fb8b3 = True\n",
      "62de284c66464ac8b5451115e15abd49: 8ff9f = True\n",
      "6747a761f9f34303b322790170d893bd: efba7 = True\n",
      "685700fe904c456c86cf4db2ed378171: No hypothesis = True\n",
      "69cb5169bdf2409b9baa85627d217108: ce287 = True\n",
      "70028b7cd3054ec69b802bd46f7327b2: 41ee4 = True\n",
      "7875a8010ea44e5ebf4a4c26302c2991: No hypothesis = True\n",
      "7a404588695e46899981deec7af4b9fb: 0e642 = True\n",
      "85818a4d847d42a38701d4c20d20f849: No hypothesis = True\n",
      "9299a5dc28204f5f92482e96325031ec: 11ce5 = True\n",
      "95bddc79059e45919c6c61e34ca52fcc: No hypothesis = True\n",
      "97e4782a82d4431bb717e89e5806f886: No hypothesis = True\n",
      "9cdb34230c43406e98563129ad11a3b7: fb8b3 = True\n",
      "9dd37a377b594a1da7e020cc788a464f: No hypothesis = True\n",
      "c4187f271ef04f4da75c195636242f7b: be30b = True\n",
      "c80059c29ac34e37a2604c36ce2350fd: fb8b3 = True\n",
      "d2beb8913af9447488062954606b16d9: No hypothesis = True\n",
      "e5de129b71f84dbd96d2f3f2ec4fc75e: efba7 = True\n",
      "ea995b93cfbd4773984d4f21a1b7cbec: No hypothesis = True\n",
      "f465aba5af2649ad942346d33ae55ca6: No hypothesis = True\n",
      "f8576a21bc7242dda9951e9d66402f85: No hypothesis = True\n",
      "ff0ae70026c84225a346330f43ae040e: 983b9 = True\n"
     ]
    },
    {
     "data": {
      "text/plain": [
       "{'0e642': 'Hybrid RAGs have a higher retrieval quality than sparse or dense RAGs.',\n",
       " '11ce5': 'Most recent LLM models do not need retrieval for configuration validation and local models are sufficient.',\n",
       " '41ee4': 'Iterative embedding and retrieval for each configuration item can improve the performance of the pipeline.',\n",
       " 'ce287': 'The top models gemini-2.0 and deepseek gpt-4o handle this task well, how about Coding Models?',\n",
       " 'be30b': 'Most recent LLM models do not need retrieval for configuration validation and OS models are sufficient.',\n",
       " '8ff9f': 'Most recent LLM models with web search do not need a customized RAG for configuration validation.',\n",
       " 'fb8b3': 'Most recent LLM models do not need retrieval for configuration validation.',\n",
       " 'efba7': 'Dense RAGs have a higher retrieval quality than sparse RAGs.',\n",
       " '983b9': 'Sparse RAGs have a higher retrieval quality than dense RAGs.'}"
      ]
     },
     "execution_count": 36,
     "metadata": {},
     "output_type": "execute_result"
    }
   ],
   "source": [
    "\n",
    "hypothesis_dict2 = {v:k for k, v in hypothesis_dict.items()}\n",
    "for run_id, params in hypothesis_params.iterrows():\n",
    "    for key, value in params.items():\n",
    "        if value == True:\n",
    "            print(f\"{run_id}: {hypothesis_dict.get(key[1], 'No hypothesis')} = True\")\n",
    "            new_run_params[run_id][hypothesis_dict.get(key[1], 'No hypothesis')] = True\n",
    "        else:\n",
    "            # print(f\"{run_id} ({value} - {key[1]}): {hypothesis_dict2.get(key[1], 'No hypothesis')}\")\n",
    "            new_run_params[run_id][hypothesis_dict.get(key[1], 'No hypothesis')] = False\n",
    "\n",
    "with open(\"hypothesis_dict.json\", \"w\") as f:\n",
    "    json.dump(hypothesis_dict2, f)\n",
    "\n",
    "hypothesis_dict2\n"
   ]
  },
  {
   "cell_type": "code",
   "execution_count": 40,
   "metadata": {},
   "outputs": [
    {
     "data": {
      "text/plain": [
       "array(['data/processed/config_val/val/evaluation_data.json', ''],\n",
       "      dtype=object)"
      ]
     },
     "execution_count": 40,
     "metadata": {},
     "output_type": "execute_result"
    }
   ],
   "source": [
    "runs[\"params.val_data_path\"].unique()\n"
   ]
  },
  {
   "cell_type": "code",
   "execution_count": 37,
   "metadata": {},
   "outputs": [
    {
     "name": "stdout",
     "output_type": "stream",
     "text": [
      "{'metrics.indexing_duration': 2161.268524646759, 'metrics.VAL.SYS..memory_process_mean_mb': 0.0, 'metrics.VAL.E2E..MatthewsCorrCoefMetric': 0.0, 'metrics.VAL.SYS..cpu_process_min': 0.0, 'metrics.VAL.SYS..duration_seconds': 0.0, 'metrics.VAL.E2E..F1ScoreMetric': 0.0, 'metrics.VAL.RET.embedding_retriever.MAPAtKMetric': 0.0, 'metrics.VAL.E2E..FalsePositiveRateMetric': 0.0, 'metrics.VAL.RET.bm25_retriever.HaystackContextRelevanceMetric': 0.0, 'metrics.VAL.SYS..memory_process_max_mb': 0.0, 'metrics.VAL.GEN.llm.FormatValidatorMetric': 0.0, 'metrics.VAL.SYS..cpu_system_min': 0.0, 'metrics.VAL.SYS..cpu_process_max': 0.0, 'metrics.VAL.SYS..memory_system_percent_min': 0.0, 'metrics.VAL.E2E..PrecisionMetric': 0.0, 'metrics.VAL.SYS..memory_process_min_mb': 0.0, 'metrics.VAL.E2E..RecallMetric': 0.0, 'metrics.VAL.GEN.llm.AnswerRelevancyMetric': 0.0, 'metrics.VAL.E2E..FalseNegativeRateMetric': 0.0, 'metrics.VAL.SYS..memory_system_percent_mean': 0.0, 'metrics.VAL.E2E..AccuracyMetric': 0.0, 'metrics.VAL.RET.embedding_retriever.HaystackContextRelevanceMetric': 0.0, 'metrics.VAL.SYS..memory_system_percent_max': 0.0, 'metrics.VAL.SYS..memory_system_used_max_mb': 0.0, 'metrics.VAL.SYS..memory_system_used_mean_mb': 0.0, 'metrics.VAL.SYS..cpu_system_mean': 0.0, 'metrics.VAL.SYS..cpu_process_mean': 0.0, 'metrics.VAL.GEN.llm.ContextUtilizationMetric': 0.0, 'metrics.VAL.RET.bm25_retriever.MAPAtKMetric': 0.0, 'metrics.VAL.SYS..cpu_system_max': 0.0, 'metrics.VAL.SYS..samples_count': 0.0, 'metrics.VAL.SYS..memory_system_used_min_mb': 0.0, 'metrics.VAL.GEN.rewriter.ContextUtilizationMetric': 0.0, 'metrics.VAL.RET.retriever_2.HaystackContextRelevanceMetric': 0.0, 'metrics.VAL.RET.retriever_1.HaystackContextRelevanceMetric': 0.0, 'metrics.VAL.RET.retriever_4.HaystackContextRelevanceMetric': 0.0, 'metrics.VAL.RET.retriever_3.HaystackContextRelevanceMetric': 0.0, 'metrics.VAL.RET.retriever_1.MAPAtKMetric': 0.0, 'metrics.VAL.GEN.rewriter.FormatValidatorMetric': 0.0, 'metrics.VAL.RET.retriever_0.MAPAtKMetric': 0.0, 'metrics.VAL.GEN.rewriter.AnswerRelevancyMetric': 0.0, 'metrics.VAL.RET.retriever_2.MAPAtKMetric': 0.0, 'metrics.VAL.RET.retriever_4.MAPAtKMetric': 0.0, 'metrics.VAL.RET.retriever_3.MAPAtKMetric': 0.0, 'metrics.VAL.RET.retriever_0.HaystackContextRelevanceMetric': 0.0, 'metrics.VAL.RET.retriever.HaystackContextRelevanceMetric': 0.0, 'metrics.VAL.RET.retriever.MAPAtKMetric': 0.0}\n"
     ]
    },
    {
     "name": "stderr",
     "output_type": "stream",
     "text": [
      "C:\\Users\\Besitzer\\AppData\\Local\\Temp\\ipykernel_16300\\158029723.py:10: FutureWarning: Downcasting behavior in `replace` is deprecated and will be removed in a future version. To retain the old behavior, explicitly call `result.infer_objects(copy=False)`. To opt-in to the future behavior, set `pd.set_option('future.no_silent_downcasting', True)`\n",
      "  run_metrics = run_metrics.replace(\"\", 0)\n"
     ]
    },
    {
     "name": "stdout",
     "output_type": "stream",
     "text": [
      "🏃 View run 7a404588695e46899981deec7af4b9fb at: http://91.99.14.73:8080/#/experiments/525945623195643983/runs/35447bab31654822bdb71d02ba846935\n",
      "🧪 View experiment at: http://91.99.14.73:8080/#/experiments/525945623195643983\n",
      "{'metrics.indexing_duration': 2196.897666454315, 'metrics.VAL.SYS..memory_process_mean_mb': 4770.756956018518, 'metrics.VAL.E2E..MatthewsCorrCoefMetric': 0.30151134457776363, 'metrics.VAL.SYS..cpu_process_min': 0.0, 'metrics.VAL.SYS..duration_seconds': 396.897874, 'metrics.VAL.E2E..F1ScoreMetric': 0.6666666666666666, 'metrics.VAL.RET.embedding_retriever.MAPAtKMetric': 0.016666666666666666, 'metrics.VAL.E2E..FalsePositiveRateMetric': 0.4, 'metrics.VAL.RET.bm25_retriever.HaystackContextRelevanceMetric': 0.3, 'metrics.VAL.SYS..memory_process_max_mb': 5472.7890625, 'metrics.VAL.GEN.llm.FormatValidatorMetric': 1.0, 'metrics.VAL.SYS..cpu_system_min': 0.0, 'metrics.VAL.SYS..cpu_process_max': 103.9, 'metrics.VAL.SYS..memory_system_percent_min': 31.9, 'metrics.VAL.E2E..PrecisionMetric': 0.6363636363636364, 'metrics.VAL.SYS..memory_process_min_mb': 4729.5078125, 'metrics.VAL.E2E..RecallMetric': 0.7, 'metrics.VAL.GEN.llm.AnswerRelevancyMetric': 0.9, 'metrics.VAL.E2E..FalseNegativeRateMetric': 0.3, 'metrics.VAL.SYS..memory_system_percent_mean': 32.24948148148148, 'metrics.VAL.E2E..AccuracyMetric': 0.65, 'metrics.VAL.RET.embedding_retriever.HaystackContextRelevanceMetric': 0.15, 'metrics.VAL.SYS..memory_system_percent_max': 36.8, 'metrics.VAL.SYS..memory_system_used_max_mb': 5435.16796875, 'metrics.VAL.SYS..memory_system_used_mean_mb': 4733.151799768519, 'metrics.VAL.SYS..cpu_system_mean': 4.602518518518519, 'metrics.VAL.SYS..cpu_process_mean': 17.078666666666663, 'metrics.VAL.GEN.llm.ContextUtilizationMetric': 0.525, 'metrics.VAL.RET.bm25_retriever.MAPAtKMetric': 0.09333333333333334, 'metrics.VAL.SYS..cpu_system_max': 26.9, 'metrics.VAL.SYS..samples_count': 675.0, 'metrics.VAL.SYS..memory_system_used_min_mb': 4682.109375, 'metrics.VAL.GEN.rewriter.ContextUtilizationMetric': 0.0, 'metrics.VAL.RET.retriever_2.HaystackContextRelevanceMetric': 0.0, 'metrics.VAL.RET.retriever_1.HaystackContextRelevanceMetric': 0.0, 'metrics.VAL.RET.retriever_4.HaystackContextRelevanceMetric': 0.0, 'metrics.VAL.RET.retriever_3.HaystackContextRelevanceMetric': 0.0, 'metrics.VAL.RET.retriever_1.MAPAtKMetric': 0.0, 'metrics.VAL.GEN.rewriter.FormatValidatorMetric': 0.0, 'metrics.VAL.RET.retriever_0.MAPAtKMetric': 0.0, 'metrics.VAL.GEN.rewriter.AnswerRelevancyMetric': 0.0, 'metrics.VAL.RET.retriever_2.MAPAtKMetric': 0.0, 'metrics.VAL.RET.retriever_4.MAPAtKMetric': 0.0, 'metrics.VAL.RET.retriever_3.MAPAtKMetric': 0.0, 'metrics.VAL.RET.retriever_0.HaystackContextRelevanceMetric': 0.0, 'metrics.VAL.RET.retriever.HaystackContextRelevanceMetric': 0.0, 'metrics.VAL.RET.retriever.MAPAtKMetric': 0.0}\n"
     ]
    },
    {
     "name": "stderr",
     "output_type": "stream",
     "text": [
      "C:\\Users\\Besitzer\\AppData\\Local\\Temp\\ipykernel_16300\\158029723.py:10: FutureWarning: Downcasting behavior in `replace` is deprecated and will be removed in a future version. To retain the old behavior, explicitly call `result.infer_objects(copy=False)`. To opt-in to the future behavior, set `pd.set_option('future.no_silent_downcasting', True)`\n",
      "  run_metrics = run_metrics.replace(\"\", 0)\n"
     ]
    },
    {
     "name": "stdout",
     "output_type": "stream",
     "text": [
      "🏃 View run 5ce10fdfaaa749d488f3dd4f6e2d6341 at: http://91.99.14.73:8080/#/experiments/525945623195643983/runs/0b85b6ea813b4abda5035150f7494989\n",
      "🧪 View experiment at: http://91.99.14.73:8080/#/experiments/525945623195643983\n",
      "{'metrics.indexing_duration': 0.0, 'metrics.VAL.SYS..memory_process_mean_mb': 0.0, 'metrics.VAL.E2E..MatthewsCorrCoefMetric': 0.0, 'metrics.VAL.SYS..cpu_process_min': 0.0, 'metrics.VAL.SYS..duration_seconds': 0.0, 'metrics.VAL.E2E..F1ScoreMetric': 0.0, 'metrics.VAL.RET.embedding_retriever.MAPAtKMetric': 0.0, 'metrics.VAL.E2E..FalsePositiveRateMetric': 0.0, 'metrics.VAL.RET.bm25_retriever.HaystackContextRelevanceMetric': 0.0, 'metrics.VAL.SYS..memory_process_max_mb': 0.0, 'metrics.VAL.GEN.llm.FormatValidatorMetric': 0.0, 'metrics.VAL.SYS..cpu_system_min': 0.0, 'metrics.VAL.SYS..cpu_process_max': 0.0, 'metrics.VAL.SYS..memory_system_percent_min': 0.0, 'metrics.VAL.E2E..PrecisionMetric': 0.0, 'metrics.VAL.SYS..memory_process_min_mb': 0.0, 'metrics.VAL.E2E..RecallMetric': 0.0, 'metrics.VAL.GEN.llm.AnswerRelevancyMetric': 0.0, 'metrics.VAL.E2E..FalseNegativeRateMetric': 0.0, 'metrics.VAL.SYS..memory_system_percent_mean': 0.0, 'metrics.VAL.E2E..AccuracyMetric': 0.0, 'metrics.VAL.RET.embedding_retriever.HaystackContextRelevanceMetric': 0.0, 'metrics.VAL.SYS..memory_system_percent_max': 0.0, 'metrics.VAL.SYS..memory_system_used_max_mb': 0.0, 'metrics.VAL.SYS..memory_system_used_mean_mb': 0.0, 'metrics.VAL.SYS..cpu_system_mean': 0.0, 'metrics.VAL.SYS..cpu_process_mean': 0.0, 'metrics.VAL.GEN.llm.ContextUtilizationMetric': 0.0, 'metrics.VAL.RET.bm25_retriever.MAPAtKMetric': 0.0, 'metrics.VAL.SYS..cpu_system_max': 0.0, 'metrics.VAL.SYS..samples_count': 0.0, 'metrics.VAL.SYS..memory_system_used_min_mb': 0.0, 'metrics.VAL.GEN.rewriter.ContextUtilizationMetric': 0.0, 'metrics.VAL.RET.retriever_2.HaystackContextRelevanceMetric': 0.0, 'metrics.VAL.RET.retriever_1.HaystackContextRelevanceMetric': 0.0, 'metrics.VAL.RET.retriever_4.HaystackContextRelevanceMetric': 0.0, 'metrics.VAL.RET.retriever_3.HaystackContextRelevanceMetric': 0.0, 'metrics.VAL.RET.retriever_1.MAPAtKMetric': 0.0, 'metrics.VAL.GEN.rewriter.FormatValidatorMetric': 0.0, 'metrics.VAL.RET.retriever_0.MAPAtKMetric': 0.0, 'metrics.VAL.GEN.rewriter.AnswerRelevancyMetric': 0.0, 'metrics.VAL.RET.retriever_2.MAPAtKMetric': 0.0, 'metrics.VAL.RET.retriever_4.MAPAtKMetric': 0.0, 'metrics.VAL.RET.retriever_3.MAPAtKMetric': 0.0, 'metrics.VAL.RET.retriever_0.HaystackContextRelevanceMetric': 0.0, 'metrics.VAL.RET.retriever.HaystackContextRelevanceMetric': 0.0, 'metrics.VAL.RET.retriever.MAPAtKMetric': 0.0}\n"
     ]
    },
    {
     "name": "stderr",
     "output_type": "stream",
     "text": [
      "C:\\Users\\Besitzer\\AppData\\Local\\Temp\\ipykernel_16300\\158029723.py:10: FutureWarning: Downcasting behavior in `replace` is deprecated and will be removed in a future version. To retain the old behavior, explicitly call `result.infer_objects(copy=False)`. To opt-in to the future behavior, set `pd.set_option('future.no_silent_downcasting', True)`\n",
      "  run_metrics = run_metrics.replace(\"\", 0)\n"
     ]
    },
    {
     "name": "stdout",
     "output_type": "stream",
     "text": [
      "🏃 View run 04cc45743ea54f6daaf03c6af2616f42 at: http://91.99.14.73:8080/#/experiments/525945623195643983/runs/96d9175df0404a3ea11da188c34d401c\n",
      "🧪 View experiment at: http://91.99.14.73:8080/#/experiments/525945623195643983\n",
      "{'metrics.indexing_duration': 0.021253108978271484, 'metrics.VAL.SYS..memory_process_mean_mb': 0.0, 'metrics.VAL.E2E..MatthewsCorrCoefMetric': 0.0, 'metrics.VAL.SYS..cpu_process_min': 0.0, 'metrics.VAL.SYS..duration_seconds': 31117.612782, 'metrics.VAL.E2E..F1ScoreMetric': 0.0, 'metrics.VAL.RET.embedding_retriever.MAPAtKMetric': 0.0, 'metrics.VAL.E2E..FalsePositiveRateMetric': 0.0, 'metrics.VAL.RET.bm25_retriever.HaystackContextRelevanceMetric': 0.0, 'metrics.VAL.SYS..memory_process_max_mb': 0.0, 'metrics.VAL.GEN.llm.FormatValidatorMetric': 0.0, 'metrics.VAL.SYS..cpu_system_min': 0.0, 'metrics.VAL.SYS..cpu_process_max': 46.8, 'metrics.VAL.SYS..memory_system_percent_min': 0.0, 'metrics.VAL.E2E..PrecisionMetric': 0.0, 'metrics.VAL.SYS..memory_process_min_mb': 0.0, 'metrics.VAL.E2E..RecallMetric': 0.0, 'metrics.VAL.GEN.llm.AnswerRelevancyMetric': 0.0, 'metrics.VAL.E2E..FalseNegativeRateMetric': 1.0, 'metrics.VAL.SYS..memory_system_percent_mean': 0.0, 'metrics.VAL.E2E..AccuracyMetric': 0.5220994475138122, 'metrics.VAL.RET.embedding_retriever.HaystackContextRelevanceMetric': 0.0, 'metrics.VAL.SYS..memory_system_percent_max': 0.0, 'metrics.VAL.SYS..memory_system_used_max_mb': 0.0, 'metrics.VAL.SYS..memory_system_used_mean_mb': 0.0, 'metrics.VAL.SYS..cpu_system_mean': 13.201710735954421, 'metrics.VAL.SYS..cpu_process_mean': 1.3751388061863299, 'metrics.VAL.GEN.llm.ContextUtilizationMetric': 0.0, 'metrics.VAL.RET.bm25_retriever.MAPAtKMetric': 0.0, 'metrics.VAL.SYS..cpu_system_max': 81.7, 'metrics.VAL.SYS..samples_count': 62137.0, 'metrics.VAL.SYS..memory_system_used_min_mb': 0.0, 'metrics.VAL.GEN.rewriter.ContextUtilizationMetric': 0.0, 'metrics.VAL.RET.retriever_2.HaystackContextRelevanceMetric': 0.0, 'metrics.VAL.RET.retriever_1.HaystackContextRelevanceMetric': 0.0, 'metrics.VAL.RET.retriever_4.HaystackContextRelevanceMetric': 0.0, 'metrics.VAL.RET.retriever_3.HaystackContextRelevanceMetric': 0.0, 'metrics.VAL.RET.retriever_1.MAPAtKMetric': 0.0, 'metrics.VAL.GEN.rewriter.FormatValidatorMetric': 0.0, 'metrics.VAL.RET.retriever_0.MAPAtKMetric': 0.0, 'metrics.VAL.GEN.rewriter.AnswerRelevancyMetric': 0.0, 'metrics.VAL.RET.retriever_2.MAPAtKMetric': 0.0, 'metrics.VAL.RET.retriever_4.MAPAtKMetric': 0.0, 'metrics.VAL.RET.retriever_3.MAPAtKMetric': 0.0, 'metrics.VAL.RET.retriever_0.HaystackContextRelevanceMetric': 0.0, 'metrics.VAL.RET.retriever.HaystackContextRelevanceMetric': 0.0, 'metrics.VAL.RET.retriever.MAPAtKMetric': 0.0}\n"
     ]
    },
    {
     "name": "stderr",
     "output_type": "stream",
     "text": [
      "C:\\Users\\Besitzer\\AppData\\Local\\Temp\\ipykernel_16300\\158029723.py:10: FutureWarning: Downcasting behavior in `replace` is deprecated and will be removed in a future version. To retain the old behavior, explicitly call `result.infer_objects(copy=False)`. To opt-in to the future behavior, set `pd.set_option('future.no_silent_downcasting', True)`\n",
      "  run_metrics = run_metrics.replace(\"\", 0)\n"
     ]
    },
    {
     "name": "stdout",
     "output_type": "stream",
     "text": [
      "🏃 View run 30ce7e43e39a4ec5a3cb138b4e961e78 at: http://91.99.14.73:8080/#/experiments/525945623195643983/runs/c44f64db793443c3bfa273acdb61fcab\n",
      "🧪 View experiment at: http://91.99.14.73:8080/#/experiments/525945623195643983\n",
      "{'metrics.indexing_duration': 0.0464019775390625, 'metrics.VAL.SYS..memory_process_mean_mb': 0.0, 'metrics.VAL.E2E..MatthewsCorrCoefMetric': 0.0, 'metrics.VAL.SYS..cpu_process_min': 0.0, 'metrics.VAL.SYS..duration_seconds': 30228.837723, 'metrics.VAL.E2E..F1ScoreMetric': 0.0, 'metrics.VAL.RET.embedding_retriever.MAPAtKMetric': 0.0, 'metrics.VAL.E2E..FalsePositiveRateMetric': 0.0, 'metrics.VAL.RET.bm25_retriever.HaystackContextRelevanceMetric': 0.0, 'metrics.VAL.SYS..memory_process_max_mb': 0.0, 'metrics.VAL.GEN.llm.FormatValidatorMetric': 0.0, 'metrics.VAL.SYS..cpu_system_min': 0.0, 'metrics.VAL.SYS..cpu_process_max': 53.9, 'metrics.VAL.SYS..memory_system_percent_min': 0.0, 'metrics.VAL.E2E..PrecisionMetric': 0.0, 'metrics.VAL.SYS..memory_process_min_mb': 0.0, 'metrics.VAL.E2E..RecallMetric': 0.0, 'metrics.VAL.GEN.llm.AnswerRelevancyMetric': 0.0, 'metrics.VAL.E2E..FalseNegativeRateMetric': 1.0, 'metrics.VAL.SYS..memory_system_percent_mean': 0.0, 'metrics.VAL.E2E..AccuracyMetric': 0.5227586206896552, 'metrics.VAL.RET.embedding_retriever.HaystackContextRelevanceMetric': 0.0, 'metrics.VAL.SYS..memory_system_percent_max': 0.0, 'metrics.VAL.SYS..memory_system_used_max_mb': 0.0, 'metrics.VAL.SYS..memory_system_used_mean_mb': 0.0, 'metrics.VAL.SYS..cpu_system_mean': 13.319722346470519, 'metrics.VAL.SYS..cpu_process_mean': 1.361761343869589, 'metrics.VAL.GEN.llm.ContextUtilizationMetric': 0.0, 'metrics.VAL.RET.bm25_retriever.MAPAtKMetric': 0.0, 'metrics.VAL.SYS..cpu_system_max': 81.8, 'metrics.VAL.SYS..samples_count': 60363.0, 'metrics.VAL.SYS..memory_system_used_min_mb': 0.0, 'metrics.VAL.GEN.rewriter.ContextUtilizationMetric': 0.0, 'metrics.VAL.RET.retriever_2.HaystackContextRelevanceMetric': 0.0, 'metrics.VAL.RET.retriever_1.HaystackContextRelevanceMetric': 0.0, 'metrics.VAL.RET.retriever_4.HaystackContextRelevanceMetric': 0.0, 'metrics.VAL.RET.retriever_3.HaystackContextRelevanceMetric': 0.0, 'metrics.VAL.RET.retriever_1.MAPAtKMetric': 0.0, 'metrics.VAL.GEN.rewriter.FormatValidatorMetric': 0.0, 'metrics.VAL.RET.retriever_0.MAPAtKMetric': 0.0, 'metrics.VAL.GEN.rewriter.AnswerRelevancyMetric': 0.0, 'metrics.VAL.RET.retriever_2.MAPAtKMetric': 0.0, 'metrics.VAL.RET.retriever_4.MAPAtKMetric': 0.0, 'metrics.VAL.RET.retriever_3.MAPAtKMetric': 0.0, 'metrics.VAL.RET.retriever_0.HaystackContextRelevanceMetric': 0.0, 'metrics.VAL.RET.retriever.HaystackContextRelevanceMetric': 0.0, 'metrics.VAL.RET.retriever.MAPAtKMetric': 0.0}\n"
     ]
    },
    {
     "name": "stderr",
     "output_type": "stream",
     "text": [
      "C:\\Users\\Besitzer\\AppData\\Local\\Temp\\ipykernel_16300\\158029723.py:10: FutureWarning: Downcasting behavior in `replace` is deprecated and will be removed in a future version. To retain the old behavior, explicitly call `result.infer_objects(copy=False)`. To opt-in to the future behavior, set `pd.set_option('future.no_silent_downcasting', True)`\n",
      "  run_metrics = run_metrics.replace(\"\", 0)\n"
     ]
    },
    {
     "name": "stdout",
     "output_type": "stream",
     "text": [
      "🏃 View run 70028b7cd3054ec69b802bd46f7327b2 at: http://91.99.14.73:8080/#/experiments/525945623195643983/runs/e0cdd14882ef4da5874c4130dd952ef7\n",
      "🧪 View experiment at: http://91.99.14.73:8080/#/experiments/525945623195643983\n",
      "{'metrics.indexing_duration': 0.00029015541076660156, 'metrics.VAL.SYS..memory_process_mean_mb': 0.0, 'metrics.VAL.E2E..MatthewsCorrCoefMetric': 0.3014858521856199, 'metrics.VAL.SYS..cpu_process_min': 0.0, 'metrics.VAL.SYS..duration_seconds': 4235.719317, 'metrics.VAL.E2E..F1ScoreMetric': 0.692390139335477, 'metrics.VAL.RET.embedding_retriever.MAPAtKMetric': 0.0, 'metrics.VAL.E2E..FalsePositiveRateMetric': 0.6965699208443272, 'metrics.VAL.RET.bm25_retriever.HaystackContextRelevanceMetric': 0.0, 'metrics.VAL.SYS..memory_process_max_mb': 0.0, 'metrics.VAL.GEN.llm.FormatValidatorMetric': 1.0, 'metrics.VAL.SYS..cpu_system_min': 0.0, 'metrics.VAL.SYS..cpu_process_max': 25.9, 'metrics.VAL.SYS..memory_system_percent_min': 0.0, 'metrics.VAL.E2E..PrecisionMetric': 0.5502555366269165, 'metrics.VAL.SYS..memory_process_min_mb': 0.0, 'metrics.VAL.E2E..RecallMetric': 0.9335260115606936, 'metrics.VAL.GEN.llm.AnswerRelevancyMetric': 0.0, 'metrics.VAL.E2E..FalseNegativeRateMetric': 0.06647398843930635, 'metrics.VAL.SYS..memory_system_percent_mean': 0.0, 'metrics.VAL.E2E..AccuracyMetric': 0.6041379310344828, 'metrics.VAL.RET.embedding_retriever.HaystackContextRelevanceMetric': 0.0, 'metrics.VAL.SYS..memory_system_percent_max': 0.0, 'metrics.VAL.SYS..memory_system_used_max_mb': 0.0, 'metrics.VAL.SYS..memory_system_used_mean_mb': 0.0, 'metrics.VAL.SYS..cpu_system_mean': 14.751720061472987, 'metrics.VAL.SYS..cpu_process_mean': 1.4652914056034994, 'metrics.VAL.GEN.llm.ContextUtilizationMetric': 0.0, 'metrics.VAL.RET.bm25_retriever.MAPAtKMetric': 0.0, 'metrics.VAL.SYS..cpu_system_max': 81.0, 'metrics.VAL.SYS..samples_count': 8459.0, 'metrics.VAL.SYS..memory_system_used_min_mb': 0.0, 'metrics.VAL.GEN.rewriter.ContextUtilizationMetric': 0.0, 'metrics.VAL.RET.retriever_2.HaystackContextRelevanceMetric': 0.0, 'metrics.VAL.RET.retriever_1.HaystackContextRelevanceMetric': 0.0, 'metrics.VAL.RET.retriever_4.HaystackContextRelevanceMetric': 0.0, 'metrics.VAL.RET.retriever_3.HaystackContextRelevanceMetric': 0.0, 'metrics.VAL.RET.retriever_1.MAPAtKMetric': 0.0, 'metrics.VAL.GEN.rewriter.FormatValidatorMetric': 0.0, 'metrics.VAL.RET.retriever_0.MAPAtKMetric': 0.0, 'metrics.VAL.GEN.rewriter.AnswerRelevancyMetric': 0.0, 'metrics.VAL.RET.retriever_2.MAPAtKMetric': 0.0, 'metrics.VAL.RET.retriever_4.MAPAtKMetric': 0.0, 'metrics.VAL.RET.retriever_3.MAPAtKMetric': 0.0, 'metrics.VAL.RET.retriever_0.HaystackContextRelevanceMetric': 0.0, 'metrics.VAL.RET.retriever.HaystackContextRelevanceMetric': 0.0, 'metrics.VAL.RET.retriever.MAPAtKMetric': 0.0}\n"
     ]
    },
    {
     "name": "stderr",
     "output_type": "stream",
     "text": [
      "C:\\Users\\Besitzer\\AppData\\Local\\Temp\\ipykernel_16300\\158029723.py:10: FutureWarning: Downcasting behavior in `replace` is deprecated and will be removed in a future version. To retain the old behavior, explicitly call `result.infer_objects(copy=False)`. To opt-in to the future behavior, set `pd.set_option('future.no_silent_downcasting', True)`\n",
      "  run_metrics = run_metrics.replace(\"\", 0)\n"
     ]
    },
    {
     "name": "stdout",
     "output_type": "stream",
     "text": [
      "🏃 View run 85818a4d847d42a38701d4c20d20f849 at: http://91.99.14.73:8080/#/experiments/525945623195643983/runs/cfceb4ffc60b4ac2acda81f1ec11bebe\n",
      "🧪 View experiment at: http://91.99.14.73:8080/#/experiments/525945623195643983\n",
      "{'metrics.indexing_duration': 0.0, 'metrics.VAL.SYS..memory_process_mean_mb': 0.0, 'metrics.VAL.E2E..MatthewsCorrCoefMetric': 0.34106615151206005, 'metrics.VAL.SYS..cpu_process_min': 0.0, 'metrics.VAL.SYS..duration_seconds': 3192.668147, 'metrics.VAL.E2E..F1ScoreMetric': 0.7002341920374707, 'metrics.VAL.RET.embedding_retriever.MAPAtKMetric': 0.0, 'metrics.VAL.E2E..FalsePositiveRateMetric': 0.5514511873350924, 'metrics.VAL.RET.bm25_retriever.HaystackContextRelevanceMetric': 0.0, 'metrics.VAL.SYS..memory_process_max_mb': 0.0, 'metrics.VAL.GEN.llm.FormatValidatorMetric': 0.9986206896551724, 'metrics.VAL.SYS..cpu_system_min': 0.0, 'metrics.VAL.SYS..cpu_process_max': 22.0, 'metrics.VAL.SYS..memory_system_percent_min': 0.0, 'metrics.VAL.E2E..PrecisionMetric': 0.5885826771653543, 'metrics.VAL.SYS..memory_process_min_mb': 0.0, 'metrics.VAL.E2E..RecallMetric': 0.8641618497109826, 'metrics.VAL.GEN.llm.AnswerRelevancyMetric': 0.0, 'metrics.VAL.E2E..FalseNegativeRateMetric': 0.13583815028901733, 'metrics.VAL.SYS..memory_system_percent_mean': 0.0, 'metrics.VAL.E2E..AccuracyMetric': 0.646896551724138, 'metrics.VAL.RET.embedding_retriever.HaystackContextRelevanceMetric': 0.0, 'metrics.VAL.SYS..memory_system_percent_max': 0.0, 'metrics.VAL.SYS..memory_system_used_max_mb': 0.0, 'metrics.VAL.SYS..memory_system_used_mean_mb': 0.0, 'metrics.VAL.SYS..cpu_system_mean': 15.81314303638645, 'metrics.VAL.SYS..cpu_process_mean': 1.4103356336260977, 'metrics.VAL.GEN.llm.ContextUtilizationMetric': 0.0, 'metrics.VAL.RET.bm25_retriever.MAPAtKMetric': 0.0, 'metrics.VAL.SYS..cpu_system_max': 80.8, 'metrics.VAL.SYS..samples_count': 6376.0, 'metrics.VAL.SYS..memory_system_used_min_mb': 0.0, 'metrics.VAL.GEN.rewriter.ContextUtilizationMetric': 0.0, 'metrics.VAL.RET.retriever_2.HaystackContextRelevanceMetric': 0.0, 'metrics.VAL.RET.retriever_1.HaystackContextRelevanceMetric': 0.0, 'metrics.VAL.RET.retriever_4.HaystackContextRelevanceMetric': 0.0, 'metrics.VAL.RET.retriever_3.HaystackContextRelevanceMetric': 0.0, 'metrics.VAL.RET.retriever_1.MAPAtKMetric': 0.0, 'metrics.VAL.GEN.rewriter.FormatValidatorMetric': 0.0, 'metrics.VAL.RET.retriever_0.MAPAtKMetric': 0.0, 'metrics.VAL.GEN.rewriter.AnswerRelevancyMetric': 0.0, 'metrics.VAL.RET.retriever_2.MAPAtKMetric': 0.0, 'metrics.VAL.RET.retriever_4.MAPAtKMetric': 0.0, 'metrics.VAL.RET.retriever_3.MAPAtKMetric': 0.0, 'metrics.VAL.RET.retriever_0.HaystackContextRelevanceMetric': 0.0, 'metrics.VAL.RET.retriever.HaystackContextRelevanceMetric': 0.0, 'metrics.VAL.RET.retriever.MAPAtKMetric': 0.0}\n"
     ]
    },
    {
     "name": "stderr",
     "output_type": "stream",
     "text": [
      "C:\\Users\\Besitzer\\AppData\\Local\\Temp\\ipykernel_16300\\158029723.py:10: FutureWarning: Downcasting behavior in `replace` is deprecated and will be removed in a future version. To retain the old behavior, explicitly call `result.infer_objects(copy=False)`. To opt-in to the future behavior, set `pd.set_option('future.no_silent_downcasting', True)`\n",
      "  run_metrics = run_metrics.replace(\"\", 0)\n"
     ]
    },
    {
     "name": "stdout",
     "output_type": "stream",
     "text": [
      "🏃 View run 4a2d3bd7e1124ec786285bf6294b7c3b at: http://91.99.14.73:8080/#/experiments/525945623195643983/runs/0b7dd2e0682d4ee5a8bbc857d556ca71\n",
      "🧪 View experiment at: http://91.99.14.73:8080/#/experiments/525945623195643983\n",
      "{'metrics.indexing_duration': 3668.3029539585114, 'metrics.VAL.SYS..memory_process_mean_mb': 0.0, 'metrics.VAL.E2E..MatthewsCorrCoefMetric': 0.0, 'metrics.VAL.SYS..cpu_process_min': 0.0, 'metrics.VAL.SYS..duration_seconds': 53652.892273, 'metrics.VAL.E2E..F1ScoreMetric': 0.0, 'metrics.VAL.RET.embedding_retriever.MAPAtKMetric': 0.0, 'metrics.VAL.E2E..FalsePositiveRateMetric': 0.0, 'metrics.VAL.RET.bm25_retriever.HaystackContextRelevanceMetric': 0.0, 'metrics.VAL.SYS..memory_process_max_mb': 0.0, 'metrics.VAL.GEN.llm.FormatValidatorMetric': 0.0, 'metrics.VAL.SYS..cpu_system_min': 0.0, 'metrics.VAL.SYS..cpu_process_max': 1110.5, 'metrics.VAL.SYS..memory_system_percent_min': 0.0, 'metrics.VAL.E2E..PrecisionMetric': 0.0, 'metrics.VAL.SYS..memory_process_min_mb': 0.0, 'metrics.VAL.E2E..RecallMetric': 0.0, 'metrics.VAL.GEN.llm.AnswerRelevancyMetric': 0.0, 'metrics.VAL.E2E..FalseNegativeRateMetric': 1.0, 'metrics.VAL.SYS..memory_system_percent_mean': 0.0, 'metrics.VAL.E2E..AccuracyMetric': 0.5227586206896552, 'metrics.VAL.RET.embedding_retriever.HaystackContextRelevanceMetric': 0.0, 'metrics.VAL.SYS..memory_system_percent_max': 0.0, 'metrics.VAL.SYS..memory_system_used_max_mb': 0.0, 'metrics.VAL.SYS..memory_system_used_mean_mb': 0.0, 'metrics.VAL.SYS..cpu_system_mean': 15.369813253265612, 'metrics.VAL.SYS..cpu_process_mean': 10.974211833373086, 'metrics.VAL.GEN.llm.ContextUtilizationMetric': 0.0, 'metrics.VAL.RET.bm25_retriever.MAPAtKMetric': 0.0, 'metrics.VAL.SYS..cpu_system_max': 81.1, 'metrics.VAL.SYS..samples_count': 71273.0, 'metrics.VAL.SYS..memory_system_used_min_mb': 0.0, 'metrics.VAL.GEN.rewriter.ContextUtilizationMetric': 0.0, 'metrics.VAL.RET.retriever_2.HaystackContextRelevanceMetric': 0.2620689655172414, 'metrics.VAL.RET.retriever_1.HaystackContextRelevanceMetric': 0.2413793103448276, 'metrics.VAL.RET.retriever_4.HaystackContextRelevanceMetric': 0.2717241379310345, 'metrics.VAL.RET.retriever_3.HaystackContextRelevanceMetric': 0.25517241379310346, 'metrics.VAL.RET.retriever_1.MAPAtKMetric': 0.07724137931034483, 'metrics.VAL.GEN.rewriter.FormatValidatorMetric': 0.0, 'metrics.VAL.RET.retriever_0.MAPAtKMetric': 0.07310344827586207, 'metrics.VAL.GEN.rewriter.AnswerRelevancyMetric': 0.0, 'metrics.VAL.RET.retriever_2.MAPAtKMetric': 0.0703448275862069, 'metrics.VAL.RET.retriever_4.MAPAtKMetric': 0.09172413793103448, 'metrics.VAL.RET.retriever_3.MAPAtKMetric': 0.08413793103448276, 'metrics.VAL.RET.retriever_0.HaystackContextRelevanceMetric': 0.24275862068965517, 'metrics.VAL.RET.retriever.HaystackContextRelevanceMetric': 0.0, 'metrics.VAL.RET.retriever.MAPAtKMetric': 0.0}\n"
     ]
    },
    {
     "name": "stderr",
     "output_type": "stream",
     "text": [
      "C:\\Users\\Besitzer\\AppData\\Local\\Temp\\ipykernel_16300\\158029723.py:10: FutureWarning: Downcasting behavior in `replace` is deprecated and will be removed in a future version. To retain the old behavior, explicitly call `result.infer_objects(copy=False)`. To opt-in to the future behavior, set `pd.set_option('future.no_silent_downcasting', True)`\n",
      "  run_metrics = run_metrics.replace(\"\", 0)\n"
     ]
    },
    {
     "name": "stdout",
     "output_type": "stream",
     "text": [
      "🏃 View run 04a7144838064d4cb5d621dc85ec675c at: http://91.99.14.73:8080/#/experiments/525945623195643983/runs/ac1faa67f2a542a6b392b06d0555273b\n",
      "🧪 View experiment at: http://91.99.14.73:8080/#/experiments/525945623195643983\n",
      "{'metrics.indexing_duration': 107.44189143180847, 'metrics.VAL.SYS..memory_process_mean_mb': 0.0, 'metrics.VAL.E2E..MatthewsCorrCoefMetric': 0.20931906772013165, 'metrics.VAL.SYS..cpu_process_min': 0.0, 'metrics.VAL.SYS..duration_seconds': 9042.505847, 'metrics.VAL.E2E..F1ScoreMetric': 0.5595054095826894, 'metrics.VAL.RET.embedding_retriever.MAPAtKMetric': 0.0, 'metrics.VAL.E2E..FalsePositiveRateMetric': 0.316622691292876, 'metrics.VAL.RET.bm25_retriever.HaystackContextRelevanceMetric': 0.0, 'metrics.VAL.SYS..memory_process_max_mb': 0.0, 'metrics.VAL.GEN.llm.FormatValidatorMetric': 0.9986206896551724, 'metrics.VAL.SYS..cpu_system_min': 0.0, 'metrics.VAL.SYS..cpu_process_max': 179.3, 'metrics.VAL.SYS..memory_system_percent_min': 0.0, 'metrics.VAL.E2E..PrecisionMetric': 0.6013289036544851, 'metrics.VAL.SYS..memory_process_min_mb': 0.0, 'metrics.VAL.E2E..RecallMetric': 0.523121387283237, 'metrics.VAL.GEN.llm.AnswerRelevancyMetric': 0.8362758620689654, 'metrics.VAL.E2E..FalseNegativeRateMetric': 0.476878612716763, 'metrics.VAL.SYS..memory_system_percent_mean': 0.0, 'metrics.VAL.E2E..AccuracyMetric': 0.6068965517241379, 'metrics.VAL.RET.embedding_retriever.HaystackContextRelevanceMetric': 0.0, 'metrics.VAL.SYS..memory_system_percent_max': 0.0, 'metrics.VAL.SYS..memory_system_used_max_mb': 0.0, 'metrics.VAL.SYS..memory_system_used_mean_mb': 0.0, 'metrics.VAL.SYS..cpu_system_mean': 6.128624535315985, 'metrics.VAL.SYS..cpu_process_mean': 24.116105233056906, 'metrics.VAL.GEN.llm.ContextUtilizationMetric': 0.5926896551724138, 'metrics.VAL.RET.bm25_retriever.MAPAtKMetric': 0.0, 'metrics.VAL.SYS..cpu_system_max': 26.6, 'metrics.VAL.SYS..samples_count': 17485.0, 'metrics.VAL.SYS..memory_system_used_min_mb': 0.0, 'metrics.VAL.GEN.rewriter.ContextUtilizationMetric': 0.0, 'metrics.VAL.RET.retriever_2.HaystackContextRelevanceMetric': 0.0, 'metrics.VAL.RET.retriever_1.HaystackContextRelevanceMetric': 0.0, 'metrics.VAL.RET.retriever_4.HaystackContextRelevanceMetric': 0.0, 'metrics.VAL.RET.retriever_3.HaystackContextRelevanceMetric': 0.0, 'metrics.VAL.RET.retriever_1.MAPAtKMetric': 0.0, 'metrics.VAL.GEN.rewriter.FormatValidatorMetric': 0.0, 'metrics.VAL.RET.retriever_0.MAPAtKMetric': 0.0, 'metrics.VAL.GEN.rewriter.AnswerRelevancyMetric': 0.0, 'metrics.VAL.RET.retriever_2.MAPAtKMetric': 0.0, 'metrics.VAL.RET.retriever_4.MAPAtKMetric': 0.0, 'metrics.VAL.RET.retriever_3.MAPAtKMetric': 0.0, 'metrics.VAL.RET.retriever_0.HaystackContextRelevanceMetric': 0.0, 'metrics.VAL.RET.retriever.HaystackContextRelevanceMetric': 0.42344827586206896, 'metrics.VAL.RET.retriever.MAPAtKMetric': 0.0986072796934866}\n"
     ]
    },
    {
     "name": "stderr",
     "output_type": "stream",
     "text": [
      "C:\\Users\\Besitzer\\AppData\\Local\\Temp\\ipykernel_16300\\158029723.py:10: FutureWarning: Downcasting behavior in `replace` is deprecated and will be removed in a future version. To retain the old behavior, explicitly call `result.infer_objects(copy=False)`. To opt-in to the future behavior, set `pd.set_option('future.no_silent_downcasting', True)`\n",
      "  run_metrics = run_metrics.replace(\"\", 0)\n"
     ]
    },
    {
     "name": "stdout",
     "output_type": "stream",
     "text": [
      "🏃 View run 414d52e2f6d843b6ac60a2b6221e2a38 at: http://91.99.14.73:8080/#/experiments/525945623195643983/runs/dd21b0759afb47138f5d0545a30d204e\n",
      "🧪 View experiment at: http://91.99.14.73:8080/#/experiments/525945623195643983\n",
      "{'metrics.indexing_duration': 117.2364010810852, 'metrics.VAL.SYS..memory_process_mean_mb': 0.0, 'metrics.VAL.E2E..MatthewsCorrCoefMetric': 0.2344840133449071, 'metrics.VAL.SYS..cpu_process_min': 0.0, 'metrics.VAL.SYS..duration_seconds': 8296.90988, 'metrics.VAL.E2E..F1ScoreMetric': 0.567398119122257, 'metrics.VAL.RET.embedding_retriever.MAPAtKMetric': 0.0, 'metrics.VAL.E2E..FalsePositiveRateMetric': 0.2928759894459103, 'metrics.VAL.RET.bm25_retriever.HaystackContextRelevanceMetric': 0.0, 'metrics.VAL.SYS..memory_process_max_mb': 0.0, 'metrics.VAL.GEN.llm.FormatValidatorMetric': 0.9972413793103448, 'metrics.VAL.SYS..cpu_system_min': 0.0, 'metrics.VAL.SYS..cpu_process_max': 190.2, 'metrics.VAL.SYS..memory_system_percent_min': 0.0, 'metrics.VAL.E2E..PrecisionMetric': 0.6198630136986302, 'metrics.VAL.SYS..memory_process_min_mb': 0.0, 'metrics.VAL.E2E..RecallMetric': 0.523121387283237, 'metrics.VAL.GEN.llm.AnswerRelevancyMetric': 0.0, 'metrics.VAL.E2E..FalseNegativeRateMetric': 0.476878612716763, 'metrics.VAL.SYS..memory_system_percent_mean': 0.0, 'metrics.VAL.E2E..AccuracyMetric': 0.6193103448275862, 'metrics.VAL.RET.embedding_retriever.HaystackContextRelevanceMetric': 0.0, 'metrics.VAL.SYS..memory_system_percent_max': 0.0, 'metrics.VAL.SYS..memory_system_used_max_mb': 0.0, 'metrics.VAL.SYS..memory_system_used_mean_mb': 0.0, 'metrics.VAL.SYS..cpu_system_mean': 21.590318956369764, 'metrics.VAL.SYS..cpu_process_mean': 28.783041008676115, 'metrics.VAL.GEN.llm.ContextUtilizationMetric': 0.0, 'metrics.VAL.RET.bm25_retriever.MAPAtKMetric': 0.0, 'metrics.VAL.SYS..cpu_system_max': 95.6, 'metrics.VAL.SYS..samples_count': 16021.0, 'metrics.VAL.SYS..memory_system_used_min_mb': 0.0, 'metrics.VAL.GEN.rewriter.ContextUtilizationMetric': 0.0, 'metrics.VAL.RET.retriever_2.HaystackContextRelevanceMetric': 0.0, 'metrics.VAL.RET.retriever_1.HaystackContextRelevanceMetric': 0.0, 'metrics.VAL.RET.retriever_4.HaystackContextRelevanceMetric': 0.0, 'metrics.VAL.RET.retriever_3.HaystackContextRelevanceMetric': 0.0, 'metrics.VAL.RET.retriever_1.MAPAtKMetric': 0.0, 'metrics.VAL.GEN.rewriter.FormatValidatorMetric': 0.0, 'metrics.VAL.RET.retriever_0.MAPAtKMetric': 0.0, 'metrics.VAL.GEN.rewriter.AnswerRelevancyMetric': 0.0, 'metrics.VAL.RET.retriever_2.MAPAtKMetric': 0.0, 'metrics.VAL.RET.retriever_4.MAPAtKMetric': 0.0, 'metrics.VAL.RET.retriever_3.MAPAtKMetric': 0.0, 'metrics.VAL.RET.retriever_0.HaystackContextRelevanceMetric': 0.0, 'metrics.VAL.RET.retriever.HaystackContextRelevanceMetric': 0.4317241379310345, 'metrics.VAL.RET.retriever.MAPAtKMetric': 0.091411877394636}\n"
     ]
    },
    {
     "name": "stderr",
     "output_type": "stream",
     "text": [
      "C:\\Users\\Besitzer\\AppData\\Local\\Temp\\ipykernel_16300\\158029723.py:10: FutureWarning: Downcasting behavior in `replace` is deprecated and will be removed in a future version. To retain the old behavior, explicitly call `result.infer_objects(copy=False)`. To opt-in to the future behavior, set `pd.set_option('future.no_silent_downcasting', True)`\n",
      "  run_metrics = run_metrics.replace(\"\", 0)\n"
     ]
    },
    {
     "name": "stdout",
     "output_type": "stream",
     "text": [
      "🏃 View run f465aba5af2649ad942346d33ae55ca6 at: http://91.99.14.73:8080/#/experiments/525945623195643983/runs/276bc3ed57b44d498b07aee537adb35a\n",
      "🧪 View experiment at: http://91.99.14.73:8080/#/experiments/525945623195643983\n",
      "{'metrics.indexing_duration': 0.0, 'metrics.VAL.SYS..memory_process_mean_mb': 0.0, 'metrics.VAL.E2E..MatthewsCorrCoefMetric': 0.2665138016319824, 'metrics.VAL.SYS..cpu_process_min': 0.0, 'metrics.VAL.SYS..duration_seconds': 3044.912593, 'metrics.VAL.E2E..F1ScoreMetric': 0.6690391459074733, 'metrics.VAL.RET.embedding_retriever.MAPAtKMetric': 0.0, 'metrics.VAL.E2E..FalsePositiveRateMetric': 0.5672823218997362, 'metrics.VAL.RET.bm25_retriever.HaystackContextRelevanceMetric': 0.0, 'metrics.VAL.SYS..memory_process_max_mb': 0.0, 'metrics.VAL.GEN.llm.FormatValidatorMetric': 0.9903448275862069, 'metrics.VAL.SYS..cpu_system_min': 0.0, 'metrics.VAL.SYS..cpu_process_max': 22.0, 'metrics.VAL.SYS..memory_system_percent_min': 0.0, 'metrics.VAL.E2E..PrecisionMetric': 0.5674044265593562, 'metrics.VAL.SYS..memory_process_min_mb': 0.0, 'metrics.VAL.E2E..RecallMetric': 0.815028901734104, 'metrics.VAL.GEN.llm.AnswerRelevancyMetric': 0.0, 'metrics.VAL.E2E..FalseNegativeRateMetric': 0.18497109826589594, 'metrics.VAL.SYS..memory_system_percent_mean': 0.0, 'metrics.VAL.E2E..AccuracyMetric': 0.6151724137931035, 'metrics.VAL.RET.embedding_retriever.HaystackContextRelevanceMetric': 0.0, 'metrics.VAL.SYS..memory_system_percent_max': 0.0, 'metrics.VAL.SYS..memory_system_used_max_mb': 0.0, 'metrics.VAL.SYS..memory_system_used_mean_mb': 0.0, 'metrics.VAL.SYS..cpu_system_mean': 19.250419338924516, 'metrics.VAL.SYS..cpu_process_mean': 1.4410623252754482, 'metrics.VAL.GEN.llm.ContextUtilizationMetric': 0.0, 'metrics.VAL.RET.bm25_retriever.MAPAtKMetric': 0.0, 'metrics.VAL.SYS..cpu_system_max': 84.3, 'metrics.VAL.SYS..samples_count': 6081.0, 'metrics.VAL.SYS..memory_system_used_min_mb': 0.0, 'metrics.VAL.GEN.rewriter.ContextUtilizationMetric': 0.0, 'metrics.VAL.RET.retriever_2.HaystackContextRelevanceMetric': 0.0, 'metrics.VAL.RET.retriever_1.HaystackContextRelevanceMetric': 0.0, 'metrics.VAL.RET.retriever_4.HaystackContextRelevanceMetric': 0.0, 'metrics.VAL.RET.retriever_3.HaystackContextRelevanceMetric': 0.0, 'metrics.VAL.RET.retriever_1.MAPAtKMetric': 0.0, 'metrics.VAL.GEN.rewriter.FormatValidatorMetric': 0.0, 'metrics.VAL.RET.retriever_0.MAPAtKMetric': 0.0, 'metrics.VAL.GEN.rewriter.AnswerRelevancyMetric': 0.0, 'metrics.VAL.RET.retriever_2.MAPAtKMetric': 0.0, 'metrics.VAL.RET.retriever_4.MAPAtKMetric': 0.0, 'metrics.VAL.RET.retriever_3.MAPAtKMetric': 0.0, 'metrics.VAL.RET.retriever_0.HaystackContextRelevanceMetric': 0.0, 'metrics.VAL.RET.retriever.HaystackContextRelevanceMetric': 0.0, 'metrics.VAL.RET.retriever.MAPAtKMetric': 0.0}\n"
     ]
    },
    {
     "name": "stderr",
     "output_type": "stream",
     "text": [
      "C:\\Users\\Besitzer\\AppData\\Local\\Temp\\ipykernel_16300\\158029723.py:10: FutureWarning: Downcasting behavior in `replace` is deprecated and will be removed in a future version. To retain the old behavior, explicitly call `result.infer_objects(copy=False)`. To opt-in to the future behavior, set `pd.set_option('future.no_silent_downcasting', True)`\n",
      "  run_metrics = run_metrics.replace(\"\", 0)\n"
     ]
    },
    {
     "name": "stdout",
     "output_type": "stream",
     "text": [
      "🏃 View run 9dd37a377b594a1da7e020cc788a464f at: http://91.99.14.73:8080/#/experiments/525945623195643983/runs/856b2002173b441f98de66f39aab0986\n",
      "🧪 View experiment at: http://91.99.14.73:8080/#/experiments/525945623195643983\n",
      "{'metrics.indexing_duration': 0.0, 'metrics.VAL.SYS..memory_process_mean_mb': 0.0, 'metrics.VAL.E2E..MatthewsCorrCoefMetric': 0.28718878618732174, 'metrics.VAL.SYS..cpu_process_min': 0.0, 'metrics.VAL.SYS..duration_seconds': 3574.552022, 'metrics.VAL.E2E..F1ScoreMetric': 0.6812933025404158, 'metrics.VAL.RET.embedding_retriever.MAPAtKMetric': 0.0, 'metrics.VAL.E2E..FalsePositiveRateMetric': 0.5936675461741425, 'metrics.VAL.RET.bm25_retriever.HaystackContextRelevanceMetric': 0.0, 'metrics.VAL.SYS..memory_process_max_mb': 0.0, 'metrics.VAL.GEN.llm.FormatValidatorMetric': 0.9958620689655172, 'metrics.VAL.SYS..cpu_system_min': 0.0, 'metrics.VAL.SYS..cpu_process_max': 30.0, 'metrics.VAL.SYS..memory_system_percent_min': 0.0, 'metrics.VAL.E2E..PrecisionMetric': 0.5673076923076923, 'metrics.VAL.SYS..memory_process_min_mb': 0.0, 'metrics.VAL.E2E..RecallMetric': 0.8526011560693642, 'metrics.VAL.GEN.llm.AnswerRelevancyMetric': 0.8820689655172413, 'metrics.VAL.E2E..FalseNegativeRateMetric': 0.14739884393063585, 'metrics.VAL.SYS..memory_system_percent_mean': 0.0, 'metrics.VAL.E2E..AccuracyMetric': 0.6193103448275862, 'metrics.VAL.RET.embedding_retriever.HaystackContextRelevanceMetric': 0.0, 'metrics.VAL.SYS..memory_system_percent_max': 0.0, 'metrics.VAL.SYS..memory_system_used_max_mb': 0.0, 'metrics.VAL.SYS..memory_system_used_mean_mb': 0.0, 'metrics.VAL.SYS..cpu_system_mean': 0.402773886242645, 'metrics.VAL.SYS..cpu_process_mean': 1.2338330064443823, 'metrics.VAL.GEN.llm.ContextUtilizationMetric': 0.0, 'metrics.VAL.RET.bm25_retriever.MAPAtKMetric': 0.0, 'metrics.VAL.SYS..cpu_system_max': 6.5, 'metrics.VAL.SYS..samples_count': 7138.0, 'metrics.VAL.SYS..memory_system_used_min_mb': 0.0, 'metrics.VAL.GEN.rewriter.ContextUtilizationMetric': 0.0, 'metrics.VAL.RET.retriever_2.HaystackContextRelevanceMetric': 0.0, 'metrics.VAL.RET.retriever_1.HaystackContextRelevanceMetric': 0.0, 'metrics.VAL.RET.retriever_4.HaystackContextRelevanceMetric': 0.0, 'metrics.VAL.RET.retriever_3.HaystackContextRelevanceMetric': 0.0, 'metrics.VAL.RET.retriever_1.MAPAtKMetric': 0.0, 'metrics.VAL.GEN.rewriter.FormatValidatorMetric': 0.0, 'metrics.VAL.RET.retriever_0.MAPAtKMetric': 0.0, 'metrics.VAL.GEN.rewriter.AnswerRelevancyMetric': 0.0, 'metrics.VAL.RET.retriever_2.MAPAtKMetric': 0.0, 'metrics.VAL.RET.retriever_4.MAPAtKMetric': 0.0, 'metrics.VAL.RET.retriever_3.MAPAtKMetric': 0.0, 'metrics.VAL.RET.retriever_0.HaystackContextRelevanceMetric': 0.0, 'metrics.VAL.RET.retriever.HaystackContextRelevanceMetric': 0.0, 'metrics.VAL.RET.retriever.MAPAtKMetric': 0.0}\n"
     ]
    },
    {
     "name": "stderr",
     "output_type": "stream",
     "text": [
      "C:\\Users\\Besitzer\\AppData\\Local\\Temp\\ipykernel_16300\\158029723.py:10: FutureWarning: Downcasting behavior in `replace` is deprecated and will be removed in a future version. To retain the old behavior, explicitly call `result.infer_objects(copy=False)`. To opt-in to the future behavior, set `pd.set_option('future.no_silent_downcasting', True)`\n",
      "  run_metrics = run_metrics.replace(\"\", 0)\n"
     ]
    },
    {
     "name": "stdout",
     "output_type": "stream",
     "text": [
      "🏃 View run 7875a8010ea44e5ebf4a4c26302c2991 at: http://91.99.14.73:8080/#/experiments/525945623195643983/runs/001aa06dafa847818100128b31791e0d\n",
      "🧪 View experiment at: http://91.99.14.73:8080/#/experiments/525945623195643983\n",
      "{'metrics.indexing_duration': 118.04146361351013, 'metrics.VAL.SYS..memory_process_mean_mb': 0.0, 'metrics.VAL.E2E..MatthewsCorrCoefMetric': 0.2319218248003705, 'metrics.VAL.SYS..cpu_process_min': 0.0, 'metrics.VAL.SYS..duration_seconds': 8727.623093, 'metrics.VAL.E2E..F1ScoreMetric': 0.5770992366412214, 'metrics.VAL.RET.embedding_retriever.MAPAtKMetric': 0.0, 'metrics.VAL.E2E..FalsePositiveRateMetric': 0.316622691292876, 'metrics.VAL.RET.bm25_retriever.HaystackContextRelevanceMetric': 0.0, 'metrics.VAL.SYS..memory_process_max_mb': 0.0, 'metrics.VAL.GEN.llm.FormatValidatorMetric': 0.9986206896551724, 'metrics.VAL.SYS..cpu_system_min': 0.0, 'metrics.VAL.SYS..cpu_process_max': 178.6, 'metrics.VAL.SYS..memory_system_percent_min': 0.0, 'metrics.VAL.E2E..PrecisionMetric': 0.6116504854368932, 'metrics.VAL.SYS..memory_process_min_mb': 0.0, 'metrics.VAL.E2E..RecallMetric': 0.546242774566474, 'metrics.VAL.GEN.llm.AnswerRelevancyMetric': 0.0, 'metrics.VAL.E2E..FalseNegativeRateMetric': 0.45375722543352603, 'metrics.VAL.SYS..memory_system_percent_mean': 0.0, 'metrics.VAL.E2E..AccuracyMetric': 0.6179310344827587, 'metrics.VAL.RET.embedding_retriever.HaystackContextRelevanceMetric': 0.0, 'metrics.VAL.SYS..memory_system_percent_max': 0.0, 'metrics.VAL.SYS..memory_system_used_max_mb': 0.0, 'metrics.VAL.SYS..memory_system_used_mean_mb': 0.0, 'metrics.VAL.SYS..cpu_system_mean': 19.939978715856686, 'metrics.VAL.SYS..cpu_process_mean': 27.268452169800167, 'metrics.VAL.GEN.llm.ContextUtilizationMetric': 0.0, 'metrics.VAL.RET.bm25_retriever.MAPAtKMetric': 0.0, 'metrics.VAL.SYS..cpu_system_max': 94.6, 'metrics.VAL.SYS..samples_count': 16914.0, 'metrics.VAL.SYS..memory_system_used_min_mb': 0.0, 'metrics.VAL.GEN.rewriter.ContextUtilizationMetric': 0.0, 'metrics.VAL.RET.retriever_2.HaystackContextRelevanceMetric': 0.0, 'metrics.VAL.RET.retriever_1.HaystackContextRelevanceMetric': 0.0, 'metrics.VAL.RET.retriever_4.HaystackContextRelevanceMetric': 0.0, 'metrics.VAL.RET.retriever_3.HaystackContextRelevanceMetric': 0.0, 'metrics.VAL.RET.retriever_1.MAPAtKMetric': 0.0, 'metrics.VAL.GEN.rewriter.FormatValidatorMetric': 0.0, 'metrics.VAL.RET.retriever_0.MAPAtKMetric': 0.0, 'metrics.VAL.GEN.rewriter.AnswerRelevancyMetric': 0.0, 'metrics.VAL.RET.retriever_2.MAPAtKMetric': 0.0, 'metrics.VAL.RET.retriever_4.MAPAtKMetric': 0.0, 'metrics.VAL.RET.retriever_3.MAPAtKMetric': 0.0, 'metrics.VAL.RET.retriever_0.HaystackContextRelevanceMetric': 0.0, 'metrics.VAL.RET.retriever.HaystackContextRelevanceMetric': 0.42482758620689653, 'metrics.VAL.RET.retriever.MAPAtKMetric': 0.09699808429118775}\n"
     ]
    },
    {
     "name": "stderr",
     "output_type": "stream",
     "text": [
      "C:\\Users\\Besitzer\\AppData\\Local\\Temp\\ipykernel_16300\\158029723.py:10: FutureWarning: Downcasting behavior in `replace` is deprecated and will be removed in a future version. To retain the old behavior, explicitly call `result.infer_objects(copy=False)`. To opt-in to the future behavior, set `pd.set_option('future.no_silent_downcasting', True)`\n",
      "  run_metrics = run_metrics.replace(\"\", 0)\n"
     ]
    },
    {
     "name": "stdout",
     "output_type": "stream",
     "text": [
      "🏃 View run ea995b93cfbd4773984d4f21a1b7cbec at: http://91.99.14.73:8080/#/experiments/525945623195643983/runs/427afe27b1bf4b8fb5e3b5a9d9b2ad3f\n",
      "🧪 View experiment at: http://91.99.14.73:8080/#/experiments/525945623195643983\n",
      "{'metrics.indexing_duration': 107.77113127708435, 'metrics.VAL.SYS..memory_process_mean_mb': 0.0, 'metrics.VAL.E2E..MatthewsCorrCoefMetric': 0.21770362091427858, 'metrics.VAL.SYS..cpu_process_min': 0.0, 'metrics.VAL.SYS..duration_seconds': 9722.987132, 'metrics.VAL.E2E..F1ScoreMetric': 0.5634674922600619, 'metrics.VAL.RET.embedding_retriever.MAPAtKMetric': 0.0, 'metrics.VAL.E2E..FalsePositiveRateMetric': 0.3113456464379947, 'metrics.VAL.RET.bm25_retriever.HaystackContextRelevanceMetric': 0.0, 'metrics.VAL.SYS..memory_process_max_mb': 0.0, 'metrics.VAL.GEN.llm.FormatValidatorMetric': 0.9986206896551724, 'metrics.VAL.SYS..cpu_system_min': 0.0, 'metrics.VAL.SYS..cpu_process_max': 182.9, 'metrics.VAL.SYS..memory_system_percent_min': 0.0, 'metrics.VAL.E2E..PrecisionMetric': 0.6066666666666667, 'metrics.VAL.SYS..memory_process_min_mb': 0.0, 'metrics.VAL.E2E..RecallMetric': 0.5260115606936416, 'metrics.VAL.GEN.llm.AnswerRelevancyMetric': 0.8227586206896552, 'metrics.VAL.E2E..FalseNegativeRateMetric': 0.47398843930635837, 'metrics.VAL.SYS..memory_system_percent_mean': 0.0, 'metrics.VAL.E2E..AccuracyMetric': 0.6110344827586207, 'metrics.VAL.RET.embedding_retriever.HaystackContextRelevanceMetric': 0.0, 'metrics.VAL.SYS..memory_system_percent_max': 0.0, 'metrics.VAL.SYS..memory_system_used_max_mb': 0.0, 'metrics.VAL.SYS..memory_system_used_mean_mb': 0.0, 'metrics.VAL.SYS..cpu_system_mean': 5.689436283608209, 'metrics.VAL.SYS..cpu_process_mean': 22.411242509412954, 'metrics.VAL.GEN.llm.ContextUtilizationMetric': 0.5721379310344827, 'metrics.VAL.RET.bm25_retriever.MAPAtKMetric': 0.0, 'metrics.VAL.SYS..cpu_system_max': 26.8, 'metrics.VAL.SYS..samples_count': 18857.0, 'metrics.VAL.SYS..memory_system_used_min_mb': 0.0, 'metrics.VAL.GEN.rewriter.ContextUtilizationMetric': 0.0, 'metrics.VAL.RET.retriever_2.HaystackContextRelevanceMetric': 0.0, 'metrics.VAL.RET.retriever_1.HaystackContextRelevanceMetric': 0.0, 'metrics.VAL.RET.retriever_4.HaystackContextRelevanceMetric': 0.0, 'metrics.VAL.RET.retriever_3.HaystackContextRelevanceMetric': 0.0, 'metrics.VAL.RET.retriever_1.MAPAtKMetric': 0.0, 'metrics.VAL.GEN.rewriter.FormatValidatorMetric': 0.0, 'metrics.VAL.RET.retriever_0.MAPAtKMetric': 0.0, 'metrics.VAL.GEN.rewriter.AnswerRelevancyMetric': 0.0, 'metrics.VAL.RET.retriever_2.MAPAtKMetric': 0.0, 'metrics.VAL.RET.retriever_4.MAPAtKMetric': 0.0, 'metrics.VAL.RET.retriever_3.MAPAtKMetric': 0.0, 'metrics.VAL.RET.retriever_0.HaystackContextRelevanceMetric': 0.0, 'metrics.VAL.RET.retriever.HaystackContextRelevanceMetric': 0.4317241379310345, 'metrics.VAL.RET.retriever.MAPAtKMetric': 0.09018199233716474}\n"
     ]
    },
    {
     "name": "stderr",
     "output_type": "stream",
     "text": [
      "C:\\Users\\Besitzer\\AppData\\Local\\Temp\\ipykernel_16300\\158029723.py:10: FutureWarning: Downcasting behavior in `replace` is deprecated and will be removed in a future version. To retain the old behavior, explicitly call `result.infer_objects(copy=False)`. To opt-in to the future behavior, set `pd.set_option('future.no_silent_downcasting', True)`\n",
      "  run_metrics = run_metrics.replace(\"\", 0)\n"
     ]
    },
    {
     "name": "stdout",
     "output_type": "stream",
     "text": [
      "🏃 View run 685700fe904c456c86cf4db2ed378171 at: http://91.99.14.73:8080/#/experiments/525945623195643983/runs/4a9341a8cc944bed8a1323fa38850e55\n",
      "🧪 View experiment at: http://91.99.14.73:8080/#/experiments/525945623195643983\n",
      "{'metrics.indexing_duration': 0.0, 'metrics.VAL.SYS..memory_process_mean_mb': 0.0, 'metrics.VAL.E2E..MatthewsCorrCoefMetric': 0.32076127565379586, 'metrics.VAL.SYS..cpu_process_min': 0.0, 'metrics.VAL.SYS..duration_seconds': 3294.842223, 'metrics.VAL.E2E..F1ScoreMetric': 0.691764705882353, 'metrics.VAL.RET.embedding_retriever.MAPAtKMetric': 0.0, 'metrics.VAL.E2E..FalsePositiveRateMetric': 0.554089709762533, 'metrics.VAL.RET.bm25_retriever.HaystackContextRelevanceMetric': 0.0, 'metrics.VAL.SYS..memory_process_max_mb': 0.0, 'metrics.VAL.GEN.llm.FormatValidatorMetric': 0.9972413793103448, 'metrics.VAL.SYS..cpu_system_min': 0.0, 'metrics.VAL.SYS..cpu_process_max': 22.0, 'metrics.VAL.SYS..memory_system_percent_min': 0.0, 'metrics.VAL.E2E..PrecisionMetric': 0.5833333333333334, 'metrics.VAL.SYS..memory_process_min_mb': 0.0, 'metrics.VAL.E2E..RecallMetric': 0.8497109826589595, 'metrics.VAL.GEN.llm.AnswerRelevancyMetric': 0.0, 'metrics.VAL.E2E..FalseNegativeRateMetric': 0.15028901734104047, 'metrics.VAL.SYS..memory_system_percent_mean': 0.0, 'metrics.VAL.E2E..AccuracyMetric': 0.6386206896551724, 'metrics.VAL.RET.embedding_retriever.HaystackContextRelevanceMetric': 0.0, 'metrics.VAL.SYS..memory_system_percent_max': 0.0, 'metrics.VAL.SYS..memory_system_used_max_mb': 0.0, 'metrics.VAL.SYS..memory_system_used_mean_mb': 0.0, 'metrics.VAL.SYS..cpu_system_mean': 17.616504559270517, 'metrics.VAL.SYS..cpu_process_mean': 1.3657446808510638, 'metrics.VAL.GEN.llm.ContextUtilizationMetric': 0.0, 'metrics.VAL.RET.bm25_retriever.MAPAtKMetric': 0.0, 'metrics.VAL.SYS..cpu_system_max': 84.8, 'metrics.VAL.SYS..samples_count': 6580.0, 'metrics.VAL.SYS..memory_system_used_min_mb': 0.0, 'metrics.VAL.GEN.rewriter.ContextUtilizationMetric': 0.0, 'metrics.VAL.RET.retriever_2.HaystackContextRelevanceMetric': 0.0, 'metrics.VAL.RET.retriever_1.HaystackContextRelevanceMetric': 0.0, 'metrics.VAL.RET.retriever_4.HaystackContextRelevanceMetric': 0.0, 'metrics.VAL.RET.retriever_3.HaystackContextRelevanceMetric': 0.0, 'metrics.VAL.RET.retriever_1.MAPAtKMetric': 0.0, 'metrics.VAL.GEN.rewriter.FormatValidatorMetric': 0.0, 'metrics.VAL.RET.retriever_0.MAPAtKMetric': 0.0, 'metrics.VAL.GEN.rewriter.AnswerRelevancyMetric': 0.0, 'metrics.VAL.RET.retriever_2.MAPAtKMetric': 0.0, 'metrics.VAL.RET.retriever_4.MAPAtKMetric': 0.0, 'metrics.VAL.RET.retriever_3.MAPAtKMetric': 0.0, 'metrics.VAL.RET.retriever_0.HaystackContextRelevanceMetric': 0.0, 'metrics.VAL.RET.retriever.HaystackContextRelevanceMetric': 0.0, 'metrics.VAL.RET.retriever.MAPAtKMetric': 0.0}\n"
     ]
    },
    {
     "name": "stderr",
     "output_type": "stream",
     "text": [
      "C:\\Users\\Besitzer\\AppData\\Local\\Temp\\ipykernel_16300\\158029723.py:10: FutureWarning: Downcasting behavior in `replace` is deprecated and will be removed in a future version. To retain the old behavior, explicitly call `result.infer_objects(copy=False)`. To opt-in to the future behavior, set `pd.set_option('future.no_silent_downcasting', True)`\n",
      "  run_metrics = run_metrics.replace(\"\", 0)\n"
     ]
    },
    {
     "name": "stdout",
     "output_type": "stream",
     "text": [
      "🏃 View run 539bba316edb4c8e9d27bbe48357ba21 at: http://91.99.14.73:8080/#/experiments/525945623195643983/runs/c9205397fb094c19ac3fd4926210c698\n",
      "🧪 View experiment at: http://91.99.14.73:8080/#/experiments/525945623195643983\n",
      "{'metrics.indexing_duration': 0.0, 'metrics.VAL.SYS..memory_process_mean_mb': 0.0, 'metrics.VAL.E2E..MatthewsCorrCoefMetric': 0.25984488060907834, 'metrics.VAL.SYS..cpu_process_min': 0.0, 'metrics.VAL.SYS..duration_seconds': 3866.941692, 'metrics.VAL.E2E..F1ScoreMetric': 0.6674528301886793, 'metrics.VAL.RET.embedding_retriever.MAPAtKMetric': 0.0, 'metrics.VAL.E2E..FalsePositiveRateMetric': 0.5778364116094987, 'metrics.VAL.RET.bm25_retriever.HaystackContextRelevanceMetric': 0.0, 'metrics.VAL.SYS..memory_process_max_mb': 0.0, 'metrics.VAL.GEN.llm.FormatValidatorMetric': 0.9944827586206897, 'metrics.VAL.SYS..cpu_system_min': 0.0, 'metrics.VAL.SYS..cpu_process_max': 24.0, 'metrics.VAL.SYS..memory_system_percent_min': 0.0, 'metrics.VAL.E2E..PrecisionMetric': 0.5637450199203188, 'metrics.VAL.SYS..memory_process_min_mb': 0.0, 'metrics.VAL.E2E..RecallMetric': 0.8179190751445087, 'metrics.VAL.GEN.llm.AnswerRelevancyMetric': 0.8820689655172413, 'metrics.VAL.E2E..FalseNegativeRateMetric': 0.18208092485549132, 'metrics.VAL.SYS..memory_system_percent_mean': 0.0, 'metrics.VAL.E2E..AccuracyMetric': 0.6110344827586207, 'metrics.VAL.RET.embedding_retriever.HaystackContextRelevanceMetric': 0.0, 'metrics.VAL.SYS..memory_system_percent_max': 0.0, 'metrics.VAL.SYS..memory_system_used_max_mb': 0.0, 'metrics.VAL.SYS..memory_system_used_mean_mb': 0.0, 'metrics.VAL.SYS..cpu_system_mean': 0.36472416472416475, 'metrics.VAL.SYS..cpu_process_mean': 1.1612276612276613, 'metrics.VAL.GEN.llm.ContextUtilizationMetric': 0.0, 'metrics.VAL.RET.bm25_retriever.MAPAtKMetric': 0.0, 'metrics.VAL.SYS..cpu_system_max': 12.9, 'metrics.VAL.SYS..samples_count': 7722.0, 'metrics.VAL.SYS..memory_system_used_min_mb': 0.0, 'metrics.VAL.GEN.rewriter.ContextUtilizationMetric': 0.0, 'metrics.VAL.RET.retriever_2.HaystackContextRelevanceMetric': 0.0, 'metrics.VAL.RET.retriever_1.HaystackContextRelevanceMetric': 0.0, 'metrics.VAL.RET.retriever_4.HaystackContextRelevanceMetric': 0.0, 'metrics.VAL.RET.retriever_3.HaystackContextRelevanceMetric': 0.0, 'metrics.VAL.RET.retriever_1.MAPAtKMetric': 0.0, 'metrics.VAL.GEN.rewriter.FormatValidatorMetric': 0.0, 'metrics.VAL.RET.retriever_0.MAPAtKMetric': 0.0, 'metrics.VAL.GEN.rewriter.AnswerRelevancyMetric': 0.0, 'metrics.VAL.RET.retriever_2.MAPAtKMetric': 0.0, 'metrics.VAL.RET.retriever_4.MAPAtKMetric': 0.0, 'metrics.VAL.RET.retriever_3.MAPAtKMetric': 0.0, 'metrics.VAL.RET.retriever_0.HaystackContextRelevanceMetric': 0.0, 'metrics.VAL.RET.retriever.HaystackContextRelevanceMetric': 0.0, 'metrics.VAL.RET.retriever.MAPAtKMetric': 0.0}\n"
     ]
    },
    {
     "name": "stderr",
     "output_type": "stream",
     "text": [
      "C:\\Users\\Besitzer\\AppData\\Local\\Temp\\ipykernel_16300\\158029723.py:10: FutureWarning: Downcasting behavior in `replace` is deprecated and will be removed in a future version. To retain the old behavior, explicitly call `result.infer_objects(copy=False)`. To opt-in to the future behavior, set `pd.set_option('future.no_silent_downcasting', True)`\n",
      "  run_metrics = run_metrics.replace(\"\", 0)\n"
     ]
    },
    {
     "name": "stdout",
     "output_type": "stream",
     "text": [
      "🏃 View run 95bddc79059e45919c6c61e34ca52fcc at: http://91.99.14.73:8080/#/experiments/525945623195643983/runs/89e04132c88e4d06813048496c6ff091\n",
      "🧪 View experiment at: http://91.99.14.73:8080/#/experiments/525945623195643983\n",
      "{'metrics.indexing_duration': 2119.3983974456787, 'metrics.VAL.SYS..memory_process_mean_mb': 0.0, 'metrics.VAL.E2E..MatthewsCorrCoefMetric': 0.31636378691870615, 'metrics.VAL.SYS..cpu_process_min': 0.0, 'metrics.VAL.SYS..duration_seconds': 21897.206218, 'metrics.VAL.E2E..F1ScoreMetric': 0.6675496688741722, 'metrics.VAL.RET.embedding_retriever.MAPAtKMetric': 0.0, 'metrics.VAL.E2E..FalsePositiveRateMetric': 0.41424802110817943, 'metrics.VAL.RET.bm25_retriever.HaystackContextRelevanceMetric': 0.0, 'metrics.VAL.SYS..memory_process_max_mb': 0.0, 'metrics.VAL.GEN.llm.FormatValidatorMetric': 0.9848275862068966, 'metrics.VAL.SYS..cpu_system_min': 0.0, 'metrics.VAL.SYS..cpu_process_max': 97.8, 'metrics.VAL.SYS..memory_system_percent_min': 0.0, 'metrics.VAL.E2E..PrecisionMetric': 0.6161369193154034, 'metrics.VAL.SYS..memory_process_min_mb': 0.0, 'metrics.VAL.E2E..RecallMetric': 0.7283236994219653, 'metrics.VAL.GEN.llm.AnswerRelevancyMetric': 0.0, 'metrics.VAL.E2E..FalseNegativeRateMetric': 0.27167630057803466, 'metrics.VAL.SYS..memory_system_percent_mean': 0.0, 'metrics.VAL.E2E..AccuracyMetric': 0.6537931034482759, 'metrics.VAL.RET.embedding_retriever.HaystackContextRelevanceMetric': 0.0, 'metrics.VAL.SYS..memory_system_percent_max': 0.0, 'metrics.VAL.SYS..memory_system_used_max_mb': 0.0, 'metrics.VAL.SYS..memory_system_used_mean_mb': 0.0, 'metrics.VAL.SYS..cpu_system_mean': 13.71653527339096, 'metrics.VAL.SYS..cpu_process_mean': 3.9511014220892804, 'metrics.VAL.GEN.llm.ContextUtilizationMetric': 0.0, 'metrics.VAL.RET.bm25_retriever.MAPAtKMetric': 0.0, 'metrics.VAL.SYS..cpu_system_max': 83.4, 'metrics.VAL.SYS..samples_count': 39449.0, 'metrics.VAL.SYS..memory_system_used_min_mb': 0.0, 'metrics.VAL.GEN.rewriter.ContextUtilizationMetric': 0.0, 'metrics.VAL.RET.retriever_2.HaystackContextRelevanceMetric': 0.0, 'metrics.VAL.RET.retriever_1.HaystackContextRelevanceMetric': 0.0, 'metrics.VAL.RET.retriever_4.HaystackContextRelevanceMetric': 0.0, 'metrics.VAL.RET.retriever_3.HaystackContextRelevanceMetric': 0.0, 'metrics.VAL.RET.retriever_1.MAPAtKMetric': 0.0, 'metrics.VAL.GEN.rewriter.FormatValidatorMetric': 0.0, 'metrics.VAL.RET.retriever_0.MAPAtKMetric': 0.0, 'metrics.VAL.GEN.rewriter.AnswerRelevancyMetric': 0.0, 'metrics.VAL.RET.retriever_2.MAPAtKMetric': 0.0, 'metrics.VAL.RET.retriever_4.MAPAtKMetric': 0.0, 'metrics.VAL.RET.retriever_3.MAPAtKMetric': 0.0, 'metrics.VAL.RET.retriever_0.HaystackContextRelevanceMetric': 0.0, 'metrics.VAL.RET.retriever.HaystackContextRelevanceMetric': 0.21379310344827587, 'metrics.VAL.RET.retriever.MAPAtKMetric': 0.03029885057471264}\n"
     ]
    },
    {
     "name": "stderr",
     "output_type": "stream",
     "text": [
      "C:\\Users\\Besitzer\\AppData\\Local\\Temp\\ipykernel_16300\\158029723.py:10: FutureWarning: Downcasting behavior in `replace` is deprecated and will be removed in a future version. To retain the old behavior, explicitly call `result.infer_objects(copy=False)`. To opt-in to the future behavior, set `pd.set_option('future.no_silent_downcasting', True)`\n",
      "  run_metrics = run_metrics.replace(\"\", 0)\n"
     ]
    },
    {
     "name": "stdout",
     "output_type": "stream",
     "text": [
      "🏃 View run f8576a21bc7242dda9951e9d66402f85 at: http://91.99.14.73:8080/#/experiments/525945623195643983/runs/3438a187b9af498eb7f17940630efebf\n",
      "🧪 View experiment at: http://91.99.14.73:8080/#/experiments/525945623195643983\n",
      "{'metrics.indexing_duration': 0.0, 'metrics.VAL.SYS..memory_process_mean_mb': 0.0, 'metrics.VAL.E2E..MatthewsCorrCoefMetric': 0.2941972735058224, 'metrics.VAL.SYS..cpu_process_min': 0.0, 'metrics.VAL.SYS..duration_seconds': 39035.165137, 'metrics.VAL.E2E..F1ScoreMetric': 0.5333333333333333, 'metrics.VAL.RET.embedding_retriever.MAPAtKMetric': 0.0, 'metrics.VAL.E2E..FalsePositiveRateMetric': 0.16094986807387862, 'metrics.VAL.RET.bm25_retriever.HaystackContextRelevanceMetric': 0.0, 'metrics.VAL.SYS..memory_process_max_mb': 0.0, 'metrics.VAL.GEN.llm.FormatValidatorMetric': 0.8924137931034483, 'metrics.VAL.SYS..cpu_system_min': 0.0, 'metrics.VAL.SYS..cpu_process_max': 39.9, 'metrics.VAL.SYS..memory_system_percent_min': 0.0, 'metrics.VAL.E2E..PrecisionMetric': 0.7081339712918661, 'metrics.VAL.SYS..memory_process_min_mb': 0.0, 'metrics.VAL.E2E..RecallMetric': 0.4277456647398844, 'metrics.VAL.GEN.llm.AnswerRelevancyMetric': 0.8889655172413793, 'metrics.VAL.E2E..FalseNegativeRateMetric': 0.5722543352601156, 'metrics.VAL.SYS..memory_system_percent_mean': 0.0, 'metrics.VAL.E2E..AccuracyMetric': 0.6427586206896552, 'metrics.VAL.RET.embedding_retriever.HaystackContextRelevanceMetric': 0.0, 'metrics.VAL.SYS..memory_system_percent_max': 0.0, 'metrics.VAL.SYS..memory_system_used_max_mb': 0.0, 'metrics.VAL.SYS..memory_system_used_mean_mb': 0.0, 'metrics.VAL.SYS..cpu_system_mean': 0.17132043518423484, 'metrics.VAL.SYS..cpu_process_mean': 0.3815701016114133, 'metrics.VAL.GEN.llm.ContextUtilizationMetric': 0.0, 'metrics.VAL.RET.bm25_retriever.MAPAtKMetric': 0.0, 'metrics.VAL.SYS..cpu_system_max': 43.9, 'metrics.VAL.SYS..samples_count': 77944.0, 'metrics.VAL.SYS..memory_system_used_min_mb': 0.0, 'metrics.VAL.GEN.rewriter.ContextUtilizationMetric': 0.0, 'metrics.VAL.RET.retriever_2.HaystackContextRelevanceMetric': 0.0, 'metrics.VAL.RET.retriever_1.HaystackContextRelevanceMetric': 0.0, 'metrics.VAL.RET.retriever_4.HaystackContextRelevanceMetric': 0.0, 'metrics.VAL.RET.retriever_3.HaystackContextRelevanceMetric': 0.0, 'metrics.VAL.RET.retriever_1.MAPAtKMetric': 0.0, 'metrics.VAL.GEN.rewriter.FormatValidatorMetric': 0.0, 'metrics.VAL.RET.retriever_0.MAPAtKMetric': 0.0, 'metrics.VAL.GEN.rewriter.AnswerRelevancyMetric': 0.0, 'metrics.VAL.RET.retriever_2.MAPAtKMetric': 0.0, 'metrics.VAL.RET.retriever_4.MAPAtKMetric': 0.0, 'metrics.VAL.RET.retriever_3.MAPAtKMetric': 0.0, 'metrics.VAL.RET.retriever_0.HaystackContextRelevanceMetric': 0.0, 'metrics.VAL.RET.retriever.HaystackContextRelevanceMetric': 0.0, 'metrics.VAL.RET.retriever.MAPAtKMetric': 0.0}\n"
     ]
    },
    {
     "name": "stderr",
     "output_type": "stream",
     "text": [
      "C:\\Users\\Besitzer\\AppData\\Local\\Temp\\ipykernel_16300\\158029723.py:10: FutureWarning: Downcasting behavior in `replace` is deprecated and will be removed in a future version. To retain the old behavior, explicitly call `result.infer_objects(copy=False)`. To opt-in to the future behavior, set `pd.set_option('future.no_silent_downcasting', True)`\n",
      "  run_metrics = run_metrics.replace(\"\", 0)\n"
     ]
    },
    {
     "name": "stdout",
     "output_type": "stream",
     "text": [
      "🏃 View run 9299a5dc28204f5f92482e96325031ec at: http://91.99.14.73:8080/#/experiments/525945623195643983/runs/e726734b76f441f68f667eab1e6ad84c\n",
      "🧪 View experiment at: http://91.99.14.73:8080/#/experiments/525945623195643983\n",
      "{'metrics.indexing_duration': 0.0, 'metrics.VAL.SYS..memory_process_mean_mb': 0.0, 'metrics.VAL.E2E..MatthewsCorrCoefMetric': 0.3192211015191441, 'metrics.VAL.SYS..cpu_process_min': 0.0, 'metrics.VAL.SYS..duration_seconds': 34064.620719, 'metrics.VAL.E2E..F1ScoreMetric': 0.5503597122302158, 'metrics.VAL.RET.embedding_retriever.MAPAtKMetric': 0.0, 'metrics.VAL.E2E..FalsePositiveRateMetric': 0.15303430079155672, 'metrics.VAL.RET.bm25_retriever.HaystackContextRelevanceMetric': 0.0, 'metrics.VAL.SYS..memory_process_max_mb': 0.0, 'metrics.VAL.GEN.llm.FormatValidatorMetric': 0.8853591160220995, 'metrics.VAL.SYS..cpu_system_min': 0.0, 'metrics.VAL.SYS..cpu_process_max': 37.9, 'metrics.VAL.SYS..memory_system_percent_min': 0.0, 'metrics.VAL.E2E..PrecisionMetric': 0.7251184834123223, 'metrics.VAL.SYS..memory_process_min_mb': 0.0, 'metrics.VAL.E2E..RecallMetric': 0.4434782608695652, 'metrics.VAL.GEN.llm.AnswerRelevancyMetric': 0.8846685082872928, 'metrics.VAL.E2E..FalseNegativeRateMetric': 0.5565217391304348, 'metrics.VAL.SYS..memory_system_percent_mean': 0.0, 'metrics.VAL.E2E..AccuracyMetric': 0.6546961325966851, 'metrics.VAL.RET.embedding_retriever.HaystackContextRelevanceMetric': 0.0, 'metrics.VAL.SYS..memory_system_percent_max': 0.0, 'metrics.VAL.SYS..memory_system_used_max_mb': 0.0, 'metrics.VAL.SYS..memory_system_used_mean_mb': 0.0, 'metrics.VAL.SYS..cpu_system_mean': 0.1621120569252709, 'metrics.VAL.SYS..cpu_process_mean': 0.3963260265514048, 'metrics.VAL.GEN.llm.ContextUtilizationMetric': 0.0, 'metrics.VAL.RET.bm25_retriever.MAPAtKMetric': 0.0, 'metrics.VAL.SYS..cpu_system_max': 9.5, 'metrics.VAL.SYS..samples_count': 68019.0, 'metrics.VAL.SYS..memory_system_used_min_mb': 0.0, 'metrics.VAL.GEN.rewriter.ContextUtilizationMetric': 0.0, 'metrics.VAL.RET.retriever_2.HaystackContextRelevanceMetric': 0.0, 'metrics.VAL.RET.retriever_1.HaystackContextRelevanceMetric': 0.0, 'metrics.VAL.RET.retriever_4.HaystackContextRelevanceMetric': 0.0, 'metrics.VAL.RET.retriever_3.HaystackContextRelevanceMetric': 0.0, 'metrics.VAL.RET.retriever_1.MAPAtKMetric': 0.0, 'metrics.VAL.GEN.rewriter.FormatValidatorMetric': 0.0, 'metrics.VAL.RET.retriever_0.MAPAtKMetric': 0.0, 'metrics.VAL.GEN.rewriter.AnswerRelevancyMetric': 0.0, 'metrics.VAL.RET.retriever_2.MAPAtKMetric': 0.0, 'metrics.VAL.RET.retriever_4.MAPAtKMetric': 0.0, 'metrics.VAL.RET.retriever_3.MAPAtKMetric': 0.0, 'metrics.VAL.RET.retriever_0.HaystackContextRelevanceMetric': 0.0, 'metrics.VAL.RET.retriever.HaystackContextRelevanceMetric': 0.0, 'metrics.VAL.RET.retriever.MAPAtKMetric': 0.0}\n"
     ]
    },
    {
     "name": "stderr",
     "output_type": "stream",
     "text": [
      "C:\\Users\\Besitzer\\AppData\\Local\\Temp\\ipykernel_16300\\158029723.py:10: FutureWarning: Downcasting behavior in `replace` is deprecated and will be removed in a future version. To retain the old behavior, explicitly call `result.infer_objects(copy=False)`. To opt-in to the future behavior, set `pd.set_option('future.no_silent_downcasting', True)`\n",
      "  run_metrics = run_metrics.replace(\"\", 0)\n"
     ]
    },
    {
     "name": "stdout",
     "output_type": "stream",
     "text": [
      "🏃 View run c4187f271ef04f4da75c195636242f7b at: http://91.99.14.73:8080/#/experiments/525945623195643983/runs/cdff452e7a62476e8e05292101b03ee8\n",
      "🧪 View experiment at: http://91.99.14.73:8080/#/experiments/525945623195643983\n",
      "{'metrics.indexing_duration': 0.0, 'metrics.VAL.SYS..memory_process_mean_mb': 0.0, 'metrics.VAL.E2E..MatthewsCorrCoefMetric': 0.03954198975485826, 'metrics.VAL.SYS..cpu_process_min': 0.0, 'metrics.VAL.SYS..duration_seconds': 4601.891932, 'metrics.VAL.E2E..F1ScoreMetric': 0.0392156862745098, 'metrics.VAL.RET.embedding_retriever.MAPAtKMetric': 0.0, 'metrics.VAL.E2E..FalsePositiveRateMetric': 0.010554089709762533, 'metrics.VAL.RET.bm25_retriever.HaystackContextRelevanceMetric': 0.0, 'metrics.VAL.SYS..memory_process_max_mb': 0.0, 'metrics.VAL.GEN.llm.FormatValidatorMetric': 0.17103448275862068, 'metrics.VAL.SYS..cpu_system_min': 0.0, 'metrics.VAL.SYS..cpu_process_max': 22.0, 'metrics.VAL.SYS..memory_system_percent_min': 0.0, 'metrics.VAL.E2E..PrecisionMetric': 0.6363636363636364, 'metrics.VAL.SYS..memory_process_min_mb': 0.0, 'metrics.VAL.E2E..RecallMetric': 0.02023121387283237, 'metrics.VAL.GEN.llm.AnswerRelevancyMetric': 0.0, 'metrics.VAL.E2E..FalseNegativeRateMetric': 0.9797687861271677, 'metrics.VAL.SYS..memory_system_percent_mean': 0.0, 'metrics.VAL.E2E..AccuracyMetric': 0.526896551724138, 'metrics.VAL.RET.embedding_retriever.HaystackContextRelevanceMetric': 0.0, 'metrics.VAL.SYS..memory_system_percent_max': 0.0, 'metrics.VAL.SYS..memory_system_used_max_mb': 0.0, 'metrics.VAL.SYS..memory_system_used_mean_mb': 0.0, 'metrics.VAL.SYS..cpu_system_mean': 16.00253536452666, 'metrics.VAL.SYS..cpu_process_mean': 1.1248095756256802, 'metrics.VAL.GEN.llm.ContextUtilizationMetric': 0.0, 'metrics.VAL.RET.bm25_retriever.MAPAtKMetric': 0.0, 'metrics.VAL.SYS..cpu_system_max': 82.8, 'metrics.VAL.SYS..samples_count': 9190.0, 'metrics.VAL.SYS..memory_system_used_min_mb': 0.0, 'metrics.VAL.GEN.rewriter.ContextUtilizationMetric': 0.0, 'metrics.VAL.RET.retriever_2.HaystackContextRelevanceMetric': 0.0, 'metrics.VAL.RET.retriever_1.HaystackContextRelevanceMetric': 0.0, 'metrics.VAL.RET.retriever_4.HaystackContextRelevanceMetric': 0.0, 'metrics.VAL.RET.retriever_3.HaystackContextRelevanceMetric': 0.0, 'metrics.VAL.RET.retriever_1.MAPAtKMetric': 0.0, 'metrics.VAL.GEN.rewriter.FormatValidatorMetric': 0.0, 'metrics.VAL.RET.retriever_0.MAPAtKMetric': 0.0, 'metrics.VAL.GEN.rewriter.AnswerRelevancyMetric': 0.0, 'metrics.VAL.RET.retriever_2.MAPAtKMetric': 0.0, 'metrics.VAL.RET.retriever_4.MAPAtKMetric': 0.0, 'metrics.VAL.RET.retriever_3.MAPAtKMetric': 0.0, 'metrics.VAL.RET.retriever_0.HaystackContextRelevanceMetric': 0.0, 'metrics.VAL.RET.retriever.HaystackContextRelevanceMetric': 0.0, 'metrics.VAL.RET.retriever.MAPAtKMetric': 0.0}\n"
     ]
    },
    {
     "name": "stderr",
     "output_type": "stream",
     "text": [
      "C:\\Users\\Besitzer\\AppData\\Local\\Temp\\ipykernel_16300\\158029723.py:10: FutureWarning: Downcasting behavior in `replace` is deprecated and will be removed in a future version. To retain the old behavior, explicitly call `result.infer_objects(copy=False)`. To opt-in to the future behavior, set `pd.set_option('future.no_silent_downcasting', True)`\n",
      "  run_metrics = run_metrics.replace(\"\", 0)\n"
     ]
    },
    {
     "name": "stdout",
     "output_type": "stream",
     "text": [
      "🏃 View run 69cb5169bdf2409b9baa85627d217108 at: http://91.99.14.73:8080/#/experiments/525945623195643983/runs/7c446dc51ad2422193145c98ccbfc954\n",
      "🧪 View experiment at: http://91.99.14.73:8080/#/experiments/525945623195643983\n",
      "{'metrics.indexing_duration': 2224.427963733673, 'metrics.VAL.SYS..memory_process_mean_mb': 0.0, 'metrics.VAL.E2E..MatthewsCorrCoefMetric': 0.23231779866491784, 'metrics.VAL.SYS..cpu_process_min': 0.0, 'metrics.VAL.SYS..duration_seconds': 9957.062122, 'metrics.VAL.E2E..F1ScoreMetric': 0.5834586466165413, 'metrics.VAL.RET.embedding_retriever.MAPAtKMetric': 0.03363793103448276, 'metrics.VAL.E2E..FalsePositiveRateMetric': 0.32981530343007914, 'metrics.VAL.RET.bm25_retriever.HaystackContextRelevanceMetric': 0.0, 'metrics.VAL.SYS..memory_process_max_mb': 0.0, 'metrics.VAL.GEN.llm.FormatValidatorMetric': 1.0, 'metrics.VAL.SYS..cpu_system_min': 0.0, 'metrics.VAL.SYS..cpu_process_max': 203.8, 'metrics.VAL.SYS..memory_system_percent_min': 0.0, 'metrics.VAL.E2E..PrecisionMetric': 0.6081504702194357, 'metrics.VAL.SYS..memory_process_min_mb': 0.0, 'metrics.VAL.E2E..RecallMetric': 0.5606936416184971, 'metrics.VAL.GEN.llm.AnswerRelevancyMetric': 0.8415172413793104, 'metrics.VAL.E2E..FalseNegativeRateMetric': 0.4393063583815029, 'metrics.VAL.SYS..memory_system_percent_mean': 0.0, 'metrics.VAL.E2E..AccuracyMetric': 0.6179310344827587, 'metrics.VAL.RET.embedding_retriever.HaystackContextRelevanceMetric': 0.17103448275862068, 'metrics.VAL.SYS..memory_system_percent_max': 0.0, 'metrics.VAL.SYS..memory_system_used_max_mb': 0.0, 'metrics.VAL.SYS..memory_system_used_mean_mb': 0.0, 'metrics.VAL.SYS..cpu_system_mean': 6.23950142000631, 'metrics.VAL.SYS..cpu_process_mean': 24.725654780687915, 'metrics.VAL.GEN.llm.ContextUtilizationMetric': 0.5659310344827586, 'metrics.VAL.RET.bm25_retriever.MAPAtKMetric': 0.0, 'metrics.VAL.SYS..cpu_system_max': 50.7, 'metrics.VAL.SYS..samples_count': 15845.0, 'metrics.VAL.SYS..memory_system_used_min_mb': 0.0, 'metrics.VAL.GEN.rewriter.ContextUtilizationMetric': 0.0, 'metrics.VAL.RET.retriever_2.HaystackContextRelevanceMetric': 0.0, 'metrics.VAL.RET.retriever_1.HaystackContextRelevanceMetric': 0.0, 'metrics.VAL.RET.retriever_4.HaystackContextRelevanceMetric': 0.0, 'metrics.VAL.RET.retriever_3.HaystackContextRelevanceMetric': 0.0, 'metrics.VAL.RET.retriever_1.MAPAtKMetric': 0.0, 'metrics.VAL.GEN.rewriter.FormatValidatorMetric': 0.0, 'metrics.VAL.RET.retriever_0.MAPAtKMetric': 0.0, 'metrics.VAL.GEN.rewriter.AnswerRelevancyMetric': 0.0, 'metrics.VAL.RET.retriever_2.MAPAtKMetric': 0.0, 'metrics.VAL.RET.retriever_4.MAPAtKMetric': 0.0, 'metrics.VAL.RET.retriever_3.MAPAtKMetric': 0.0, 'metrics.VAL.RET.retriever_0.HaystackContextRelevanceMetric': 0.0, 'metrics.VAL.RET.retriever.HaystackContextRelevanceMetric': 0.0, 'metrics.VAL.RET.retriever.MAPAtKMetric': 0.0}\n"
     ]
    },
    {
     "name": "stderr",
     "output_type": "stream",
     "text": [
      "C:\\Users\\Besitzer\\AppData\\Local\\Temp\\ipykernel_16300\\158029723.py:10: FutureWarning: Downcasting behavior in `replace` is deprecated and will be removed in a future version. To retain the old behavior, explicitly call `result.infer_objects(copy=False)`. To opt-in to the future behavior, set `pd.set_option('future.no_silent_downcasting', True)`\n",
      "  run_metrics = run_metrics.replace(\"\", 0)\n"
     ]
    },
    {
     "name": "stdout",
     "output_type": "stream",
     "text": [
      "🏃 View run e5de129b71f84dbd96d2f3f2ec4fc75e at: http://91.99.14.73:8080/#/experiments/525945623195643983/runs/cf4688f3c05d4926be1fe7510495303d\n",
      "🧪 View experiment at: http://91.99.14.73:8080/#/experiments/525945623195643983\n",
      "{'metrics.indexing_duration': 3.8387739658355713, 'metrics.VAL.SYS..memory_process_mean_mb': 0.0, 'metrics.VAL.E2E..MatthewsCorrCoefMetric': 0.19511860584812046, 'metrics.VAL.SYS..cpu_process_min': 0.0, 'metrics.VAL.SYS..duration_seconds': 10073.667886, 'metrics.VAL.E2E..F1ScoreMetric': 0.5261437908496732, 'metrics.VAL.RET.embedding_retriever.MAPAtKMetric': 0.0, 'metrics.VAL.E2E..FalsePositiveRateMetric': 0.2770448548812665, 'metrics.VAL.RET.bm25_retriever.HaystackContextRelevanceMetric': 0.0, 'metrics.VAL.SYS..memory_process_max_mb': 0.0, 'metrics.VAL.GEN.llm.FormatValidatorMetric': 0.9986206896551724, 'metrics.VAL.SYS..cpu_system_min': 0.0, 'metrics.VAL.SYS..cpu_process_max': 203.8, 'metrics.VAL.SYS..memory_system_percent_min': 0.0, 'metrics.VAL.E2E..PrecisionMetric': 0.6052631578947368, 'metrics.VAL.SYS..memory_process_min_mb': 0.0, 'metrics.VAL.E2E..RecallMetric': 0.4653179190751445, 'metrics.VAL.GEN.llm.AnswerRelevancyMetric': 0.0, 'metrics.VAL.E2E..FalseNegativeRateMetric': 0.5346820809248555, 'metrics.VAL.SYS..memory_system_percent_mean': 0.0, 'metrics.VAL.E2E..AccuracyMetric': 0.6, 'metrics.VAL.RET.embedding_retriever.HaystackContextRelevanceMetric': 0.0, 'metrics.VAL.SYS..memory_system_percent_max': 0.0, 'metrics.VAL.SYS..memory_system_used_max_mb': 0.0, 'metrics.VAL.SYS..memory_system_used_mean_mb': 0.0, 'metrics.VAL.SYS..cpu_system_mean': 20.42905084403113, 'metrics.VAL.SYS..cpu_process_mean': 27.499514808450414, 'metrics.VAL.GEN.llm.ContextUtilizationMetric': 0.0, 'metrics.VAL.RET.bm25_retriever.MAPAtKMetric': 0.0, 'metrics.VAL.SYS..cpu_system_max': 95.5, 'metrics.VAL.SYS..samples_count': 19786.0, 'metrics.VAL.SYS..memory_system_used_min_mb': 0.0, 'metrics.VAL.GEN.rewriter.ContextUtilizationMetric': 0.0, 'metrics.VAL.RET.retriever_2.HaystackContextRelevanceMetric': 0.0, 'metrics.VAL.RET.retriever_1.HaystackContextRelevanceMetric': 0.0, 'metrics.VAL.RET.retriever_4.HaystackContextRelevanceMetric': 0.0, 'metrics.VAL.RET.retriever_3.HaystackContextRelevanceMetric': 0.0, 'metrics.VAL.RET.retriever_1.MAPAtKMetric': 0.0, 'metrics.VAL.GEN.rewriter.FormatValidatorMetric': 0.0, 'metrics.VAL.RET.retriever_0.MAPAtKMetric': 0.0, 'metrics.VAL.GEN.rewriter.AnswerRelevancyMetric': 0.0, 'metrics.VAL.RET.retriever_2.MAPAtKMetric': 0.0, 'metrics.VAL.RET.retriever_4.MAPAtKMetric': 0.0, 'metrics.VAL.RET.retriever_3.MAPAtKMetric': 0.0, 'metrics.VAL.RET.retriever_0.HaystackContextRelevanceMetric': 0.0, 'metrics.VAL.RET.retriever.HaystackContextRelevanceMetric': 0.41379310344827586, 'metrics.VAL.RET.retriever.MAPAtKMetric': 0.09588888888888888}\n"
     ]
    },
    {
     "name": "stderr",
     "output_type": "stream",
     "text": [
      "C:\\Users\\Besitzer\\AppData\\Local\\Temp\\ipykernel_16300\\158029723.py:10: FutureWarning: Downcasting behavior in `replace` is deprecated and will be removed in a future version. To retain the old behavior, explicitly call `result.infer_objects(copy=False)`. To opt-in to the future behavior, set `pd.set_option('future.no_silent_downcasting', True)`\n",
      "  run_metrics = run_metrics.replace(\"\", 0)\n"
     ]
    },
    {
     "name": "stdout",
     "output_type": "stream",
     "text": [
      "🏃 View run ff0ae70026c84225a346330f43ae040e at: http://91.99.14.73:8080/#/experiments/525945623195643983/runs/91bda42380ff41b5956f1f8e9137b1bc\n",
      "🧪 View experiment at: http://91.99.14.73:8080/#/experiments/525945623195643983\n",
      "{'metrics.indexing_duration': 2211.291562318802, 'metrics.VAL.SYS..memory_process_mean_mb': 0.0, 'metrics.VAL.E2E..MatthewsCorrCoefMetric': 0.2262193150894168, 'metrics.VAL.SYS..cpu_process_min': 0.0, 'metrics.VAL.SYS..duration_seconds': 55694.152887, 'metrics.VAL.E2E..F1ScoreMetric': 0.5521669341894061, 'metrics.VAL.RET.embedding_retriever.MAPAtKMetric': 0.030482758620689658, 'metrics.VAL.E2E..FalsePositiveRateMetric': 0.2770448548812665, 'metrics.VAL.RET.bm25_retriever.HaystackContextRelevanceMetric': 0.0, 'metrics.VAL.SYS..memory_process_max_mb': 0.0, 'metrics.VAL.GEN.llm.FormatValidatorMetric': 0.7103448275862069, 'metrics.VAL.SYS..cpu_system_min': 0.0, 'metrics.VAL.SYS..cpu_process_max': 201.8, 'metrics.VAL.SYS..memory_system_percent_min': 0.0, 'metrics.VAL.E2E..PrecisionMetric': 0.6209386281588448, 'metrics.VAL.SYS..memory_process_min_mb': 0.0, 'metrics.VAL.E2E..RecallMetric': 0.49710982658959535, 'metrics.VAL.GEN.llm.AnswerRelevancyMetric': 0.8859310344827586, 'metrics.VAL.E2E..FalseNegativeRateMetric': 0.5028901734104047, 'metrics.VAL.SYS..memory_system_percent_mean': 0.0, 'metrics.VAL.E2E..AccuracyMetric': 0.6151724137931035, 'metrics.VAL.RET.embedding_retriever.HaystackContextRelevanceMetric': 0.1724137931034483, 'metrics.VAL.SYS..memory_system_percent_max': 0.0, 'metrics.VAL.SYS..memory_system_used_max_mb': 0.0, 'metrics.VAL.SYS..memory_system_used_mean_mb': 0.0, 'metrics.VAL.SYS..cpu_system_mean': 1.1797685271607243, 'metrics.VAL.SYS..cpu_process_mean': 3.807762740339742, 'metrics.VAL.GEN.llm.ContextUtilizationMetric': 0.5835862068965517, 'metrics.VAL.RET.bm25_retriever.MAPAtKMetric': 0.0, 'metrics.VAL.SYS..cpu_system_max': 58.2, 'metrics.VAL.SYS..samples_count': 107140.0, 'metrics.VAL.SYS..memory_system_used_min_mb': 0.0, 'metrics.VAL.GEN.rewriter.ContextUtilizationMetric': 0.0, 'metrics.VAL.RET.retriever_2.HaystackContextRelevanceMetric': 0.0, 'metrics.VAL.RET.retriever_1.HaystackContextRelevanceMetric': 0.0, 'metrics.VAL.RET.retriever_4.HaystackContextRelevanceMetric': 0.0, 'metrics.VAL.RET.retriever_3.HaystackContextRelevanceMetric': 0.0, 'metrics.VAL.RET.retriever_1.MAPAtKMetric': 0.0, 'metrics.VAL.GEN.rewriter.FormatValidatorMetric': 0.0, 'metrics.VAL.RET.retriever_0.MAPAtKMetric': 0.0, 'metrics.VAL.GEN.rewriter.AnswerRelevancyMetric': 0.0, 'metrics.VAL.RET.retriever_2.MAPAtKMetric': 0.0, 'metrics.VAL.RET.retriever_4.MAPAtKMetric': 0.0, 'metrics.VAL.RET.retriever_3.MAPAtKMetric': 0.0, 'metrics.VAL.RET.retriever_0.HaystackContextRelevanceMetric': 0.0, 'metrics.VAL.RET.retriever.HaystackContextRelevanceMetric': 0.0, 'metrics.VAL.RET.retriever.MAPAtKMetric': 0.0}\n"
     ]
    },
    {
     "name": "stderr",
     "output_type": "stream",
     "text": [
      "C:\\Users\\Besitzer\\AppData\\Local\\Temp\\ipykernel_16300\\158029723.py:10: FutureWarning: Downcasting behavior in `replace` is deprecated and will be removed in a future version. To retain the old behavior, explicitly call `result.infer_objects(copy=False)`. To opt-in to the future behavior, set `pd.set_option('future.no_silent_downcasting', True)`\n",
      "  run_metrics = run_metrics.replace(\"\", 0)\n"
     ]
    },
    {
     "name": "stdout",
     "output_type": "stream",
     "text": [
      "🏃 View run 6747a761f9f34303b322790170d893bd at: http://91.99.14.73:8080/#/experiments/525945623195643983/runs/0371afadae1d4a6abe6f47e8a289efdd\n",
      "🧪 View experiment at: http://91.99.14.73:8080/#/experiments/525945623195643983\n",
      "{'metrics.indexing_duration': 0.0, 'metrics.VAL.SYS..memory_process_mean_mb': 0.0, 'metrics.VAL.E2E..MatthewsCorrCoefMetric': 0.14117939659004736, 'metrics.VAL.SYS..cpu_process_min': 0.0, 'metrics.VAL.SYS..duration_seconds': 2142.466326, 'metrics.VAL.E2E..F1ScoreMetric': 0.5906735751295337, 'metrics.VAL.RET.embedding_retriever.MAPAtKMetric': 0.0, 'metrics.VAL.E2E..FalsePositiveRateMetric': 0.5157894736842106, 'metrics.VAL.RET.bm25_retriever.HaystackContextRelevanceMetric': 0.0, 'metrics.VAL.SYS..memory_process_max_mb': 0.0, 'metrics.VAL.GEN.llm.FormatValidatorMetric': 0.7857142857142857, 'metrics.VAL.SYS..cpu_system_min': 0.0, 'metrics.VAL.SYS..cpu_process_max': 44.0, 'metrics.VAL.SYS..memory_system_percent_min': 0.0, 'metrics.VAL.E2E..PrecisionMetric': 0.5377358490566038, 'metrics.VAL.SYS..memory_process_min_mb': 0.0, 'metrics.VAL.E2E..RecallMetric': 0.6551724137931034, 'metrics.VAL.GEN.llm.AnswerRelevancyMetric': 0.7873626373626375, 'metrics.VAL.E2E..FalseNegativeRateMetric': 0.3448275862068966, 'metrics.VAL.SYS..memory_system_percent_mean': 0.0, 'metrics.VAL.E2E..AccuracyMetric': 0.5659340659340659, 'metrics.VAL.RET.embedding_retriever.HaystackContextRelevanceMetric': 0.0, 'metrics.VAL.SYS..memory_system_percent_max': 0.0, 'metrics.VAL.SYS..memory_system_used_max_mb': 0.0, 'metrics.VAL.SYS..memory_system_used_mean_mb': 0.0, 'metrics.VAL.SYS..cpu_system_mean': 27.811918672587048, 'metrics.VAL.SYS..cpu_process_mean': 1.35386772610423, 'metrics.VAL.GEN.llm.ContextUtilizationMetric': 0.0, 'metrics.VAL.RET.bm25_retriever.MAPAtKMetric': 0.0, 'metrics.VAL.SYS..cpu_system_max': 98.0, 'metrics.VAL.SYS..samples_count': 4279.0, 'metrics.VAL.SYS..memory_system_used_min_mb': 0.0, 'metrics.VAL.GEN.rewriter.ContextUtilizationMetric': 0.0, 'metrics.VAL.RET.retriever_2.HaystackContextRelevanceMetric': 0.0, 'metrics.VAL.RET.retriever_1.HaystackContextRelevanceMetric': 0.0, 'metrics.VAL.RET.retriever_4.HaystackContextRelevanceMetric': 0.0, 'metrics.VAL.RET.retriever_3.HaystackContextRelevanceMetric': 0.0, 'metrics.VAL.RET.retriever_1.MAPAtKMetric': 0.0, 'metrics.VAL.GEN.rewriter.FormatValidatorMetric': 0.0, 'metrics.VAL.RET.retriever_0.MAPAtKMetric': 0.0, 'metrics.VAL.GEN.rewriter.AnswerRelevancyMetric': 0.0, 'metrics.VAL.RET.retriever_2.MAPAtKMetric': 0.0, 'metrics.VAL.RET.retriever_4.MAPAtKMetric': 0.0, 'metrics.VAL.RET.retriever_3.MAPAtKMetric': 0.0, 'metrics.VAL.RET.retriever_0.HaystackContextRelevanceMetric': 0.0, 'metrics.VAL.RET.retriever.HaystackContextRelevanceMetric': 0.0, 'metrics.VAL.RET.retriever.MAPAtKMetric': 0.0}\n"
     ]
    },
    {
     "name": "stderr",
     "output_type": "stream",
     "text": [
      "C:\\Users\\Besitzer\\AppData\\Local\\Temp\\ipykernel_16300\\158029723.py:10: FutureWarning: Downcasting behavior in `replace` is deprecated and will be removed in a future version. To retain the old behavior, explicitly call `result.infer_objects(copy=False)`. To opt-in to the future behavior, set `pd.set_option('future.no_silent_downcasting', True)`\n",
      "  run_metrics = run_metrics.replace(\"\", 0)\n"
     ]
    },
    {
     "name": "stdout",
     "output_type": "stream",
     "text": [
      "🏃 View run 62de284c66464ac8b5451115e15abd49 at: http://91.99.14.73:8080/#/experiments/525945623195643983/runs/64e5a3cbe2c64af39f9aac03a01a8845\n",
      "🧪 View experiment at: http://91.99.14.73:8080/#/experiments/525945623195643983\n",
      "{'metrics.indexing_duration': 0.0, 'metrics.VAL.SYS..memory_process_mean_mb': 0.0, 'metrics.VAL.E2E..MatthewsCorrCoefMetric': 0.23585188529775197, 'metrics.VAL.SYS..cpu_process_min': 0.0, 'metrics.VAL.SYS..duration_seconds': 7325.632251, 'metrics.VAL.E2E..F1ScoreMetric': 0.4470588235294118, 'metrics.VAL.RET.embedding_retriever.MAPAtKMetric': 0.0, 'metrics.VAL.E2E..FalsePositiveRateMetric': 0.13192612137203166, 'metrics.VAL.RET.bm25_retriever.HaystackContextRelevanceMetric': 0.0, 'metrics.VAL.SYS..memory_process_max_mb': 0.0, 'metrics.VAL.GEN.llm.FormatValidatorMetric': 0.5586206896551724, 'metrics.VAL.SYS..cpu_system_min': 0.0, 'metrics.VAL.SYS..cpu_process_max': 33.8, 'metrics.VAL.SYS..memory_system_percent_min': 0.0, 'metrics.VAL.E2E..PrecisionMetric': 0.6951219512195121, 'metrics.VAL.SYS..memory_process_min_mb': 0.0, 'metrics.VAL.E2E..RecallMetric': 0.32947976878612717, 'metrics.VAL.GEN.llm.AnswerRelevancyMetric': 0.636551724137931, 'metrics.VAL.E2E..FalseNegativeRateMetric': 0.6705202312138728, 'metrics.VAL.SYS..memory_system_percent_mean': 0.0, 'metrics.VAL.E2E..AccuracyMetric': 0.6110344827586207, 'metrics.VAL.RET.embedding_retriever.HaystackContextRelevanceMetric': 0.0, 'metrics.VAL.SYS..memory_system_percent_max': 0.0, 'metrics.VAL.SYS..memory_system_used_max_mb': 0.0, 'metrics.VAL.SYS..memory_system_used_mean_mb': 0.0, 'metrics.VAL.SYS..cpu_system_mean': 21.677934240207808, 'metrics.VAL.SYS..cpu_process_mean': 0.7527103698133845, 'metrics.VAL.GEN.llm.ContextUtilizationMetric': 0.0, 'metrics.VAL.RET.bm25_retriever.MAPAtKMetric': 0.0, 'metrics.VAL.SYS..cpu_system_max': 100.0, 'metrics.VAL.SYS..samples_count': 14629.0, 'metrics.VAL.SYS..memory_system_used_min_mb': 0.0, 'metrics.VAL.GEN.rewriter.ContextUtilizationMetric': 0.0, 'metrics.VAL.RET.retriever_2.HaystackContextRelevanceMetric': 0.0, 'metrics.VAL.RET.retriever_1.HaystackContextRelevanceMetric': 0.0, 'metrics.VAL.RET.retriever_4.HaystackContextRelevanceMetric': 0.0, 'metrics.VAL.RET.retriever_3.HaystackContextRelevanceMetric': 0.0, 'metrics.VAL.RET.retriever_1.MAPAtKMetric': 0.0, 'metrics.VAL.GEN.rewriter.FormatValidatorMetric': 0.0, 'metrics.VAL.RET.retriever_0.MAPAtKMetric': 0.0, 'metrics.VAL.GEN.rewriter.AnswerRelevancyMetric': 0.0, 'metrics.VAL.RET.retriever_2.MAPAtKMetric': 0.0, 'metrics.VAL.RET.retriever_4.MAPAtKMetric': 0.0, 'metrics.VAL.RET.retriever_3.MAPAtKMetric': 0.0, 'metrics.VAL.RET.retriever_0.HaystackContextRelevanceMetric': 0.0, 'metrics.VAL.RET.retriever.HaystackContextRelevanceMetric': 0.0, 'metrics.VAL.RET.retriever.MAPAtKMetric': 0.0}\n"
     ]
    },
    {
     "name": "stderr",
     "output_type": "stream",
     "text": [
      "C:\\Users\\Besitzer\\AppData\\Local\\Temp\\ipykernel_16300\\158029723.py:10: FutureWarning: Downcasting behavior in `replace` is deprecated and will be removed in a future version. To retain the old behavior, explicitly call `result.infer_objects(copy=False)`. To opt-in to the future behavior, set `pd.set_option('future.no_silent_downcasting', True)`\n",
      "  run_metrics = run_metrics.replace(\"\", 0)\n"
     ]
    },
    {
     "name": "stdout",
     "output_type": "stream",
     "text": [
      "🏃 View run c80059c29ac34e37a2604c36ce2350fd at: http://91.99.14.73:8080/#/experiments/525945623195643983/runs/0ea0d6e36916469fb2f799ff88a49a49\n",
      "🧪 View experiment at: http://91.99.14.73:8080/#/experiments/525945623195643983\n",
      "{'metrics.indexing_duration': 0.0, 'metrics.VAL.SYS..memory_process_mean_mb': 0.0, 'metrics.VAL.E2E..MatthewsCorrCoefMetric': 0.28044792608556046, 'metrics.VAL.SYS..cpu_process_min': 0.0, 'metrics.VAL.SYS..duration_seconds': 3565.144819, 'metrics.VAL.E2E..F1ScoreMetric': 0.6658385093167701, 'metrics.VAL.RET.embedding_retriever.MAPAtKMetric': 0.0, 'metrics.VAL.E2E..FalsePositiveRateMetric': 0.503957783641161, 'metrics.VAL.RET.bm25_retriever.HaystackContextRelevanceMetric': 0.0, 'metrics.VAL.SYS..memory_process_max_mb': 0.0, 'metrics.VAL.GEN.llm.FormatValidatorMetric': 0.9986206896551724, 'metrics.VAL.SYS..cpu_system_min': 0.0, 'metrics.VAL.SYS..cpu_process_max': 46.0, 'metrics.VAL.SYS..memory_system_percent_min': 0.0, 'metrics.VAL.E2E..PrecisionMetric': 0.5838779956427015, 'metrics.VAL.SYS..memory_process_min_mb': 0.0, 'metrics.VAL.E2E..RecallMetric': 0.7745664739884393, 'metrics.VAL.GEN.llm.AnswerRelevancyMetric': 0.8855172413793103, 'metrics.VAL.E2E..FalseNegativeRateMetric': 0.2254335260115607, 'metrics.VAL.SYS..memory_system_percent_mean': 0.0, 'metrics.VAL.E2E..AccuracyMetric': 0.6289655172413793, 'metrics.VAL.RET.embedding_retriever.HaystackContextRelevanceMetric': 0.0, 'metrics.VAL.SYS..memory_system_percent_max': 0.0, 'metrics.VAL.SYS..memory_system_used_max_mb': 0.0, 'metrics.VAL.SYS..memory_system_used_mean_mb': 0.0, 'metrics.VAL.SYS..cpu_system_mean': 27.44460674157304, 'metrics.VAL.SYS..cpu_process_mean': 1.3850421348314608, 'metrics.VAL.GEN.llm.ContextUtilizationMetric': 0.0, 'metrics.VAL.RET.bm25_retriever.MAPAtKMetric': 0.0, 'metrics.VAL.SYS..cpu_system_max': 100.0, 'metrics.VAL.SYS..samples_count': 7120.0, 'metrics.VAL.SYS..memory_system_used_min_mb': 0.0, 'metrics.VAL.GEN.rewriter.ContextUtilizationMetric': 0.0, 'metrics.VAL.RET.retriever_2.HaystackContextRelevanceMetric': 0.0, 'metrics.VAL.RET.retriever_1.HaystackContextRelevanceMetric': 0.0, 'metrics.VAL.RET.retriever_4.HaystackContextRelevanceMetric': 0.0, 'metrics.VAL.RET.retriever_3.HaystackContextRelevanceMetric': 0.0, 'metrics.VAL.RET.retriever_1.MAPAtKMetric': 0.0, 'metrics.VAL.GEN.rewriter.FormatValidatorMetric': 0.0, 'metrics.VAL.RET.retriever_0.MAPAtKMetric': 0.0, 'metrics.VAL.GEN.rewriter.AnswerRelevancyMetric': 0.0, 'metrics.VAL.RET.retriever_2.MAPAtKMetric': 0.0, 'metrics.VAL.RET.retriever_4.MAPAtKMetric': 0.0, 'metrics.VAL.RET.retriever_3.MAPAtKMetric': 0.0, 'metrics.VAL.RET.retriever_0.HaystackContextRelevanceMetric': 0.0, 'metrics.VAL.RET.retriever.HaystackContextRelevanceMetric': 0.0, 'metrics.VAL.RET.retriever.MAPAtKMetric': 0.0}\n"
     ]
    },
    {
     "name": "stderr",
     "output_type": "stream",
     "text": [
      "C:\\Users\\Besitzer\\AppData\\Local\\Temp\\ipykernel_16300\\158029723.py:10: FutureWarning: Downcasting behavior in `replace` is deprecated and will be removed in a future version. To retain the old behavior, explicitly call `result.infer_objects(copy=False)`. To opt-in to the future behavior, set `pd.set_option('future.no_silent_downcasting', True)`\n",
      "  run_metrics = run_metrics.replace(\"\", 0)\n"
     ]
    },
    {
     "name": "stdout",
     "output_type": "stream",
     "text": [
      "🏃 View run 5f7efa6ec96a461dbd85733e9bb811b6 at: http://91.99.14.73:8080/#/experiments/525945623195643983/runs/08bc17e2849740faa797cee10c612e5a\n",
      "🧪 View experiment at: http://91.99.14.73:8080/#/experiments/525945623195643983\n",
      "{'metrics.indexing_duration': 0.0, 'metrics.VAL.SYS..memory_process_mean_mb': 0.0, 'metrics.VAL.E2E..MatthewsCorrCoefMetric': 0.33487225708702745, 'metrics.VAL.SYS..cpu_process_min': 0.0, 'metrics.VAL.SYS..duration_seconds': 12077.604539, 'metrics.VAL.E2E..F1ScoreMetric': 0.6813471502590673, 'metrics.VAL.RET.embedding_retriever.MAPAtKMetric': 0.0, 'metrics.VAL.E2E..FalsePositiveRateMetric': 0.43007915567282323, 'metrics.VAL.RET.bm25_retriever.HaystackContextRelevanceMetric': 0.0, 'metrics.VAL.SYS..memory_process_max_mb': 0.0, 'metrics.VAL.GEN.llm.FormatValidatorMetric': 0.8524137931034482, 'metrics.VAL.SYS..cpu_system_min': 0.0, 'metrics.VAL.SYS..cpu_process_max': 27.9, 'metrics.VAL.SYS..memory_system_percent_min': 0.0, 'metrics.VAL.E2E..PrecisionMetric': 0.6173708920187794, 'metrics.VAL.SYS..memory_process_min_mb': 0.0, 'metrics.VAL.E2E..RecallMetric': 0.7601156069364162, 'metrics.VAL.GEN.llm.AnswerRelevancyMetric': 0.941103448275862, 'metrics.VAL.E2E..FalseNegativeRateMetric': 0.2398843930635838, 'metrics.VAL.SYS..memory_system_percent_mean': 0.0, 'metrics.VAL.E2E..AccuracyMetric': 0.6606896551724138, 'metrics.VAL.RET.embedding_retriever.HaystackContextRelevanceMetric': 0.0, 'metrics.VAL.SYS..memory_system_percent_max': 0.0, 'metrics.VAL.SYS..memory_system_used_max_mb': 0.0, 'metrics.VAL.SYS..memory_system_used_mean_mb': 0.0, 'metrics.VAL.SYS..cpu_system_mean': 19.64770927484556, 'metrics.VAL.SYS..cpu_process_mean': 0.6713918487499482, 'metrics.VAL.GEN.llm.ContextUtilizationMetric': 0.0, 'metrics.VAL.RET.bm25_retriever.MAPAtKMetric': 0.0, 'metrics.VAL.SYS..cpu_system_max': 100.0, 'metrics.VAL.SYS..samples_count': 24119.0, 'metrics.VAL.SYS..memory_system_used_min_mb': 0.0, 'metrics.VAL.GEN.rewriter.ContextUtilizationMetric': 0.0, 'metrics.VAL.RET.retriever_2.HaystackContextRelevanceMetric': 0.0, 'metrics.VAL.RET.retriever_1.HaystackContextRelevanceMetric': 0.0, 'metrics.VAL.RET.retriever_4.HaystackContextRelevanceMetric': 0.0, 'metrics.VAL.RET.retriever_3.HaystackContextRelevanceMetric': 0.0, 'metrics.VAL.RET.retriever_1.MAPAtKMetric': 0.0, 'metrics.VAL.GEN.rewriter.FormatValidatorMetric': 0.0, 'metrics.VAL.RET.retriever_0.MAPAtKMetric': 0.0, 'metrics.VAL.GEN.rewriter.AnswerRelevancyMetric': 0.0, 'metrics.VAL.RET.retriever_2.MAPAtKMetric': 0.0, 'metrics.VAL.RET.retriever_4.MAPAtKMetric': 0.0, 'metrics.VAL.RET.retriever_3.MAPAtKMetric': 0.0, 'metrics.VAL.RET.retriever_0.HaystackContextRelevanceMetric': 0.0, 'metrics.VAL.RET.retriever.HaystackContextRelevanceMetric': 0.0, 'metrics.VAL.RET.retriever.MAPAtKMetric': 0.0}\n"
     ]
    },
    {
     "name": "stderr",
     "output_type": "stream",
     "text": [
      "C:\\Users\\Besitzer\\AppData\\Local\\Temp\\ipykernel_16300\\158029723.py:10: FutureWarning: Downcasting behavior in `replace` is deprecated and will be removed in a future version. To retain the old behavior, explicitly call `result.infer_objects(copy=False)`. To opt-in to the future behavior, set `pd.set_option('future.no_silent_downcasting', True)`\n",
      "  run_metrics = run_metrics.replace(\"\", 0)\n"
     ]
    },
    {
     "name": "stdout",
     "output_type": "stream",
     "text": [
      "🏃 View run 9cdb34230c43406e98563129ad11a3b7 at: http://91.99.14.73:8080/#/experiments/525945623195643983/runs/a92a9e9107334e6691dd2216c8ce61ee\n",
      "🧪 View experiment at: http://91.99.14.73:8080/#/experiments/525945623195643983\n",
      "{'metrics.indexing_duration': 0.0006289482116699219, 'metrics.VAL.SYS..memory_process_mean_mb': 0.0, 'metrics.VAL.E2E..MatthewsCorrCoefMetric': 0.30264057210734246, 'metrics.VAL.SYS..cpu_process_min': 0.0, 'metrics.VAL.SYS..duration_seconds': 4944.289814, 'metrics.VAL.E2E..F1ScoreMetric': 0.6928799149840595, 'metrics.VAL.RET.embedding_retriever.MAPAtKMetric': 0.0, 'metrics.VAL.E2E..FalsePositiveRateMetric': 0.7097625329815304, 'metrics.VAL.RET.bm25_retriever.HaystackContextRelevanceMetric': 0.0, 'metrics.VAL.SYS..memory_process_max_mb': 0.0, 'metrics.VAL.GEN.llm.FormatValidatorMetric': 1.0, 'metrics.VAL.SYS..cpu_system_min': 1.0, 'metrics.VAL.SYS..cpu_process_max': 18.0, 'metrics.VAL.SYS..memory_system_percent_min': 0.0, 'metrics.VAL.E2E..PrecisionMetric': 0.5478991596638656, 'metrics.VAL.SYS..memory_process_min_mb': 0.0, 'metrics.VAL.E2E..RecallMetric': 0.9421965317919075, 'metrics.VAL.GEN.llm.AnswerRelevancyMetric': 0.92, 'metrics.VAL.E2E..FalseNegativeRateMetric': 0.057803468208092484, 'metrics.VAL.SYS..memory_system_percent_mean': 0.0, 'metrics.VAL.E2E..AccuracyMetric': 0.6013793103448276, 'metrics.VAL.RET.embedding_retriever.HaystackContextRelevanceMetric': 0.0, 'metrics.VAL.SYS..memory_system_percent_max': 0.0, 'metrics.VAL.SYS..memory_system_used_max_mb': 0.0, 'metrics.VAL.SYS..memory_system_used_mean_mb': 0.0, 'metrics.VAL.SYS..cpu_system_mean': 27.02279724529066, 'metrics.VAL.SYS..cpu_process_mean': 1.2075248126392546, 'metrics.VAL.GEN.llm.ContextUtilizationMetric': 0.0, 'metrics.VAL.RET.bm25_retriever.MAPAtKMetric': 0.0, 'metrics.VAL.SYS..cpu_system_max': 100.0, 'metrics.VAL.SYS..samples_count': 9874.0, 'metrics.VAL.SYS..memory_system_used_min_mb': 0.0, 'metrics.VAL.GEN.rewriter.ContextUtilizationMetric': 0.0, 'metrics.VAL.RET.retriever_2.HaystackContextRelevanceMetric': 0.0, 'metrics.VAL.RET.retriever_1.HaystackContextRelevanceMetric': 0.0, 'metrics.VAL.RET.retriever_4.HaystackContextRelevanceMetric': 0.0, 'metrics.VAL.RET.retriever_3.HaystackContextRelevanceMetric': 0.0, 'metrics.VAL.RET.retriever_1.MAPAtKMetric': 0.0, 'metrics.VAL.GEN.rewriter.FormatValidatorMetric': 0.0, 'metrics.VAL.RET.retriever_0.MAPAtKMetric': 0.0, 'metrics.VAL.GEN.rewriter.AnswerRelevancyMetric': 0.0, 'metrics.VAL.RET.retriever_2.MAPAtKMetric': 0.0, 'metrics.VAL.RET.retriever_4.MAPAtKMetric': 0.0, 'metrics.VAL.RET.retriever_3.MAPAtKMetric': 0.0, 'metrics.VAL.RET.retriever_0.HaystackContextRelevanceMetric': 0.0, 'metrics.VAL.RET.retriever.HaystackContextRelevanceMetric': 0.0, 'metrics.VAL.RET.retriever.MAPAtKMetric': 0.0}\n"
     ]
    },
    {
     "name": "stderr",
     "output_type": "stream",
     "text": [
      "C:\\Users\\Besitzer\\AppData\\Local\\Temp\\ipykernel_16300\\158029723.py:10: FutureWarning: Downcasting behavior in `replace` is deprecated and will be removed in a future version. To retain the old behavior, explicitly call `result.infer_objects(copy=False)`. To opt-in to the future behavior, set `pd.set_option('future.no_silent_downcasting', True)`\n",
      "  run_metrics = run_metrics.replace(\"\", 0)\n"
     ]
    },
    {
     "name": "stdout",
     "output_type": "stream",
     "text": [
      "🏃 View run d2beb8913af9447488062954606b16d9 at: http://91.99.14.73:8080/#/experiments/525945623195643983/runs/3919a3450f314efb97c86af926246089\n",
      "🧪 View experiment at: http://91.99.14.73:8080/#/experiments/525945623195643983\n",
      "{'metrics.indexing_duration': 0.0, 'metrics.VAL.SYS..memory_process_mean_mb': 0.0, 'metrics.VAL.E2E..MatthewsCorrCoefMetric': 0.28435631328396355, 'metrics.VAL.SYS..cpu_process_min': 0.0, 'metrics.VAL.SYS..duration_seconds': 3955.812644, 'metrics.VAL.E2E..F1ScoreMetric': 0.6761565836298933, 'metrics.VAL.RET.embedding_retriever.MAPAtKMetric': 0.0, 'metrics.VAL.E2E..FalsePositiveRateMetric': 0.5593667546174143, 'metrics.VAL.RET.bm25_retriever.HaystackContextRelevanceMetric': 0.0, 'metrics.VAL.SYS..memory_process_max_mb': 0.0, 'metrics.VAL.GEN.llm.FormatValidatorMetric': 0.9986206896551724, 'metrics.VAL.SYS..cpu_system_min': 0.0, 'metrics.VAL.SYS..cpu_process_max': 38.0, 'metrics.VAL.SYS..memory_system_percent_min': 0.0, 'metrics.VAL.E2E..PrecisionMetric': 0.5734406438631791, 'metrics.VAL.SYS..memory_process_min_mb': 0.0, 'metrics.VAL.E2E..RecallMetric': 0.8236994219653179, 'metrics.VAL.GEN.llm.AnswerRelevancyMetric': 0.8820689655172413, 'metrics.VAL.E2E..FalseNegativeRateMetric': 0.17630057803468208, 'metrics.VAL.SYS..memory_system_percent_mean': 0.0, 'metrics.VAL.E2E..AccuracyMetric': 0.623448275862069, 'metrics.VAL.RET.embedding_retriever.HaystackContextRelevanceMetric': 0.0, 'metrics.VAL.SYS..memory_system_percent_max': 0.0, 'metrics.VAL.SYS..memory_system_used_max_mb': 0.0, 'metrics.VAL.SYS..memory_system_used_mean_mb': 0.0, 'metrics.VAL.SYS..cpu_system_mean': 25.606113924050632, 'metrics.VAL.SYS..cpu_process_mean': 1.1092911392405065, 'metrics.VAL.GEN.llm.ContextUtilizationMetric': 0.0, 'metrics.VAL.RET.bm25_retriever.MAPAtKMetric': 0.0, 'metrics.VAL.SYS..cpu_system_max': 99.0, 'metrics.VAL.SYS..samples_count': 7900.0, 'metrics.VAL.SYS..memory_system_used_min_mb': 0.0, 'metrics.VAL.GEN.rewriter.ContextUtilizationMetric': 0.0, 'metrics.VAL.RET.retriever_2.HaystackContextRelevanceMetric': 0.0, 'metrics.VAL.RET.retriever_1.HaystackContextRelevanceMetric': 0.0, 'metrics.VAL.RET.retriever_4.HaystackContextRelevanceMetric': 0.0, 'metrics.VAL.RET.retriever_3.HaystackContextRelevanceMetric': 0.0, 'metrics.VAL.RET.retriever_1.MAPAtKMetric': 0.0, 'metrics.VAL.GEN.rewriter.FormatValidatorMetric': 0.0, 'metrics.VAL.RET.retriever_0.MAPAtKMetric': 0.0, 'metrics.VAL.GEN.rewriter.AnswerRelevancyMetric': 0.0, 'metrics.VAL.RET.retriever_2.MAPAtKMetric': 0.0, 'metrics.VAL.RET.retriever_4.MAPAtKMetric': 0.0, 'metrics.VAL.RET.retriever_3.MAPAtKMetric': 0.0, 'metrics.VAL.RET.retriever_0.HaystackContextRelevanceMetric': 0.0, 'metrics.VAL.RET.retriever.HaystackContextRelevanceMetric': 0.0, 'metrics.VAL.RET.retriever.MAPAtKMetric': 0.0}\n"
     ]
    },
    {
     "name": "stderr",
     "output_type": "stream",
     "text": [
      "C:\\Users\\Besitzer\\AppData\\Local\\Temp\\ipykernel_16300\\158029723.py:10: FutureWarning: Downcasting behavior in `replace` is deprecated and will be removed in a future version. To retain the old behavior, explicitly call `result.infer_objects(copy=False)`. To opt-in to the future behavior, set `pd.set_option('future.no_silent_downcasting', True)`\n",
      "  run_metrics = run_metrics.replace(\"\", 0)\n"
     ]
    },
    {
     "name": "stdout",
     "output_type": "stream",
     "text": [
      "🏃 View run 97e4782a82d4431bb717e89e5806f886 at: http://91.99.14.73:8080/#/experiments/525945623195643983/runs/e8ad0e6c82664fedade47f88e711bf5d\n",
      "🧪 View experiment at: http://91.99.14.73:8080/#/experiments/525945623195643983\n"
     ]
    }
   ],
   "source": [
    "# replace nan and na with empty string\n",
    "runs = runs.fillna(\"\")\n",
    "\n",
    "for run_id, params in new_run_params.items():\n",
    "    run = runs[runs[\"run_id\"] == run_id]\n",
    "\n",
    "    run_metrics = run.loc[:, run.columns.str.startswith(\"metrics.\")]\n",
    "\n",
    "    # replace empty strings with 0\n",
    "    run_metrics = run_metrics.replace(\"\", 0)\n",
    "    run_metrics = run_metrics.astype(float, errors=\"ignore\")\n",
    "    print(run_metrics.iloc[0].to_dict())\n",
    "\n",
    "    run_params = run.loc[:, ~run.columns.str.startswith(\"metrics.\")]\n",
    "\n",
    "    mlflow.set_experiment(experiment_name=\"config-validation-3\")\n",
    "    mlflow.start_run(run_name=run_id)\n",
    "    mlflow.log_params(run_params.iloc[0].to_dict())\n",
    "    mlflow.log_params(params)\n",
    "    mlflow.log_metrics(run_metrics.iloc[0].to_dict())\n",
    "    mlflow.end_run()\n",
    "\n"
   ]
  }
 ],
 "metadata": {
  "kernelspec": {
   "display_name": ".venv-312",
   "language": "python",
   "name": "python3"
  },
  "language_info": {
   "codemirror_mode": {
    "name": "ipython",
    "version": 3
   },
   "file_extension": ".py",
   "mimetype": "text/x-python",
   "name": "python",
   "nbconvert_exporter": "python",
   "pygments_lexer": "ipython3",
   "version": "3.12.8"
  }
 },
 "nbformat": 4,
 "nbformat_minor": 2
}
