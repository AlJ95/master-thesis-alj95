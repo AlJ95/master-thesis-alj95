{
 "cells": [
  {
   "cell_type": "code",
   "execution_count": 41,
   "metadata": {},
   "outputs": [],
   "source": [
    "import mlflow\n",
    "import json\n"
   ]
  },
  {
   "cell_type": "code",
   "execution_count": 42,
   "metadata": {},
   "outputs": [
    {
     "data": {
      "text/html": [
       "<div>\n",
       "<style scoped>\n",
       "    .dataframe tbody tr th:only-of-type {\n",
       "        vertical-align: middle;\n",
       "    }\n",
       "\n",
       "    .dataframe tbody tr th {\n",
       "        vertical-align: top;\n",
       "    }\n",
       "\n",
       "    .dataframe thead th {\n",
       "        text-align: right;\n",
       "    }\n",
       "</style>\n",
       "<table border=\"1\" class=\"dataframe\">\n",
       "  <thead>\n",
       "    <tr style=\"text-align: right;\">\n",
       "      <th></th>\n",
       "      <th>run_id</th>\n",
       "      <th>experiment_id</th>\n",
       "      <th>status</th>\n",
       "      <th>artifact_uri</th>\n",
       "      <th>start_time</th>\n",
       "      <th>end_time</th>\n",
       "      <th>metrics.indexing_duration</th>\n",
       "      <th>metrics.VAL.SYS..memory_process_mean_mb</th>\n",
       "      <th>metrics.VAL.E2E..MatthewsCorrCoefMetric</th>\n",
       "      <th>metrics.VAL.SYS..cpu_process_min</th>\n",
       "      <th>...</th>\n",
       "      <th>params.components.reranker.init_parameters.calibration_factor</th>\n",
       "      <th>params.metadata.Comment</th>\n",
       "      <th>params.metadata.Reasoning</th>\n",
       "      <th>tags.mlflow.source.name</th>\n",
       "      <th>tags.mlflow.source.type</th>\n",
       "      <th>tags.mlflow.user</th>\n",
       "      <th>tags.mlflow.runName</th>\n",
       "      <th>tags.mlflow.source.git.commit</th>\n",
       "      <th>tags.LocalEmbedder</th>\n",
       "      <th>tags.Succesful</th>\n",
       "    </tr>\n",
       "  </thead>\n",
       "  <tbody>\n",
       "    <tr>\n",
       "      <th>0</th>\n",
       "      <td>7a404588695e46899981deec7af4b9fb</td>\n",
       "      <td>113580098883527177</td>\n",
       "      <td>RUNNING</td>\n",
       "      <td>mlflow-artifacts:/113580098883527177/7a4045886...</td>\n",
       "      <td>2025-04-28 08:42:04.663000+00:00</td>\n",
       "      <td>NaT</td>\n",
       "      <td>2161.268525</td>\n",
       "      <td>NaN</td>\n",
       "      <td>NaN</td>\n",
       "      <td>NaN</td>\n",
       "      <td>...</td>\n",
       "      <td>None</td>\n",
       "      <td>None</td>\n",
       "      <td>None</td>\n",
       "      <td>/srv/master-thesis-alj95/code/ragnroll_project...</td>\n",
       "      <td>LOCAL</td>\n",
       "      <td>root</td>\n",
       "      <td>from_matrix.rag_hybrid_retriever_0.yaml</td>\n",
       "      <td>5ec5f265dd41e8f579845bb77d3b241f39fea2a6</td>\n",
       "      <td>None</td>\n",
       "      <td>None</td>\n",
       "    </tr>\n",
       "    <tr>\n",
       "      <th>1</th>\n",
       "      <td>5ce10fdfaaa749d488f3dd4f6e2d6341</td>\n",
       "      <td>113580098883527177</td>\n",
       "      <td>FINISHED</td>\n",
       "      <td>mlflow-artifacts:/113580098883527177/5ce10fdfa...</td>\n",
       "      <td>2025-04-28 07:18:13.047000+00:00</td>\n",
       "      <td>2025-04-28 08:01:36.013000+00:00</td>\n",
       "      <td>2196.897666</td>\n",
       "      <td>4770.756956</td>\n",
       "      <td>0.301511</td>\n",
       "      <td>0.0</td>\n",
       "      <td>...</td>\n",
       "      <td>None</td>\n",
       "      <td>None</td>\n",
       "      <td>None</td>\n",
       "      <td>/srv/master-thesis-alj95/code/ragnroll_project...</td>\n",
       "      <td>LOCAL</td>\n",
       "      <td>root</td>\n",
       "      <td>from_matrix.rag_hybrid_retriever_0.yaml</td>\n",
       "      <td>5ec5f265dd41e8f579845bb77d3b241f39fea2a6</td>\n",
       "      <td>None</td>\n",
       "      <td>None</td>\n",
       "    </tr>\n",
       "    <tr>\n",
       "      <th>2</th>\n",
       "      <td>04cc45743ea54f6daaf03c6af2616f42</td>\n",
       "      <td>113580098883527177</td>\n",
       "      <td>RUNNING</td>\n",
       "      <td>mlflow-artifacts:/113580098883527177/04cc45743...</td>\n",
       "      <td>2025-04-27 15:09:44.001000+00:00</td>\n",
       "      <td>NaT</td>\n",
       "      <td>NaN</td>\n",
       "      <td>NaN</td>\n",
       "      <td>NaN</td>\n",
       "      <td>NaN</td>\n",
       "      <td>...</td>\n",
       "      <td>None</td>\n",
       "      <td>None</td>\n",
       "      <td>None</td>\n",
       "      <td>/srv/master-thesis-alj95/code/ragnroll_project...</td>\n",
       "      <td>LOCAL</td>\n",
       "      <td>root</td>\n",
       "      <td>from_pipeline.cp0_rag_dense_4r_hf_embedder.yaml</td>\n",
       "      <td>be1a7ce3b888a40f5abfedafb17a7db043126dbf</td>\n",
       "      <td>True</td>\n",
       "      <td>None</td>\n",
       "    </tr>\n",
       "    <tr>\n",
       "      <th>3</th>\n",
       "      <td>30ce7e43e39a4ec5a3cb138b4e961e78</td>\n",
       "      <td>113580098883527177</td>\n",
       "      <td>FINISHED</td>\n",
       "      <td>mlflow-artifacts:/113580098883527177/30ce7e43e...</td>\n",
       "      <td>2025-04-27 03:06:32.862000+00:00</td>\n",
       "      <td>2025-04-27 11:45:15.568000+00:00</td>\n",
       "      <td>0.021253</td>\n",
       "      <td>NaN</td>\n",
       "      <td>0.000000</td>\n",
       "      <td>0.0</td>\n",
       "      <td>...</td>\n",
       "      <td>None</td>\n",
       "      <td>None</td>\n",
       "      <td>None</td>\n",
       "      <td>/srv/master-thesis-alj95/code/ragnroll_project...</td>\n",
       "      <td>LOCAL</td>\n",
       "      <td>root</td>\n",
       "      <td>from_matrix.rag_dense_4r_iterative_max5_ciri_1...</td>\n",
       "      <td>5d5f4a81030a9102e49636b7f042776935b98b6c</td>\n",
       "      <td>None</td>\n",
       "      <td>None</td>\n",
       "    </tr>\n",
       "    <tr>\n",
       "      <th>4</th>\n",
       "      <td>70028b7cd3054ec69b802bd46f7327b2</td>\n",
       "      <td>113580098883527177</td>\n",
       "      <td>FINISHED</td>\n",
       "      <td>mlflow-artifacts:/113580098883527177/70028b7cd...</td>\n",
       "      <td>2025-04-26 18:42:39.803000+00:00</td>\n",
       "      <td>2025-04-27 03:06:32.838000+00:00</td>\n",
       "      <td>0.046402</td>\n",
       "      <td>NaN</td>\n",
       "      <td>0.000000</td>\n",
       "      <td>0.0</td>\n",
       "      <td>...</td>\n",
       "      <td>None</td>\n",
       "      <td>None</td>\n",
       "      <td>None</td>\n",
       "      <td>/srv/master-thesis-alj95/code/ragnroll_project...</td>\n",
       "      <td>LOCAL</td>\n",
       "      <td>root</td>\n",
       "      <td>from_matrix.rag_dense_4r_iterative_max5_ciri_0...</td>\n",
       "      <td>5d5f4a81030a9102e49636b7f042776935b98b6c</td>\n",
       "      <td>None</td>\n",
       "      <td>None</td>\n",
       "    </tr>\n",
       "  </tbody>\n",
       "</table>\n",
       "<p>5 rows × 302 columns</p>\n",
       "</div>"
      ],
      "text/plain": [
       "                             run_id       experiment_id    status  \\\n",
       "0  7a404588695e46899981deec7af4b9fb  113580098883527177   RUNNING   \n",
       "1  5ce10fdfaaa749d488f3dd4f6e2d6341  113580098883527177  FINISHED   \n",
       "2  04cc45743ea54f6daaf03c6af2616f42  113580098883527177   RUNNING   \n",
       "3  30ce7e43e39a4ec5a3cb138b4e961e78  113580098883527177  FINISHED   \n",
       "4  70028b7cd3054ec69b802bd46f7327b2  113580098883527177  FINISHED   \n",
       "\n",
       "                                        artifact_uri  \\\n",
       "0  mlflow-artifacts:/113580098883527177/7a4045886...   \n",
       "1  mlflow-artifacts:/113580098883527177/5ce10fdfa...   \n",
       "2  mlflow-artifacts:/113580098883527177/04cc45743...   \n",
       "3  mlflow-artifacts:/113580098883527177/30ce7e43e...   \n",
       "4  mlflow-artifacts:/113580098883527177/70028b7cd...   \n",
       "\n",
       "                        start_time                         end_time  \\\n",
       "0 2025-04-28 08:42:04.663000+00:00                              NaT   \n",
       "1 2025-04-28 07:18:13.047000+00:00 2025-04-28 08:01:36.013000+00:00   \n",
       "2 2025-04-27 15:09:44.001000+00:00                              NaT   \n",
       "3 2025-04-27 03:06:32.862000+00:00 2025-04-27 11:45:15.568000+00:00   \n",
       "4 2025-04-26 18:42:39.803000+00:00 2025-04-27 03:06:32.838000+00:00   \n",
       "\n",
       "   metrics.indexing_duration  metrics.VAL.SYS..memory_process_mean_mb  \\\n",
       "0                2161.268525                                      NaN   \n",
       "1                2196.897666                              4770.756956   \n",
       "2                        NaN                                      NaN   \n",
       "3                   0.021253                                      NaN   \n",
       "4                   0.046402                                      NaN   \n",
       "\n",
       "   metrics.VAL.E2E..MatthewsCorrCoefMetric  metrics.VAL.SYS..cpu_process_min  \\\n",
       "0                                      NaN                               NaN   \n",
       "1                                 0.301511                               0.0   \n",
       "2                                      NaN                               NaN   \n",
       "3                                 0.000000                               0.0   \n",
       "4                                 0.000000                               0.0   \n",
       "\n",
       "   ...  params.components.reranker.init_parameters.calibration_factor  \\\n",
       "0  ...                                               None               \n",
       "1  ...                                               None               \n",
       "2  ...                                               None               \n",
       "3  ...                                               None               \n",
       "4  ...                                               None               \n",
       "\n",
       "   params.metadata.Comment  params.metadata.Reasoning  \\\n",
       "0                     None                       None   \n",
       "1                     None                       None   \n",
       "2                     None                       None   \n",
       "3                     None                       None   \n",
       "4                     None                       None   \n",
       "\n",
       "                             tags.mlflow.source.name  tags.mlflow.source.type  \\\n",
       "0  /srv/master-thesis-alj95/code/ragnroll_project...                    LOCAL   \n",
       "1  /srv/master-thesis-alj95/code/ragnroll_project...                    LOCAL   \n",
       "2  /srv/master-thesis-alj95/code/ragnroll_project...                    LOCAL   \n",
       "3  /srv/master-thesis-alj95/code/ragnroll_project...                    LOCAL   \n",
       "4  /srv/master-thesis-alj95/code/ragnroll_project...                    LOCAL   \n",
       "\n",
       "   tags.mlflow.user                                tags.mlflow.runName  \\\n",
       "0              root            from_matrix.rag_hybrid_retriever_0.yaml   \n",
       "1              root            from_matrix.rag_hybrid_retriever_0.yaml   \n",
       "2              root    from_pipeline.cp0_rag_dense_4r_hf_embedder.yaml   \n",
       "3              root  from_matrix.rag_dense_4r_iterative_max5_ciri_1...   \n",
       "4              root  from_matrix.rag_dense_4r_iterative_max5_ciri_0...   \n",
       "\n",
       "              tags.mlflow.source.git.commit  tags.LocalEmbedder  \\\n",
       "0  5ec5f265dd41e8f579845bb77d3b241f39fea2a6                None   \n",
       "1  5ec5f265dd41e8f579845bb77d3b241f39fea2a6                None   \n",
       "2  be1a7ce3b888a40f5abfedafb17a7db043126dbf                True   \n",
       "3  5d5f4a81030a9102e49636b7f042776935b98b6c                None   \n",
       "4  5d5f4a81030a9102e49636b7f042776935b98b6c                None   \n",
       "\n",
       "   tags.Succesful  \n",
       "0            None  \n",
       "1            None  \n",
       "2            None  \n",
       "3            None  \n",
       "4            None  \n",
       "\n",
       "[5 rows x 302 columns]"
      ]
     },
     "execution_count": 42,
     "metadata": {},
     "output_type": "execute_result"
    }
   ],
   "source": [
    "mlflow.set_tracking_uri(\"http://91.99.14.73:8080\")\n",
    "mlflow.set_experiment(experiment_name=\"config-validation\")\n",
    "\n",
    "runs = mlflow.search_runs()\n",
    "runs.head()\n"
   ]
  },
  {
   "cell_type": "code",
   "execution_count": 43,
   "metadata": {},
   "outputs": [
    {
     "name": "stdout",
     "output_type": "stream",
     "text": [
      "----------------------------------------------------------------------------------------------------\n",
      "haystack.components.builders.answer_builder.AnswerBuilder = True\n",
      "pipelines.components.embedder_adapter.EmbedderAdapter = True\n",
      "haystack.components.retrievers.in_memory.bm25_retriever.InMemoryBM25Retriever = True\n",
      "haystack.components.embedders.openai_text_embedder.OpenAITextEmbedder = True\n",
      "haystack.components.retrievers.in_memory.embedding_retriever.InMemoryEmbeddingRetriever = True\n",
      "haystack.components.generators.openai.OpenAIGenerator = True\n",
      "haystack.document_stores.in_memory.document_store.InMemoryDocumentStore = True\n",
      "haystack.components.builders.prompt_builder.PromptBuilder = True\n",
      "haystack.document_stores.in_memory.document_store.InMemoryDocumentStore = True\n",
      "haystack.components.joiners.document_joiner.DocumentJoiner = True\n",
      "----------------------------------------------------------------------------------------------------\n",
      "haystack.components.builders.answer_builder.AnswerBuilder = True\n",
      "pipelines.components.embedder_adapter.EmbedderAdapter = True\n",
      "haystack.components.retrievers.in_memory.bm25_retriever.InMemoryBM25Retriever = True\n",
      "haystack.components.embedders.openai_text_embedder.OpenAITextEmbedder = True\n",
      "haystack.components.retrievers.in_memory.embedding_retriever.InMemoryEmbeddingRetriever = True\n",
      "haystack.components.generators.openai.OpenAIGenerator = True\n",
      "haystack.document_stores.in_memory.document_store.InMemoryDocumentStore = True\n",
      "haystack.components.builders.prompt_builder.PromptBuilder = True\n",
      "haystack.document_stores.in_memory.document_store.InMemoryDocumentStore = True\n",
      "haystack.components.joiners.document_joiner.DocumentJoiner = True\n",
      "----------------------------------------------------------------------------------------------------\n",
      "haystack.components.builders.answer_builder.AnswerBuilder = True\n",
      "haystack.components.embedders.sentence_transformers_text_embedder.SentenceTransformersTextEmbedder = True\n",
      "haystack.components.generators.openai.OpenAIGenerator = True\n",
      "haystack.components.builders.prompt_builder.PromptBuilder = True\n",
      "haystack.components.rankers.lost_in_the_middle.LostInTheMiddleRanker = True\n",
      "haystack.document_stores.in_memory.document_store.InMemoryDocumentStore = True\n",
      "haystack.components.generators.openai.OpenAIGenerator = True\n",
      "haystack.components.converters.output_adapter.OutputAdapter = True\n",
      "single = True\n",
      "haystack.components.builders.prompt_builder.PromptBuilder = True\n",
      "env_var = True\n",
      "haystack.components.retrievers.in_memory.embedding_retriever.InMemoryEmbeddingRetriever = True\n",
      "----------------------------------------------------------------------------------------------------\n",
      "haystack.components.builders.answer_builder.AnswerBuilder = True\n",
      "haystack.components.generators.openai.OpenAIGenerator = True\n",
      "haystack.components.builders.prompt_builder.PromptBuilder = True\n",
      "haystack.components.rankers.lost_in_the_middle.LostInTheMiddleRanker = True\n",
      "haystack.components.generators.openai.OpenAIGenerator = True\n",
      "haystack.components.converters.output_adapter.OutputAdapter = True\n",
      "haystack.components.builders.prompt_builder.PromptBuilder = True\n",
      "haystack.document_stores.in_memory.document_store.InMemoryDocumentStore = True\n",
      "haystack.document_stores.in_memory.document_store.InMemoryDocumentStore = True\n",
      "haystack.components.retrievers.in_memory.embedding_retriever.InMemoryEmbeddingRetriever = True\n",
      "haystack.components.joiners.document_joiner.DocumentJoiner = True\n",
      "haystack.components.embedders.openai_text_embedder.OpenAITextEmbedder = True\n",
      "haystack.components.converters.output_adapter.OutputAdapter = True\n",
      "haystack.components.converters.output_adapter.OutputAdapter = True\n",
      "pipelines.cp1_rag_dense_4r_iterative_max5.IterativeEmbedding = True\n",
      "haystack.components.retrievers.in_memory.embedding_retriever.InMemoryEmbeddingRetriever = True\n",
      "haystack.components.embedders.openai_text_embedder.OpenAITextEmbedder = True\n",
      "haystack.components.converters.output_adapter.OutputAdapter = True\n",
      "haystack.document_stores.in_memory.document_store.InMemoryDocumentStore = True\n",
      "haystack.components.retrievers.in_memory.embedding_retriever.InMemoryEmbeddingRetriever = True\n",
      "haystack.document_stores.in_memory.document_store.InMemoryDocumentStore = True\n",
      "haystack.components.embedders.openai_text_embedder.OpenAITextEmbedder = True\n",
      "haystack.components.embedders.openai_text_embedder.OpenAITextEmbedder = True\n",
      "haystack.components.retrievers.in_memory.embedding_retriever.InMemoryEmbeddingRetriever = True\n",
      "haystack.components.retrievers.in_memory.embedding_retriever.InMemoryEmbeddingRetriever = True\n",
      "haystack.document_stores.in_memory.document_store.InMemoryDocumentStore = True\n",
      "haystack.components.converters.output_adapter.OutputAdapter = True\n",
      "haystack.components.embedders.openai_text_embedder.OpenAITextEmbedder = True\n",
      "haystack.components.converters.output_adapter.OutputAdapter = True\n",
      "----------------------------------------------------------------------------------------------------\n",
      "haystack.components.builders.answer_builder.AnswerBuilder = True\n",
      "haystack.components.generators.openai.OpenAIGenerator = True\n",
      "haystack.components.builders.prompt_builder.PromptBuilder = True\n",
      "haystack.components.rankers.lost_in_the_middle.LostInTheMiddleRanker = True\n",
      "haystack.components.generators.openai.OpenAIGenerator = True\n",
      "haystack.components.converters.output_adapter.OutputAdapter = True\n",
      "haystack.components.builders.prompt_builder.PromptBuilder = True\n",
      "haystack.document_stores.in_memory.document_store.InMemoryDocumentStore = True\n",
      "haystack.document_stores.in_memory.document_store.InMemoryDocumentStore = True\n",
      "haystack.components.retrievers.in_memory.embedding_retriever.InMemoryEmbeddingRetriever = True\n",
      "haystack.components.joiners.document_joiner.DocumentJoiner = True\n",
      "haystack.components.embedders.openai_text_embedder.OpenAITextEmbedder = True\n",
      "haystack.components.converters.output_adapter.OutputAdapter = True\n",
      "haystack.components.converters.output_adapter.OutputAdapter = True\n",
      "pipelines.cp1_rag_dense_4r_iterative_max5.IterativeEmbedding = True\n",
      "haystack.components.retrievers.in_memory.embedding_retriever.InMemoryEmbeddingRetriever = True\n",
      "haystack.components.embedders.openai_text_embedder.OpenAITextEmbedder = True\n",
      "haystack.components.converters.output_adapter.OutputAdapter = True\n",
      "haystack.document_stores.in_memory.document_store.InMemoryDocumentStore = True\n",
      "haystack.components.retrievers.in_memory.embedding_retriever.InMemoryEmbeddingRetriever = True\n",
      "haystack.document_stores.in_memory.document_store.InMemoryDocumentStore = True\n",
      "haystack.components.embedders.openai_text_embedder.OpenAITextEmbedder = True\n",
      "haystack.components.embedders.openai_text_embedder.OpenAITextEmbedder = True\n",
      "haystack.components.retrievers.in_memory.embedding_retriever.InMemoryEmbeddingRetriever = True\n",
      "haystack.components.retrievers.in_memory.embedding_retriever.InMemoryEmbeddingRetriever = True\n",
      "haystack.document_stores.in_memory.document_store.InMemoryDocumentStore = True\n",
      "haystack.components.converters.output_adapter.OutputAdapter = True\n",
      "haystack.components.embedders.openai_text_embedder.OpenAITextEmbedder = True\n",
      "haystack.components.converters.output_adapter.OutputAdapter = True\n",
      "----------------------------------------------------------------------------------------------------\n",
      "haystack.components.builders.answer_builder.AnswerBuilder = True\n",
      "haystack.components.generators.openai.OpenAIGenerator = True\n",
      "haystack.components.builders.prompt_builder.PromptBuilder = True\n",
      "haystack.document_stores.in_memory.document_store.InMemoryDocumentStore = True\n",
      "haystack.components.retrievers.in_memory.bm25_retriever.InMemoryBM25Retriever = True\n",
      "----------------------------------------------------------------------------------------------------\n",
      "haystack.components.builders.answer_builder.AnswerBuilder = True\n",
      "haystack.components.generators.openai.OpenAIGenerator = True\n",
      "haystack.components.builders.prompt_builder.PromptBuilder = True\n",
      "----------------------------------------------------------------------------------------------------\n",
      "haystack.components.builders.answer_builder.AnswerBuilder = True\n",
      "haystack.components.generators.openai.OpenAIGenerator = True\n",
      "haystack.components.builders.prompt_builder.PromptBuilder = True\n",
      "haystack.components.rankers.lost_in_the_middle.LostInTheMiddleRanker = True\n",
      "haystack.components.generators.openai.OpenAIGenerator = True\n",
      "haystack.components.converters.output_adapter.OutputAdapter = True\n",
      "haystack.components.builders.prompt_builder.PromptBuilder = True\n",
      "haystack.document_stores.in_memory.document_store.InMemoryDocumentStore = True\n",
      "haystack.document_stores.in_memory.document_store.InMemoryDocumentStore = True\n",
      "haystack.components.retrievers.in_memory.embedding_retriever.InMemoryEmbeddingRetriever = True\n",
      "haystack.components.joiners.document_joiner.DocumentJoiner = True\n",
      "haystack.components.embedders.openai_text_embedder.OpenAITextEmbedder = True\n",
      "haystack.components.converters.output_adapter.OutputAdapter = True\n",
      "haystack.components.converters.output_adapter.OutputAdapter = True\n",
      "pipelines.cp1_rag_dense_4r_iterative_max5.IterativeEmbedding = True\n",
      "haystack.components.retrievers.in_memory.embedding_retriever.InMemoryEmbeddingRetriever = True\n",
      "haystack.components.embedders.openai_text_embedder.OpenAITextEmbedder = True\n",
      "haystack.components.converters.output_adapter.OutputAdapter = True\n",
      "haystack.document_stores.in_memory.document_store.InMemoryDocumentStore = True\n",
      "haystack.components.retrievers.in_memory.embedding_retriever.InMemoryEmbeddingRetriever = True\n",
      "haystack.document_stores.in_memory.document_store.InMemoryDocumentStore = True\n",
      "haystack.components.embedders.openai_text_embedder.OpenAITextEmbedder = True\n",
      "haystack.components.embedders.openai_text_embedder.OpenAITextEmbedder = True\n",
      "haystack.components.retrievers.in_memory.embedding_retriever.InMemoryEmbeddingRetriever = True\n",
      "haystack.components.retrievers.in_memory.embedding_retriever.InMemoryEmbeddingRetriever = True\n",
      "haystack.document_stores.in_memory.document_store.InMemoryDocumentStore = True\n",
      "haystack.components.converters.output_adapter.OutputAdapter = True\n",
      "haystack.components.embedders.openai_text_embedder.OpenAITextEmbedder = True\n",
      "haystack.components.converters.output_adapter.OutputAdapter = True\n",
      "----------------------------------------------------------------------------------------------------\n",
      "haystack.components.builders.answer_builder.AnswerBuilder = True\n",
      "haystack.components.generators.openai.OpenAIGenerator = True\n",
      "haystack.components.builders.prompt_builder.PromptBuilder = True\n",
      "haystack.document_stores.in_memory.document_store.InMemoryDocumentStore = True\n",
      "haystack.components.retrievers.in_memory.bm25_retriever.InMemoryBM25Retriever = True\n",
      "----------------------------------------------------------------------------------------------------\n",
      "haystack.components.builders.answer_builder.AnswerBuilder = True\n",
      "haystack.components.generators.openai.OpenAIGenerator = True\n",
      "haystack.components.builders.prompt_builder.PromptBuilder = True\n",
      "haystack.document_stores.in_memory.document_store.InMemoryDocumentStore = True\n",
      "haystack.components.retrievers.in_memory.bm25_retriever.InMemoryBM25Retriever = True\n",
      "----------------------------------------------------------------------------------------------------\n",
      "haystack.components.builders.answer_builder.AnswerBuilder = True\n",
      "haystack.components.generators.openai.OpenAIGenerator = True\n",
      "haystack.components.builders.prompt_builder.PromptBuilder = True\n",
      "----------------------------------------------------------------------------------------------------\n",
      "haystack.components.builders.answer_builder.AnswerBuilder = True\n",
      "haystack.components.generators.openai.OpenAIGenerator = True\n",
      "haystack.components.builders.prompt_builder.PromptBuilder = True\n",
      "----------------------------------------------------------------------------------------------------\n",
      "haystack.components.builders.answer_builder.AnswerBuilder = True\n",
      "haystack.components.generators.openai.OpenAIGenerator = True\n",
      "haystack.components.builders.prompt_builder.PromptBuilder = True\n",
      "haystack.document_stores.in_memory.document_store.InMemoryDocumentStore = True\n",
      "haystack.components.retrievers.in_memory.bm25_retriever.InMemoryBM25Retriever = True\n",
      "----------------------------------------------------------------------------------------------------\n",
      "haystack.components.builders.answer_builder.AnswerBuilder = True\n",
      "haystack.components.generators.openai.OpenAIGenerator = True\n",
      "haystack.components.builders.prompt_builder.PromptBuilder = True\n",
      "haystack.document_stores.in_memory.document_store.InMemoryDocumentStore = True\n",
      "haystack.components.retrievers.in_memory.bm25_retriever.InMemoryBM25Retriever = True\n",
      "----------------------------------------------------------------------------------------------------\n",
      "haystack.components.builders.answer_builder.AnswerBuilder = True\n",
      "haystack.components.generators.openai.OpenAIGenerator = True\n",
      "haystack.components.builders.prompt_builder.PromptBuilder = True\n",
      "----------------------------------------------------------------------------------------------------\n",
      "haystack.components.builders.answer_builder.AnswerBuilder = True\n",
      "haystack.components.generators.openai.OpenAIGenerator = True\n",
      "haystack.components.builders.prompt_builder.PromptBuilder = True\n",
      "----------------------------------------------------------------------------------------------------\n",
      "haystack.components.builders.answer_builder.AnswerBuilder = True\n",
      "haystack.components.embedders.openai_text_embedder.OpenAITextEmbedder = True\n",
      "haystack.components.generators.openai.OpenAIGenerator = True\n",
      "haystack.components.builders.prompt_builder.PromptBuilder = True\n",
      "haystack.components.rankers.lost_in_the_middle.LostInTheMiddleRanker = True\n",
      "haystack.document_stores.in_memory.document_store.InMemoryDocumentStore = True\n",
      "haystack.components.generators.openai.OpenAIGenerator = True\n",
      "haystack.components.converters.output_adapter.OutputAdapter = True\n",
      "haystack.components.builders.prompt_builder.PromptBuilder = True\n",
      "haystack.components.retrievers.in_memory.embedding_retriever.InMemoryEmbeddingRetriever = True\n",
      "----------------------------------------------------------------------------------------------------\n",
      "haystack.components.builders.answer_builder.AnswerBuilder = True\n",
      "haystack.components.generators.openai.OpenAIGenerator = True\n",
      "haystack.components.builders.prompt_builder.PromptBuilder = True\n",
      "----------------------------------------------------------------------------------------------------\n",
      "haystack.components.builders.answer_builder.AnswerBuilder = True\n",
      "haystack.components.generators.openai.OpenAIGenerator = True\n",
      "haystack.components.builders.prompt_builder.PromptBuilder = True\n",
      "----------------------------------------------------------------------------------------------------\n",
      "haystack.components.builders.answer_builder.AnswerBuilder = True\n",
      "haystack.components.generators.openai.OpenAIGenerator = True\n",
      "haystack.components.builders.prompt_builder.PromptBuilder = True\n",
      "----------------------------------------------------------------------------------------------------\n",
      "haystack.components.builders.answer_builder.AnswerBuilder = True\n",
      "haystack.components.embedders.openai_text_embedder.OpenAITextEmbedder = True\n",
      "haystack.components.retrievers.in_memory.embedding_retriever.InMemoryEmbeddingRetriever = True\n",
      "haystack.components.generators.openai.OpenAIGenerator = True\n",
      "haystack.document_stores.in_memory.document_store.InMemoryDocumentStore = True\n",
      "haystack.components.builders.prompt_builder.PromptBuilder = True\n",
      "env_var = True\n",
      "haystack.components.rankers.transformers_similarity.TransformersSimilarityRanker = True\n",
      "----------------------------------------------------------------------------------------------------\n",
      "haystack.components.builders.answer_builder.AnswerBuilder = True\n",
      "haystack.components.generators.openai.OpenAIGenerator = True\n",
      "haystack.components.builders.prompt_builder.PromptBuilder = True\n",
      "haystack.document_stores.in_memory.document_store.InMemoryDocumentStore = True\n",
      "haystack.components.retrievers.in_memory.bm25_retriever.InMemoryBM25Retriever = True\n",
      "env_var = True\n",
      "haystack.components.rankers.transformers_similarity.TransformersSimilarityRanker = True\n",
      "----------------------------------------------------------------------------------------------------\n",
      "haystack.components.builders.answer_builder.AnswerBuilder = True\n",
      "haystack.components.embedders.openai_text_embedder.OpenAITextEmbedder = True\n",
      "haystack.components.retrievers.in_memory.embedding_retriever.InMemoryEmbeddingRetriever = True\n",
      "haystack.components.generators.openai.OpenAIGenerator = True\n",
      "haystack.document_stores.in_memory.document_store.InMemoryDocumentStore = True\n",
      "haystack.components.builders.prompt_builder.PromptBuilder = True\n",
      "env_var = True\n",
      "haystack.components.rankers.transformers_similarity.TransformersSimilarityRanker = True\n",
      "----------------------------------------------------------------------------------------------------\n",
      "haystack.components.builders.answer_builder.AnswerBuilder = True\n",
      "haystack.components.generators.openai.OpenAIGenerator = True\n",
      "haystack.components.builders.prompt_builder.PromptBuilder = True\n",
      "----------------------------------------------------------------------------------------------------\n",
      "haystack.components.builders.answer_builder.AnswerBuilder = True\n",
      "haystack.components.generators.openai.OpenAIGenerator = True\n",
      "haystack.components.builders.prompt_builder.PromptBuilder = True\n",
      "----------------------------------------------------------------------------------------------------\n",
      "haystack.components.builders.answer_builder.AnswerBuilder = True\n",
      "haystack.components.generators.openai.OpenAIGenerator = True\n",
      "haystack.components.builders.prompt_builder.PromptBuilder = True\n",
      "----------------------------------------------------------------------------------------------------\n",
      "haystack.components.builders.answer_builder.AnswerBuilder = True\n",
      "haystack.components.generators.openai.OpenAIGenerator = True\n",
      "haystack.components.builders.prompt_builder.PromptBuilder = True\n",
      "----------------------------------------------------------------------------------------------------\n",
      "haystack.components.builders.answer_builder.AnswerBuilder = True\n",
      "haystack.components.generators.openai.OpenAIGenerator = True\n",
      "haystack.components.builders.prompt_builder.PromptBuilder = True\n",
      "haystack.document_stores.in_memory.document_store.InMemoryDocumentStore = True\n",
      "haystack.components.retrievers.in_memory.bm25_retriever.InMemoryBM25Retriever = True\n",
      "----------------------------------------------------------------------------------------------------\n",
      "haystack.components.builders.answer_builder.AnswerBuilder = True\n",
      "haystack.components.generators.openai.OpenAIGenerator = True\n",
      "haystack.components.builders.prompt_builder.PromptBuilder = True\n"
     ]
    },
    {
     "data": {
      "text/plain": [
       "['includes.AnswerBuilder',\n",
       " 'includes.EmbedderAdapter',\n",
       " 'includes.InMemoryBM25Retriever',\n",
       " 'includes.OpenAITextEmbedder',\n",
       " 'includes.InMemoryEmbeddingRetriever',\n",
       " 'includes.OpenAIGenerator',\n",
       " 'includes.InMemoryDocumentStore',\n",
       " 'includes.PromptBuilder',\n",
       " 'includes.DocumentJoiner',\n",
       " 'includes.SentenceTransformersTextEmbedder',\n",
       " 'includes.LostInTheMiddleRanker',\n",
       " 'includes.OutputAdapter',\n",
       " 'includes.single',\n",
       " 'includes.env_var',\n",
       " 'includes.IterativeEmbedding',\n",
       " 'includes.TransformersSimilarityRanker']"
      ]
     },
     "execution_count": 43,
     "metadata": {},
     "output_type": "execute_result"
    }
   ],
   "source": [
    "new_run_params = {}\n",
    "existing_types = []\n",
    "for run_id in runs[\"run_id\"]:\n",
    "    new_run_params[run_id] = {}\n",
    "    print(\"-\" * 100)\n",
    "    run = runs[runs[\"run_id\"] == run_id].iloc[0]\n",
    "    for key, value in run.items():\n",
    "        if key.endswith(\".type\") and value and value != \"LOCAL\":\n",
    "            new_value = \"includes.\" + value.split(\".\")[-1]\n",
    "            count_key = \"Nr.of.\" + value.split(\".\")[-1]\n",
    "            print(value, \"=\", True)\n",
    "            new_run_params[run_id][new_value] = True\n",
    "\n",
    "            if count_key not in new_run_params[run_id]:\n",
    "                new_run_params[run_id][count_key] = 1\n",
    "            else:\n",
    "                new_run_params[run_id][count_key] += 1\n",
    "\n",
    "            if new_value not in existing_types:\n",
    "                existing_types.append(new_value)\n",
    "existing_types\n"
   ]
  },
  {
   "cell_type": "code",
   "execution_count": 44,
   "metadata": {},
   "outputs": [
    {
     "data": {
      "text/plain": [
       "{'includes.AnswerBuilder': True,\n",
       " 'Nr.of.AnswerBuilder': 1,\n",
       " 'includes.OpenAIGenerator': True,\n",
       " 'Nr.of.OpenAIGenerator': 1,\n",
       " 'includes.PromptBuilder': True,\n",
       " 'Nr.of.PromptBuilder': 1,\n",
       " 'includes.EmbedderAdapter': False,\n",
       " 'Nr.of.EmbedderAdapter': 0,\n",
       " 'includes.InMemoryBM25Retriever': False,\n",
       " 'Nr.of.InMemoryBM25Retriever': 0,\n",
       " 'includes.OpenAITextEmbedder': False,\n",
       " 'Nr.of.OpenAITextEmbedder': 0,\n",
       " 'includes.InMemoryEmbeddingRetriever': False,\n",
       " 'Nr.of.InMemoryEmbeddingRetriever': 0,\n",
       " 'includes.InMemoryDocumentStore': False,\n",
       " 'Nr.of.InMemoryDocumentStore': 0,\n",
       " 'includes.DocumentJoiner': False,\n",
       " 'Nr.of.DocumentJoiner': 0,\n",
       " 'includes.SentenceTransformersTextEmbedder': False,\n",
       " 'Nr.of.SentenceTransformersTextEmbedder': 0,\n",
       " 'includes.LostInTheMiddleRanker': False,\n",
       " 'Nr.of.LostInTheMiddleRanker': 0,\n",
       " 'includes.OutputAdapter': False,\n",
       " 'Nr.of.OutputAdapter': 0,\n",
       " 'includes.single': False,\n",
       " 'Nr.of.single': 0,\n",
       " 'includes.env_var': False,\n",
       " 'Nr.of.env_var': 0,\n",
       " 'includes.IterativeEmbedding': False,\n",
       " 'Nr.of.IterativeEmbedding': 0,\n",
       " 'includes.TransformersSimilarityRanker': False,\n",
       " 'Nr.of.TransformersSimilarityRanker': 0}"
      ]
     },
     "execution_count": 44,
     "metadata": {},
     "output_type": "execute_result"
    }
   ],
   "source": [
    "for run_id, params in new_run_params.items():\n",
    "    for existing_type in existing_types:\n",
    "        if existing_type not in params:\n",
    "            params[existing_type] = False\n",
    "            params[f\"Nr.of.{existing_type.split('.')[-1]}\"] = 0\n",
    "params"
   ]
  },
  {
   "cell_type": "code",
   "execution_count": 45,
   "metadata": {},
   "outputs": [
    {
     "data": {
      "text/plain": [
       "['Hybrid RAGs have a higher retrieval quality than sparse or dense RAGs.',\n",
       " 'Most recent LLM models do not need retrieval for configuration validation and local models are sufficient.',\n",
       " 'Iterative embedding and retrieval for each configuration item can improve the performance of the pipeline.',\n",
       " 'The top models gemini-2.0 and deepseek gpt-4o handle this task well, how about Coding Models?',\n",
       " 'Most recent LLM models do not need retrieval for configuration validation and OS models are sufficient.',\n",
       " 'Most recent LLM models with web search do not need a customized RAG for configuration validation.',\n",
       " 'Most recent LLM models do not need retrieval for configuration validation.',\n",
       " 'Dense RAGs have a higher retrieval quality than sparse RAGs.',\n",
       " 'Sparse RAGs have a higher retrieval quality than dense RAGs.']"
      ]
     },
     "execution_count": 45,
     "metadata": {},
     "output_type": "execute_result"
    }
   ],
   "source": [
    "hypotheses = []\n",
    "from uuid import uuid4\n",
    "for run_id, params in runs.iterrows():\n",
    "    for key, value in params.items():\n",
    "        if \"hypothesis\" in str(key) and value:\n",
    "            hypotheses.append(value)\n",
    "\n",
    "hypotheses = list(set(hypotheses))\n",
    "hypotheses"
   ]
  },
  {
   "cell_type": "code",
   "execution_count": 46,
   "metadata": {},
   "outputs": [
    {
     "name": "stdout",
     "output_type": "stream",
     "text": [
      "c756f Hybrid RAGs have a higher retrieval quality than sparse or dense RAGs.\n",
      "7d283 Most recent LLM models do not need retrieval for configuration validation and local models are sufficient.\n",
      "6695c Iterative embedding and retrieval for each configuration item can improve the performance of the pipeline.\n",
      "83529 The top models gemini-2.0 and deepseek gpt-4o handle this task well, how about Coding Models?\n",
      "2918b Most recent LLM models do not need retrieval for configuration validation and OS models are sufficient.\n",
      "146c7 Most recent LLM models with web search do not need a customized RAG for configuration validation.\n",
      "74615 Most recent LLM models do not need retrieval for configuration validation.\n",
      "41afa Dense RAGs have a higher retrieval quality than sparse RAGs.\n",
      "6e752 Sparse RAGs have a higher retrieval quality than dense RAGs.\n"
     ]
    }
   ],
   "source": [
    "hypothesis_dict = {}\n",
    "for hypothesis in hypotheses:\n",
    "    hypothesis_dict[hypothesis] = str(uuid4())[:5]\n",
    "\n",
    "for k, v in hypothesis_dict.items():\n",
    "    print(v, k)"
   ]
  },
  {
   "cell_type": "code",
   "execution_count": 47,
   "metadata": {},
   "outputs": [
    {
     "data": {
      "text/html": [
       "<div>\n",
       "<style scoped>\n",
       "    .dataframe tbody tr th:only-of-type {\n",
       "        vertical-align: middle;\n",
       "    }\n",
       "\n",
       "    .dataframe tbody tr th {\n",
       "        vertical-align: top;\n",
       "    }\n",
       "\n",
       "    .dataframe thead tr th {\n",
       "        text-align: left;\n",
       "    }\n",
       "\n",
       "    .dataframe thead tr:last-of-type th {\n",
       "        text-align: right;\n",
       "    }\n",
       "</style>\n",
       "<table border=\"1\" class=\"dataframe\">\n",
       "  <thead>\n",
       "    <tr>\n",
       "      <th></th>\n",
       "      <th colspan=\"10\" halign=\"left\">value</th>\n",
       "    </tr>\n",
       "    <tr>\n",
       "      <th>params.metadata.hypothesis</th>\n",
       "      <th>Dense RAGs have a higher retrieval quality than sparse RAGs.</th>\n",
       "      <th>Hybrid RAGs have a higher retrieval quality than sparse or dense RAGs.</th>\n",
       "      <th>Iterative embedding and retrieval for each configuration item can improve the performance of the pipeline.</th>\n",
       "      <th>Most recent LLM models do not need retrieval for configuration validation and OS models are sufficient.</th>\n",
       "      <th>Most recent LLM models do not need retrieval for configuration validation and local models are sufficient.</th>\n",
       "      <th>Most recent LLM models do not need retrieval for configuration validation.</th>\n",
       "      <th>Most recent LLM models with web search do not need a customized RAG for configuration validation.</th>\n",
       "      <th>No hypothesis</th>\n",
       "      <th>Sparse RAGs have a higher retrieval quality than dense RAGs.</th>\n",
       "      <th>The top models gemini-2.0 and deepseek gpt-4o handle this task well, how about Coding Models?</th>\n",
       "    </tr>\n",
       "    <tr>\n",
       "      <th>run_id</th>\n",
       "      <th></th>\n",
       "      <th></th>\n",
       "      <th></th>\n",
       "      <th></th>\n",
       "      <th></th>\n",
       "      <th></th>\n",
       "      <th></th>\n",
       "      <th></th>\n",
       "      <th></th>\n",
       "      <th></th>\n",
       "    </tr>\n",
       "  </thead>\n",
       "  <tbody>\n",
       "    <tr>\n",
       "      <th>04a7144838064d4cb5d621dc85ec675c</th>\n",
       "      <td>False</td>\n",
       "      <td>False</td>\n",
       "      <td>True</td>\n",
       "      <td>False</td>\n",
       "      <td>False</td>\n",
       "      <td>False</td>\n",
       "      <td>False</td>\n",
       "      <td>False</td>\n",
       "      <td>False</td>\n",
       "      <td>False</td>\n",
       "    </tr>\n",
       "    <tr>\n",
       "      <th>04cc45743ea54f6daaf03c6af2616f42</th>\n",
       "      <td>False</td>\n",
       "      <td>False</td>\n",
       "      <td>False</td>\n",
       "      <td>False</td>\n",
       "      <td>False</td>\n",
       "      <td>False</td>\n",
       "      <td>False</td>\n",
       "      <td>True</td>\n",
       "      <td>False</td>\n",
       "      <td>False</td>\n",
       "    </tr>\n",
       "    <tr>\n",
       "      <th>30ce7e43e39a4ec5a3cb138b4e961e78</th>\n",
       "      <td>False</td>\n",
       "      <td>False</td>\n",
       "      <td>True</td>\n",
       "      <td>False</td>\n",
       "      <td>False</td>\n",
       "      <td>False</td>\n",
       "      <td>False</td>\n",
       "      <td>False</td>\n",
       "      <td>False</td>\n",
       "      <td>False</td>\n",
       "    </tr>\n",
       "    <tr>\n",
       "      <th>414d52e2f6d843b6ac60a2b6221e2a38</th>\n",
       "      <td>False</td>\n",
       "      <td>False</td>\n",
       "      <td>False</td>\n",
       "      <td>False</td>\n",
       "      <td>False</td>\n",
       "      <td>False</td>\n",
       "      <td>False</td>\n",
       "      <td>True</td>\n",
       "      <td>False</td>\n",
       "      <td>False</td>\n",
       "    </tr>\n",
       "    <tr>\n",
       "      <th>4a2d3bd7e1124ec786285bf6294b7c3b</th>\n",
       "      <td>False</td>\n",
       "      <td>False</td>\n",
       "      <td>False</td>\n",
       "      <td>False</td>\n",
       "      <td>False</td>\n",
       "      <td>False</td>\n",
       "      <td>False</td>\n",
       "      <td>True</td>\n",
       "      <td>False</td>\n",
       "      <td>False</td>\n",
       "    </tr>\n",
       "  </tbody>\n",
       "</table>\n",
       "</div>"
      ],
      "text/plain": [
       "                                                                                        value  \\\n",
       "params.metadata.hypothesis       Dense RAGs have a higher retrieval quality than sparse RAGs.   \n",
       "run_id                                                                                          \n",
       "04a7144838064d4cb5d621dc85ec675c                                              False             \n",
       "04cc45743ea54f6daaf03c6af2616f42                                              False             \n",
       "30ce7e43e39a4ec5a3cb138b4e961e78                                              False             \n",
       "414d52e2f6d843b6ac60a2b6221e2a38                                              False             \n",
       "4a2d3bd7e1124ec786285bf6294b7c3b                                              False             \n",
       "\n",
       "                                                                                                         \\\n",
       "params.metadata.hypothesis       Hybrid RAGs have a higher retrieval quality than sparse or dense RAGs.   \n",
       "run_id                                                                                                    \n",
       "04a7144838064d4cb5d621dc85ec675c                                              False                       \n",
       "04cc45743ea54f6daaf03c6af2616f42                                              False                       \n",
       "30ce7e43e39a4ec5a3cb138b4e961e78                                              False                       \n",
       "414d52e2f6d843b6ac60a2b6221e2a38                                              False                       \n",
       "4a2d3bd7e1124ec786285bf6294b7c3b                                              False                       \n",
       "\n",
       "                                                                                                                                             \\\n",
       "params.metadata.hypothesis       Iterative embedding and retrieval for each configuration item can improve the performance of the pipeline.   \n",
       "run_id                                                                                                                                        \n",
       "04a7144838064d4cb5d621dc85ec675c                                               True                                                           \n",
       "04cc45743ea54f6daaf03c6af2616f42                                              False                                                           \n",
       "30ce7e43e39a4ec5a3cb138b4e961e78                                               True                                                           \n",
       "414d52e2f6d843b6ac60a2b6221e2a38                                              False                                                           \n",
       "4a2d3bd7e1124ec786285bf6294b7c3b                                              False                                                           \n",
       "\n",
       "                                                                                                                                          \\\n",
       "params.metadata.hypothesis       Most recent LLM models do not need retrieval for configuration validation and OS models are sufficient.   \n",
       "run_id                                                                                                                                     \n",
       "04a7144838064d4cb5d621dc85ec675c                                              False                                                        \n",
       "04cc45743ea54f6daaf03c6af2616f42                                              False                                                        \n",
       "30ce7e43e39a4ec5a3cb138b4e961e78                                              False                                                        \n",
       "414d52e2f6d843b6ac60a2b6221e2a38                                              False                                                        \n",
       "4a2d3bd7e1124ec786285bf6294b7c3b                                              False                                                        \n",
       "\n",
       "                                                                                                                                             \\\n",
       "params.metadata.hypothesis       Most recent LLM models do not need retrieval for configuration validation and local models are sufficient.   \n",
       "run_id                                                                                                                                        \n",
       "04a7144838064d4cb5d621dc85ec675c                                              False                                                           \n",
       "04cc45743ea54f6daaf03c6af2616f42                                              False                                                           \n",
       "30ce7e43e39a4ec5a3cb138b4e961e78                                              False                                                           \n",
       "414d52e2f6d843b6ac60a2b6221e2a38                                              False                                                           \n",
       "4a2d3bd7e1124ec786285bf6294b7c3b                                              False                                                           \n",
       "\n",
       "                                                                                                             \\\n",
       "params.metadata.hypothesis       Most recent LLM models do not need retrieval for configuration validation.   \n",
       "run_id                                                                                                        \n",
       "04a7144838064d4cb5d621dc85ec675c                                              False                           \n",
       "04cc45743ea54f6daaf03c6af2616f42                                              False                           \n",
       "30ce7e43e39a4ec5a3cb138b4e961e78                                              False                           \n",
       "414d52e2f6d843b6ac60a2b6221e2a38                                              False                           \n",
       "4a2d3bd7e1124ec786285bf6294b7c3b                                              False                           \n",
       "\n",
       "                                                                                                                                    \\\n",
       "params.metadata.hypothesis       Most recent LLM models with web search do not need a customized RAG for configuration validation.   \n",
       "run_id                                                                                                                               \n",
       "04a7144838064d4cb5d621dc85ec675c                                              False                                                  \n",
       "04cc45743ea54f6daaf03c6af2616f42                                              False                                                  \n",
       "30ce7e43e39a4ec5a3cb138b4e961e78                                              False                                                  \n",
       "414d52e2f6d843b6ac60a2b6221e2a38                                              False                                                  \n",
       "4a2d3bd7e1124ec786285bf6294b7c3b                                              False                                                  \n",
       "\n",
       "                                                \\\n",
       "params.metadata.hypothesis       No hypothesis   \n",
       "run_id                                           \n",
       "04a7144838064d4cb5d621dc85ec675c         False   \n",
       "04cc45743ea54f6daaf03c6af2616f42          True   \n",
       "30ce7e43e39a4ec5a3cb138b4e961e78         False   \n",
       "414d52e2f6d843b6ac60a2b6221e2a38          True   \n",
       "4a2d3bd7e1124ec786285bf6294b7c3b          True   \n",
       "\n",
       "                                                                                               \\\n",
       "params.metadata.hypothesis       Sparse RAGs have a higher retrieval quality than dense RAGs.   \n",
       "run_id                                                                                          \n",
       "04a7144838064d4cb5d621dc85ec675c                                              False             \n",
       "04cc45743ea54f6daaf03c6af2616f42                                              False             \n",
       "30ce7e43e39a4ec5a3cb138b4e961e78                                              False             \n",
       "414d52e2f6d843b6ac60a2b6221e2a38                                              False             \n",
       "4a2d3bd7e1124ec786285bf6294b7c3b                                              False             \n",
       "\n",
       "                                                                                                                                \n",
       "params.metadata.hypothesis       The top models gemini-2.0 and deepseek gpt-4o handle this task well, how about Coding Models?  \n",
       "run_id                                                                                                                          \n",
       "04a7144838064d4cb5d621dc85ec675c                                              False                                             \n",
       "04cc45743ea54f6daaf03c6af2616f42                                              False                                             \n",
       "30ce7e43e39a4ec5a3cb138b4e961e78                                              False                                             \n",
       "414d52e2f6d843b6ac60a2b6221e2a38                                              False                                             \n",
       "4a2d3bd7e1124ec786285bf6294b7c3b                                              False                                             "
      ]
     },
     "execution_count": 47,
     "metadata": {},
     "output_type": "execute_result"
    }
   ],
   "source": [
    "\n",
    "hypothesis_params = (\n",
    "    runs\n",
    "    .loc[:, [\"run_id\", \"params.metadata.hypothesis\"]]\n",
    "    .fillna(\"No hypothesis\")\n",
    "    .set_index(\"run_id\")\n",
    "    .assign(value=True)\n",
    "    .pivot(columns=[\"params.metadata.hypothesis\"])\n",
    "    .fillna(\"False\")\n",
    "    )\n",
    "hypothesis_params.head()\n"
   ]
  },
  {
   "cell_type": "code",
   "execution_count": 48,
   "metadata": {},
   "outputs": [
    {
     "name": "stdout",
     "output_type": "stream",
     "text": [
      "04a7144838064d4cb5d621dc85ec675c: 6695c = True\n",
      "04cc45743ea54f6daaf03c6af2616f42: No hypothesis = True\n",
      "30ce7e43e39a4ec5a3cb138b4e961e78: 6695c = True\n",
      "414d52e2f6d843b6ac60a2b6221e2a38: No hypothesis = True\n",
      "4a2d3bd7e1124ec786285bf6294b7c3b: No hypothesis = True\n",
      "539bba316edb4c8e9d27bbe48357ba21: No hypothesis = True\n",
      "5ce10fdfaaa749d488f3dd4f6e2d6341: c756f = True\n",
      "5f7efa6ec96a461dbd85733e9bb811b6: 74615 = True\n",
      "62de284c66464ac8b5451115e15abd49: 146c7 = True\n",
      "6747a761f9f34303b322790170d893bd: 41afa = True\n",
      "685700fe904c456c86cf4db2ed378171: No hypothesis = True\n",
      "69cb5169bdf2409b9baa85627d217108: 83529 = True\n",
      "70028b7cd3054ec69b802bd46f7327b2: 6695c = True\n",
      "7875a8010ea44e5ebf4a4c26302c2991: No hypothesis = True\n",
      "7a404588695e46899981deec7af4b9fb: c756f = True\n",
      "85818a4d847d42a38701d4c20d20f849: No hypothesis = True\n",
      "9299a5dc28204f5f92482e96325031ec: 7d283 = True\n",
      "95bddc79059e45919c6c61e34ca52fcc: No hypothesis = True\n",
      "97e4782a82d4431bb717e89e5806f886: No hypothesis = True\n",
      "9cdb34230c43406e98563129ad11a3b7: 74615 = True\n",
      "9dd37a377b594a1da7e020cc788a464f: No hypothesis = True\n",
      "c4187f271ef04f4da75c195636242f7b: 2918b = True\n",
      "c80059c29ac34e37a2604c36ce2350fd: 74615 = True\n",
      "d2beb8913af9447488062954606b16d9: No hypothesis = True\n",
      "e5de129b71f84dbd96d2f3f2ec4fc75e: 41afa = True\n",
      "ea995b93cfbd4773984d4f21a1b7cbec: No hypothesis = True\n",
      "f465aba5af2649ad942346d33ae55ca6: No hypothesis = True\n",
      "f8576a21bc7242dda9951e9d66402f85: No hypothesis = True\n",
      "ff0ae70026c84225a346330f43ae040e: 6e752 = True\n"
     ]
    },
    {
     "data": {
      "text/plain": [
       "{'c756f': 'Hybrid RAGs have a higher retrieval quality than sparse or dense RAGs.',\n",
       " '7d283': 'Most recent LLM models do not need retrieval for configuration validation and local models are sufficient.',\n",
       " '6695c': 'Iterative embedding and retrieval for each configuration item can improve the performance of the pipeline.',\n",
       " '83529': 'The top models gemini-2.0 and deepseek gpt-4o handle this task well, how about Coding Models?',\n",
       " '2918b': 'Most recent LLM models do not need retrieval for configuration validation and OS models are sufficient.',\n",
       " '146c7': 'Most recent LLM models with web search do not need a customized RAG for configuration validation.',\n",
       " '74615': 'Most recent LLM models do not need retrieval for configuration validation.',\n",
       " '41afa': 'Dense RAGs have a higher retrieval quality than sparse RAGs.',\n",
       " '6e752': 'Sparse RAGs have a higher retrieval quality than dense RAGs.'}"
      ]
     },
     "execution_count": 48,
     "metadata": {},
     "output_type": "execute_result"
    }
   ],
   "source": [
    "\n",
    "hypothesis_dict2 = {v:k for k, v in hypothesis_dict.items()}\n",
    "for run_id, params in hypothesis_params.iterrows():\n",
    "    for key, value in params.items():\n",
    "        if value == True:\n",
    "            print(f\"{run_id}: {hypothesis_dict.get(key[1], 'No hypothesis')} = True\")\n",
    "            new_run_params[run_id][hypothesis_dict.get(key[1], 'No hypothesis')] = True\n",
    "        else:\n",
    "            # print(f\"{run_id} ({value} - {key[1]}): {hypothesis_dict2.get(key[1], 'No hypothesis')}\")\n",
    "            new_run_params[run_id][hypothesis_dict.get(key[1], 'No hypothesis')] = False\n",
    "\n",
    "with open(\"hypothesis_dict.json\", \"w\") as f:\n",
    "    json.dump(hypothesis_dict2, f)\n",
    "\n",
    "hypothesis_dict2\n"
   ]
  },
  {
   "cell_type": "code",
   "execution_count": 49,
   "metadata": {},
   "outputs": [
    {
     "data": {
      "text/plain": [
       "array(['data/processed/config_val/val/evaluation_data.json', None],\n",
       "      dtype=object)"
      ]
     },
     "execution_count": 49,
     "metadata": {},
     "output_type": "execute_result"
    }
   ],
   "source": [
    "runs[\"params.val_data_path\"].unique()\n"
   ]
  },
  {
   "cell_type": "code",
   "execution_count": 50,
   "metadata": {},
   "outputs": [
    {
     "name": "stdout",
     "output_type": "stream",
     "text": [
      "{'indexing_duration': 2161.268524646759, 'VAL.SYS..memory_process_mean_mb': 0.0, 'VAL.E2E..MatthewsCorrCoefMetric': 0.0, 'VAL.SYS..cpu_process_min': 0.0, 'VAL.SYS..duration_seconds': 0.0, 'VAL.E2E..F1ScoreMetric': 0.0, 'VAL.RET.embedding_retriever.MAPAtKMetric': 0.0, 'VAL.E2E..FalsePositiveRateMetric': 0.0, 'VAL.RET.bm25_retriever.HaystackContextRelevanceMetric': 0.0, 'VAL.SYS..memory_process_max_mb': 0.0, 'VAL.GEN.llm.FormatValidatorMetric': 0.0, 'VAL.SYS..cpu_system_min': 0.0, 'VAL.SYS..cpu_process_max': 0.0, 'VAL.SYS..memory_system_percent_min': 0.0, 'VAL.E2E..PrecisionMetric': 0.0, 'VAL.SYS..memory_process_min_mb': 0.0, 'VAL.E2E..RecallMetric': 0.0, 'VAL.GEN.llm.AnswerRelevancyMetric': 0.0, 'VAL.E2E..FalseNegativeRateMetric': 0.0, 'VAL.SYS..memory_system_percent_mean': 0.0, 'VAL.E2E..AccuracyMetric': 0.0, 'VAL.RET.embedding_retriever.HaystackContextRelevanceMetric': 0.0, 'VAL.SYS..memory_system_percent_max': 0.0, 'VAL.SYS..memory_system_used_max_mb': 0.0, 'VAL.SYS..memory_system_used_mean_mb': 0.0, 'VAL.SYS..cpu_system_mean': 0.0, 'VAL.SYS..cpu_process_mean': 0.0, 'VAL.GEN.llm.ContextUtilizationMetric': 0.0, 'VAL.RET.bm25_retriever.MAPAtKMetric': 0.0, 'VAL.SYS..cpu_system_max': 0.0, 'VAL.SYS..samples_count': 0.0, 'VAL.SYS..memory_system_used_min_mb': 0.0, 'VAL.GEN.rewriter.ContextUtilizationMetric': 0.0, 'VAL.RET.retriever_2.HaystackContextRelevanceMetric': 0.0, 'VAL.RET.retriever_1.HaystackContextRelevanceMetric': 0.0, 'VAL.RET.retriever_4.HaystackContextRelevanceMetric': 0.0, 'VAL.RET.retriever_3.HaystackContextRelevanceMetric': 0.0, 'VAL.RET.retriever_1.MAPAtKMetric': 0.0, 'VAL.GEN.rewriter.FormatValidatorMetric': 0.0, 'VAL.RET.retriever_0.MAPAtKMetric': 0.0, 'VAL.GEN.rewriter.AnswerRelevancyMetric': 0.0, 'VAL.RET.retriever_2.MAPAtKMetric': 0.0, 'VAL.RET.retriever_4.MAPAtKMetric': 0.0, 'VAL.RET.retriever_3.MAPAtKMetric': 0.0, 'VAL.RET.retriever_0.HaystackContextRelevanceMetric': 0.0, 'VAL.RET.retriever.HaystackContextRelevanceMetric': 0.0, 'VAL.RET.retriever.MAPAtKMetric': 0.0}\n"
     ]
    },
    {
     "name": "stderr",
     "output_type": "stream",
     "text": [
      "C:\\Users\\Besitzer\\AppData\\Local\\Temp\\ipykernel_16300\\3497699939.py:10: FutureWarning: Downcasting behavior in `replace` is deprecated and will be removed in a future version. To retain the old behavior, explicitly call `result.infer_objects(copy=False)`. To opt-in to the future behavior, set `pd.set_option('future.no_silent_downcasting', True)`\n",
      "  run_metrics = run_metrics.replace(\"\", 0)\n",
      "2025/04/28 14:09:37 INFO mlflow.tracking.fluent: Experiment with name 'config-validation-4' does not exist. Creating a new experiment.\n"
     ]
    },
    {
     "name": "stdout",
     "output_type": "stream",
     "text": [
      "🏃 View run 7a404588695e46899981deec7af4b9fb at: http://91.99.14.73:8080/#/experiments/204391782326828077/runs/efcb57c6369f4518a58b1421562b0291\n",
      "🧪 View experiment at: http://91.99.14.73:8080/#/experiments/204391782326828077\n",
      "{'indexing_duration': 2196.897666454315, 'VAL.SYS..memory_process_mean_mb': 4770.756956018518, 'VAL.E2E..MatthewsCorrCoefMetric': 0.30151134457776363, 'VAL.SYS..cpu_process_min': 0.0, 'VAL.SYS..duration_seconds': 396.897874, 'VAL.E2E..F1ScoreMetric': 0.6666666666666666, 'VAL.RET.embedding_retriever.MAPAtKMetric': 0.016666666666666666, 'VAL.E2E..FalsePositiveRateMetric': 0.4, 'VAL.RET.bm25_retriever.HaystackContextRelevanceMetric': 0.3, 'VAL.SYS..memory_process_max_mb': 5472.7890625, 'VAL.GEN.llm.FormatValidatorMetric': 1.0, 'VAL.SYS..cpu_system_min': 0.0, 'VAL.SYS..cpu_process_max': 103.9, 'VAL.SYS..memory_system_percent_min': 31.9, 'VAL.E2E..PrecisionMetric': 0.6363636363636364, 'VAL.SYS..memory_process_min_mb': 4729.5078125, 'VAL.E2E..RecallMetric': 0.7, 'VAL.GEN.llm.AnswerRelevancyMetric': 0.9, 'VAL.E2E..FalseNegativeRateMetric': 0.3, 'VAL.SYS..memory_system_percent_mean': 32.24948148148148, 'VAL.E2E..AccuracyMetric': 0.65, 'VAL.RET.embedding_retriever.HaystackContextRelevanceMetric': 0.15, 'VAL.SYS..memory_system_percent_max': 36.8, 'VAL.SYS..memory_system_used_max_mb': 5435.16796875, 'VAL.SYS..memory_system_used_mean_mb': 4733.151799768519, 'VAL.SYS..cpu_system_mean': 4.602518518518519, 'VAL.SYS..cpu_process_mean': 17.078666666666663, 'VAL.GEN.llm.ContextUtilizationMetric': 0.525, 'VAL.RET.bm25_retriever.MAPAtKMetric': 0.09333333333333334, 'VAL.SYS..cpu_system_max': 26.9, 'VAL.SYS..samples_count': 675.0, 'VAL.SYS..memory_system_used_min_mb': 4682.109375, 'VAL.GEN.rewriter.ContextUtilizationMetric': 0.0, 'VAL.RET.retriever_2.HaystackContextRelevanceMetric': 0.0, 'VAL.RET.retriever_1.HaystackContextRelevanceMetric': 0.0, 'VAL.RET.retriever_4.HaystackContextRelevanceMetric': 0.0, 'VAL.RET.retriever_3.HaystackContextRelevanceMetric': 0.0, 'VAL.RET.retriever_1.MAPAtKMetric': 0.0, 'VAL.GEN.rewriter.FormatValidatorMetric': 0.0, 'VAL.RET.retriever_0.MAPAtKMetric': 0.0, 'VAL.GEN.rewriter.AnswerRelevancyMetric': 0.0, 'VAL.RET.retriever_2.MAPAtKMetric': 0.0, 'VAL.RET.retriever_4.MAPAtKMetric': 0.0, 'VAL.RET.retriever_3.MAPAtKMetric': 0.0, 'VAL.RET.retriever_0.HaystackContextRelevanceMetric': 0.0, 'VAL.RET.retriever.HaystackContextRelevanceMetric': 0.0, 'VAL.RET.retriever.MAPAtKMetric': 0.0}\n"
     ]
    },
    {
     "name": "stderr",
     "output_type": "stream",
     "text": [
      "C:\\Users\\Besitzer\\AppData\\Local\\Temp\\ipykernel_16300\\3497699939.py:10: FutureWarning: Downcasting behavior in `replace` is deprecated and will be removed in a future version. To retain the old behavior, explicitly call `result.infer_objects(copy=False)`. To opt-in to the future behavior, set `pd.set_option('future.no_silent_downcasting', True)`\n",
      "  run_metrics = run_metrics.replace(\"\", 0)\n"
     ]
    },
    {
     "name": "stdout",
     "output_type": "stream",
     "text": [
      "🏃 View run 5ce10fdfaaa749d488f3dd4f6e2d6341 at: http://91.99.14.73:8080/#/experiments/204391782326828077/runs/eb1e8c8273ae4266b9bdba05426e74c9\n",
      "🧪 View experiment at: http://91.99.14.73:8080/#/experiments/204391782326828077\n",
      "{'indexing_duration': 0.0, 'VAL.SYS..memory_process_mean_mb': 0.0, 'VAL.E2E..MatthewsCorrCoefMetric': 0.0, 'VAL.SYS..cpu_process_min': 0.0, 'VAL.SYS..duration_seconds': 0.0, 'VAL.E2E..F1ScoreMetric': 0.0, 'VAL.RET.embedding_retriever.MAPAtKMetric': 0.0, 'VAL.E2E..FalsePositiveRateMetric': 0.0, 'VAL.RET.bm25_retriever.HaystackContextRelevanceMetric': 0.0, 'VAL.SYS..memory_process_max_mb': 0.0, 'VAL.GEN.llm.FormatValidatorMetric': 0.0, 'VAL.SYS..cpu_system_min': 0.0, 'VAL.SYS..cpu_process_max': 0.0, 'VAL.SYS..memory_system_percent_min': 0.0, 'VAL.E2E..PrecisionMetric': 0.0, 'VAL.SYS..memory_process_min_mb': 0.0, 'VAL.E2E..RecallMetric': 0.0, 'VAL.GEN.llm.AnswerRelevancyMetric': 0.0, 'VAL.E2E..FalseNegativeRateMetric': 0.0, 'VAL.SYS..memory_system_percent_mean': 0.0, 'VAL.E2E..AccuracyMetric': 0.0, 'VAL.RET.embedding_retriever.HaystackContextRelevanceMetric': 0.0, 'VAL.SYS..memory_system_percent_max': 0.0, 'VAL.SYS..memory_system_used_max_mb': 0.0, 'VAL.SYS..memory_system_used_mean_mb': 0.0, 'VAL.SYS..cpu_system_mean': 0.0, 'VAL.SYS..cpu_process_mean': 0.0, 'VAL.GEN.llm.ContextUtilizationMetric': 0.0, 'VAL.RET.bm25_retriever.MAPAtKMetric': 0.0, 'VAL.SYS..cpu_system_max': 0.0, 'VAL.SYS..samples_count': 0.0, 'VAL.SYS..memory_system_used_min_mb': 0.0, 'VAL.GEN.rewriter.ContextUtilizationMetric': 0.0, 'VAL.RET.retriever_2.HaystackContextRelevanceMetric': 0.0, 'VAL.RET.retriever_1.HaystackContextRelevanceMetric': 0.0, 'VAL.RET.retriever_4.HaystackContextRelevanceMetric': 0.0, 'VAL.RET.retriever_3.HaystackContextRelevanceMetric': 0.0, 'VAL.RET.retriever_1.MAPAtKMetric': 0.0, 'VAL.GEN.rewriter.FormatValidatorMetric': 0.0, 'VAL.RET.retriever_0.MAPAtKMetric': 0.0, 'VAL.GEN.rewriter.AnswerRelevancyMetric': 0.0, 'VAL.RET.retriever_2.MAPAtKMetric': 0.0, 'VAL.RET.retriever_4.MAPAtKMetric': 0.0, 'VAL.RET.retriever_3.MAPAtKMetric': 0.0, 'VAL.RET.retriever_0.HaystackContextRelevanceMetric': 0.0, 'VAL.RET.retriever.HaystackContextRelevanceMetric': 0.0, 'VAL.RET.retriever.MAPAtKMetric': 0.0}\n"
     ]
    },
    {
     "name": "stderr",
     "output_type": "stream",
     "text": [
      "C:\\Users\\Besitzer\\AppData\\Local\\Temp\\ipykernel_16300\\3497699939.py:10: FutureWarning: Downcasting behavior in `replace` is deprecated and will be removed in a future version. To retain the old behavior, explicitly call `result.infer_objects(copy=False)`. To opt-in to the future behavior, set `pd.set_option('future.no_silent_downcasting', True)`\n",
      "  run_metrics = run_metrics.replace(\"\", 0)\n"
     ]
    },
    {
     "name": "stdout",
     "output_type": "stream",
     "text": [
      "🏃 View run 04cc45743ea54f6daaf03c6af2616f42 at: http://91.99.14.73:8080/#/experiments/204391782326828077/runs/02c76dbc8f6f4b70a556aff89bed9d0b\n",
      "🧪 View experiment at: http://91.99.14.73:8080/#/experiments/204391782326828077\n",
      "{'indexing_duration': 0.021253108978271484, 'VAL.SYS..memory_process_mean_mb': 0.0, 'VAL.E2E..MatthewsCorrCoefMetric': 0.0, 'VAL.SYS..cpu_process_min': 0.0, 'VAL.SYS..duration_seconds': 31117.612782, 'VAL.E2E..F1ScoreMetric': 0.0, 'VAL.RET.embedding_retriever.MAPAtKMetric': 0.0, 'VAL.E2E..FalsePositiveRateMetric': 0.0, 'VAL.RET.bm25_retriever.HaystackContextRelevanceMetric': 0.0, 'VAL.SYS..memory_process_max_mb': 0.0, 'VAL.GEN.llm.FormatValidatorMetric': 0.0, 'VAL.SYS..cpu_system_min': 0.0, 'VAL.SYS..cpu_process_max': 46.8, 'VAL.SYS..memory_system_percent_min': 0.0, 'VAL.E2E..PrecisionMetric': 0.0, 'VAL.SYS..memory_process_min_mb': 0.0, 'VAL.E2E..RecallMetric': 0.0, 'VAL.GEN.llm.AnswerRelevancyMetric': 0.0, 'VAL.E2E..FalseNegativeRateMetric': 1.0, 'VAL.SYS..memory_system_percent_mean': 0.0, 'VAL.E2E..AccuracyMetric': 0.5220994475138122, 'VAL.RET.embedding_retriever.HaystackContextRelevanceMetric': 0.0, 'VAL.SYS..memory_system_percent_max': 0.0, 'VAL.SYS..memory_system_used_max_mb': 0.0, 'VAL.SYS..memory_system_used_mean_mb': 0.0, 'VAL.SYS..cpu_system_mean': 13.201710735954421, 'VAL.SYS..cpu_process_mean': 1.3751388061863299, 'VAL.GEN.llm.ContextUtilizationMetric': 0.0, 'VAL.RET.bm25_retriever.MAPAtKMetric': 0.0, 'VAL.SYS..cpu_system_max': 81.7, 'VAL.SYS..samples_count': 62137.0, 'VAL.SYS..memory_system_used_min_mb': 0.0, 'VAL.GEN.rewriter.ContextUtilizationMetric': 0.0, 'VAL.RET.retriever_2.HaystackContextRelevanceMetric': 0.0, 'VAL.RET.retriever_1.HaystackContextRelevanceMetric': 0.0, 'VAL.RET.retriever_4.HaystackContextRelevanceMetric': 0.0, 'VAL.RET.retriever_3.HaystackContextRelevanceMetric': 0.0, 'VAL.RET.retriever_1.MAPAtKMetric': 0.0, 'VAL.GEN.rewriter.FormatValidatorMetric': 0.0, 'VAL.RET.retriever_0.MAPAtKMetric': 0.0, 'VAL.GEN.rewriter.AnswerRelevancyMetric': 0.0, 'VAL.RET.retriever_2.MAPAtKMetric': 0.0, 'VAL.RET.retriever_4.MAPAtKMetric': 0.0, 'VAL.RET.retriever_3.MAPAtKMetric': 0.0, 'VAL.RET.retriever_0.HaystackContextRelevanceMetric': 0.0, 'VAL.RET.retriever.HaystackContextRelevanceMetric': 0.0, 'VAL.RET.retriever.MAPAtKMetric': 0.0}\n"
     ]
    },
    {
     "name": "stderr",
     "output_type": "stream",
     "text": [
      "C:\\Users\\Besitzer\\AppData\\Local\\Temp\\ipykernel_16300\\3497699939.py:10: FutureWarning: Downcasting behavior in `replace` is deprecated and will be removed in a future version. To retain the old behavior, explicitly call `result.infer_objects(copy=False)`. To opt-in to the future behavior, set `pd.set_option('future.no_silent_downcasting', True)`\n",
      "  run_metrics = run_metrics.replace(\"\", 0)\n"
     ]
    },
    {
     "name": "stdout",
     "output_type": "stream",
     "text": [
      "🏃 View run 30ce7e43e39a4ec5a3cb138b4e961e78 at: http://91.99.14.73:8080/#/experiments/204391782326828077/runs/0489576257a74332b516a04ddb8844d5\n",
      "🧪 View experiment at: http://91.99.14.73:8080/#/experiments/204391782326828077\n",
      "{'indexing_duration': 0.0464019775390625, 'VAL.SYS..memory_process_mean_mb': 0.0, 'VAL.E2E..MatthewsCorrCoefMetric': 0.0, 'VAL.SYS..cpu_process_min': 0.0, 'VAL.SYS..duration_seconds': 30228.837723, 'VAL.E2E..F1ScoreMetric': 0.0, 'VAL.RET.embedding_retriever.MAPAtKMetric': 0.0, 'VAL.E2E..FalsePositiveRateMetric': 0.0, 'VAL.RET.bm25_retriever.HaystackContextRelevanceMetric': 0.0, 'VAL.SYS..memory_process_max_mb': 0.0, 'VAL.GEN.llm.FormatValidatorMetric': 0.0, 'VAL.SYS..cpu_system_min': 0.0, 'VAL.SYS..cpu_process_max': 53.9, 'VAL.SYS..memory_system_percent_min': 0.0, 'VAL.E2E..PrecisionMetric': 0.0, 'VAL.SYS..memory_process_min_mb': 0.0, 'VAL.E2E..RecallMetric': 0.0, 'VAL.GEN.llm.AnswerRelevancyMetric': 0.0, 'VAL.E2E..FalseNegativeRateMetric': 1.0, 'VAL.SYS..memory_system_percent_mean': 0.0, 'VAL.E2E..AccuracyMetric': 0.5227586206896552, 'VAL.RET.embedding_retriever.HaystackContextRelevanceMetric': 0.0, 'VAL.SYS..memory_system_percent_max': 0.0, 'VAL.SYS..memory_system_used_max_mb': 0.0, 'VAL.SYS..memory_system_used_mean_mb': 0.0, 'VAL.SYS..cpu_system_mean': 13.319722346470519, 'VAL.SYS..cpu_process_mean': 1.361761343869589, 'VAL.GEN.llm.ContextUtilizationMetric': 0.0, 'VAL.RET.bm25_retriever.MAPAtKMetric': 0.0, 'VAL.SYS..cpu_system_max': 81.8, 'VAL.SYS..samples_count': 60363.0, 'VAL.SYS..memory_system_used_min_mb': 0.0, 'VAL.GEN.rewriter.ContextUtilizationMetric': 0.0, 'VAL.RET.retriever_2.HaystackContextRelevanceMetric': 0.0, 'VAL.RET.retriever_1.HaystackContextRelevanceMetric': 0.0, 'VAL.RET.retriever_4.HaystackContextRelevanceMetric': 0.0, 'VAL.RET.retriever_3.HaystackContextRelevanceMetric': 0.0, 'VAL.RET.retriever_1.MAPAtKMetric': 0.0, 'VAL.GEN.rewriter.FormatValidatorMetric': 0.0, 'VAL.RET.retriever_0.MAPAtKMetric': 0.0, 'VAL.GEN.rewriter.AnswerRelevancyMetric': 0.0, 'VAL.RET.retriever_2.MAPAtKMetric': 0.0, 'VAL.RET.retriever_4.MAPAtKMetric': 0.0, 'VAL.RET.retriever_3.MAPAtKMetric': 0.0, 'VAL.RET.retriever_0.HaystackContextRelevanceMetric': 0.0, 'VAL.RET.retriever.HaystackContextRelevanceMetric': 0.0, 'VAL.RET.retriever.MAPAtKMetric': 0.0}\n"
     ]
    },
    {
     "name": "stderr",
     "output_type": "stream",
     "text": [
      "C:\\Users\\Besitzer\\AppData\\Local\\Temp\\ipykernel_16300\\3497699939.py:10: FutureWarning: Downcasting behavior in `replace` is deprecated and will be removed in a future version. To retain the old behavior, explicitly call `result.infer_objects(copy=False)`. To opt-in to the future behavior, set `pd.set_option('future.no_silent_downcasting', True)`\n",
      "  run_metrics = run_metrics.replace(\"\", 0)\n"
     ]
    },
    {
     "name": "stdout",
     "output_type": "stream",
     "text": [
      "🏃 View run 70028b7cd3054ec69b802bd46f7327b2 at: http://91.99.14.73:8080/#/experiments/204391782326828077/runs/955498a1f03b4c1d83a32292ec2a5e8c\n",
      "🧪 View experiment at: http://91.99.14.73:8080/#/experiments/204391782326828077\n",
      "{'indexing_duration': 0.00029015541076660156, 'VAL.SYS..memory_process_mean_mb': 0.0, 'VAL.E2E..MatthewsCorrCoefMetric': 0.3014858521856199, 'VAL.SYS..cpu_process_min': 0.0, 'VAL.SYS..duration_seconds': 4235.719317, 'VAL.E2E..F1ScoreMetric': 0.692390139335477, 'VAL.RET.embedding_retriever.MAPAtKMetric': 0.0, 'VAL.E2E..FalsePositiveRateMetric': 0.6965699208443272, 'VAL.RET.bm25_retriever.HaystackContextRelevanceMetric': 0.0, 'VAL.SYS..memory_process_max_mb': 0.0, 'VAL.GEN.llm.FormatValidatorMetric': 1.0, 'VAL.SYS..cpu_system_min': 0.0, 'VAL.SYS..cpu_process_max': 25.9, 'VAL.SYS..memory_system_percent_min': 0.0, 'VAL.E2E..PrecisionMetric': 0.5502555366269165, 'VAL.SYS..memory_process_min_mb': 0.0, 'VAL.E2E..RecallMetric': 0.9335260115606936, 'VAL.GEN.llm.AnswerRelevancyMetric': 0.0, 'VAL.E2E..FalseNegativeRateMetric': 0.06647398843930635, 'VAL.SYS..memory_system_percent_mean': 0.0, 'VAL.E2E..AccuracyMetric': 0.6041379310344828, 'VAL.RET.embedding_retriever.HaystackContextRelevanceMetric': 0.0, 'VAL.SYS..memory_system_percent_max': 0.0, 'VAL.SYS..memory_system_used_max_mb': 0.0, 'VAL.SYS..memory_system_used_mean_mb': 0.0, 'VAL.SYS..cpu_system_mean': 14.751720061472987, 'VAL.SYS..cpu_process_mean': 1.4652914056034994, 'VAL.GEN.llm.ContextUtilizationMetric': 0.0, 'VAL.RET.bm25_retriever.MAPAtKMetric': 0.0, 'VAL.SYS..cpu_system_max': 81.0, 'VAL.SYS..samples_count': 8459.0, 'VAL.SYS..memory_system_used_min_mb': 0.0, 'VAL.GEN.rewriter.ContextUtilizationMetric': 0.0, 'VAL.RET.retriever_2.HaystackContextRelevanceMetric': 0.0, 'VAL.RET.retriever_1.HaystackContextRelevanceMetric': 0.0, 'VAL.RET.retriever_4.HaystackContextRelevanceMetric': 0.0, 'VAL.RET.retriever_3.HaystackContextRelevanceMetric': 0.0, 'VAL.RET.retriever_1.MAPAtKMetric': 0.0, 'VAL.GEN.rewriter.FormatValidatorMetric': 0.0, 'VAL.RET.retriever_0.MAPAtKMetric': 0.0, 'VAL.GEN.rewriter.AnswerRelevancyMetric': 0.0, 'VAL.RET.retriever_2.MAPAtKMetric': 0.0, 'VAL.RET.retriever_4.MAPAtKMetric': 0.0, 'VAL.RET.retriever_3.MAPAtKMetric': 0.0, 'VAL.RET.retriever_0.HaystackContextRelevanceMetric': 0.0, 'VAL.RET.retriever.HaystackContextRelevanceMetric': 0.0, 'VAL.RET.retriever.MAPAtKMetric': 0.0}\n"
     ]
    },
    {
     "name": "stderr",
     "output_type": "stream",
     "text": [
      "C:\\Users\\Besitzer\\AppData\\Local\\Temp\\ipykernel_16300\\3497699939.py:10: FutureWarning: Downcasting behavior in `replace` is deprecated and will be removed in a future version. To retain the old behavior, explicitly call `result.infer_objects(copy=False)`. To opt-in to the future behavior, set `pd.set_option('future.no_silent_downcasting', True)`\n",
      "  run_metrics = run_metrics.replace(\"\", 0)\n"
     ]
    },
    {
     "name": "stdout",
     "output_type": "stream",
     "text": [
      "🏃 View run 85818a4d847d42a38701d4c20d20f849 at: http://91.99.14.73:8080/#/experiments/204391782326828077/runs/71ed97b271bf45bdbbebca63467931db\n",
      "🧪 View experiment at: http://91.99.14.73:8080/#/experiments/204391782326828077\n",
      "{'indexing_duration': 0.0, 'VAL.SYS..memory_process_mean_mb': 0.0, 'VAL.E2E..MatthewsCorrCoefMetric': 0.34106615151206005, 'VAL.SYS..cpu_process_min': 0.0, 'VAL.SYS..duration_seconds': 3192.668147, 'VAL.E2E..F1ScoreMetric': 0.7002341920374707, 'VAL.RET.embedding_retriever.MAPAtKMetric': 0.0, 'VAL.E2E..FalsePositiveRateMetric': 0.5514511873350924, 'VAL.RET.bm25_retriever.HaystackContextRelevanceMetric': 0.0, 'VAL.SYS..memory_process_max_mb': 0.0, 'VAL.GEN.llm.FormatValidatorMetric': 0.9986206896551724, 'VAL.SYS..cpu_system_min': 0.0, 'VAL.SYS..cpu_process_max': 22.0, 'VAL.SYS..memory_system_percent_min': 0.0, 'VAL.E2E..PrecisionMetric': 0.5885826771653543, 'VAL.SYS..memory_process_min_mb': 0.0, 'VAL.E2E..RecallMetric': 0.8641618497109826, 'VAL.GEN.llm.AnswerRelevancyMetric': 0.0, 'VAL.E2E..FalseNegativeRateMetric': 0.13583815028901733, 'VAL.SYS..memory_system_percent_mean': 0.0, 'VAL.E2E..AccuracyMetric': 0.646896551724138, 'VAL.RET.embedding_retriever.HaystackContextRelevanceMetric': 0.0, 'VAL.SYS..memory_system_percent_max': 0.0, 'VAL.SYS..memory_system_used_max_mb': 0.0, 'VAL.SYS..memory_system_used_mean_mb': 0.0, 'VAL.SYS..cpu_system_mean': 15.81314303638645, 'VAL.SYS..cpu_process_mean': 1.4103356336260977, 'VAL.GEN.llm.ContextUtilizationMetric': 0.0, 'VAL.RET.bm25_retriever.MAPAtKMetric': 0.0, 'VAL.SYS..cpu_system_max': 80.8, 'VAL.SYS..samples_count': 6376.0, 'VAL.SYS..memory_system_used_min_mb': 0.0, 'VAL.GEN.rewriter.ContextUtilizationMetric': 0.0, 'VAL.RET.retriever_2.HaystackContextRelevanceMetric': 0.0, 'VAL.RET.retriever_1.HaystackContextRelevanceMetric': 0.0, 'VAL.RET.retriever_4.HaystackContextRelevanceMetric': 0.0, 'VAL.RET.retriever_3.HaystackContextRelevanceMetric': 0.0, 'VAL.RET.retriever_1.MAPAtKMetric': 0.0, 'VAL.GEN.rewriter.FormatValidatorMetric': 0.0, 'VAL.RET.retriever_0.MAPAtKMetric': 0.0, 'VAL.GEN.rewriter.AnswerRelevancyMetric': 0.0, 'VAL.RET.retriever_2.MAPAtKMetric': 0.0, 'VAL.RET.retriever_4.MAPAtKMetric': 0.0, 'VAL.RET.retriever_3.MAPAtKMetric': 0.0, 'VAL.RET.retriever_0.HaystackContextRelevanceMetric': 0.0, 'VAL.RET.retriever.HaystackContextRelevanceMetric': 0.0, 'VAL.RET.retriever.MAPAtKMetric': 0.0}\n"
     ]
    },
    {
     "name": "stderr",
     "output_type": "stream",
     "text": [
      "C:\\Users\\Besitzer\\AppData\\Local\\Temp\\ipykernel_16300\\3497699939.py:10: FutureWarning: Downcasting behavior in `replace` is deprecated and will be removed in a future version. To retain the old behavior, explicitly call `result.infer_objects(copy=False)`. To opt-in to the future behavior, set `pd.set_option('future.no_silent_downcasting', True)`\n",
      "  run_metrics = run_metrics.replace(\"\", 0)\n"
     ]
    },
    {
     "name": "stdout",
     "output_type": "stream",
     "text": [
      "🏃 View run 4a2d3bd7e1124ec786285bf6294b7c3b at: http://91.99.14.73:8080/#/experiments/204391782326828077/runs/18ce3f52a58843919b287cc4b5e55db1\n",
      "🧪 View experiment at: http://91.99.14.73:8080/#/experiments/204391782326828077\n",
      "{'indexing_duration': 3668.3029539585114, 'VAL.SYS..memory_process_mean_mb': 0.0, 'VAL.E2E..MatthewsCorrCoefMetric': 0.0, 'VAL.SYS..cpu_process_min': 0.0, 'VAL.SYS..duration_seconds': 53652.892273, 'VAL.E2E..F1ScoreMetric': 0.0, 'VAL.RET.embedding_retriever.MAPAtKMetric': 0.0, 'VAL.E2E..FalsePositiveRateMetric': 0.0, 'VAL.RET.bm25_retriever.HaystackContextRelevanceMetric': 0.0, 'VAL.SYS..memory_process_max_mb': 0.0, 'VAL.GEN.llm.FormatValidatorMetric': 0.0, 'VAL.SYS..cpu_system_min': 0.0, 'VAL.SYS..cpu_process_max': 1110.5, 'VAL.SYS..memory_system_percent_min': 0.0, 'VAL.E2E..PrecisionMetric': 0.0, 'VAL.SYS..memory_process_min_mb': 0.0, 'VAL.E2E..RecallMetric': 0.0, 'VAL.GEN.llm.AnswerRelevancyMetric': 0.0, 'VAL.E2E..FalseNegativeRateMetric': 1.0, 'VAL.SYS..memory_system_percent_mean': 0.0, 'VAL.E2E..AccuracyMetric': 0.5227586206896552, 'VAL.RET.embedding_retriever.HaystackContextRelevanceMetric': 0.0, 'VAL.SYS..memory_system_percent_max': 0.0, 'VAL.SYS..memory_system_used_max_mb': 0.0, 'VAL.SYS..memory_system_used_mean_mb': 0.0, 'VAL.SYS..cpu_system_mean': 15.369813253265612, 'VAL.SYS..cpu_process_mean': 10.974211833373086, 'VAL.GEN.llm.ContextUtilizationMetric': 0.0, 'VAL.RET.bm25_retriever.MAPAtKMetric': 0.0, 'VAL.SYS..cpu_system_max': 81.1, 'VAL.SYS..samples_count': 71273.0, 'VAL.SYS..memory_system_used_min_mb': 0.0, 'VAL.GEN.rewriter.ContextUtilizationMetric': 0.0, 'VAL.RET.retriever_2.HaystackContextRelevanceMetric': 0.2620689655172414, 'VAL.RET.retriever_1.HaystackContextRelevanceMetric': 0.2413793103448276, 'VAL.RET.retriever_4.HaystackContextRelevanceMetric': 0.2717241379310345, 'VAL.RET.retriever_3.HaystackContextRelevanceMetric': 0.25517241379310346, 'VAL.RET.retriever_1.MAPAtKMetric': 0.07724137931034483, 'VAL.GEN.rewriter.FormatValidatorMetric': 0.0, 'VAL.RET.retriever_0.MAPAtKMetric': 0.07310344827586207, 'VAL.GEN.rewriter.AnswerRelevancyMetric': 0.0, 'VAL.RET.retriever_2.MAPAtKMetric': 0.0703448275862069, 'VAL.RET.retriever_4.MAPAtKMetric': 0.09172413793103448, 'VAL.RET.retriever_3.MAPAtKMetric': 0.08413793103448276, 'VAL.RET.retriever_0.HaystackContextRelevanceMetric': 0.24275862068965517, 'VAL.RET.retriever.HaystackContextRelevanceMetric': 0.0, 'VAL.RET.retriever.MAPAtKMetric': 0.0}\n"
     ]
    },
    {
     "name": "stderr",
     "output_type": "stream",
     "text": [
      "C:\\Users\\Besitzer\\AppData\\Local\\Temp\\ipykernel_16300\\3497699939.py:10: FutureWarning: Downcasting behavior in `replace` is deprecated and will be removed in a future version. To retain the old behavior, explicitly call `result.infer_objects(copy=False)`. To opt-in to the future behavior, set `pd.set_option('future.no_silent_downcasting', True)`\n",
      "  run_metrics = run_metrics.replace(\"\", 0)\n"
     ]
    },
    {
     "name": "stdout",
     "output_type": "stream",
     "text": [
      "🏃 View run 04a7144838064d4cb5d621dc85ec675c at: http://91.99.14.73:8080/#/experiments/204391782326828077/runs/abed3e3c756f4bc4bb0f4d4870e52fa0\n",
      "🧪 View experiment at: http://91.99.14.73:8080/#/experiments/204391782326828077\n",
      "{'indexing_duration': 107.44189143180847, 'VAL.SYS..memory_process_mean_mb': 0.0, 'VAL.E2E..MatthewsCorrCoefMetric': 0.20931906772013165, 'VAL.SYS..cpu_process_min': 0.0, 'VAL.SYS..duration_seconds': 9042.505847, 'VAL.E2E..F1ScoreMetric': 0.5595054095826894, 'VAL.RET.embedding_retriever.MAPAtKMetric': 0.0, 'VAL.E2E..FalsePositiveRateMetric': 0.316622691292876, 'VAL.RET.bm25_retriever.HaystackContextRelevanceMetric': 0.0, 'VAL.SYS..memory_process_max_mb': 0.0, 'VAL.GEN.llm.FormatValidatorMetric': 0.9986206896551724, 'VAL.SYS..cpu_system_min': 0.0, 'VAL.SYS..cpu_process_max': 179.3, 'VAL.SYS..memory_system_percent_min': 0.0, 'VAL.E2E..PrecisionMetric': 0.6013289036544851, 'VAL.SYS..memory_process_min_mb': 0.0, 'VAL.E2E..RecallMetric': 0.523121387283237, 'VAL.GEN.llm.AnswerRelevancyMetric': 0.8362758620689654, 'VAL.E2E..FalseNegativeRateMetric': 0.476878612716763, 'VAL.SYS..memory_system_percent_mean': 0.0, 'VAL.E2E..AccuracyMetric': 0.6068965517241379, 'VAL.RET.embedding_retriever.HaystackContextRelevanceMetric': 0.0, 'VAL.SYS..memory_system_percent_max': 0.0, 'VAL.SYS..memory_system_used_max_mb': 0.0, 'VAL.SYS..memory_system_used_mean_mb': 0.0, 'VAL.SYS..cpu_system_mean': 6.128624535315985, 'VAL.SYS..cpu_process_mean': 24.116105233056906, 'VAL.GEN.llm.ContextUtilizationMetric': 0.5926896551724138, 'VAL.RET.bm25_retriever.MAPAtKMetric': 0.0, 'VAL.SYS..cpu_system_max': 26.6, 'VAL.SYS..samples_count': 17485.0, 'VAL.SYS..memory_system_used_min_mb': 0.0, 'VAL.GEN.rewriter.ContextUtilizationMetric': 0.0, 'VAL.RET.retriever_2.HaystackContextRelevanceMetric': 0.0, 'VAL.RET.retriever_1.HaystackContextRelevanceMetric': 0.0, 'VAL.RET.retriever_4.HaystackContextRelevanceMetric': 0.0, 'VAL.RET.retriever_3.HaystackContextRelevanceMetric': 0.0, 'VAL.RET.retriever_1.MAPAtKMetric': 0.0, 'VAL.GEN.rewriter.FormatValidatorMetric': 0.0, 'VAL.RET.retriever_0.MAPAtKMetric': 0.0, 'VAL.GEN.rewriter.AnswerRelevancyMetric': 0.0, 'VAL.RET.retriever_2.MAPAtKMetric': 0.0, 'VAL.RET.retriever_4.MAPAtKMetric': 0.0, 'VAL.RET.retriever_3.MAPAtKMetric': 0.0, 'VAL.RET.retriever_0.HaystackContextRelevanceMetric': 0.0, 'VAL.RET.retriever.HaystackContextRelevanceMetric': 0.42344827586206896, 'VAL.RET.retriever.MAPAtKMetric': 0.0986072796934866}\n"
     ]
    },
    {
     "name": "stderr",
     "output_type": "stream",
     "text": [
      "C:\\Users\\Besitzer\\AppData\\Local\\Temp\\ipykernel_16300\\3497699939.py:10: FutureWarning: Downcasting behavior in `replace` is deprecated and will be removed in a future version. To retain the old behavior, explicitly call `result.infer_objects(copy=False)`. To opt-in to the future behavior, set `pd.set_option('future.no_silent_downcasting', True)`\n",
      "  run_metrics = run_metrics.replace(\"\", 0)\n"
     ]
    },
    {
     "name": "stdout",
     "output_type": "stream",
     "text": [
      "🏃 View run 414d52e2f6d843b6ac60a2b6221e2a38 at: http://91.99.14.73:8080/#/experiments/204391782326828077/runs/1cd7992ea04e435d829780f81aaf00cd\n",
      "🧪 View experiment at: http://91.99.14.73:8080/#/experiments/204391782326828077\n",
      "{'indexing_duration': 117.2364010810852, 'VAL.SYS..memory_process_mean_mb': 0.0, 'VAL.E2E..MatthewsCorrCoefMetric': 0.2344840133449071, 'VAL.SYS..cpu_process_min': 0.0, 'VAL.SYS..duration_seconds': 8296.90988, 'VAL.E2E..F1ScoreMetric': 0.567398119122257, 'VAL.RET.embedding_retriever.MAPAtKMetric': 0.0, 'VAL.E2E..FalsePositiveRateMetric': 0.2928759894459103, 'VAL.RET.bm25_retriever.HaystackContextRelevanceMetric': 0.0, 'VAL.SYS..memory_process_max_mb': 0.0, 'VAL.GEN.llm.FormatValidatorMetric': 0.9972413793103448, 'VAL.SYS..cpu_system_min': 0.0, 'VAL.SYS..cpu_process_max': 190.2, 'VAL.SYS..memory_system_percent_min': 0.0, 'VAL.E2E..PrecisionMetric': 0.6198630136986302, 'VAL.SYS..memory_process_min_mb': 0.0, 'VAL.E2E..RecallMetric': 0.523121387283237, 'VAL.GEN.llm.AnswerRelevancyMetric': 0.0, 'VAL.E2E..FalseNegativeRateMetric': 0.476878612716763, 'VAL.SYS..memory_system_percent_mean': 0.0, 'VAL.E2E..AccuracyMetric': 0.6193103448275862, 'VAL.RET.embedding_retriever.HaystackContextRelevanceMetric': 0.0, 'VAL.SYS..memory_system_percent_max': 0.0, 'VAL.SYS..memory_system_used_max_mb': 0.0, 'VAL.SYS..memory_system_used_mean_mb': 0.0, 'VAL.SYS..cpu_system_mean': 21.590318956369764, 'VAL.SYS..cpu_process_mean': 28.783041008676115, 'VAL.GEN.llm.ContextUtilizationMetric': 0.0, 'VAL.RET.bm25_retriever.MAPAtKMetric': 0.0, 'VAL.SYS..cpu_system_max': 95.6, 'VAL.SYS..samples_count': 16021.0, 'VAL.SYS..memory_system_used_min_mb': 0.0, 'VAL.GEN.rewriter.ContextUtilizationMetric': 0.0, 'VAL.RET.retriever_2.HaystackContextRelevanceMetric': 0.0, 'VAL.RET.retriever_1.HaystackContextRelevanceMetric': 0.0, 'VAL.RET.retriever_4.HaystackContextRelevanceMetric': 0.0, 'VAL.RET.retriever_3.HaystackContextRelevanceMetric': 0.0, 'VAL.RET.retriever_1.MAPAtKMetric': 0.0, 'VAL.GEN.rewriter.FormatValidatorMetric': 0.0, 'VAL.RET.retriever_0.MAPAtKMetric': 0.0, 'VAL.GEN.rewriter.AnswerRelevancyMetric': 0.0, 'VAL.RET.retriever_2.MAPAtKMetric': 0.0, 'VAL.RET.retriever_4.MAPAtKMetric': 0.0, 'VAL.RET.retriever_3.MAPAtKMetric': 0.0, 'VAL.RET.retriever_0.HaystackContextRelevanceMetric': 0.0, 'VAL.RET.retriever.HaystackContextRelevanceMetric': 0.4317241379310345, 'VAL.RET.retriever.MAPAtKMetric': 0.091411877394636}\n"
     ]
    },
    {
     "name": "stderr",
     "output_type": "stream",
     "text": [
      "C:\\Users\\Besitzer\\AppData\\Local\\Temp\\ipykernel_16300\\3497699939.py:10: FutureWarning: Downcasting behavior in `replace` is deprecated and will be removed in a future version. To retain the old behavior, explicitly call `result.infer_objects(copy=False)`. To opt-in to the future behavior, set `pd.set_option('future.no_silent_downcasting', True)`\n",
      "  run_metrics = run_metrics.replace(\"\", 0)\n"
     ]
    },
    {
     "name": "stdout",
     "output_type": "stream",
     "text": [
      "🏃 View run f465aba5af2649ad942346d33ae55ca6 at: http://91.99.14.73:8080/#/experiments/204391782326828077/runs/7687f120dd614d3cb02ed540e5a1e1d9\n",
      "🧪 View experiment at: http://91.99.14.73:8080/#/experiments/204391782326828077\n",
      "{'indexing_duration': 0.0, 'VAL.SYS..memory_process_mean_mb': 0.0, 'VAL.E2E..MatthewsCorrCoefMetric': 0.2665138016319824, 'VAL.SYS..cpu_process_min': 0.0, 'VAL.SYS..duration_seconds': 3044.912593, 'VAL.E2E..F1ScoreMetric': 0.6690391459074733, 'VAL.RET.embedding_retriever.MAPAtKMetric': 0.0, 'VAL.E2E..FalsePositiveRateMetric': 0.5672823218997362, 'VAL.RET.bm25_retriever.HaystackContextRelevanceMetric': 0.0, 'VAL.SYS..memory_process_max_mb': 0.0, 'VAL.GEN.llm.FormatValidatorMetric': 0.9903448275862069, 'VAL.SYS..cpu_system_min': 0.0, 'VAL.SYS..cpu_process_max': 22.0, 'VAL.SYS..memory_system_percent_min': 0.0, 'VAL.E2E..PrecisionMetric': 0.5674044265593562, 'VAL.SYS..memory_process_min_mb': 0.0, 'VAL.E2E..RecallMetric': 0.815028901734104, 'VAL.GEN.llm.AnswerRelevancyMetric': 0.0, 'VAL.E2E..FalseNegativeRateMetric': 0.18497109826589594, 'VAL.SYS..memory_system_percent_mean': 0.0, 'VAL.E2E..AccuracyMetric': 0.6151724137931035, 'VAL.RET.embedding_retriever.HaystackContextRelevanceMetric': 0.0, 'VAL.SYS..memory_system_percent_max': 0.0, 'VAL.SYS..memory_system_used_max_mb': 0.0, 'VAL.SYS..memory_system_used_mean_mb': 0.0, 'VAL.SYS..cpu_system_mean': 19.250419338924516, 'VAL.SYS..cpu_process_mean': 1.4410623252754482, 'VAL.GEN.llm.ContextUtilizationMetric': 0.0, 'VAL.RET.bm25_retriever.MAPAtKMetric': 0.0, 'VAL.SYS..cpu_system_max': 84.3, 'VAL.SYS..samples_count': 6081.0, 'VAL.SYS..memory_system_used_min_mb': 0.0, 'VAL.GEN.rewriter.ContextUtilizationMetric': 0.0, 'VAL.RET.retriever_2.HaystackContextRelevanceMetric': 0.0, 'VAL.RET.retriever_1.HaystackContextRelevanceMetric': 0.0, 'VAL.RET.retriever_4.HaystackContextRelevanceMetric': 0.0, 'VAL.RET.retriever_3.HaystackContextRelevanceMetric': 0.0, 'VAL.RET.retriever_1.MAPAtKMetric': 0.0, 'VAL.GEN.rewriter.FormatValidatorMetric': 0.0, 'VAL.RET.retriever_0.MAPAtKMetric': 0.0, 'VAL.GEN.rewriter.AnswerRelevancyMetric': 0.0, 'VAL.RET.retriever_2.MAPAtKMetric': 0.0, 'VAL.RET.retriever_4.MAPAtKMetric': 0.0, 'VAL.RET.retriever_3.MAPAtKMetric': 0.0, 'VAL.RET.retriever_0.HaystackContextRelevanceMetric': 0.0, 'VAL.RET.retriever.HaystackContextRelevanceMetric': 0.0, 'VAL.RET.retriever.MAPAtKMetric': 0.0}\n"
     ]
    },
    {
     "name": "stderr",
     "output_type": "stream",
     "text": [
      "C:\\Users\\Besitzer\\AppData\\Local\\Temp\\ipykernel_16300\\3497699939.py:10: FutureWarning: Downcasting behavior in `replace` is deprecated and will be removed in a future version. To retain the old behavior, explicitly call `result.infer_objects(copy=False)`. To opt-in to the future behavior, set `pd.set_option('future.no_silent_downcasting', True)`\n",
      "  run_metrics = run_metrics.replace(\"\", 0)\n"
     ]
    },
    {
     "name": "stdout",
     "output_type": "stream",
     "text": [
      "🏃 View run 9dd37a377b594a1da7e020cc788a464f at: http://91.99.14.73:8080/#/experiments/204391782326828077/runs/abe4ece0355445068536ab8a0d5c6f7c\n",
      "🧪 View experiment at: http://91.99.14.73:8080/#/experiments/204391782326828077\n",
      "{'indexing_duration': 0.0, 'VAL.SYS..memory_process_mean_mb': 0.0, 'VAL.E2E..MatthewsCorrCoefMetric': 0.28718878618732174, 'VAL.SYS..cpu_process_min': 0.0, 'VAL.SYS..duration_seconds': 3574.552022, 'VAL.E2E..F1ScoreMetric': 0.6812933025404158, 'VAL.RET.embedding_retriever.MAPAtKMetric': 0.0, 'VAL.E2E..FalsePositiveRateMetric': 0.5936675461741425, 'VAL.RET.bm25_retriever.HaystackContextRelevanceMetric': 0.0, 'VAL.SYS..memory_process_max_mb': 0.0, 'VAL.GEN.llm.FormatValidatorMetric': 0.9958620689655172, 'VAL.SYS..cpu_system_min': 0.0, 'VAL.SYS..cpu_process_max': 30.0, 'VAL.SYS..memory_system_percent_min': 0.0, 'VAL.E2E..PrecisionMetric': 0.5673076923076923, 'VAL.SYS..memory_process_min_mb': 0.0, 'VAL.E2E..RecallMetric': 0.8526011560693642, 'VAL.GEN.llm.AnswerRelevancyMetric': 0.8820689655172413, 'VAL.E2E..FalseNegativeRateMetric': 0.14739884393063585, 'VAL.SYS..memory_system_percent_mean': 0.0, 'VAL.E2E..AccuracyMetric': 0.6193103448275862, 'VAL.RET.embedding_retriever.HaystackContextRelevanceMetric': 0.0, 'VAL.SYS..memory_system_percent_max': 0.0, 'VAL.SYS..memory_system_used_max_mb': 0.0, 'VAL.SYS..memory_system_used_mean_mb': 0.0, 'VAL.SYS..cpu_system_mean': 0.402773886242645, 'VAL.SYS..cpu_process_mean': 1.2338330064443823, 'VAL.GEN.llm.ContextUtilizationMetric': 0.0, 'VAL.RET.bm25_retriever.MAPAtKMetric': 0.0, 'VAL.SYS..cpu_system_max': 6.5, 'VAL.SYS..samples_count': 7138.0, 'VAL.SYS..memory_system_used_min_mb': 0.0, 'VAL.GEN.rewriter.ContextUtilizationMetric': 0.0, 'VAL.RET.retriever_2.HaystackContextRelevanceMetric': 0.0, 'VAL.RET.retriever_1.HaystackContextRelevanceMetric': 0.0, 'VAL.RET.retriever_4.HaystackContextRelevanceMetric': 0.0, 'VAL.RET.retriever_3.HaystackContextRelevanceMetric': 0.0, 'VAL.RET.retriever_1.MAPAtKMetric': 0.0, 'VAL.GEN.rewriter.FormatValidatorMetric': 0.0, 'VAL.RET.retriever_0.MAPAtKMetric': 0.0, 'VAL.GEN.rewriter.AnswerRelevancyMetric': 0.0, 'VAL.RET.retriever_2.MAPAtKMetric': 0.0, 'VAL.RET.retriever_4.MAPAtKMetric': 0.0, 'VAL.RET.retriever_3.MAPAtKMetric': 0.0, 'VAL.RET.retriever_0.HaystackContextRelevanceMetric': 0.0, 'VAL.RET.retriever.HaystackContextRelevanceMetric': 0.0, 'VAL.RET.retriever.MAPAtKMetric': 0.0}\n"
     ]
    },
    {
     "name": "stderr",
     "output_type": "stream",
     "text": [
      "C:\\Users\\Besitzer\\AppData\\Local\\Temp\\ipykernel_16300\\3497699939.py:10: FutureWarning: Downcasting behavior in `replace` is deprecated and will be removed in a future version. To retain the old behavior, explicitly call `result.infer_objects(copy=False)`. To opt-in to the future behavior, set `pd.set_option('future.no_silent_downcasting', True)`\n",
      "  run_metrics = run_metrics.replace(\"\", 0)\n"
     ]
    },
    {
     "name": "stdout",
     "output_type": "stream",
     "text": [
      "🏃 View run 7875a8010ea44e5ebf4a4c26302c2991 at: http://91.99.14.73:8080/#/experiments/204391782326828077/runs/270b13190afd42fe9d4aaf434af11f05\n",
      "🧪 View experiment at: http://91.99.14.73:8080/#/experiments/204391782326828077\n",
      "{'indexing_duration': 118.04146361351013, 'VAL.SYS..memory_process_mean_mb': 0.0, 'VAL.E2E..MatthewsCorrCoefMetric': 0.2319218248003705, 'VAL.SYS..cpu_process_min': 0.0, 'VAL.SYS..duration_seconds': 8727.623093, 'VAL.E2E..F1ScoreMetric': 0.5770992366412214, 'VAL.RET.embedding_retriever.MAPAtKMetric': 0.0, 'VAL.E2E..FalsePositiveRateMetric': 0.316622691292876, 'VAL.RET.bm25_retriever.HaystackContextRelevanceMetric': 0.0, 'VAL.SYS..memory_process_max_mb': 0.0, 'VAL.GEN.llm.FormatValidatorMetric': 0.9986206896551724, 'VAL.SYS..cpu_system_min': 0.0, 'VAL.SYS..cpu_process_max': 178.6, 'VAL.SYS..memory_system_percent_min': 0.0, 'VAL.E2E..PrecisionMetric': 0.6116504854368932, 'VAL.SYS..memory_process_min_mb': 0.0, 'VAL.E2E..RecallMetric': 0.546242774566474, 'VAL.GEN.llm.AnswerRelevancyMetric': 0.0, 'VAL.E2E..FalseNegativeRateMetric': 0.45375722543352603, 'VAL.SYS..memory_system_percent_mean': 0.0, 'VAL.E2E..AccuracyMetric': 0.6179310344827587, 'VAL.RET.embedding_retriever.HaystackContextRelevanceMetric': 0.0, 'VAL.SYS..memory_system_percent_max': 0.0, 'VAL.SYS..memory_system_used_max_mb': 0.0, 'VAL.SYS..memory_system_used_mean_mb': 0.0, 'VAL.SYS..cpu_system_mean': 19.939978715856686, 'VAL.SYS..cpu_process_mean': 27.268452169800167, 'VAL.GEN.llm.ContextUtilizationMetric': 0.0, 'VAL.RET.bm25_retriever.MAPAtKMetric': 0.0, 'VAL.SYS..cpu_system_max': 94.6, 'VAL.SYS..samples_count': 16914.0, 'VAL.SYS..memory_system_used_min_mb': 0.0, 'VAL.GEN.rewriter.ContextUtilizationMetric': 0.0, 'VAL.RET.retriever_2.HaystackContextRelevanceMetric': 0.0, 'VAL.RET.retriever_1.HaystackContextRelevanceMetric': 0.0, 'VAL.RET.retriever_4.HaystackContextRelevanceMetric': 0.0, 'VAL.RET.retriever_3.HaystackContextRelevanceMetric': 0.0, 'VAL.RET.retriever_1.MAPAtKMetric': 0.0, 'VAL.GEN.rewriter.FormatValidatorMetric': 0.0, 'VAL.RET.retriever_0.MAPAtKMetric': 0.0, 'VAL.GEN.rewriter.AnswerRelevancyMetric': 0.0, 'VAL.RET.retriever_2.MAPAtKMetric': 0.0, 'VAL.RET.retriever_4.MAPAtKMetric': 0.0, 'VAL.RET.retriever_3.MAPAtKMetric': 0.0, 'VAL.RET.retriever_0.HaystackContextRelevanceMetric': 0.0, 'VAL.RET.retriever.HaystackContextRelevanceMetric': 0.42482758620689653, 'VAL.RET.retriever.MAPAtKMetric': 0.09699808429118775}\n"
     ]
    },
    {
     "name": "stderr",
     "output_type": "stream",
     "text": [
      "C:\\Users\\Besitzer\\AppData\\Local\\Temp\\ipykernel_16300\\3497699939.py:10: FutureWarning: Downcasting behavior in `replace` is deprecated and will be removed in a future version. To retain the old behavior, explicitly call `result.infer_objects(copy=False)`. To opt-in to the future behavior, set `pd.set_option('future.no_silent_downcasting', True)`\n",
      "  run_metrics = run_metrics.replace(\"\", 0)\n"
     ]
    },
    {
     "name": "stdout",
     "output_type": "stream",
     "text": [
      "🏃 View run ea995b93cfbd4773984d4f21a1b7cbec at: http://91.99.14.73:8080/#/experiments/204391782326828077/runs/7fdb20e7e16144c7b208a461b556c5c2\n",
      "🧪 View experiment at: http://91.99.14.73:8080/#/experiments/204391782326828077\n",
      "{'indexing_duration': 107.77113127708435, 'VAL.SYS..memory_process_mean_mb': 0.0, 'VAL.E2E..MatthewsCorrCoefMetric': 0.21770362091427858, 'VAL.SYS..cpu_process_min': 0.0, 'VAL.SYS..duration_seconds': 9722.987132, 'VAL.E2E..F1ScoreMetric': 0.5634674922600619, 'VAL.RET.embedding_retriever.MAPAtKMetric': 0.0, 'VAL.E2E..FalsePositiveRateMetric': 0.3113456464379947, 'VAL.RET.bm25_retriever.HaystackContextRelevanceMetric': 0.0, 'VAL.SYS..memory_process_max_mb': 0.0, 'VAL.GEN.llm.FormatValidatorMetric': 0.9986206896551724, 'VAL.SYS..cpu_system_min': 0.0, 'VAL.SYS..cpu_process_max': 182.9, 'VAL.SYS..memory_system_percent_min': 0.0, 'VAL.E2E..PrecisionMetric': 0.6066666666666667, 'VAL.SYS..memory_process_min_mb': 0.0, 'VAL.E2E..RecallMetric': 0.5260115606936416, 'VAL.GEN.llm.AnswerRelevancyMetric': 0.8227586206896552, 'VAL.E2E..FalseNegativeRateMetric': 0.47398843930635837, 'VAL.SYS..memory_system_percent_mean': 0.0, 'VAL.E2E..AccuracyMetric': 0.6110344827586207, 'VAL.RET.embedding_retriever.HaystackContextRelevanceMetric': 0.0, 'VAL.SYS..memory_system_percent_max': 0.0, 'VAL.SYS..memory_system_used_max_mb': 0.0, 'VAL.SYS..memory_system_used_mean_mb': 0.0, 'VAL.SYS..cpu_system_mean': 5.689436283608209, 'VAL.SYS..cpu_process_mean': 22.411242509412954, 'VAL.GEN.llm.ContextUtilizationMetric': 0.5721379310344827, 'VAL.RET.bm25_retriever.MAPAtKMetric': 0.0, 'VAL.SYS..cpu_system_max': 26.8, 'VAL.SYS..samples_count': 18857.0, 'VAL.SYS..memory_system_used_min_mb': 0.0, 'VAL.GEN.rewriter.ContextUtilizationMetric': 0.0, 'VAL.RET.retriever_2.HaystackContextRelevanceMetric': 0.0, 'VAL.RET.retriever_1.HaystackContextRelevanceMetric': 0.0, 'VAL.RET.retriever_4.HaystackContextRelevanceMetric': 0.0, 'VAL.RET.retriever_3.HaystackContextRelevanceMetric': 0.0, 'VAL.RET.retriever_1.MAPAtKMetric': 0.0, 'VAL.GEN.rewriter.FormatValidatorMetric': 0.0, 'VAL.RET.retriever_0.MAPAtKMetric': 0.0, 'VAL.GEN.rewriter.AnswerRelevancyMetric': 0.0, 'VAL.RET.retriever_2.MAPAtKMetric': 0.0, 'VAL.RET.retriever_4.MAPAtKMetric': 0.0, 'VAL.RET.retriever_3.MAPAtKMetric': 0.0, 'VAL.RET.retriever_0.HaystackContextRelevanceMetric': 0.0, 'VAL.RET.retriever.HaystackContextRelevanceMetric': 0.4317241379310345, 'VAL.RET.retriever.MAPAtKMetric': 0.09018199233716474}\n"
     ]
    },
    {
     "name": "stderr",
     "output_type": "stream",
     "text": [
      "C:\\Users\\Besitzer\\AppData\\Local\\Temp\\ipykernel_16300\\3497699939.py:10: FutureWarning: Downcasting behavior in `replace` is deprecated and will be removed in a future version. To retain the old behavior, explicitly call `result.infer_objects(copy=False)`. To opt-in to the future behavior, set `pd.set_option('future.no_silent_downcasting', True)`\n",
      "  run_metrics = run_metrics.replace(\"\", 0)\n"
     ]
    },
    {
     "name": "stdout",
     "output_type": "stream",
     "text": [
      "🏃 View run 685700fe904c456c86cf4db2ed378171 at: http://91.99.14.73:8080/#/experiments/204391782326828077/runs/49a91fe10b3a4fde99ee085bbb6468a3\n",
      "🧪 View experiment at: http://91.99.14.73:8080/#/experiments/204391782326828077\n",
      "{'indexing_duration': 0.0, 'VAL.SYS..memory_process_mean_mb': 0.0, 'VAL.E2E..MatthewsCorrCoefMetric': 0.32076127565379586, 'VAL.SYS..cpu_process_min': 0.0, 'VAL.SYS..duration_seconds': 3294.842223, 'VAL.E2E..F1ScoreMetric': 0.691764705882353, 'VAL.RET.embedding_retriever.MAPAtKMetric': 0.0, 'VAL.E2E..FalsePositiveRateMetric': 0.554089709762533, 'VAL.RET.bm25_retriever.HaystackContextRelevanceMetric': 0.0, 'VAL.SYS..memory_process_max_mb': 0.0, 'VAL.GEN.llm.FormatValidatorMetric': 0.9972413793103448, 'VAL.SYS..cpu_system_min': 0.0, 'VAL.SYS..cpu_process_max': 22.0, 'VAL.SYS..memory_system_percent_min': 0.0, 'VAL.E2E..PrecisionMetric': 0.5833333333333334, 'VAL.SYS..memory_process_min_mb': 0.0, 'VAL.E2E..RecallMetric': 0.8497109826589595, 'VAL.GEN.llm.AnswerRelevancyMetric': 0.0, 'VAL.E2E..FalseNegativeRateMetric': 0.15028901734104047, 'VAL.SYS..memory_system_percent_mean': 0.0, 'VAL.E2E..AccuracyMetric': 0.6386206896551724, 'VAL.RET.embedding_retriever.HaystackContextRelevanceMetric': 0.0, 'VAL.SYS..memory_system_percent_max': 0.0, 'VAL.SYS..memory_system_used_max_mb': 0.0, 'VAL.SYS..memory_system_used_mean_mb': 0.0, 'VAL.SYS..cpu_system_mean': 17.616504559270517, 'VAL.SYS..cpu_process_mean': 1.3657446808510638, 'VAL.GEN.llm.ContextUtilizationMetric': 0.0, 'VAL.RET.bm25_retriever.MAPAtKMetric': 0.0, 'VAL.SYS..cpu_system_max': 84.8, 'VAL.SYS..samples_count': 6580.0, 'VAL.SYS..memory_system_used_min_mb': 0.0, 'VAL.GEN.rewriter.ContextUtilizationMetric': 0.0, 'VAL.RET.retriever_2.HaystackContextRelevanceMetric': 0.0, 'VAL.RET.retriever_1.HaystackContextRelevanceMetric': 0.0, 'VAL.RET.retriever_4.HaystackContextRelevanceMetric': 0.0, 'VAL.RET.retriever_3.HaystackContextRelevanceMetric': 0.0, 'VAL.RET.retriever_1.MAPAtKMetric': 0.0, 'VAL.GEN.rewriter.FormatValidatorMetric': 0.0, 'VAL.RET.retriever_0.MAPAtKMetric': 0.0, 'VAL.GEN.rewriter.AnswerRelevancyMetric': 0.0, 'VAL.RET.retriever_2.MAPAtKMetric': 0.0, 'VAL.RET.retriever_4.MAPAtKMetric': 0.0, 'VAL.RET.retriever_3.MAPAtKMetric': 0.0, 'VAL.RET.retriever_0.HaystackContextRelevanceMetric': 0.0, 'VAL.RET.retriever.HaystackContextRelevanceMetric': 0.0, 'VAL.RET.retriever.MAPAtKMetric': 0.0}\n"
     ]
    },
    {
     "name": "stderr",
     "output_type": "stream",
     "text": [
      "C:\\Users\\Besitzer\\AppData\\Local\\Temp\\ipykernel_16300\\3497699939.py:10: FutureWarning: Downcasting behavior in `replace` is deprecated and will be removed in a future version. To retain the old behavior, explicitly call `result.infer_objects(copy=False)`. To opt-in to the future behavior, set `pd.set_option('future.no_silent_downcasting', True)`\n",
      "  run_metrics = run_metrics.replace(\"\", 0)\n"
     ]
    },
    {
     "name": "stdout",
     "output_type": "stream",
     "text": [
      "🏃 View run 539bba316edb4c8e9d27bbe48357ba21 at: http://91.99.14.73:8080/#/experiments/204391782326828077/runs/92f0be47d80c4a42bd7816ff225ae041\n",
      "🧪 View experiment at: http://91.99.14.73:8080/#/experiments/204391782326828077\n",
      "{'indexing_duration': 0.0, 'VAL.SYS..memory_process_mean_mb': 0.0, 'VAL.E2E..MatthewsCorrCoefMetric': 0.25984488060907834, 'VAL.SYS..cpu_process_min': 0.0, 'VAL.SYS..duration_seconds': 3866.941692, 'VAL.E2E..F1ScoreMetric': 0.6674528301886793, 'VAL.RET.embedding_retriever.MAPAtKMetric': 0.0, 'VAL.E2E..FalsePositiveRateMetric': 0.5778364116094987, 'VAL.RET.bm25_retriever.HaystackContextRelevanceMetric': 0.0, 'VAL.SYS..memory_process_max_mb': 0.0, 'VAL.GEN.llm.FormatValidatorMetric': 0.9944827586206897, 'VAL.SYS..cpu_system_min': 0.0, 'VAL.SYS..cpu_process_max': 24.0, 'VAL.SYS..memory_system_percent_min': 0.0, 'VAL.E2E..PrecisionMetric': 0.5637450199203188, 'VAL.SYS..memory_process_min_mb': 0.0, 'VAL.E2E..RecallMetric': 0.8179190751445087, 'VAL.GEN.llm.AnswerRelevancyMetric': 0.8820689655172413, 'VAL.E2E..FalseNegativeRateMetric': 0.18208092485549132, 'VAL.SYS..memory_system_percent_mean': 0.0, 'VAL.E2E..AccuracyMetric': 0.6110344827586207, 'VAL.RET.embedding_retriever.HaystackContextRelevanceMetric': 0.0, 'VAL.SYS..memory_system_percent_max': 0.0, 'VAL.SYS..memory_system_used_max_mb': 0.0, 'VAL.SYS..memory_system_used_mean_mb': 0.0, 'VAL.SYS..cpu_system_mean': 0.36472416472416475, 'VAL.SYS..cpu_process_mean': 1.1612276612276613, 'VAL.GEN.llm.ContextUtilizationMetric': 0.0, 'VAL.RET.bm25_retriever.MAPAtKMetric': 0.0, 'VAL.SYS..cpu_system_max': 12.9, 'VAL.SYS..samples_count': 7722.0, 'VAL.SYS..memory_system_used_min_mb': 0.0, 'VAL.GEN.rewriter.ContextUtilizationMetric': 0.0, 'VAL.RET.retriever_2.HaystackContextRelevanceMetric': 0.0, 'VAL.RET.retriever_1.HaystackContextRelevanceMetric': 0.0, 'VAL.RET.retriever_4.HaystackContextRelevanceMetric': 0.0, 'VAL.RET.retriever_3.HaystackContextRelevanceMetric': 0.0, 'VAL.RET.retriever_1.MAPAtKMetric': 0.0, 'VAL.GEN.rewriter.FormatValidatorMetric': 0.0, 'VAL.RET.retriever_0.MAPAtKMetric': 0.0, 'VAL.GEN.rewriter.AnswerRelevancyMetric': 0.0, 'VAL.RET.retriever_2.MAPAtKMetric': 0.0, 'VAL.RET.retriever_4.MAPAtKMetric': 0.0, 'VAL.RET.retriever_3.MAPAtKMetric': 0.0, 'VAL.RET.retriever_0.HaystackContextRelevanceMetric': 0.0, 'VAL.RET.retriever.HaystackContextRelevanceMetric': 0.0, 'VAL.RET.retriever.MAPAtKMetric': 0.0}\n"
     ]
    },
    {
     "name": "stderr",
     "output_type": "stream",
     "text": [
      "C:\\Users\\Besitzer\\AppData\\Local\\Temp\\ipykernel_16300\\3497699939.py:10: FutureWarning: Downcasting behavior in `replace` is deprecated and will be removed in a future version. To retain the old behavior, explicitly call `result.infer_objects(copy=False)`. To opt-in to the future behavior, set `pd.set_option('future.no_silent_downcasting', True)`\n",
      "  run_metrics = run_metrics.replace(\"\", 0)\n"
     ]
    },
    {
     "name": "stdout",
     "output_type": "stream",
     "text": [
      "🏃 View run 95bddc79059e45919c6c61e34ca52fcc at: http://91.99.14.73:8080/#/experiments/204391782326828077/runs/a6616efd50324caab5e732cae0c16688\n",
      "🧪 View experiment at: http://91.99.14.73:8080/#/experiments/204391782326828077\n",
      "{'indexing_duration': 2119.3983974456787, 'VAL.SYS..memory_process_mean_mb': 0.0, 'VAL.E2E..MatthewsCorrCoefMetric': 0.31636378691870615, 'VAL.SYS..cpu_process_min': 0.0, 'VAL.SYS..duration_seconds': 21897.206218, 'VAL.E2E..F1ScoreMetric': 0.6675496688741722, 'VAL.RET.embedding_retriever.MAPAtKMetric': 0.0, 'VAL.E2E..FalsePositiveRateMetric': 0.41424802110817943, 'VAL.RET.bm25_retriever.HaystackContextRelevanceMetric': 0.0, 'VAL.SYS..memory_process_max_mb': 0.0, 'VAL.GEN.llm.FormatValidatorMetric': 0.9848275862068966, 'VAL.SYS..cpu_system_min': 0.0, 'VAL.SYS..cpu_process_max': 97.8, 'VAL.SYS..memory_system_percent_min': 0.0, 'VAL.E2E..PrecisionMetric': 0.6161369193154034, 'VAL.SYS..memory_process_min_mb': 0.0, 'VAL.E2E..RecallMetric': 0.7283236994219653, 'VAL.GEN.llm.AnswerRelevancyMetric': 0.0, 'VAL.E2E..FalseNegativeRateMetric': 0.27167630057803466, 'VAL.SYS..memory_system_percent_mean': 0.0, 'VAL.E2E..AccuracyMetric': 0.6537931034482759, 'VAL.RET.embedding_retriever.HaystackContextRelevanceMetric': 0.0, 'VAL.SYS..memory_system_percent_max': 0.0, 'VAL.SYS..memory_system_used_max_mb': 0.0, 'VAL.SYS..memory_system_used_mean_mb': 0.0, 'VAL.SYS..cpu_system_mean': 13.71653527339096, 'VAL.SYS..cpu_process_mean': 3.9511014220892804, 'VAL.GEN.llm.ContextUtilizationMetric': 0.0, 'VAL.RET.bm25_retriever.MAPAtKMetric': 0.0, 'VAL.SYS..cpu_system_max': 83.4, 'VAL.SYS..samples_count': 39449.0, 'VAL.SYS..memory_system_used_min_mb': 0.0, 'VAL.GEN.rewriter.ContextUtilizationMetric': 0.0, 'VAL.RET.retriever_2.HaystackContextRelevanceMetric': 0.0, 'VAL.RET.retriever_1.HaystackContextRelevanceMetric': 0.0, 'VAL.RET.retriever_4.HaystackContextRelevanceMetric': 0.0, 'VAL.RET.retriever_3.HaystackContextRelevanceMetric': 0.0, 'VAL.RET.retriever_1.MAPAtKMetric': 0.0, 'VAL.GEN.rewriter.FormatValidatorMetric': 0.0, 'VAL.RET.retriever_0.MAPAtKMetric': 0.0, 'VAL.GEN.rewriter.AnswerRelevancyMetric': 0.0, 'VAL.RET.retriever_2.MAPAtKMetric': 0.0, 'VAL.RET.retriever_4.MAPAtKMetric': 0.0, 'VAL.RET.retriever_3.MAPAtKMetric': 0.0, 'VAL.RET.retriever_0.HaystackContextRelevanceMetric': 0.0, 'VAL.RET.retriever.HaystackContextRelevanceMetric': 0.21379310344827587, 'VAL.RET.retriever.MAPAtKMetric': 0.03029885057471264}\n"
     ]
    },
    {
     "name": "stderr",
     "output_type": "stream",
     "text": [
      "C:\\Users\\Besitzer\\AppData\\Local\\Temp\\ipykernel_16300\\3497699939.py:10: FutureWarning: Downcasting behavior in `replace` is deprecated and will be removed in a future version. To retain the old behavior, explicitly call `result.infer_objects(copy=False)`. To opt-in to the future behavior, set `pd.set_option('future.no_silent_downcasting', True)`\n",
      "  run_metrics = run_metrics.replace(\"\", 0)\n"
     ]
    },
    {
     "name": "stdout",
     "output_type": "stream",
     "text": [
      "🏃 View run f8576a21bc7242dda9951e9d66402f85 at: http://91.99.14.73:8080/#/experiments/204391782326828077/runs/280e9261c11449cb8c71790c7a07940c\n",
      "🧪 View experiment at: http://91.99.14.73:8080/#/experiments/204391782326828077\n",
      "{'indexing_duration': 0.0, 'VAL.SYS..memory_process_mean_mb': 0.0, 'VAL.E2E..MatthewsCorrCoefMetric': 0.2941972735058224, 'VAL.SYS..cpu_process_min': 0.0, 'VAL.SYS..duration_seconds': 39035.165137, 'VAL.E2E..F1ScoreMetric': 0.5333333333333333, 'VAL.RET.embedding_retriever.MAPAtKMetric': 0.0, 'VAL.E2E..FalsePositiveRateMetric': 0.16094986807387862, 'VAL.RET.bm25_retriever.HaystackContextRelevanceMetric': 0.0, 'VAL.SYS..memory_process_max_mb': 0.0, 'VAL.GEN.llm.FormatValidatorMetric': 0.8924137931034483, 'VAL.SYS..cpu_system_min': 0.0, 'VAL.SYS..cpu_process_max': 39.9, 'VAL.SYS..memory_system_percent_min': 0.0, 'VAL.E2E..PrecisionMetric': 0.7081339712918661, 'VAL.SYS..memory_process_min_mb': 0.0, 'VAL.E2E..RecallMetric': 0.4277456647398844, 'VAL.GEN.llm.AnswerRelevancyMetric': 0.8889655172413793, 'VAL.E2E..FalseNegativeRateMetric': 0.5722543352601156, 'VAL.SYS..memory_system_percent_mean': 0.0, 'VAL.E2E..AccuracyMetric': 0.6427586206896552, 'VAL.RET.embedding_retriever.HaystackContextRelevanceMetric': 0.0, 'VAL.SYS..memory_system_percent_max': 0.0, 'VAL.SYS..memory_system_used_max_mb': 0.0, 'VAL.SYS..memory_system_used_mean_mb': 0.0, 'VAL.SYS..cpu_system_mean': 0.17132043518423484, 'VAL.SYS..cpu_process_mean': 0.3815701016114133, 'VAL.GEN.llm.ContextUtilizationMetric': 0.0, 'VAL.RET.bm25_retriever.MAPAtKMetric': 0.0, 'VAL.SYS..cpu_system_max': 43.9, 'VAL.SYS..samples_count': 77944.0, 'VAL.SYS..memory_system_used_min_mb': 0.0, 'VAL.GEN.rewriter.ContextUtilizationMetric': 0.0, 'VAL.RET.retriever_2.HaystackContextRelevanceMetric': 0.0, 'VAL.RET.retriever_1.HaystackContextRelevanceMetric': 0.0, 'VAL.RET.retriever_4.HaystackContextRelevanceMetric': 0.0, 'VAL.RET.retriever_3.HaystackContextRelevanceMetric': 0.0, 'VAL.RET.retriever_1.MAPAtKMetric': 0.0, 'VAL.GEN.rewriter.FormatValidatorMetric': 0.0, 'VAL.RET.retriever_0.MAPAtKMetric': 0.0, 'VAL.GEN.rewriter.AnswerRelevancyMetric': 0.0, 'VAL.RET.retriever_2.MAPAtKMetric': 0.0, 'VAL.RET.retriever_4.MAPAtKMetric': 0.0, 'VAL.RET.retriever_3.MAPAtKMetric': 0.0, 'VAL.RET.retriever_0.HaystackContextRelevanceMetric': 0.0, 'VAL.RET.retriever.HaystackContextRelevanceMetric': 0.0, 'VAL.RET.retriever.MAPAtKMetric': 0.0}\n"
     ]
    },
    {
     "name": "stderr",
     "output_type": "stream",
     "text": [
      "C:\\Users\\Besitzer\\AppData\\Local\\Temp\\ipykernel_16300\\3497699939.py:10: FutureWarning: Downcasting behavior in `replace` is deprecated and will be removed in a future version. To retain the old behavior, explicitly call `result.infer_objects(copy=False)`. To opt-in to the future behavior, set `pd.set_option('future.no_silent_downcasting', True)`\n",
      "  run_metrics = run_metrics.replace(\"\", 0)\n"
     ]
    },
    {
     "name": "stdout",
     "output_type": "stream",
     "text": [
      "🏃 View run 9299a5dc28204f5f92482e96325031ec at: http://91.99.14.73:8080/#/experiments/204391782326828077/runs/ad28a04228624824b1c2666a4e7006ed\n",
      "🧪 View experiment at: http://91.99.14.73:8080/#/experiments/204391782326828077\n",
      "{'indexing_duration': 0.0, 'VAL.SYS..memory_process_mean_mb': 0.0, 'VAL.E2E..MatthewsCorrCoefMetric': 0.3192211015191441, 'VAL.SYS..cpu_process_min': 0.0, 'VAL.SYS..duration_seconds': 34064.620719, 'VAL.E2E..F1ScoreMetric': 0.5503597122302158, 'VAL.RET.embedding_retriever.MAPAtKMetric': 0.0, 'VAL.E2E..FalsePositiveRateMetric': 0.15303430079155672, 'VAL.RET.bm25_retriever.HaystackContextRelevanceMetric': 0.0, 'VAL.SYS..memory_process_max_mb': 0.0, 'VAL.GEN.llm.FormatValidatorMetric': 0.8853591160220995, 'VAL.SYS..cpu_system_min': 0.0, 'VAL.SYS..cpu_process_max': 37.9, 'VAL.SYS..memory_system_percent_min': 0.0, 'VAL.E2E..PrecisionMetric': 0.7251184834123223, 'VAL.SYS..memory_process_min_mb': 0.0, 'VAL.E2E..RecallMetric': 0.4434782608695652, 'VAL.GEN.llm.AnswerRelevancyMetric': 0.8846685082872928, 'VAL.E2E..FalseNegativeRateMetric': 0.5565217391304348, 'VAL.SYS..memory_system_percent_mean': 0.0, 'VAL.E2E..AccuracyMetric': 0.6546961325966851, 'VAL.RET.embedding_retriever.HaystackContextRelevanceMetric': 0.0, 'VAL.SYS..memory_system_percent_max': 0.0, 'VAL.SYS..memory_system_used_max_mb': 0.0, 'VAL.SYS..memory_system_used_mean_mb': 0.0, 'VAL.SYS..cpu_system_mean': 0.1621120569252709, 'VAL.SYS..cpu_process_mean': 0.3963260265514048, 'VAL.GEN.llm.ContextUtilizationMetric': 0.0, 'VAL.RET.bm25_retriever.MAPAtKMetric': 0.0, 'VAL.SYS..cpu_system_max': 9.5, 'VAL.SYS..samples_count': 68019.0, 'VAL.SYS..memory_system_used_min_mb': 0.0, 'VAL.GEN.rewriter.ContextUtilizationMetric': 0.0, 'VAL.RET.retriever_2.HaystackContextRelevanceMetric': 0.0, 'VAL.RET.retriever_1.HaystackContextRelevanceMetric': 0.0, 'VAL.RET.retriever_4.HaystackContextRelevanceMetric': 0.0, 'VAL.RET.retriever_3.HaystackContextRelevanceMetric': 0.0, 'VAL.RET.retriever_1.MAPAtKMetric': 0.0, 'VAL.GEN.rewriter.FormatValidatorMetric': 0.0, 'VAL.RET.retriever_0.MAPAtKMetric': 0.0, 'VAL.GEN.rewriter.AnswerRelevancyMetric': 0.0, 'VAL.RET.retriever_2.MAPAtKMetric': 0.0, 'VAL.RET.retriever_4.MAPAtKMetric': 0.0, 'VAL.RET.retriever_3.MAPAtKMetric': 0.0, 'VAL.RET.retriever_0.HaystackContextRelevanceMetric': 0.0, 'VAL.RET.retriever.HaystackContextRelevanceMetric': 0.0, 'VAL.RET.retriever.MAPAtKMetric': 0.0}\n"
     ]
    },
    {
     "name": "stderr",
     "output_type": "stream",
     "text": [
      "C:\\Users\\Besitzer\\AppData\\Local\\Temp\\ipykernel_16300\\3497699939.py:10: FutureWarning: Downcasting behavior in `replace` is deprecated and will be removed in a future version. To retain the old behavior, explicitly call `result.infer_objects(copy=False)`. To opt-in to the future behavior, set `pd.set_option('future.no_silent_downcasting', True)`\n",
      "  run_metrics = run_metrics.replace(\"\", 0)\n"
     ]
    },
    {
     "name": "stdout",
     "output_type": "stream",
     "text": [
      "🏃 View run c4187f271ef04f4da75c195636242f7b at: http://91.99.14.73:8080/#/experiments/204391782326828077/runs/ae0495a2498648dbb9e647519431b721\n",
      "🧪 View experiment at: http://91.99.14.73:8080/#/experiments/204391782326828077\n",
      "{'indexing_duration': 0.0, 'VAL.SYS..memory_process_mean_mb': 0.0, 'VAL.E2E..MatthewsCorrCoefMetric': 0.03954198975485826, 'VAL.SYS..cpu_process_min': 0.0, 'VAL.SYS..duration_seconds': 4601.891932, 'VAL.E2E..F1ScoreMetric': 0.0392156862745098, 'VAL.RET.embedding_retriever.MAPAtKMetric': 0.0, 'VAL.E2E..FalsePositiveRateMetric': 0.010554089709762533, 'VAL.RET.bm25_retriever.HaystackContextRelevanceMetric': 0.0, 'VAL.SYS..memory_process_max_mb': 0.0, 'VAL.GEN.llm.FormatValidatorMetric': 0.17103448275862068, 'VAL.SYS..cpu_system_min': 0.0, 'VAL.SYS..cpu_process_max': 22.0, 'VAL.SYS..memory_system_percent_min': 0.0, 'VAL.E2E..PrecisionMetric': 0.6363636363636364, 'VAL.SYS..memory_process_min_mb': 0.0, 'VAL.E2E..RecallMetric': 0.02023121387283237, 'VAL.GEN.llm.AnswerRelevancyMetric': 0.0, 'VAL.E2E..FalseNegativeRateMetric': 0.9797687861271677, 'VAL.SYS..memory_system_percent_mean': 0.0, 'VAL.E2E..AccuracyMetric': 0.526896551724138, 'VAL.RET.embedding_retriever.HaystackContextRelevanceMetric': 0.0, 'VAL.SYS..memory_system_percent_max': 0.0, 'VAL.SYS..memory_system_used_max_mb': 0.0, 'VAL.SYS..memory_system_used_mean_mb': 0.0, 'VAL.SYS..cpu_system_mean': 16.00253536452666, 'VAL.SYS..cpu_process_mean': 1.1248095756256802, 'VAL.GEN.llm.ContextUtilizationMetric': 0.0, 'VAL.RET.bm25_retriever.MAPAtKMetric': 0.0, 'VAL.SYS..cpu_system_max': 82.8, 'VAL.SYS..samples_count': 9190.0, 'VAL.SYS..memory_system_used_min_mb': 0.0, 'VAL.GEN.rewriter.ContextUtilizationMetric': 0.0, 'VAL.RET.retriever_2.HaystackContextRelevanceMetric': 0.0, 'VAL.RET.retriever_1.HaystackContextRelevanceMetric': 0.0, 'VAL.RET.retriever_4.HaystackContextRelevanceMetric': 0.0, 'VAL.RET.retriever_3.HaystackContextRelevanceMetric': 0.0, 'VAL.RET.retriever_1.MAPAtKMetric': 0.0, 'VAL.GEN.rewriter.FormatValidatorMetric': 0.0, 'VAL.RET.retriever_0.MAPAtKMetric': 0.0, 'VAL.GEN.rewriter.AnswerRelevancyMetric': 0.0, 'VAL.RET.retriever_2.MAPAtKMetric': 0.0, 'VAL.RET.retriever_4.MAPAtKMetric': 0.0, 'VAL.RET.retriever_3.MAPAtKMetric': 0.0, 'VAL.RET.retriever_0.HaystackContextRelevanceMetric': 0.0, 'VAL.RET.retriever.HaystackContextRelevanceMetric': 0.0, 'VAL.RET.retriever.MAPAtKMetric': 0.0}\n"
     ]
    },
    {
     "name": "stderr",
     "output_type": "stream",
     "text": [
      "C:\\Users\\Besitzer\\AppData\\Local\\Temp\\ipykernel_16300\\3497699939.py:10: FutureWarning: Downcasting behavior in `replace` is deprecated and will be removed in a future version. To retain the old behavior, explicitly call `result.infer_objects(copy=False)`. To opt-in to the future behavior, set `pd.set_option('future.no_silent_downcasting', True)`\n",
      "  run_metrics = run_metrics.replace(\"\", 0)\n"
     ]
    },
    {
     "name": "stdout",
     "output_type": "stream",
     "text": [
      "🏃 View run 69cb5169bdf2409b9baa85627d217108 at: http://91.99.14.73:8080/#/experiments/204391782326828077/runs/1331639722a74719a6c15088c6a78670\n",
      "🧪 View experiment at: http://91.99.14.73:8080/#/experiments/204391782326828077\n",
      "{'indexing_duration': 2224.427963733673, 'VAL.SYS..memory_process_mean_mb': 0.0, 'VAL.E2E..MatthewsCorrCoefMetric': 0.23231779866491784, 'VAL.SYS..cpu_process_min': 0.0, 'VAL.SYS..duration_seconds': 9957.062122, 'VAL.E2E..F1ScoreMetric': 0.5834586466165413, 'VAL.RET.embedding_retriever.MAPAtKMetric': 0.03363793103448276, 'VAL.E2E..FalsePositiveRateMetric': 0.32981530343007914, 'VAL.RET.bm25_retriever.HaystackContextRelevanceMetric': 0.0, 'VAL.SYS..memory_process_max_mb': 0.0, 'VAL.GEN.llm.FormatValidatorMetric': 1.0, 'VAL.SYS..cpu_system_min': 0.0, 'VAL.SYS..cpu_process_max': 203.8, 'VAL.SYS..memory_system_percent_min': 0.0, 'VAL.E2E..PrecisionMetric': 0.6081504702194357, 'VAL.SYS..memory_process_min_mb': 0.0, 'VAL.E2E..RecallMetric': 0.5606936416184971, 'VAL.GEN.llm.AnswerRelevancyMetric': 0.8415172413793104, 'VAL.E2E..FalseNegativeRateMetric': 0.4393063583815029, 'VAL.SYS..memory_system_percent_mean': 0.0, 'VAL.E2E..AccuracyMetric': 0.6179310344827587, 'VAL.RET.embedding_retriever.HaystackContextRelevanceMetric': 0.17103448275862068, 'VAL.SYS..memory_system_percent_max': 0.0, 'VAL.SYS..memory_system_used_max_mb': 0.0, 'VAL.SYS..memory_system_used_mean_mb': 0.0, 'VAL.SYS..cpu_system_mean': 6.23950142000631, 'VAL.SYS..cpu_process_mean': 24.725654780687915, 'VAL.GEN.llm.ContextUtilizationMetric': 0.5659310344827586, 'VAL.RET.bm25_retriever.MAPAtKMetric': 0.0, 'VAL.SYS..cpu_system_max': 50.7, 'VAL.SYS..samples_count': 15845.0, 'VAL.SYS..memory_system_used_min_mb': 0.0, 'VAL.GEN.rewriter.ContextUtilizationMetric': 0.0, 'VAL.RET.retriever_2.HaystackContextRelevanceMetric': 0.0, 'VAL.RET.retriever_1.HaystackContextRelevanceMetric': 0.0, 'VAL.RET.retriever_4.HaystackContextRelevanceMetric': 0.0, 'VAL.RET.retriever_3.HaystackContextRelevanceMetric': 0.0, 'VAL.RET.retriever_1.MAPAtKMetric': 0.0, 'VAL.GEN.rewriter.FormatValidatorMetric': 0.0, 'VAL.RET.retriever_0.MAPAtKMetric': 0.0, 'VAL.GEN.rewriter.AnswerRelevancyMetric': 0.0, 'VAL.RET.retriever_2.MAPAtKMetric': 0.0, 'VAL.RET.retriever_4.MAPAtKMetric': 0.0, 'VAL.RET.retriever_3.MAPAtKMetric': 0.0, 'VAL.RET.retriever_0.HaystackContextRelevanceMetric': 0.0, 'VAL.RET.retriever.HaystackContextRelevanceMetric': 0.0, 'VAL.RET.retriever.MAPAtKMetric': 0.0}\n"
     ]
    },
    {
     "name": "stderr",
     "output_type": "stream",
     "text": [
      "C:\\Users\\Besitzer\\AppData\\Local\\Temp\\ipykernel_16300\\3497699939.py:10: FutureWarning: Downcasting behavior in `replace` is deprecated and will be removed in a future version. To retain the old behavior, explicitly call `result.infer_objects(copy=False)`. To opt-in to the future behavior, set `pd.set_option('future.no_silent_downcasting', True)`\n",
      "  run_metrics = run_metrics.replace(\"\", 0)\n"
     ]
    },
    {
     "name": "stdout",
     "output_type": "stream",
     "text": [
      "🏃 View run e5de129b71f84dbd96d2f3f2ec4fc75e at: http://91.99.14.73:8080/#/experiments/204391782326828077/runs/9df2dfa8500c4918bb6b1e6f8515e5bb\n",
      "🧪 View experiment at: http://91.99.14.73:8080/#/experiments/204391782326828077\n",
      "{'indexing_duration': 3.8387739658355713, 'VAL.SYS..memory_process_mean_mb': 0.0, 'VAL.E2E..MatthewsCorrCoefMetric': 0.19511860584812046, 'VAL.SYS..cpu_process_min': 0.0, 'VAL.SYS..duration_seconds': 10073.667886, 'VAL.E2E..F1ScoreMetric': 0.5261437908496732, 'VAL.RET.embedding_retriever.MAPAtKMetric': 0.0, 'VAL.E2E..FalsePositiveRateMetric': 0.2770448548812665, 'VAL.RET.bm25_retriever.HaystackContextRelevanceMetric': 0.0, 'VAL.SYS..memory_process_max_mb': 0.0, 'VAL.GEN.llm.FormatValidatorMetric': 0.9986206896551724, 'VAL.SYS..cpu_system_min': 0.0, 'VAL.SYS..cpu_process_max': 203.8, 'VAL.SYS..memory_system_percent_min': 0.0, 'VAL.E2E..PrecisionMetric': 0.6052631578947368, 'VAL.SYS..memory_process_min_mb': 0.0, 'VAL.E2E..RecallMetric': 0.4653179190751445, 'VAL.GEN.llm.AnswerRelevancyMetric': 0.0, 'VAL.E2E..FalseNegativeRateMetric': 0.5346820809248555, 'VAL.SYS..memory_system_percent_mean': 0.0, 'VAL.E2E..AccuracyMetric': 0.6, 'VAL.RET.embedding_retriever.HaystackContextRelevanceMetric': 0.0, 'VAL.SYS..memory_system_percent_max': 0.0, 'VAL.SYS..memory_system_used_max_mb': 0.0, 'VAL.SYS..memory_system_used_mean_mb': 0.0, 'VAL.SYS..cpu_system_mean': 20.42905084403113, 'VAL.SYS..cpu_process_mean': 27.499514808450414, 'VAL.GEN.llm.ContextUtilizationMetric': 0.0, 'VAL.RET.bm25_retriever.MAPAtKMetric': 0.0, 'VAL.SYS..cpu_system_max': 95.5, 'VAL.SYS..samples_count': 19786.0, 'VAL.SYS..memory_system_used_min_mb': 0.0, 'VAL.GEN.rewriter.ContextUtilizationMetric': 0.0, 'VAL.RET.retriever_2.HaystackContextRelevanceMetric': 0.0, 'VAL.RET.retriever_1.HaystackContextRelevanceMetric': 0.0, 'VAL.RET.retriever_4.HaystackContextRelevanceMetric': 0.0, 'VAL.RET.retriever_3.HaystackContextRelevanceMetric': 0.0, 'VAL.RET.retriever_1.MAPAtKMetric': 0.0, 'VAL.GEN.rewriter.FormatValidatorMetric': 0.0, 'VAL.RET.retriever_0.MAPAtKMetric': 0.0, 'VAL.GEN.rewriter.AnswerRelevancyMetric': 0.0, 'VAL.RET.retriever_2.MAPAtKMetric': 0.0, 'VAL.RET.retriever_4.MAPAtKMetric': 0.0, 'VAL.RET.retriever_3.MAPAtKMetric': 0.0, 'VAL.RET.retriever_0.HaystackContextRelevanceMetric': 0.0, 'VAL.RET.retriever.HaystackContextRelevanceMetric': 0.41379310344827586, 'VAL.RET.retriever.MAPAtKMetric': 0.09588888888888888}\n"
     ]
    },
    {
     "name": "stderr",
     "output_type": "stream",
     "text": [
      "C:\\Users\\Besitzer\\AppData\\Local\\Temp\\ipykernel_16300\\3497699939.py:10: FutureWarning: Downcasting behavior in `replace` is deprecated and will be removed in a future version. To retain the old behavior, explicitly call `result.infer_objects(copy=False)`. To opt-in to the future behavior, set `pd.set_option('future.no_silent_downcasting', True)`\n",
      "  run_metrics = run_metrics.replace(\"\", 0)\n"
     ]
    },
    {
     "name": "stdout",
     "output_type": "stream",
     "text": [
      "🏃 View run ff0ae70026c84225a346330f43ae040e at: http://91.99.14.73:8080/#/experiments/204391782326828077/runs/5d5fbb729b9140ce99df88457e68d7c8\n",
      "🧪 View experiment at: http://91.99.14.73:8080/#/experiments/204391782326828077\n",
      "{'indexing_duration': 2211.291562318802, 'VAL.SYS..memory_process_mean_mb': 0.0, 'VAL.E2E..MatthewsCorrCoefMetric': 0.2262193150894168, 'VAL.SYS..cpu_process_min': 0.0, 'VAL.SYS..duration_seconds': 55694.152887, 'VAL.E2E..F1ScoreMetric': 0.5521669341894061, 'VAL.RET.embedding_retriever.MAPAtKMetric': 0.030482758620689658, 'VAL.E2E..FalsePositiveRateMetric': 0.2770448548812665, 'VAL.RET.bm25_retriever.HaystackContextRelevanceMetric': 0.0, 'VAL.SYS..memory_process_max_mb': 0.0, 'VAL.GEN.llm.FormatValidatorMetric': 0.7103448275862069, 'VAL.SYS..cpu_system_min': 0.0, 'VAL.SYS..cpu_process_max': 201.8, 'VAL.SYS..memory_system_percent_min': 0.0, 'VAL.E2E..PrecisionMetric': 0.6209386281588448, 'VAL.SYS..memory_process_min_mb': 0.0, 'VAL.E2E..RecallMetric': 0.49710982658959535, 'VAL.GEN.llm.AnswerRelevancyMetric': 0.8859310344827586, 'VAL.E2E..FalseNegativeRateMetric': 0.5028901734104047, 'VAL.SYS..memory_system_percent_mean': 0.0, 'VAL.E2E..AccuracyMetric': 0.6151724137931035, 'VAL.RET.embedding_retriever.HaystackContextRelevanceMetric': 0.1724137931034483, 'VAL.SYS..memory_system_percent_max': 0.0, 'VAL.SYS..memory_system_used_max_mb': 0.0, 'VAL.SYS..memory_system_used_mean_mb': 0.0, 'VAL.SYS..cpu_system_mean': 1.1797685271607243, 'VAL.SYS..cpu_process_mean': 3.807762740339742, 'VAL.GEN.llm.ContextUtilizationMetric': 0.5835862068965517, 'VAL.RET.bm25_retriever.MAPAtKMetric': 0.0, 'VAL.SYS..cpu_system_max': 58.2, 'VAL.SYS..samples_count': 107140.0, 'VAL.SYS..memory_system_used_min_mb': 0.0, 'VAL.GEN.rewriter.ContextUtilizationMetric': 0.0, 'VAL.RET.retriever_2.HaystackContextRelevanceMetric': 0.0, 'VAL.RET.retriever_1.HaystackContextRelevanceMetric': 0.0, 'VAL.RET.retriever_4.HaystackContextRelevanceMetric': 0.0, 'VAL.RET.retriever_3.HaystackContextRelevanceMetric': 0.0, 'VAL.RET.retriever_1.MAPAtKMetric': 0.0, 'VAL.GEN.rewriter.FormatValidatorMetric': 0.0, 'VAL.RET.retriever_0.MAPAtKMetric': 0.0, 'VAL.GEN.rewriter.AnswerRelevancyMetric': 0.0, 'VAL.RET.retriever_2.MAPAtKMetric': 0.0, 'VAL.RET.retriever_4.MAPAtKMetric': 0.0, 'VAL.RET.retriever_3.MAPAtKMetric': 0.0, 'VAL.RET.retriever_0.HaystackContextRelevanceMetric': 0.0, 'VAL.RET.retriever.HaystackContextRelevanceMetric': 0.0, 'VAL.RET.retriever.MAPAtKMetric': 0.0}\n"
     ]
    },
    {
     "name": "stderr",
     "output_type": "stream",
     "text": [
      "C:\\Users\\Besitzer\\AppData\\Local\\Temp\\ipykernel_16300\\3497699939.py:10: FutureWarning: Downcasting behavior in `replace` is deprecated and will be removed in a future version. To retain the old behavior, explicitly call `result.infer_objects(copy=False)`. To opt-in to the future behavior, set `pd.set_option('future.no_silent_downcasting', True)`\n",
      "  run_metrics = run_metrics.replace(\"\", 0)\n"
     ]
    },
    {
     "name": "stdout",
     "output_type": "stream",
     "text": [
      "🏃 View run 6747a761f9f34303b322790170d893bd at: http://91.99.14.73:8080/#/experiments/204391782326828077/runs/af4fd0ab87da4209837e38543d99d6ef\n",
      "🧪 View experiment at: http://91.99.14.73:8080/#/experiments/204391782326828077\n",
      "{'indexing_duration': 0.0, 'VAL.SYS..memory_process_mean_mb': 0.0, 'VAL.E2E..MatthewsCorrCoefMetric': 0.14117939659004736, 'VAL.SYS..cpu_process_min': 0.0, 'VAL.SYS..duration_seconds': 2142.466326, 'VAL.E2E..F1ScoreMetric': 0.5906735751295337, 'VAL.RET.embedding_retriever.MAPAtKMetric': 0.0, 'VAL.E2E..FalsePositiveRateMetric': 0.5157894736842106, 'VAL.RET.bm25_retriever.HaystackContextRelevanceMetric': 0.0, 'VAL.SYS..memory_process_max_mb': 0.0, 'VAL.GEN.llm.FormatValidatorMetric': 0.7857142857142857, 'VAL.SYS..cpu_system_min': 0.0, 'VAL.SYS..cpu_process_max': 44.0, 'VAL.SYS..memory_system_percent_min': 0.0, 'VAL.E2E..PrecisionMetric': 0.5377358490566038, 'VAL.SYS..memory_process_min_mb': 0.0, 'VAL.E2E..RecallMetric': 0.6551724137931034, 'VAL.GEN.llm.AnswerRelevancyMetric': 0.7873626373626375, 'VAL.E2E..FalseNegativeRateMetric': 0.3448275862068966, 'VAL.SYS..memory_system_percent_mean': 0.0, 'VAL.E2E..AccuracyMetric': 0.5659340659340659, 'VAL.RET.embedding_retriever.HaystackContextRelevanceMetric': 0.0, 'VAL.SYS..memory_system_percent_max': 0.0, 'VAL.SYS..memory_system_used_max_mb': 0.0, 'VAL.SYS..memory_system_used_mean_mb': 0.0, 'VAL.SYS..cpu_system_mean': 27.811918672587048, 'VAL.SYS..cpu_process_mean': 1.35386772610423, 'VAL.GEN.llm.ContextUtilizationMetric': 0.0, 'VAL.RET.bm25_retriever.MAPAtKMetric': 0.0, 'VAL.SYS..cpu_system_max': 98.0, 'VAL.SYS..samples_count': 4279.0, 'VAL.SYS..memory_system_used_min_mb': 0.0, 'VAL.GEN.rewriter.ContextUtilizationMetric': 0.0, 'VAL.RET.retriever_2.HaystackContextRelevanceMetric': 0.0, 'VAL.RET.retriever_1.HaystackContextRelevanceMetric': 0.0, 'VAL.RET.retriever_4.HaystackContextRelevanceMetric': 0.0, 'VAL.RET.retriever_3.HaystackContextRelevanceMetric': 0.0, 'VAL.RET.retriever_1.MAPAtKMetric': 0.0, 'VAL.GEN.rewriter.FormatValidatorMetric': 0.0, 'VAL.RET.retriever_0.MAPAtKMetric': 0.0, 'VAL.GEN.rewriter.AnswerRelevancyMetric': 0.0, 'VAL.RET.retriever_2.MAPAtKMetric': 0.0, 'VAL.RET.retriever_4.MAPAtKMetric': 0.0, 'VAL.RET.retriever_3.MAPAtKMetric': 0.0, 'VAL.RET.retriever_0.HaystackContextRelevanceMetric': 0.0, 'VAL.RET.retriever.HaystackContextRelevanceMetric': 0.0, 'VAL.RET.retriever.MAPAtKMetric': 0.0}\n"
     ]
    },
    {
     "name": "stderr",
     "output_type": "stream",
     "text": [
      "C:\\Users\\Besitzer\\AppData\\Local\\Temp\\ipykernel_16300\\3497699939.py:10: FutureWarning: Downcasting behavior in `replace` is deprecated and will be removed in a future version. To retain the old behavior, explicitly call `result.infer_objects(copy=False)`. To opt-in to the future behavior, set `pd.set_option('future.no_silent_downcasting', True)`\n",
      "  run_metrics = run_metrics.replace(\"\", 0)\n"
     ]
    },
    {
     "name": "stdout",
     "output_type": "stream",
     "text": [
      "🏃 View run 62de284c66464ac8b5451115e15abd49 at: http://91.99.14.73:8080/#/experiments/204391782326828077/runs/a5551c14c0f942cbbc31ab3ed3bd17cb\n",
      "🧪 View experiment at: http://91.99.14.73:8080/#/experiments/204391782326828077\n",
      "{'indexing_duration': 0.0, 'VAL.SYS..memory_process_mean_mb': 0.0, 'VAL.E2E..MatthewsCorrCoefMetric': 0.23585188529775197, 'VAL.SYS..cpu_process_min': 0.0, 'VAL.SYS..duration_seconds': 7325.632251, 'VAL.E2E..F1ScoreMetric': 0.4470588235294118, 'VAL.RET.embedding_retriever.MAPAtKMetric': 0.0, 'VAL.E2E..FalsePositiveRateMetric': 0.13192612137203166, 'VAL.RET.bm25_retriever.HaystackContextRelevanceMetric': 0.0, 'VAL.SYS..memory_process_max_mb': 0.0, 'VAL.GEN.llm.FormatValidatorMetric': 0.5586206896551724, 'VAL.SYS..cpu_system_min': 0.0, 'VAL.SYS..cpu_process_max': 33.8, 'VAL.SYS..memory_system_percent_min': 0.0, 'VAL.E2E..PrecisionMetric': 0.6951219512195121, 'VAL.SYS..memory_process_min_mb': 0.0, 'VAL.E2E..RecallMetric': 0.32947976878612717, 'VAL.GEN.llm.AnswerRelevancyMetric': 0.636551724137931, 'VAL.E2E..FalseNegativeRateMetric': 0.6705202312138728, 'VAL.SYS..memory_system_percent_mean': 0.0, 'VAL.E2E..AccuracyMetric': 0.6110344827586207, 'VAL.RET.embedding_retriever.HaystackContextRelevanceMetric': 0.0, 'VAL.SYS..memory_system_percent_max': 0.0, 'VAL.SYS..memory_system_used_max_mb': 0.0, 'VAL.SYS..memory_system_used_mean_mb': 0.0, 'VAL.SYS..cpu_system_mean': 21.677934240207808, 'VAL.SYS..cpu_process_mean': 0.7527103698133845, 'VAL.GEN.llm.ContextUtilizationMetric': 0.0, 'VAL.RET.bm25_retriever.MAPAtKMetric': 0.0, 'VAL.SYS..cpu_system_max': 100.0, 'VAL.SYS..samples_count': 14629.0, 'VAL.SYS..memory_system_used_min_mb': 0.0, 'VAL.GEN.rewriter.ContextUtilizationMetric': 0.0, 'VAL.RET.retriever_2.HaystackContextRelevanceMetric': 0.0, 'VAL.RET.retriever_1.HaystackContextRelevanceMetric': 0.0, 'VAL.RET.retriever_4.HaystackContextRelevanceMetric': 0.0, 'VAL.RET.retriever_3.HaystackContextRelevanceMetric': 0.0, 'VAL.RET.retriever_1.MAPAtKMetric': 0.0, 'VAL.GEN.rewriter.FormatValidatorMetric': 0.0, 'VAL.RET.retriever_0.MAPAtKMetric': 0.0, 'VAL.GEN.rewriter.AnswerRelevancyMetric': 0.0, 'VAL.RET.retriever_2.MAPAtKMetric': 0.0, 'VAL.RET.retriever_4.MAPAtKMetric': 0.0, 'VAL.RET.retriever_3.MAPAtKMetric': 0.0, 'VAL.RET.retriever_0.HaystackContextRelevanceMetric': 0.0, 'VAL.RET.retriever.HaystackContextRelevanceMetric': 0.0, 'VAL.RET.retriever.MAPAtKMetric': 0.0}\n"
     ]
    },
    {
     "name": "stderr",
     "output_type": "stream",
     "text": [
      "C:\\Users\\Besitzer\\AppData\\Local\\Temp\\ipykernel_16300\\3497699939.py:10: FutureWarning: Downcasting behavior in `replace` is deprecated and will be removed in a future version. To retain the old behavior, explicitly call `result.infer_objects(copy=False)`. To opt-in to the future behavior, set `pd.set_option('future.no_silent_downcasting', True)`\n",
      "  run_metrics = run_metrics.replace(\"\", 0)\n"
     ]
    },
    {
     "name": "stdout",
     "output_type": "stream",
     "text": [
      "🏃 View run c80059c29ac34e37a2604c36ce2350fd at: http://91.99.14.73:8080/#/experiments/204391782326828077/runs/82b643a3386946c9a0bcb124d6f0ed9d\n",
      "🧪 View experiment at: http://91.99.14.73:8080/#/experiments/204391782326828077\n",
      "{'indexing_duration': 0.0, 'VAL.SYS..memory_process_mean_mb': 0.0, 'VAL.E2E..MatthewsCorrCoefMetric': 0.28044792608556046, 'VAL.SYS..cpu_process_min': 0.0, 'VAL.SYS..duration_seconds': 3565.144819, 'VAL.E2E..F1ScoreMetric': 0.6658385093167701, 'VAL.RET.embedding_retriever.MAPAtKMetric': 0.0, 'VAL.E2E..FalsePositiveRateMetric': 0.503957783641161, 'VAL.RET.bm25_retriever.HaystackContextRelevanceMetric': 0.0, 'VAL.SYS..memory_process_max_mb': 0.0, 'VAL.GEN.llm.FormatValidatorMetric': 0.9986206896551724, 'VAL.SYS..cpu_system_min': 0.0, 'VAL.SYS..cpu_process_max': 46.0, 'VAL.SYS..memory_system_percent_min': 0.0, 'VAL.E2E..PrecisionMetric': 0.5838779956427015, 'VAL.SYS..memory_process_min_mb': 0.0, 'VAL.E2E..RecallMetric': 0.7745664739884393, 'VAL.GEN.llm.AnswerRelevancyMetric': 0.8855172413793103, 'VAL.E2E..FalseNegativeRateMetric': 0.2254335260115607, 'VAL.SYS..memory_system_percent_mean': 0.0, 'VAL.E2E..AccuracyMetric': 0.6289655172413793, 'VAL.RET.embedding_retriever.HaystackContextRelevanceMetric': 0.0, 'VAL.SYS..memory_system_percent_max': 0.0, 'VAL.SYS..memory_system_used_max_mb': 0.0, 'VAL.SYS..memory_system_used_mean_mb': 0.0, 'VAL.SYS..cpu_system_mean': 27.44460674157304, 'VAL.SYS..cpu_process_mean': 1.3850421348314608, 'VAL.GEN.llm.ContextUtilizationMetric': 0.0, 'VAL.RET.bm25_retriever.MAPAtKMetric': 0.0, 'VAL.SYS..cpu_system_max': 100.0, 'VAL.SYS..samples_count': 7120.0, 'VAL.SYS..memory_system_used_min_mb': 0.0, 'VAL.GEN.rewriter.ContextUtilizationMetric': 0.0, 'VAL.RET.retriever_2.HaystackContextRelevanceMetric': 0.0, 'VAL.RET.retriever_1.HaystackContextRelevanceMetric': 0.0, 'VAL.RET.retriever_4.HaystackContextRelevanceMetric': 0.0, 'VAL.RET.retriever_3.HaystackContextRelevanceMetric': 0.0, 'VAL.RET.retriever_1.MAPAtKMetric': 0.0, 'VAL.GEN.rewriter.FormatValidatorMetric': 0.0, 'VAL.RET.retriever_0.MAPAtKMetric': 0.0, 'VAL.GEN.rewriter.AnswerRelevancyMetric': 0.0, 'VAL.RET.retriever_2.MAPAtKMetric': 0.0, 'VAL.RET.retriever_4.MAPAtKMetric': 0.0, 'VAL.RET.retriever_3.MAPAtKMetric': 0.0, 'VAL.RET.retriever_0.HaystackContextRelevanceMetric': 0.0, 'VAL.RET.retriever.HaystackContextRelevanceMetric': 0.0, 'VAL.RET.retriever.MAPAtKMetric': 0.0}\n"
     ]
    },
    {
     "name": "stderr",
     "output_type": "stream",
     "text": [
      "C:\\Users\\Besitzer\\AppData\\Local\\Temp\\ipykernel_16300\\3497699939.py:10: FutureWarning: Downcasting behavior in `replace` is deprecated and will be removed in a future version. To retain the old behavior, explicitly call `result.infer_objects(copy=False)`. To opt-in to the future behavior, set `pd.set_option('future.no_silent_downcasting', True)`\n",
      "  run_metrics = run_metrics.replace(\"\", 0)\n"
     ]
    },
    {
     "name": "stdout",
     "output_type": "stream",
     "text": [
      "🏃 View run 5f7efa6ec96a461dbd85733e9bb811b6 at: http://91.99.14.73:8080/#/experiments/204391782326828077/runs/fc7d9386c71b4af3a1150ac9a9373c34\n",
      "🧪 View experiment at: http://91.99.14.73:8080/#/experiments/204391782326828077\n",
      "{'indexing_duration': 0.0, 'VAL.SYS..memory_process_mean_mb': 0.0, 'VAL.E2E..MatthewsCorrCoefMetric': 0.33487225708702745, 'VAL.SYS..cpu_process_min': 0.0, 'VAL.SYS..duration_seconds': 12077.604539, 'VAL.E2E..F1ScoreMetric': 0.6813471502590673, 'VAL.RET.embedding_retriever.MAPAtKMetric': 0.0, 'VAL.E2E..FalsePositiveRateMetric': 0.43007915567282323, 'VAL.RET.bm25_retriever.HaystackContextRelevanceMetric': 0.0, 'VAL.SYS..memory_process_max_mb': 0.0, 'VAL.GEN.llm.FormatValidatorMetric': 0.8524137931034482, 'VAL.SYS..cpu_system_min': 0.0, 'VAL.SYS..cpu_process_max': 27.9, 'VAL.SYS..memory_system_percent_min': 0.0, 'VAL.E2E..PrecisionMetric': 0.6173708920187794, 'VAL.SYS..memory_process_min_mb': 0.0, 'VAL.E2E..RecallMetric': 0.7601156069364162, 'VAL.GEN.llm.AnswerRelevancyMetric': 0.941103448275862, 'VAL.E2E..FalseNegativeRateMetric': 0.2398843930635838, 'VAL.SYS..memory_system_percent_mean': 0.0, 'VAL.E2E..AccuracyMetric': 0.6606896551724138, 'VAL.RET.embedding_retriever.HaystackContextRelevanceMetric': 0.0, 'VAL.SYS..memory_system_percent_max': 0.0, 'VAL.SYS..memory_system_used_max_mb': 0.0, 'VAL.SYS..memory_system_used_mean_mb': 0.0, 'VAL.SYS..cpu_system_mean': 19.64770927484556, 'VAL.SYS..cpu_process_mean': 0.6713918487499482, 'VAL.GEN.llm.ContextUtilizationMetric': 0.0, 'VAL.RET.bm25_retriever.MAPAtKMetric': 0.0, 'VAL.SYS..cpu_system_max': 100.0, 'VAL.SYS..samples_count': 24119.0, 'VAL.SYS..memory_system_used_min_mb': 0.0, 'VAL.GEN.rewriter.ContextUtilizationMetric': 0.0, 'VAL.RET.retriever_2.HaystackContextRelevanceMetric': 0.0, 'VAL.RET.retriever_1.HaystackContextRelevanceMetric': 0.0, 'VAL.RET.retriever_4.HaystackContextRelevanceMetric': 0.0, 'VAL.RET.retriever_3.HaystackContextRelevanceMetric': 0.0, 'VAL.RET.retriever_1.MAPAtKMetric': 0.0, 'VAL.GEN.rewriter.FormatValidatorMetric': 0.0, 'VAL.RET.retriever_0.MAPAtKMetric': 0.0, 'VAL.GEN.rewriter.AnswerRelevancyMetric': 0.0, 'VAL.RET.retriever_2.MAPAtKMetric': 0.0, 'VAL.RET.retriever_4.MAPAtKMetric': 0.0, 'VAL.RET.retriever_3.MAPAtKMetric': 0.0, 'VAL.RET.retriever_0.HaystackContextRelevanceMetric': 0.0, 'VAL.RET.retriever.HaystackContextRelevanceMetric': 0.0, 'VAL.RET.retriever.MAPAtKMetric': 0.0}\n"
     ]
    },
    {
     "name": "stderr",
     "output_type": "stream",
     "text": [
      "C:\\Users\\Besitzer\\AppData\\Local\\Temp\\ipykernel_16300\\3497699939.py:10: FutureWarning: Downcasting behavior in `replace` is deprecated and will be removed in a future version. To retain the old behavior, explicitly call `result.infer_objects(copy=False)`. To opt-in to the future behavior, set `pd.set_option('future.no_silent_downcasting', True)`\n",
      "  run_metrics = run_metrics.replace(\"\", 0)\n"
     ]
    },
    {
     "name": "stdout",
     "output_type": "stream",
     "text": [
      "🏃 View run 9cdb34230c43406e98563129ad11a3b7 at: http://91.99.14.73:8080/#/experiments/204391782326828077/runs/e9cb670ef2654cf2bdf0f79ec6848f5d\n",
      "🧪 View experiment at: http://91.99.14.73:8080/#/experiments/204391782326828077\n",
      "{'indexing_duration': 0.0006289482116699219, 'VAL.SYS..memory_process_mean_mb': 0.0, 'VAL.E2E..MatthewsCorrCoefMetric': 0.30264057210734246, 'VAL.SYS..cpu_process_min': 0.0, 'VAL.SYS..duration_seconds': 4944.289814, 'VAL.E2E..F1ScoreMetric': 0.6928799149840595, 'VAL.RET.embedding_retriever.MAPAtKMetric': 0.0, 'VAL.E2E..FalsePositiveRateMetric': 0.7097625329815304, 'VAL.RET.bm25_retriever.HaystackContextRelevanceMetric': 0.0, 'VAL.SYS..memory_process_max_mb': 0.0, 'VAL.GEN.llm.FormatValidatorMetric': 1.0, 'VAL.SYS..cpu_system_min': 1.0, 'VAL.SYS..cpu_process_max': 18.0, 'VAL.SYS..memory_system_percent_min': 0.0, 'VAL.E2E..PrecisionMetric': 0.5478991596638656, 'VAL.SYS..memory_process_min_mb': 0.0, 'VAL.E2E..RecallMetric': 0.9421965317919075, 'VAL.GEN.llm.AnswerRelevancyMetric': 0.92, 'VAL.E2E..FalseNegativeRateMetric': 0.057803468208092484, 'VAL.SYS..memory_system_percent_mean': 0.0, 'VAL.E2E..AccuracyMetric': 0.6013793103448276, 'VAL.RET.embedding_retriever.HaystackContextRelevanceMetric': 0.0, 'VAL.SYS..memory_system_percent_max': 0.0, 'VAL.SYS..memory_system_used_max_mb': 0.0, 'VAL.SYS..memory_system_used_mean_mb': 0.0, 'VAL.SYS..cpu_system_mean': 27.02279724529066, 'VAL.SYS..cpu_process_mean': 1.2075248126392546, 'VAL.GEN.llm.ContextUtilizationMetric': 0.0, 'VAL.RET.bm25_retriever.MAPAtKMetric': 0.0, 'VAL.SYS..cpu_system_max': 100.0, 'VAL.SYS..samples_count': 9874.0, 'VAL.SYS..memory_system_used_min_mb': 0.0, 'VAL.GEN.rewriter.ContextUtilizationMetric': 0.0, 'VAL.RET.retriever_2.HaystackContextRelevanceMetric': 0.0, 'VAL.RET.retriever_1.HaystackContextRelevanceMetric': 0.0, 'VAL.RET.retriever_4.HaystackContextRelevanceMetric': 0.0, 'VAL.RET.retriever_3.HaystackContextRelevanceMetric': 0.0, 'VAL.RET.retriever_1.MAPAtKMetric': 0.0, 'VAL.GEN.rewriter.FormatValidatorMetric': 0.0, 'VAL.RET.retriever_0.MAPAtKMetric': 0.0, 'VAL.GEN.rewriter.AnswerRelevancyMetric': 0.0, 'VAL.RET.retriever_2.MAPAtKMetric': 0.0, 'VAL.RET.retriever_4.MAPAtKMetric': 0.0, 'VAL.RET.retriever_3.MAPAtKMetric': 0.0, 'VAL.RET.retriever_0.HaystackContextRelevanceMetric': 0.0, 'VAL.RET.retriever.HaystackContextRelevanceMetric': 0.0, 'VAL.RET.retriever.MAPAtKMetric': 0.0}\n"
     ]
    },
    {
     "name": "stderr",
     "output_type": "stream",
     "text": [
      "C:\\Users\\Besitzer\\AppData\\Local\\Temp\\ipykernel_16300\\3497699939.py:10: FutureWarning: Downcasting behavior in `replace` is deprecated and will be removed in a future version. To retain the old behavior, explicitly call `result.infer_objects(copy=False)`. To opt-in to the future behavior, set `pd.set_option('future.no_silent_downcasting', True)`\n",
      "  run_metrics = run_metrics.replace(\"\", 0)\n"
     ]
    },
    {
     "name": "stdout",
     "output_type": "stream",
     "text": [
      "🏃 View run d2beb8913af9447488062954606b16d9 at: http://91.99.14.73:8080/#/experiments/204391782326828077/runs/97c46bc944464914b71fcccfec4fdaf3\n",
      "🧪 View experiment at: http://91.99.14.73:8080/#/experiments/204391782326828077\n",
      "{'indexing_duration': 0.0, 'VAL.SYS..memory_process_mean_mb': 0.0, 'VAL.E2E..MatthewsCorrCoefMetric': 0.28435631328396355, 'VAL.SYS..cpu_process_min': 0.0, 'VAL.SYS..duration_seconds': 3955.812644, 'VAL.E2E..F1ScoreMetric': 0.6761565836298933, 'VAL.RET.embedding_retriever.MAPAtKMetric': 0.0, 'VAL.E2E..FalsePositiveRateMetric': 0.5593667546174143, 'VAL.RET.bm25_retriever.HaystackContextRelevanceMetric': 0.0, 'VAL.SYS..memory_process_max_mb': 0.0, 'VAL.GEN.llm.FormatValidatorMetric': 0.9986206896551724, 'VAL.SYS..cpu_system_min': 0.0, 'VAL.SYS..cpu_process_max': 38.0, 'VAL.SYS..memory_system_percent_min': 0.0, 'VAL.E2E..PrecisionMetric': 0.5734406438631791, 'VAL.SYS..memory_process_min_mb': 0.0, 'VAL.E2E..RecallMetric': 0.8236994219653179, 'VAL.GEN.llm.AnswerRelevancyMetric': 0.8820689655172413, 'VAL.E2E..FalseNegativeRateMetric': 0.17630057803468208, 'VAL.SYS..memory_system_percent_mean': 0.0, 'VAL.E2E..AccuracyMetric': 0.623448275862069, 'VAL.RET.embedding_retriever.HaystackContextRelevanceMetric': 0.0, 'VAL.SYS..memory_system_percent_max': 0.0, 'VAL.SYS..memory_system_used_max_mb': 0.0, 'VAL.SYS..memory_system_used_mean_mb': 0.0, 'VAL.SYS..cpu_system_mean': 25.606113924050632, 'VAL.SYS..cpu_process_mean': 1.1092911392405065, 'VAL.GEN.llm.ContextUtilizationMetric': 0.0, 'VAL.RET.bm25_retriever.MAPAtKMetric': 0.0, 'VAL.SYS..cpu_system_max': 99.0, 'VAL.SYS..samples_count': 7900.0, 'VAL.SYS..memory_system_used_min_mb': 0.0, 'VAL.GEN.rewriter.ContextUtilizationMetric': 0.0, 'VAL.RET.retriever_2.HaystackContextRelevanceMetric': 0.0, 'VAL.RET.retriever_1.HaystackContextRelevanceMetric': 0.0, 'VAL.RET.retriever_4.HaystackContextRelevanceMetric': 0.0, 'VAL.RET.retriever_3.HaystackContextRelevanceMetric': 0.0, 'VAL.RET.retriever_1.MAPAtKMetric': 0.0, 'VAL.GEN.rewriter.FormatValidatorMetric': 0.0, 'VAL.RET.retriever_0.MAPAtKMetric': 0.0, 'VAL.GEN.rewriter.AnswerRelevancyMetric': 0.0, 'VAL.RET.retriever_2.MAPAtKMetric': 0.0, 'VAL.RET.retriever_4.MAPAtKMetric': 0.0, 'VAL.RET.retriever_3.MAPAtKMetric': 0.0, 'VAL.RET.retriever_0.HaystackContextRelevanceMetric': 0.0, 'VAL.RET.retriever.HaystackContextRelevanceMetric': 0.0, 'VAL.RET.retriever.MAPAtKMetric': 0.0}\n"
     ]
    },
    {
     "name": "stderr",
     "output_type": "stream",
     "text": [
      "C:\\Users\\Besitzer\\AppData\\Local\\Temp\\ipykernel_16300\\3497699939.py:10: FutureWarning: Downcasting behavior in `replace` is deprecated and will be removed in a future version. To retain the old behavior, explicitly call `result.infer_objects(copy=False)`. To opt-in to the future behavior, set `pd.set_option('future.no_silent_downcasting', True)`\n",
      "  run_metrics = run_metrics.replace(\"\", 0)\n"
     ]
    },
    {
     "name": "stdout",
     "output_type": "stream",
     "text": [
      "🏃 View run 97e4782a82d4431bb717e89e5806f886 at: http://91.99.14.73:8080/#/experiments/204391782326828077/runs/58a7edf078d94266aaa0adb29a0f530e\n",
      "🧪 View experiment at: http://91.99.14.73:8080/#/experiments/204391782326828077\n"
     ]
    }
   ],
   "source": [
    "# replace nan and na with empty string\n",
    "runs = runs.fillna(\"\")\n",
    "\n",
    "for run_id, params in new_run_params.items():\n",
    "    run = runs[runs[\"run_id\"] == run_id]\n",
    "\n",
    "    run_metrics = run.loc[:, run.columns.str.startswith(\"metrics.\")]\n",
    "\n",
    "    # replace empty strings with 0\n",
    "    run_metrics = run_metrics.replace(\"\", 0)\n",
    "    run_metrics = run_metrics.astype(float, errors=\"ignore\")\n",
    "\n",
    "    # remove metrics. prefix\n",
    "    run_metrics.columns = run_metrics.columns.str.replace(\"metrics.\", \"\")\n",
    "\n",
    "    print(run_metrics.iloc[0].to_dict())\n",
    "\n",
    "    run_params = run.loc[:, ~run.columns.str.startswith(\"metrics.\")]\n",
    "\n",
    "    mlflow.set_experiment(experiment_name=\"config-validation-4\")\n",
    "    mlflow.start_run(run_name=run_id)\n",
    "    mlflow.log_params(run_params.iloc[0].to_dict())\n",
    "    mlflow.log_params(params)\n",
    "    mlflow.log_metrics(run_metrics.iloc[0].to_dict())\n",
    "    mlflow.end_run()\n",
    "\n"
   ]
  }
 ],
 "metadata": {
  "kernelspec": {
   "display_name": ".venv-312",
   "language": "python",
   "name": "python3"
  },
  "language_info": {
   "codemirror_mode": {
    "name": "ipython",
    "version": 3
   },
   "file_extension": ".py",
   "mimetype": "text/x-python",
   "name": "python",
   "nbconvert_exporter": "python",
   "pygments_lexer": "ipython3",
   "version": "3.12.8"
  }
 },
 "nbformat": 4,
 "nbformat_minor": 2
}
