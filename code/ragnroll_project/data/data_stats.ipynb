{
 "cells": [
  {
   "cell_type": "code",
   "execution_count": 1,
   "metadata": {},
   "outputs": [],
   "source": [
    "import json"
   ]
  },
  {
   "cell_type": "code",
   "execution_count": 5,
   "metadata": {},
   "outputs": [
    {
     "name": "stdout",
     "output_type": "stream",
     "text": [
      "Total test cases:  907\n",
      "Val data size:  725  =  0.7993384785005513\n",
      "Test data size:  182  =  0.20066152149944874\n"
     ]
    }
   ],
   "source": [
    "with open(\"processed/config_val/evaluation_data.json\", \"r\") as f:\n",
    "    data = json.load(f)\n",
    "\n",
    "print(\"Total test cases: \", len(data[\"test_cases\"]))\n",
    "\n",
    "\n",
    "val_data_path = \"processed/config_val/val/evaluation_data.json\"\n",
    "test_data_path = \"processed/config_val/test/evaluation_data.json\"\n",
    "\n",
    "with open(val_data_path, \"r\") as f:\n",
    "    val_data = json.load(f)\n",
    "\n",
    "with open(test_data_path, \"r\") as f:\n",
    "    test_data = json.load(f)\n",
    "\n",
    "val_data_size = len(val_data[\"test_cases\"])\n",
    "test_data_size = len(test_data[\"test_cases\"])\n",
    "print(\"Val data size: \", val_data_size, \" = \", val_data_size / (val_data_size + test_data_size))\n",
    "print(\"Test data size: \", test_data_size, \" = \", test_data_size / (val_data_size + test_data_size))\n"
   ]
  },
  {
   "cell_type": "code",
   "execution_count": 6,
   "metadata": {},
   "outputs": [
    {
     "name": "stdout",
     "output_type": "stream",
     "text": [
      "Total test cases:  907\n",
      "Val data size:  725  =  0.7993384785005513\n",
      "Test data size:  182  =  0.20066152149944874\n"
     ]
    }
   ],
   "source": [
    "with open(\"processed/config_val_ciri/evaluation_data_ciri.json\", \"r\") as f:\n",
    "    data = json.load(f)\n",
    "\n",
    "print(\"Total test cases: \", len(data[\"test_cases\"]))\n",
    "\n",
    "\n",
    "val_data_path = \"processed/config_val_ciri/val/evaluation_data.json\"\n",
    "test_data_path = \"processed/config_val_ciri/test/evaluation_data.json\"\n",
    "\n",
    "with open(val_data_path, \"r\") as f:\n",
    "    val_data = json.load(f)\n",
    "\n",
    "with open(test_data_path, \"r\") as f:\n",
    "    test_data = json.load(f)\n",
    "\n",
    "val_data_size = len(val_data[\"test_cases\"])\n",
    "test_data_size = len(test_data[\"test_cases\"])\n",
    "print(\"Val data size: \", val_data_size, \" = \", val_data_size / (val_data_size + test_data_size))\n",
    "print(\"Test data size: \", test_data_size, \" = \", test_data_size / (val_data_size + test_data_size))\n"
   ]
  },
  {
   "cell_type": "code",
   "execution_count": 10,
   "metadata": {},
   "outputs": [
    {
     "name": "stdout",
     "output_type": "stream",
     "text": [
      "False\n"
     ]
    }
   ],
   "source": [
    "with open(\"processed/config_val_ciri/evaluation_data_ciri.json\", \"r\") as f:\n",
    "    data_ciri = json.load(f)\n",
    "\n",
    "with open(\"processed/config_val_ciri/evaluation_data.json\", \"r\") as f:\n",
    "    data = json.load(f)\n",
    "\n",
    "\n",
    "print(data[\"test_cases\"][0][\"input\"] in [d[\"input\"] for d in data_ciri[\"test_cases\"]])\n",
    "\n"
   ]
  }
 ],
 "metadata": {
  "kernelspec": {
   "display_name": ".venv-312",
   "language": "python",
   "name": "python3"
  },
  "language_info": {
   "codemirror_mode": {
    "name": "ipython",
    "version": 3
   },
   "file_extension": ".py",
   "mimetype": "text/x-python",
   "name": "python",
   "nbconvert_exporter": "python",
   "pygments_lexer": "ipython3",
   "version": "3.12.8"
  }
 },
 "nbformat": 4,
 "nbformat_minor": 2
}
